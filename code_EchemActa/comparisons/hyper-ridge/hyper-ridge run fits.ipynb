{
 "cells": [
  {
   "cell_type": "code",
   "execution_count": 1,
   "metadata": {},
   "outputs": [],
   "source": [
    "import numpy as np\n",
    "import pandas as pd\n",
    "import os \n",
    "import sys\n",
    "import glob\n",
    "import time\n",
    "import warnings\n",
    "import matplotlib.pyplot as plt\n",
    "from matplotlib import colors, ticker\n",
    "%matplotlib notebook\n",
    "\n",
    "# load static copy of modules for reproducibility\n",
    "if '../../bayes-drt_20201113' not in sys.path:\n",
    "    sys.path.append('../../bayes-drt_20201113')\n",
    "import drt\n",
    "from stan_models import save_pickle,load_pickle\n",
    "import eis_utils as gt\n",
    "\n",
    "%load_ext autoreload\n",
    "%autoreload 2"
   ]
  },
  {
   "cell_type": "code",
   "execution_count": 2,
   "metadata": {},
   "outputs": [],
   "source": [
    "datadir = '../../../data'\n",
    "outdir = 'results'"
   ]
  },
  {
   "cell_type": "markdown",
   "metadata": {},
   "source": [
    "# Simulated data\n",
    "\n",
    "## Basic circuits"
   ]
  },
  {
   "cell_type": "code",
   "execution_count": 3,
   "metadata": {},
   "outputs": [],
   "source": [
    "dr = drt.DRT()\n",
    "files = glob.glob('../../../data/simulated/Z_*Orazem*.csv')\n",
    "# trunc and RC-ZARC circuits need different basis tau\n",
    "files = [f for f in files if f.find('trunc')==-1 and f.find('RC-ZARC')==-1 and f.find('DDT')==-1]\n",
    "# assign epsilon values for circuits\n",
    "circ_epsilon = {'ZARC':2,'2ZARC':2,'RC-ZARC':5,'ZARC-RL':3,'RC':5,'2RC':5,'Gerischer':5}"
   ]
  },
  {
   "cell_type": "code",
   "execution_count": 4,
   "metadata": {},
   "outputs": [
    {
     "name": "stdout",
     "output_type": "stream",
     "text": [
      "-------------------------------\n",
      "../../../data/simulated\\Z_2RC_Orazem_0.25.csv\n",
      "-------------------------------\n"
     ]
    },
    {
     "name": "stderr",
     "output_type": "stream",
     "text": [
      "INFO:numexpr.utils:NumExpr defaulting to 4 threads.\n"
     ]
    },
    {
     "name": "stdout",
     "output_type": "stream",
     "text": [
      "File fit time: 28.91 seconds\n",
      "================================\n",
      "Total fit time: 0.48 minutes\n"
     ]
    }
   ],
   "source": [
    "# Fit all basic simulated spectra \n",
    "\n",
    "# tau for plotting\n",
    "tau_plot = np.logspace(-7,2,200)\n",
    "start = time.time()\n",
    "\n",
    "for file in files:\n",
    "    print('-------------------------------')\n",
    "    print(file)\n",
    "    print('-------------------------------')\n",
    "    suffix = file[file.find('_'):-4]\n",
    "    \n",
    "#     if os.path.exists(Zoutfile) and os.path.exists(Goutfile):\n",
    "#         print('Already ran')\n",
    "#     else:\n",
    "    file_start = time.time()\n",
    "\n",
    "    # get circuit-specific epsilon\n",
    "    circ = os.path.split(file)[1].split('_')[1]\n",
    "    epsilon = circ_epsilon[circ]\n",
    "    dr.epsilon = epsilon\n",
    "    # set nonneg=False for ZARC-RL\n",
    "    if circ=='ZARC-RL':\n",
    "        nonneg = False\n",
    "    else:\n",
    "        nonneg = True\n",
    "        \n",
    "    # get error model and set weighting scheme accordingly\n",
    "    err_model = os.path.split(file)[1].split('_')[2]\n",
    "    if err_model=='uniform':\n",
    "        weights='unity'\n",
    "    elif err_model=='Macdonald':\n",
    "        weights='prop_adj'\n",
    "    elif err_model=='Orazem':\n",
    "        weights='Orazem'\n",
    "    # use unity weighting for all spectra as done by Ciucci and Chen (2015)\n",
    "#     weights = 'unity'\n",
    "\n",
    "    # load Z data\n",
    "    Zndf = pd.read_csv(file)\n",
    "    freq = Zndf['Freq'].values\n",
    "    Zc = (Zndf['Zreal'] + 1j*Zndf['Zimag']).values\n",
    "\n",
    "    # perform Re-Im CV\n",
    "    fit_kw = dict(reg_ord=2,dZ=False,scale_Z=False,nonneg=nonneg,weights=weights,\n",
    "                  penalty='discrete',max_iter=50)       \n",
    "    cv_lambdas = np.logspace(-15,0,61)\n",
    "    dr.ridge_fit(freq,Zc,lambda_0='cv',cv_lambdas=cv_lambdas,hyper_lambda=False,**fit_kw)\n",
    "\n",
    "    # get best lambda_0\n",
    "    min_lam = dr.cv_result['lambda'].values[np.argmin(dr.cv_result['totcv'])]\n",
    "    if min_lam==np.min(cv_lambdas) or min_lam==np.max(cv_lambdas):\n",
    "        warnings.warn('min_lam value {} for file {} is at lambda boundary!'.format(min_lam,os.path.split(file)[1]))\n",
    "\n",
    "    # run hyperparametric fits with best lambda_0\n",
    "    f_betas = [1e-2,1e-1,1,1e1,1e2]\n",
    "    for f_beta in f_betas:\n",
    "        Zoutfile = os.path.join(outdir,'Zout{}_fbeta={:.3g}.csv'.format(suffix,f_beta))\n",
    "        Goutfile = os.path.join(outdir,'Gout{}_fbeta={:.3g}.csv'.format(suffix,f_beta))\n",
    "        pkl = os.path.join(outdir,'obj{}_fbeta={:.3g}.pkl'.format(suffix,f_beta))\n",
    "\n",
    "        dr.ridge_fit(freq,Zc,part='both',lambda_0=min_lam,hl_fbeta=f_beta,**fit_kw)\n",
    "\n",
    "        # save results\n",
    "        Z_pred = dr.predict_Z(freq)\n",
    "        Z_res = pd.DataFrame(np.array([freq,Z_pred.real,Z_pred.imag]).T,columns=['freq','Zreal','Zimag'])\n",
    "\n",
    "        g_pred = dr.predict_distribution('DRT',eval_tau=tau_plot)\n",
    "        g_res = pd.DataFrame(np.array([tau_plot,g_pred]).T,\n",
    "                             columns=['tau','gamma'])\n",
    "        Z_res.to_csv(Zoutfile,index=False)\n",
    "        g_res.to_csv(Goutfile,index=False)\n",
    "\n",
    "        # pickle the drt object for access to all other attributes\n",
    "        save_pickle(dr,pkl)\n",
    "\n",
    "    print('File fit time: {:.2f} seconds'.format(time.time()-file_start))\n",
    "        \n",
    "        \n",
    "        \n",
    "print('================================')        \n",
    "print('Total fit time: {:.2f} minutes'.format((time.time()-start)/60))"
   ]
  },
  {
   "cell_type": "markdown",
   "metadata": {},
   "source": [
    "## RC-ZARC circuit"
   ]
  },
  {
   "cell_type": "code",
   "execution_count": 307,
   "metadata": {},
   "outputs": [],
   "source": [
    "basis_tau = np.logspace(-2,3,51)\n",
    "dr_rcz = drt.DRT(basis_freq=1/(2*np.pi*basis_tau),epsilon=5)\n",
    "rcz_files = glob.glob(os.path.join(datadir,'simulated/Z_RC-ZARC*.csv'))"
   ]
  },
  {
   "cell_type": "code",
   "execution_count": 407,
   "metadata": {},
   "outputs": [
    {
     "name": "stdout",
     "output_type": "stream",
     "text": [
      "-------------------------------\n",
      "../../../data\\simulated\\Z_RC-ZARC_Macdonald_0.25.csv\n",
      "-------------------------------\n",
      "Dumped pickle to results\\obj_RC-ZARC_Macdonald_0.25_fbeta=0.01.pkl\n",
      "Dumped pickle to results\\obj_RC-ZARC_Macdonald_0.25_fbeta=0.1.pkl\n",
      "Dumped pickle to results\\obj_RC-ZARC_Macdonald_0.25_fbeta=1.pkl\n",
      "Dumped pickle to results\\obj_RC-ZARC_Macdonald_0.25_fbeta=10.pkl\n",
      "Dumped pickle to results\\obj_RC-ZARC_Macdonald_0.25_fbeta=100.pkl\n",
      "File fit time: 8.93 seconds\n",
      "-------------------------------\n",
      "../../../data\\simulated\\Z_RC-ZARC_Macdonald_1.0.csv\n",
      "-------------------------------\n",
      "Dumped pickle to results\\obj_RC-ZARC_Macdonald_1.0_fbeta=0.01.pkl\n",
      "Dumped pickle to results\\obj_RC-ZARC_Macdonald_1.0_fbeta=0.1.pkl\n",
      "Dumped pickle to results\\obj_RC-ZARC_Macdonald_1.0_fbeta=1.pkl\n",
      "Dumped pickle to results\\obj_RC-ZARC_Macdonald_1.0_fbeta=10.pkl\n",
      "Dumped pickle to results\\obj_RC-ZARC_Macdonald_1.0_fbeta=100.pkl\n",
      "File fit time: 7.96 seconds\n",
      "-------------------------------\n",
      "../../../data\\simulated\\Z_RC-ZARC_Macdonald_2.5.csv\n",
      "-------------------------------\n",
      "Dumped pickle to results\\obj_RC-ZARC_Macdonald_2.5_fbeta=0.01.pkl\n",
      "Dumped pickle to results\\obj_RC-ZARC_Macdonald_2.5_fbeta=0.1.pkl\n",
      "Dumped pickle to results\\obj_RC-ZARC_Macdonald_2.5_fbeta=1.pkl\n",
      "Dumped pickle to results\\obj_RC-ZARC_Macdonald_2.5_fbeta=10.pkl\n",
      "Dumped pickle to results\\obj_RC-ZARC_Macdonald_2.5_fbeta=100.pkl\n",
      "File fit time: 7.82 seconds\n",
      "-------------------------------\n",
      "../../../data\\simulated\\Z_RC-ZARC_noiseless.csv\n",
      "-------------------------------\n",
      "Dumped pickle to results\\obj_RC-ZARC_noiseless_fbeta=0.01.pkl\n",
      "Dumped pickle to results\\obj_RC-ZARC_noiseless_fbeta=0.1.pkl\n",
      "Dumped pickle to results\\obj_RC-ZARC_noiseless_fbeta=1.pkl\n",
      "Dumped pickle to results\\obj_RC-ZARC_noiseless_fbeta=10.pkl\n",
      "Dumped pickle to results\\obj_RC-ZARC_noiseless_fbeta=100.pkl\n",
      "File fit time: 8.87 seconds\n",
      "-------------------------------\n",
      "../../../data\\simulated\\Z_RC-ZARC_Orazem_0.25.csv\n",
      "-------------------------------\n",
      "Dumped pickle to results\\obj_RC-ZARC_Orazem_0.25_fbeta=0.01.pkl\n",
      "Dumped pickle to results\\obj_RC-ZARC_Orazem_0.25_fbeta=0.1.pkl\n",
      "Dumped pickle to results\\obj_RC-ZARC_Orazem_0.25_fbeta=1.pkl\n",
      "Dumped pickle to results\\obj_RC-ZARC_Orazem_0.25_fbeta=10.pkl\n",
      "Dumped pickle to results\\obj_RC-ZARC_Orazem_0.25_fbeta=100.pkl\n",
      "File fit time: 8.06 seconds\n",
      "-------------------------------\n",
      "../../../data\\simulated\\Z_RC-ZARC_Orazem_1.0.csv\n",
      "-------------------------------\n",
      "Dumped pickle to results\\obj_RC-ZARC_Orazem_1.0_fbeta=0.01.pkl\n",
      "Dumped pickle to results\\obj_RC-ZARC_Orazem_1.0_fbeta=0.1.pkl\n",
      "Dumped pickle to results\\obj_RC-ZARC_Orazem_1.0_fbeta=1.pkl\n",
      "Dumped pickle to results\\obj_RC-ZARC_Orazem_1.0_fbeta=10.pkl\n",
      "Dumped pickle to results\\obj_RC-ZARC_Orazem_1.0_fbeta=100.pkl\n",
      "File fit time: 8.32 seconds\n",
      "-------------------------------\n",
      "../../../data\\simulated\\Z_RC-ZARC_Orazem_2.5.csv\n",
      "-------------------------------\n",
      "Dumped pickle to results\\obj_RC-ZARC_Orazem_2.5_fbeta=0.01.pkl\n",
      "Dumped pickle to results\\obj_RC-ZARC_Orazem_2.5_fbeta=0.1.pkl\n",
      "Dumped pickle to results\\obj_RC-ZARC_Orazem_2.5_fbeta=1.pkl\n",
      "Dumped pickle to results\\obj_RC-ZARC_Orazem_2.5_fbeta=10.pkl\n",
      "Dumped pickle to results\\obj_RC-ZARC_Orazem_2.5_fbeta=100.pkl\n",
      "File fit time: 10.82 seconds\n",
      "-------------------------------\n",
      "../../../data\\simulated\\Z_RC-ZARC_uniform_0.25.csv\n",
      "-------------------------------\n",
      "Dumped pickle to results\\obj_RC-ZARC_uniform_0.25_fbeta=0.01.pkl\n",
      "Dumped pickle to results\\obj_RC-ZARC_uniform_0.25_fbeta=0.1.pkl\n",
      "Dumped pickle to results\\obj_RC-ZARC_uniform_0.25_fbeta=1.pkl\n",
      "Dumped pickle to results\\obj_RC-ZARC_uniform_0.25_fbeta=10.pkl\n",
      "Dumped pickle to results\\obj_RC-ZARC_uniform_0.25_fbeta=100.pkl\n",
      "File fit time: 8.85 seconds\n",
      "-------------------------------\n",
      "../../../data\\simulated\\Z_RC-ZARC_uniform_1.0.csv\n",
      "-------------------------------\n",
      "Dumped pickle to results\\obj_RC-ZARC_uniform_1.0_fbeta=0.01.pkl\n",
      "Dumped pickle to results\\obj_RC-ZARC_uniform_1.0_fbeta=0.1.pkl\n",
      "Dumped pickle to results\\obj_RC-ZARC_uniform_1.0_fbeta=1.pkl\n",
      "Dumped pickle to results\\obj_RC-ZARC_uniform_1.0_fbeta=10.pkl\n",
      "Dumped pickle to results\\obj_RC-ZARC_uniform_1.0_fbeta=100.pkl\n",
      "File fit time: 7.77 seconds\n",
      "-------------------------------\n",
      "../../../data\\simulated\\Z_RC-ZARC_uniform_2.5.csv\n",
      "-------------------------------\n",
      "Dumped pickle to results\\obj_RC-ZARC_uniform_2.5_fbeta=0.01.pkl\n",
      "Dumped pickle to results\\obj_RC-ZARC_uniform_2.5_fbeta=0.1.pkl\n",
      "Dumped pickle to results\\obj_RC-ZARC_uniform_2.5_fbeta=1.pkl\n",
      "Dumped pickle to results\\obj_RC-ZARC_uniform_2.5_fbeta=10.pkl\n",
      "Dumped pickle to results\\obj_RC-ZARC_uniform_2.5_fbeta=100.pkl\n",
      "File fit time: 10.23 seconds\n",
      "================================\n",
      "Total fit time: 1.46 minutes\n"
     ]
    }
   ],
   "source": [
    "# Fit RC-ZARC spectra\n",
    "\n",
    "# tau for plotting\n",
    "tau_plot = np.logspace(np.log10(np.exp(-5)),np.log10(np.exp(5.5)),200)\n",
    "start = time.time()\n",
    "\n",
    "for file in rcz_files:\n",
    "    print('-------------------------------')\n",
    "    print(file)\n",
    "    print('-------------------------------')\n",
    "    suffix = file[file.find('_'):-4]\n",
    "    \n",
    "#     if os.path.exists(Zoutfile) and os.path.exists(Goutfile):\n",
    "#         print('Already ran')\n",
    "#     else:\n",
    "    file_start = time.time()\n",
    "\n",
    "    nonneg = True\n",
    "        \n",
    "    # get error model and set weighting scheme accordingly\n",
    "    err_model = os.path.split(file)[1].split('_')[2]\n",
    "    if err_model=='uniform':\n",
    "        weights='unity'\n",
    "    elif err_model=='Macdonald':\n",
    "        weights='prop_adj'\n",
    "    elif err_model=='Orazem':\n",
    "        weights='Orazem'\n",
    "\n",
    "    # load Z data\n",
    "    Zndf = pd.read_csv(file)\n",
    "    freq = Zndf['Freq'].values\n",
    "    Zc = (Zndf['Zreal'] + 1j*Zndf['Zimag']).values\n",
    "\n",
    "    # perform Re-Im CV\n",
    "    fit_kw = dict(reg_ord=2,dZ=False,scale_Z=False,nonneg=nonneg,weights=weights,\n",
    "                  penalty='discrete',max_iter=50)       \n",
    "    dr_rcz.ridge_fit(freq,Zc,lambda_0='cv',cv_lambdas=np.logspace(-10,0,41),hyper_lambda=False,**fit_kw)\n",
    "    \n",
    "    # get best lambda_0\n",
    "    min_lam = dr_rcz.cv_result['lambda'].values[np.argmin(dr_rcz.cv_result['totcv'])]\n",
    "    if min_lam==np.min(lambdas) or min_lam==np.max(lambdas):\n",
    "        warnings.warn('min_lam value {} for file {} is at lambda boundary!'.format(min_lam,os.path.split(file)[1]))\n",
    "\n",
    "    # run hyperparametric fits with best lambda_0\n",
    "    f_betas = [1e-2,1e-1,1,1e1,1e2]\n",
    "    for f_beta in f_betas:\n",
    "        Zoutfile = os.path.join(outdir,'Zout{}_fbeta={:.3g}.csv'.format(suffix,f_beta))\n",
    "        Goutfile = os.path.join(outdir,'Gout{}_fbeta={:.3g}.csv'.format(suffix,f_beta))\n",
    "        pkl = os.path.join(outdir,'obj{}_fbeta={:.3g}.pkl'.format(suffix,f_beta))\n",
    "\n",
    "        dr_rcz.ridge_fit(freq,Zc,part='both',lambda_0=min_lam,hl_fbeta=f_beta,**fit_kw)\n",
    "\n",
    "        # save results\n",
    "        Z_pred = dr_rcz.predict_Z(freq)\n",
    "        Z_res = pd.DataFrame(np.array([freq,Z_pred.real,Z_pred.imag]).T,columns=['freq','Zreal','Zimag'])\n",
    "\n",
    "        g_pred = dr_rcz.predict_distribution('DRT',eval_tau=tau_plot)\n",
    "        g_res = pd.DataFrame(np.array([tau_plot,g_pred]).T,\n",
    "                             columns=['tau','gamma'])\n",
    "        Z_res.to_csv(Zoutfile,index=False)\n",
    "        g_res.to_csv(Goutfile,index=False)\n",
    "\n",
    "        # pickle the drt object for access to all other attributes\n",
    "        save_pickle(dr_rcz,pkl)\n",
    "\n",
    "    print('File fit time: {:.2f} seconds'.format(time.time()-file_start))\n",
    "        \n",
    "        \n",
    "print('================================')        \n",
    "print('Total fit time: {:.2f} minutes'.format((time.time()-start)/60))"
   ]
  },
  {
   "cell_type": "markdown",
   "metadata": {},
   "source": [
    "## trunc circuit"
   ]
  },
  {
   "cell_type": "code",
   "execution_count": 34,
   "metadata": {},
   "outputs": [],
   "source": [
    "dr_trunc = drt.DRT(basis_freq=np.logspace(6,-2,81),epsilon=3)\n",
    "trunc_files = glob.glob(os.path.join(datadir,'simulated/Z_trunc*.csv'))"
   ]
  },
  {
   "cell_type": "code",
   "execution_count": 38,
   "metadata": {},
   "outputs": [
    {
     "name": "stdout",
     "output_type": "stream",
     "text": [
      "-------------------------------\n",
      "../../../data\\simulated\\Z_trunc_Macdonald_0.25.csv\n",
      "-------------------------------\n"
     ]
    },
    {
     "name": "stderr",
     "output_type": "stream",
     "text": [
      "../../../bayes-drt\\drt.py:448: UserWarning: Hyperparametric solution did not converge within 50 iterations\n",
      "  warnings.warn(f'Hyperparametric solution did not converge within {max_iter} iterations')\n"
     ]
    },
    {
     "name": "stdout",
     "output_type": "stream",
     "text": [
      "Dumped pickle to results\\obj_trunc_Macdonald_0.25_fbeta=0.01.pkl\n"
     ]
    },
    {
     "name": "stderr",
     "output_type": "stream",
     "text": [
      "../../../bayes-drt\\drt.py:448: UserWarning: Hyperparametric solution did not converge within 50 iterations\n",
      "  warnings.warn(f'Hyperparametric solution did not converge within {max_iter} iterations')\n"
     ]
    },
    {
     "name": "stdout",
     "output_type": "stream",
     "text": [
      "Dumped pickle to results\\obj_trunc_Macdonald_0.25_fbeta=0.1.pkl\n",
      "Dumped pickle to results\\obj_trunc_Macdonald_0.25_fbeta=1.pkl\n",
      "Dumped pickle to results\\obj_trunc_Macdonald_0.25_fbeta=10.pkl\n",
      "Dumped pickle to results\\obj_trunc_Macdonald_0.25_fbeta=100.pkl\n",
      "File fit time: 29.71 seconds\n",
      "-------------------------------\n",
      "../../../data\\simulated\\Z_trunc_Macdonald_1.0.csv\n",
      "-------------------------------\n"
     ]
    },
    {
     "name": "stderr",
     "output_type": "stream",
     "text": [
      "../../../bayes-drt\\drt.py:448: UserWarning: Hyperparametric solution did not converge within 50 iterations\n",
      "  warnings.warn(f'Hyperparametric solution did not converge within {max_iter} iterations')\n"
     ]
    },
    {
     "name": "stdout",
     "output_type": "stream",
     "text": [
      "Dumped pickle to results\\obj_trunc_Macdonald_1.0_fbeta=0.01.pkl\n"
     ]
    },
    {
     "name": "stderr",
     "output_type": "stream",
     "text": [
      "../../../bayes-drt\\drt.py:448: UserWarning: Hyperparametric solution did not converge within 50 iterations\n",
      "  warnings.warn(f'Hyperparametric solution did not converge within {max_iter} iterations')\n"
     ]
    },
    {
     "name": "stdout",
     "output_type": "stream",
     "text": [
      "Dumped pickle to results\\obj_trunc_Macdonald_1.0_fbeta=0.1.pkl\n",
      "Dumped pickle to results\\obj_trunc_Macdonald_1.0_fbeta=1.pkl\n",
      "Dumped pickle to results\\obj_trunc_Macdonald_1.0_fbeta=10.pkl\n",
      "Dumped pickle to results\\obj_trunc_Macdonald_1.0_fbeta=100.pkl\n",
      "File fit time: 27.56 seconds\n",
      "-------------------------------\n",
      "../../../data\\simulated\\Z_trunc_noiseless.csv\n",
      "-------------------------------\n"
     ]
    },
    {
     "name": "stderr",
     "output_type": "stream",
     "text": [
      "../../../bayes-drt\\drt.py:448: UserWarning: Hyperparametric solution did not converge within 50 iterations\n",
      "  warnings.warn(f'Hyperparametric solution did not converge within {max_iter} iterations')\n"
     ]
    },
    {
     "name": "stdout",
     "output_type": "stream",
     "text": [
      "Dumped pickle to results\\obj_trunc_noiseless_fbeta=0.01.pkl\n"
     ]
    },
    {
     "name": "stderr",
     "output_type": "stream",
     "text": [
      "../../../bayes-drt\\drt.py:448: UserWarning: Hyperparametric solution did not converge within 50 iterations\n",
      "  warnings.warn(f'Hyperparametric solution did not converge within {max_iter} iterations')\n"
     ]
    },
    {
     "name": "stdout",
     "output_type": "stream",
     "text": [
      "Dumped pickle to results\\obj_trunc_noiseless_fbeta=0.1.pkl\n",
      "Dumped pickle to results\\obj_trunc_noiseless_fbeta=1.pkl\n",
      "Dumped pickle to results\\obj_trunc_noiseless_fbeta=10.pkl\n",
      "Dumped pickle to results\\obj_trunc_noiseless_fbeta=100.pkl\n",
      "File fit time: 27.57 seconds\n",
      "-------------------------------\n",
      "../../../data\\simulated\\Z_trunc_noiseless_FullRange.csv\n",
      "-------------------------------\n"
     ]
    },
    {
     "name": "stderr",
     "output_type": "stream",
     "text": [
      "../../../bayes-drt\\drt.py:448: UserWarning: Hyperparametric solution did not converge within 50 iterations\n",
      "  warnings.warn(f'Hyperparametric solution did not converge within {max_iter} iterations')\n"
     ]
    },
    {
     "name": "stdout",
     "output_type": "stream",
     "text": [
      "Dumped pickle to results\\obj_trunc_noiseless_FullRange_fbeta=0.01.pkl\n",
      "Dumped pickle to results\\obj_trunc_noiseless_FullRange_fbeta=0.1.pkl\n",
      "Dumped pickle to results\\obj_trunc_noiseless_FullRange_fbeta=1.pkl\n",
      "Dumped pickle to results\\obj_trunc_noiseless_FullRange_fbeta=10.pkl\n",
      "Dumped pickle to results\\obj_trunc_noiseless_FullRange_fbeta=100.pkl\n",
      "File fit time: 15.03 seconds\n",
      "-------------------------------\n",
      "../../../data\\simulated\\Z_trunc_uniform_0.25.csv\n",
      "-------------------------------\n"
     ]
    },
    {
     "name": "stderr",
     "output_type": "stream",
     "text": [
      "../../../bayes-drt\\drt.py:448: UserWarning: Hyperparametric solution did not converge within 50 iterations\n",
      "  warnings.warn(f'Hyperparametric solution did not converge within {max_iter} iterations')\n"
     ]
    },
    {
     "name": "stdout",
     "output_type": "stream",
     "text": [
      "Dumped pickle to results\\obj_trunc_uniform_0.25_fbeta=0.01.pkl\n"
     ]
    },
    {
     "name": "stderr",
     "output_type": "stream",
     "text": [
      "../../../bayes-drt\\drt.py:448: UserWarning: Hyperparametric solution did not converge within 50 iterations\n",
      "  warnings.warn(f'Hyperparametric solution did not converge within {max_iter} iterations')\n"
     ]
    },
    {
     "name": "stdout",
     "output_type": "stream",
     "text": [
      "Dumped pickle to results\\obj_trunc_uniform_0.25_fbeta=0.1.pkl\n",
      "Dumped pickle to results\\obj_trunc_uniform_0.25_fbeta=1.pkl\n",
      "Dumped pickle to results\\obj_trunc_uniform_0.25_fbeta=10.pkl\n",
      "Dumped pickle to results\\obj_trunc_uniform_0.25_fbeta=100.pkl\n",
      "File fit time: 33.58 seconds\n",
      "-------------------------------\n",
      "../../../data\\simulated\\Z_trunc_uniform_1.0.csv\n",
      "-------------------------------\n"
     ]
    },
    {
     "name": "stderr",
     "output_type": "stream",
     "text": [
      "../../../bayes-drt\\drt.py:448: UserWarning: Hyperparametric solution did not converge within 50 iterations\n",
      "  warnings.warn(f'Hyperparametric solution did not converge within {max_iter} iterations')\n"
     ]
    },
    {
     "name": "stdout",
     "output_type": "stream",
     "text": [
      "Dumped pickle to results\\obj_trunc_uniform_1.0_fbeta=0.01.pkl\n"
     ]
    },
    {
     "name": "stderr",
     "output_type": "stream",
     "text": [
      "../../../bayes-drt\\drt.py:448: UserWarning: Hyperparametric solution did not converge within 50 iterations\n",
      "  warnings.warn(f'Hyperparametric solution did not converge within {max_iter} iterations')\n"
     ]
    },
    {
     "name": "stdout",
     "output_type": "stream",
     "text": [
      "Dumped pickle to results\\obj_trunc_uniform_1.0_fbeta=0.1.pkl\n",
      "Dumped pickle to results\\obj_trunc_uniform_1.0_fbeta=1.pkl\n",
      "Dumped pickle to results\\obj_trunc_uniform_1.0_fbeta=10.pkl\n",
      "Dumped pickle to results\\obj_trunc_uniform_1.0_fbeta=100.pkl\n",
      "File fit time: 27.52 seconds\n",
      "================================\n",
      "Total fit time: 2.68 minutes\n"
     ]
    }
   ],
   "source": [
    "# Fit trunc spectra\n",
    "\n",
    "# tau for plotting\n",
    "tau_plot = np.logspace(-7,2,200)\n",
    "start = time.time()\n",
    "\n",
    "for file in trunc_files:\n",
    "    print('-------------------------------')\n",
    "    print(file)\n",
    "    print('-------------------------------')\n",
    "    suffix = file[file.find('_'):-4]\n",
    "    \n",
    "#     if os.path.exists(Zoutfile) and os.path.exists(Goutfile):\n",
    "#         print('Already ran')\n",
    "#     else:\n",
    "    file_start = time.time()\n",
    "\n",
    "    nonneg = False\n",
    "        \n",
    "    # get error model and set weighting scheme accordingly\n",
    "    err_model = os.path.split(file)[1].split('_')[2]\n",
    "    if err_model=='uniform':\n",
    "        weights='unity'\n",
    "    elif err_model=='Macdonald':\n",
    "        weights='prop_adj'\n",
    "    elif err_model=='Orazem':\n",
    "        weights='Orazem'\n",
    "\n",
    "    # load Z data\n",
    "    Zndf = pd.read_csv(file)\n",
    "    freq = Zndf['Freq'].values\n",
    "    Zc = (Zndf['Zreal'] + 1j*Zndf['Zimag']).values\n",
    "\n",
    "    # perform Re-Im CV\n",
    "    fit_kw = dict(reg_ord=2,dZ=False,scale_Z=False,nonneg=nonneg,weights=weights,\n",
    "                  penalty='discrete',max_iter=50)       \n",
    "    lambdas = np.logspace(-10,0,41)\n",
    "    dr_trunc.ridge_fit(freq,Zc,lambda_0='cv',cv_lambdas=lambdas,hyper_lambda=False,**fit_kw)\n",
    "    \n",
    "    # get best lambda_0\n",
    "    min_lam = dr_trunc.cv_result['lambda'].values[np.argmin(dr_trunc.cv_result['totcv'])]\n",
    "    if min_lam==np.min(lambdas) or min_lam==np.max(lambdas):\n",
    "        warnings.warn('min_lam value {} for file {} is at lambda boundary!'.format(min_lam,os.path.split(file)[1]))\n",
    "\n",
    "    # run hyperparametric fits with best lambda_0\n",
    "    f_betas = [1e-2,1e-1,1,1e1,1e2]\n",
    "    for f_beta in f_betas:\n",
    "        Zoutfile = os.path.join(outdir,'Zout{}_fbeta={:.3g}.csv'.format(suffix,f_beta))\n",
    "        Goutfile = os.path.join(outdir,'Gout{}_fbeta={:.3g}.csv'.format(suffix,f_beta))\n",
    "        pkl = os.path.join(outdir,'obj{}_fbeta={:.3g}.pkl'.format(suffix,f_beta))\n",
    "\n",
    "        dr_trunc.ridge_fit(freq,Zc,part='both',lambda_0=min_lam,hl_fbeta=f_beta,**fit_kw)\n",
    "\n",
    "        # save results\n",
    "        Z_pred = dr_trunc.predict_Z(freq)\n",
    "        Z_res = pd.DataFrame(np.array([freq,Z_pred.real,Z_pred.imag]).T,columns=['freq','Zreal','Zimag'])\n",
    "\n",
    "        g_pred = dr_trunc.predict_distribution('DRT',eval_tau=tau_plot)\n",
    "        g_res = pd.DataFrame(np.array([tau_plot,g_pred]).T,\n",
    "                             columns=['tau','gamma'])\n",
    "        Z_res.to_csv(Zoutfile,index=False)\n",
    "        g_res.to_csv(Goutfile,index=False)\n",
    "\n",
    "        # pickle the drt object for access to all other attributes\n",
    "        save_pickle(dr_trunc,pkl)\n",
    "\n",
    "    print('File fit time: {:.2f} seconds'.format(time.time()-file_start))\n",
    "        \n",
    "        \n",
    "print('================================')        \n",
    "print('Total fit time: {:.2f} minutes'.format((time.time()-start)/60))"
   ]
  },
  {
   "cell_type": "markdown",
   "metadata": {},
   "source": [
    "## DDT"
   ]
  },
  {
   "cell_type": "code",
   "execution_count": 54,
   "metadata": {},
   "outputs": [],
   "source": [
    "tp_files = glob.glob(os.path.join(datadir,'simulated/Z_*TP-DDT*.csv'))\n",
    "bp_files = glob.glob(os.path.join(datadir,'../data/simulated/Z_*BP-DDT*.csv'))\n",
    "\n",
    "tp_ddt = drt.DRT(distributions={'DDT':{'kernel':'DDT','symmetry':'planar','bc':'transmissive','dist_type':'parallel'}},\n",
    "                epsilon=3)\n",
    "bp_ddt = drt.DRT(distributions={'DDT':{'kernel':'DDT','symmetry':'planar','bc':'blocking','dist_type':'parallel',\n",
    "                                      'basis_freq':np.logspace(5,-2,71)}},\n",
    "                 epsilon=3\n",
    "                )"
   ]
  },
  {
   "cell_type": "code",
   "execution_count": 57,
   "metadata": {},
   "outputs": [
    {
     "name": "stdout",
     "output_type": "stream",
     "text": [
      "-------------------------------\n",
      "../../../data\\simulated\\Z_BimodalTP-DDT_Macdonald_0.05.csv\n",
      "-------------------------------\n"
     ]
    },
    {
     "name": "stderr",
     "output_type": "stream",
     "text": [
      "../../../bayes-drt\\drt.py:448: UserWarning: Hyperparametric solution did not converge within 50 iterations\n",
      "  warnings.warn(f'Hyperparametric solution did not converge within {max_iter} iterations')\n"
     ]
    },
    {
     "name": "stdout",
     "output_type": "stream",
     "text": [
      "Dumped pickle to results\\obj_BimodalTP-DDT_Macdonald_0.05_fbeta=0.01.pkl\n"
     ]
    },
    {
     "name": "stderr",
     "output_type": "stream",
     "text": [
      "../../../bayes-drt\\drt.py:448: UserWarning: Hyperparametric solution did not converge within 50 iterations\n",
      "  warnings.warn(f'Hyperparametric solution did not converge within {max_iter} iterations')\n"
     ]
    },
    {
     "name": "stdout",
     "output_type": "stream",
     "text": [
      "Dumped pickle to results\\obj_BimodalTP-DDT_Macdonald_0.05_fbeta=0.1.pkl\n",
      "Dumped pickle to results\\obj_BimodalTP-DDT_Macdonald_0.05_fbeta=1.pkl\n",
      "Dumped pickle to results\\obj_BimodalTP-DDT_Macdonald_0.05_fbeta=10.pkl\n",
      "Dumped pickle to results\\obj_BimodalTP-DDT_Macdonald_0.05_fbeta=100.pkl\n",
      "File fit time: 21.00 seconds\n",
      "-------------------------------\n",
      "../../../data\\simulated\\Z_BimodalTP-DDT_Macdonald_0.25.csv\n",
      "-------------------------------\n"
     ]
    },
    {
     "name": "stderr",
     "output_type": "stream",
     "text": [
      "../../../bayes-drt\\drt.py:448: UserWarning: Hyperparametric solution did not converge within 50 iterations\n",
      "  warnings.warn(f'Hyperparametric solution did not converge within {max_iter} iterations')\n"
     ]
    },
    {
     "name": "stdout",
     "output_type": "stream",
     "text": [
      "Dumped pickle to results\\obj_BimodalTP-DDT_Macdonald_0.25_fbeta=0.01.pkl\n"
     ]
    },
    {
     "name": "stderr",
     "output_type": "stream",
     "text": [
      "../../../bayes-drt\\drt.py:448: UserWarning: Hyperparametric solution did not converge within 50 iterations\n",
      "  warnings.warn(f'Hyperparametric solution did not converge within {max_iter} iterations')\n"
     ]
    },
    {
     "name": "stdout",
     "output_type": "stream",
     "text": [
      "Dumped pickle to results\\obj_BimodalTP-DDT_Macdonald_0.25_fbeta=0.1.pkl\n",
      "Dumped pickle to results\\obj_BimodalTP-DDT_Macdonald_0.25_fbeta=1.pkl\n",
      "Dumped pickle to results\\obj_BimodalTP-DDT_Macdonald_0.25_fbeta=10.pkl\n",
      "Dumped pickle to results\\obj_BimodalTP-DDT_Macdonald_0.25_fbeta=100.pkl\n",
      "File fit time: 23.23 seconds\n",
      "-------------------------------\n",
      "../../../data\\simulated\\Z_BimodalTP-DDT_noiseless.csv\n",
      "-------------------------------\n"
     ]
    },
    {
     "name": "stderr",
     "output_type": "stream",
     "text": [
      "../../../bayes-drt\\drt.py:448: UserWarning: Hyperparametric solution did not converge within 50 iterations\n",
      "  warnings.warn(f'Hyperparametric solution did not converge within {max_iter} iterations')\n"
     ]
    },
    {
     "name": "stdout",
     "output_type": "stream",
     "text": [
      "Dumped pickle to results\\obj_BimodalTP-DDT_noiseless_fbeta=0.01.pkl\n"
     ]
    },
    {
     "name": "stderr",
     "output_type": "stream",
     "text": [
      "../../../bayes-drt\\drt.py:448: UserWarning: Hyperparametric solution did not converge within 50 iterations\n",
      "  warnings.warn(f'Hyperparametric solution did not converge within {max_iter} iterations')\n"
     ]
    },
    {
     "name": "stdout",
     "output_type": "stream",
     "text": [
      "Dumped pickle to results\\obj_BimodalTP-DDT_noiseless_fbeta=0.1.pkl\n",
      "Dumped pickle to results\\obj_BimodalTP-DDT_noiseless_fbeta=1.pkl\n",
      "Dumped pickle to results\\obj_BimodalTP-DDT_noiseless_fbeta=10.pkl\n",
      "Dumped pickle to results\\obj_BimodalTP-DDT_noiseless_fbeta=100.pkl\n",
      "File fit time: 17.12 seconds\n",
      "-------------------------------\n",
      "../../../data\\simulated\\Z_BimodalTP-DDT_Orazem_0.05.csv\n",
      "-------------------------------\n"
     ]
    },
    {
     "name": "stderr",
     "output_type": "stream",
     "text": [
      "../../../bayes-drt\\drt.py:448: UserWarning: Hyperparametric solution did not converge within 50 iterations\n",
      "  warnings.warn(f'Hyperparametric solution did not converge within {max_iter} iterations')\n"
     ]
    },
    {
     "name": "stdout",
     "output_type": "stream",
     "text": [
      "Dumped pickle to results\\obj_BimodalTP-DDT_Orazem_0.05_fbeta=0.01.pkl\n"
     ]
    },
    {
     "name": "stderr",
     "output_type": "stream",
     "text": [
      "../../../bayes-drt\\drt.py:448: UserWarning: Hyperparametric solution did not converge within 50 iterations\n",
      "  warnings.warn(f'Hyperparametric solution did not converge within {max_iter} iterations')\n"
     ]
    },
    {
     "name": "stdout",
     "output_type": "stream",
     "text": [
      "Dumped pickle to results\\obj_BimodalTP-DDT_Orazem_0.05_fbeta=0.1.pkl\n",
      "Dumped pickle to results\\obj_BimodalTP-DDT_Orazem_0.05_fbeta=1.pkl\n",
      "Dumped pickle to results\\obj_BimodalTP-DDT_Orazem_0.05_fbeta=10.pkl\n",
      "Dumped pickle to results\\obj_BimodalTP-DDT_Orazem_0.05_fbeta=100.pkl\n",
      "File fit time: 18.40 seconds\n",
      "-------------------------------\n",
      "../../../data\\simulated\\Z_BimodalTP-DDT_Orazem_0.25.csv\n",
      "-------------------------------\n"
     ]
    },
    {
     "name": "stderr",
     "output_type": "stream",
     "text": [
      "../../../bayes-drt\\drt.py:448: UserWarning: Hyperparametric solution did not converge within 50 iterations\n",
      "  warnings.warn(f'Hyperparametric solution did not converge within {max_iter} iterations')\n"
     ]
    },
    {
     "name": "stdout",
     "output_type": "stream",
     "text": [
      "Dumped pickle to results\\obj_BimodalTP-DDT_Orazem_0.25_fbeta=0.01.pkl\n"
     ]
    },
    {
     "name": "stderr",
     "output_type": "stream",
     "text": [
      "../../../bayes-drt\\drt.py:448: UserWarning: Hyperparametric solution did not converge within 50 iterations\n",
      "  warnings.warn(f'Hyperparametric solution did not converge within {max_iter} iterations')\n"
     ]
    },
    {
     "name": "stdout",
     "output_type": "stream",
     "text": [
      "Dumped pickle to results\\obj_BimodalTP-DDT_Orazem_0.25_fbeta=0.1.pkl\n",
      "Dumped pickle to results\\obj_BimodalTP-DDT_Orazem_0.25_fbeta=1.pkl\n",
      "Dumped pickle to results\\obj_BimodalTP-DDT_Orazem_0.25_fbeta=10.pkl\n",
      "Dumped pickle to results\\obj_BimodalTP-DDT_Orazem_0.25_fbeta=100.pkl\n",
      "File fit time: 18.42 seconds\n",
      "-------------------------------\n",
      "../../../data\\simulated\\Z_BimodalTP-DDT_uniform_0.05.csv\n",
      "-------------------------------\n"
     ]
    },
    {
     "name": "stderr",
     "output_type": "stream",
     "text": [
      "C:\\Users\\jdh10\\anaconda3\\envs\\stan\\lib\\site-packages\\ipykernel_launcher.py:36: UserWarning: min_lam value 1.0 for file Z_BimodalTP-DDT_uniform_0.05.csv is at lambda boundary!\n",
      "../../../bayes-drt\\drt.py:448: UserWarning: Hyperparametric solution did not converge within 50 iterations\n",
      "  warnings.warn(f'Hyperparametric solution did not converge within {max_iter} iterations')\n"
     ]
    },
    {
     "name": "stdout",
     "output_type": "stream",
     "text": [
      "Dumped pickle to results\\obj_BimodalTP-DDT_uniform_0.05_fbeta=0.01.pkl\n"
     ]
    },
    {
     "name": "stderr",
     "output_type": "stream",
     "text": [
      "../../../bayes-drt\\drt.py:448: UserWarning: Hyperparametric solution did not converge within 50 iterations\n",
      "  warnings.warn(f'Hyperparametric solution did not converge within {max_iter} iterations')\n"
     ]
    },
    {
     "name": "stdout",
     "output_type": "stream",
     "text": [
      "Dumped pickle to results\\obj_BimodalTP-DDT_uniform_0.05_fbeta=0.1.pkl\n",
      "Dumped pickle to results\\obj_BimodalTP-DDT_uniform_0.05_fbeta=1.pkl\n",
      "Dumped pickle to results\\obj_BimodalTP-DDT_uniform_0.05_fbeta=10.pkl\n",
      "Dumped pickle to results\\obj_BimodalTP-DDT_uniform_0.05_fbeta=100.pkl\n",
      "File fit time: 15.65 seconds\n",
      "-------------------------------\n",
      "../../../data\\simulated\\Z_BimodalTP-DDT_uniform_0.25.csv\n",
      "-------------------------------\n",
      "Dumped pickle to results\\obj_BimodalTP-DDT_uniform_0.25_fbeta=0.01.pkl\n",
      "Dumped pickle to results\\obj_BimodalTP-DDT_uniform_0.25_fbeta=0.1.pkl\n",
      "Dumped pickle to results\\obj_BimodalTP-DDT_uniform_0.25_fbeta=1.pkl\n",
      "Dumped pickle to results\\obj_BimodalTP-DDT_uniform_0.25_fbeta=10.pkl\n",
      "Dumped pickle to results\\obj_BimodalTP-DDT_uniform_0.25_fbeta=100.pkl\n",
      "File fit time: 14.64 seconds\n",
      "-------------------------------\n",
      "../../../data\\../data/simulated\\Z_BimodalBP-DDT_Macdonald_0.05.csv\n",
      "-------------------------------\n"
     ]
    },
    {
     "name": "stderr",
     "output_type": "stream",
     "text": [
      "../../../bayes-drt\\drt.py:2040: RuntimeWarning: overflow encountered in tanh\n",
      "  def Z_D(y,w_n,t_m):\n",
      "../../../bayes-drt\\drt.py:448: UserWarning: Hyperparametric solution did not converge within 50 iterations\n",
      "  warnings.warn(f'Hyperparametric solution did not converge within {max_iter} iterations')\n"
     ]
    },
    {
     "name": "stdout",
     "output_type": "stream",
     "text": [
      "Dumped pickle to results\\obj_BimodalBP-DDT_Macdonald_0.05_fbeta=0.01.pkl\n"
     ]
    },
    {
     "name": "stderr",
     "output_type": "stream",
     "text": [
      "../../../bayes-drt\\drt.py:448: UserWarning: Hyperparametric solution did not converge within 50 iterations\n",
      "  warnings.warn(f'Hyperparametric solution did not converge within {max_iter} iterations')\n"
     ]
    },
    {
     "name": "stdout",
     "output_type": "stream",
     "text": [
      "Dumped pickle to results\\obj_BimodalBP-DDT_Macdonald_0.05_fbeta=0.1.pkl\n",
      "Dumped pickle to results\\obj_BimodalBP-DDT_Macdonald_0.05_fbeta=1.pkl\n",
      "Dumped pickle to results\\obj_BimodalBP-DDT_Macdonald_0.05_fbeta=10.pkl\n",
      "Dumped pickle to results\\obj_BimodalBP-DDT_Macdonald_0.05_fbeta=100.pkl\n",
      "File fit time: 15.84 seconds\n",
      "-------------------------------\n",
      "../../../data\\../data/simulated\\Z_BimodalBP-DDT_Macdonald_0.25.csv\n",
      "-------------------------------\n"
     ]
    },
    {
     "name": "stderr",
     "output_type": "stream",
     "text": [
      "../../../bayes-drt\\drt.py:448: UserWarning: Hyperparametric solution did not converge within 50 iterations\n",
      "  warnings.warn(f'Hyperparametric solution did not converge within {max_iter} iterations')\n"
     ]
    },
    {
     "name": "stdout",
     "output_type": "stream",
     "text": [
      "Dumped pickle to results\\obj_BimodalBP-DDT_Macdonald_0.25_fbeta=0.01.pkl\n"
     ]
    },
    {
     "name": "stderr",
     "output_type": "stream",
     "text": [
      "../../../bayes-drt\\drt.py:448: UserWarning: Hyperparametric solution did not converge within 50 iterations\n",
      "  warnings.warn(f'Hyperparametric solution did not converge within {max_iter} iterations')\n"
     ]
    },
    {
     "name": "stdout",
     "output_type": "stream",
     "text": [
      "Dumped pickle to results\\obj_BimodalBP-DDT_Macdonald_0.25_fbeta=0.1.pkl\n",
      "Dumped pickle to results\\obj_BimodalBP-DDT_Macdonald_0.25_fbeta=1.pkl\n",
      "Dumped pickle to results\\obj_BimodalBP-DDT_Macdonald_0.25_fbeta=10.pkl\n",
      "Dumped pickle to results\\obj_BimodalBP-DDT_Macdonald_0.25_fbeta=100.pkl\n",
      "File fit time: 13.91 seconds\n",
      "-------------------------------\n",
      "../../../data\\../data/simulated\\Z_BimodalBP-DDT_noiseless.csv\n",
      "-------------------------------\n"
     ]
    },
    {
     "name": "stderr",
     "output_type": "stream",
     "text": [
      "../../../bayes-drt\\drt.py:448: UserWarning: Hyperparametric solution did not converge within 50 iterations\n",
      "  warnings.warn(f'Hyperparametric solution did not converge within {max_iter} iterations')\n"
     ]
    },
    {
     "name": "stdout",
     "output_type": "stream",
     "text": [
      "Dumped pickle to results\\obj_BimodalBP-DDT_noiseless_fbeta=0.01.pkl\n"
     ]
    },
    {
     "name": "stderr",
     "output_type": "stream",
     "text": [
      "../../../bayes-drt\\drt.py:448: UserWarning: Hyperparametric solution did not converge within 50 iterations\n",
      "  warnings.warn(f'Hyperparametric solution did not converge within {max_iter} iterations')\n"
     ]
    },
    {
     "name": "stdout",
     "output_type": "stream",
     "text": [
      "Dumped pickle to results\\obj_BimodalBP-DDT_noiseless_fbeta=0.1.pkl\n",
      "Dumped pickle to results\\obj_BimodalBP-DDT_noiseless_fbeta=1.pkl\n",
      "Dumped pickle to results\\obj_BimodalBP-DDT_noiseless_fbeta=10.pkl\n",
      "Dumped pickle to results\\obj_BimodalBP-DDT_noiseless_fbeta=100.pkl\n",
      "File fit time: 12.16 seconds\n",
      "-------------------------------\n",
      "../../../data\\../data/simulated\\Z_BimodalBP-DDT_Orazem_0.05.csv\n",
      "-------------------------------\n"
     ]
    },
    {
     "name": "stderr",
     "output_type": "stream",
     "text": [
      "../../../bayes-drt\\drt.py:448: UserWarning: Hyperparametric solution did not converge within 50 iterations\n",
      "  warnings.warn(f'Hyperparametric solution did not converge within {max_iter} iterations')\n"
     ]
    },
    {
     "name": "stdout",
     "output_type": "stream",
     "text": [
      "Dumped pickle to results\\obj_BimodalBP-DDT_Orazem_0.05_fbeta=0.01.pkl\n"
     ]
    },
    {
     "name": "stderr",
     "output_type": "stream",
     "text": [
      "../../../bayes-drt\\drt.py:448: UserWarning: Hyperparametric solution did not converge within 50 iterations\n",
      "  warnings.warn(f'Hyperparametric solution did not converge within {max_iter} iterations')\n"
     ]
    },
    {
     "name": "stdout",
     "output_type": "stream",
     "text": [
      "Dumped pickle to results\\obj_BimodalBP-DDT_Orazem_0.05_fbeta=0.1.pkl\n",
      "Dumped pickle to results\\obj_BimodalBP-DDT_Orazem_0.05_fbeta=1.pkl\n",
      "Dumped pickle to results\\obj_BimodalBP-DDT_Orazem_0.05_fbeta=10.pkl\n",
      "Dumped pickle to results\\obj_BimodalBP-DDT_Orazem_0.05_fbeta=100.pkl\n",
      "File fit time: 12.08 seconds\n",
      "-------------------------------\n",
      "../../../data\\../data/simulated\\Z_BimodalBP-DDT_Orazem_0.25.csv\n",
      "-------------------------------\n"
     ]
    },
    {
     "name": "stderr",
     "output_type": "stream",
     "text": [
      "../../../bayes-drt\\drt.py:448: UserWarning: Hyperparametric solution did not converge within 50 iterations\n",
      "  warnings.warn(f'Hyperparametric solution did not converge within {max_iter} iterations')\n"
     ]
    },
    {
     "name": "stdout",
     "output_type": "stream",
     "text": [
      "Dumped pickle to results\\obj_BimodalBP-DDT_Orazem_0.25_fbeta=0.01.pkl\n"
     ]
    },
    {
     "name": "stderr",
     "output_type": "stream",
     "text": [
      "../../../bayes-drt\\drt.py:448: UserWarning: Hyperparametric solution did not converge within 50 iterations\n",
      "  warnings.warn(f'Hyperparametric solution did not converge within {max_iter} iterations')\n"
     ]
    },
    {
     "name": "stdout",
     "output_type": "stream",
     "text": [
      "Dumped pickle to results\\obj_BimodalBP-DDT_Orazem_0.25_fbeta=0.1.pkl\n",
      "Dumped pickle to results\\obj_BimodalBP-DDT_Orazem_0.25_fbeta=1.pkl\n",
      "Dumped pickle to results\\obj_BimodalBP-DDT_Orazem_0.25_fbeta=10.pkl\n",
      "Dumped pickle to results\\obj_BimodalBP-DDT_Orazem_0.25_fbeta=100.pkl\n",
      "File fit time: 11.96 seconds\n",
      "-------------------------------\n",
      "../../../data\\../data/simulated\\Z_BimodalBP-DDT_uniform_0.05.csv\n",
      "-------------------------------\n"
     ]
    },
    {
     "name": "stderr",
     "output_type": "stream",
     "text": [
      "../../../bayes-drt\\drt.py:448: UserWarning: Hyperparametric solution did not converge within 50 iterations\n",
      "  warnings.warn(f'Hyperparametric solution did not converge within {max_iter} iterations')\n"
     ]
    },
    {
     "name": "stdout",
     "output_type": "stream",
     "text": [
      "Dumped pickle to results\\obj_BimodalBP-DDT_uniform_0.05_fbeta=0.01.pkl\n"
     ]
    },
    {
     "name": "stderr",
     "output_type": "stream",
     "text": [
      "../../../bayes-drt\\drt.py:448: UserWarning: Hyperparametric solution did not converge within 50 iterations\n",
      "  warnings.warn(f'Hyperparametric solution did not converge within {max_iter} iterations')\n"
     ]
    },
    {
     "name": "stdout",
     "output_type": "stream",
     "text": [
      "Dumped pickle to results\\obj_BimodalBP-DDT_uniform_0.05_fbeta=0.1.pkl\n",
      "Dumped pickle to results\\obj_BimodalBP-DDT_uniform_0.05_fbeta=1.pkl\n",
      "Dumped pickle to results\\obj_BimodalBP-DDT_uniform_0.05_fbeta=10.pkl\n",
      "Dumped pickle to results\\obj_BimodalBP-DDT_uniform_0.05_fbeta=100.pkl\n",
      "File fit time: 11.25 seconds\n",
      "-------------------------------\n",
      "../../../data\\../data/simulated\\Z_BimodalBP-DDT_uniform_0.25.csv\n",
      "-------------------------------\n"
     ]
    },
    {
     "name": "stderr",
     "output_type": "stream",
     "text": [
      "../../../bayes-drt\\drt.py:448: UserWarning: Hyperparametric solution did not converge within 50 iterations\n",
      "  warnings.warn(f'Hyperparametric solution did not converge within {max_iter} iterations')\n"
     ]
    },
    {
     "name": "stdout",
     "output_type": "stream",
     "text": [
      "Dumped pickle to results\\obj_BimodalBP-DDT_uniform_0.25_fbeta=0.01.pkl\n"
     ]
    },
    {
     "name": "stderr",
     "output_type": "stream",
     "text": [
      "../../../bayes-drt\\drt.py:448: UserWarning: Hyperparametric solution did not converge within 50 iterations\n",
      "  warnings.warn(f'Hyperparametric solution did not converge within {max_iter} iterations')\n"
     ]
    },
    {
     "name": "stdout",
     "output_type": "stream",
     "text": [
      "Dumped pickle to results\\obj_BimodalBP-DDT_uniform_0.25_fbeta=0.1.pkl\n",
      "Dumped pickle to results\\obj_BimodalBP-DDT_uniform_0.25_fbeta=1.pkl\n",
      "Dumped pickle to results\\obj_BimodalBP-DDT_uniform_0.25_fbeta=10.pkl\n",
      "Dumped pickle to results\\obj_BimodalBP-DDT_uniform_0.25_fbeta=100.pkl\n",
      "File fit time: 12.02 seconds\n",
      "================================\n",
      "Total fit time: 3.63 minutes\n"
     ]
    }
   ],
   "source": [
    "tau_plot = np.logspace(-7,2,200)\n",
    "start = time.time()\n",
    "\n",
    "for files,dr in zip([tp_files,bp_files],[tp_ddt,bp_ddt]):\n",
    "    for file in files:\n",
    "        print('-------------------------------')\n",
    "        print(file)\n",
    "        print('-------------------------------')\n",
    "        fname = os.path.split(file)[1]\n",
    "        suffix = fname[fname.find('_'):-4]\n",
    "\n",
    "    #     if os.path.exists(Zoutfile) and os.path.exists(Goutfile):\n",
    "    #         print('Already ran')\n",
    "    #     else:\n",
    "        file_start = time.time()\n",
    "\n",
    "        nonneg = True\n",
    "        # modulus weighting works best for fitting admittance\n",
    "        weights='modulus'\n",
    "\n",
    "        # load Z data\n",
    "        Zndf = pd.read_csv(file)\n",
    "        freq = Zndf['Freq'].values\n",
    "        Zc = (Zndf['Zreal'] + 1j*Zndf['Zimag']).values\n",
    "\n",
    "        # perform Re-Im CV\n",
    "        fit_kw = dict(reg_ord=2,dZ=False,scale_Z=False,nonneg=nonneg,weights=weights,\n",
    "                      penalty='discrete',max_iter=50)      \n",
    "        if fname=='Z_BimodalBP-DDT_uniform_0.25.csv':\n",
    "            # this file needs higher lambda value\n",
    "            lambdas = np.logspace(-5,5,41)\n",
    "        else:\n",
    "            lambdas = np.logspace(-10,0,41)\n",
    "        min_lam = dr.ridge_ReImCV(freq,Zc,lambdas=lambdas,**fit_kw)\n",
    "        if min_lam==np.min(lambdas) or min_lam==np.max(lambdas):\n",
    "            warnings.warn('min_lam value {} for file {} is at lambda boundary!'.format(min_lam,fname))\n",
    "\n",
    "        # run hyperparametric fits with best lambda_0\n",
    "        f_betas = [1e-2,1e-1,1,1e1,1e2]\n",
    "        for f_beta in f_betas:\n",
    "            Zoutfile = os.path.join(outdir,'Zout{}_fbeta={:.3g}.csv'.format(suffix,f_beta))\n",
    "            Goutfile = os.path.join(outdir,'Gout{}_fbeta={:.3g}.csv'.format(suffix,f_beta))\n",
    "            pkl = os.path.join(outdir,'obj{}_fbeta={:.3g}.pkl'.format(suffix,f_beta))\n",
    "\n",
    "            dr.ridge_fit(freq,Zc,part='both',lambda_0=min_lam,hl_fbeta=f_beta,**fit_kw)\n",
    "\n",
    "            # save results\n",
    "            Z_pred = dr.predict_Z(freq)\n",
    "            Z_res = pd.DataFrame(np.array([freq,Z_pred.real,Z_pred.imag]).T,columns=['freq','Zreal','Zimag'])\n",
    "\n",
    "            g_pred = dr.predict_distribution('DDT',eval_tau=tau_plot)\n",
    "            g_res = pd.DataFrame(np.array([tau_plot,g_pred]).T,\n",
    "                                 columns=['tau','gamma'])\n",
    "            Z_res.to_csv(Zoutfile,index=False)\n",
    "            g_res.to_csv(Goutfile,index=False)\n",
    "\n",
    "            # pickle the drt object for access to all other attributes\n",
    "            save_pickle(dr,pkl)\n",
    "\n",
    "        print('File fit time: {:.2f} seconds'.format(time.time()-file_start))\n",
    "\n",
    "        \n",
    "print('================================')        \n",
    "print('Total fit time: {:.2f} minutes'.format((time.time()-start)/60))"
   ]
  },
  {
   "cell_type": "markdown",
   "metadata": {},
   "source": [
    "# Experimental data\n",
    "\n",
    "## LIB data"
   ]
  },
  {
   "cell_type": "code",
   "execution_count": 206,
   "metadata": {},
   "outputs": [],
   "source": [
    "lib_files = ['DRTtools_LIB_data.txt','DRTtools_LIB_data_qtr.csv']\n",
    "lib_files = [os.path.join(datadir,'experimental',f) for f in lib_files]\n",
    "lib_suffixes = ['_LIB_data','_LIB_data_qtr']\n",
    "\n",
    "lib_basis_freq = np.logspace(4,-5,91)\n",
    "lib_tau = 1/(2*np.pi*lib_basis_freq)\n",
    "\n",
    "dr_lib = drt.DRT(basis_freq=lib_basis_freq,epsilon=3)"
   ]
  },
  {
   "cell_type": "code",
   "execution_count": 209,
   "metadata": {},
   "outputs": [
    {
     "name": "stdout",
     "output_type": "stream",
     "text": [
      "-------------------------------\n",
      "../../../data\\experimental\\DRTtools_LIB_data.txt\n",
      "-------------------------------\n",
      "_LIB_data\n"
     ]
    },
    {
     "name": "stderr",
     "output_type": "stream",
     "text": [
      "../../../bayes-drt\\drt.py:448: UserWarning: Hyperparametric solution did not converge within 50 iterations\n",
      "  warnings.warn(f'Hyperparametric solution did not converge within {max_iter} iterations')\n"
     ]
    },
    {
     "name": "stdout",
     "output_type": "stream",
     "text": [
      "Dumped pickle to results\\obj_LIB_data_fbeta=0.01.pkl\n",
      "_LIB_data\n"
     ]
    },
    {
     "name": "stderr",
     "output_type": "stream",
     "text": [
      "../../../bayes-drt\\drt.py:448: UserWarning: Hyperparametric solution did not converge within 50 iterations\n",
      "  warnings.warn(f'Hyperparametric solution did not converge within {max_iter} iterations')\n"
     ]
    },
    {
     "name": "stdout",
     "output_type": "stream",
     "text": [
      "Dumped pickle to results\\obj_LIB_data_fbeta=0.1.pkl\n",
      "_LIB_data\n",
      "Dumped pickle to results\\obj_LIB_data_fbeta=1.pkl\n",
      "_LIB_data\n",
      "Dumped pickle to results\\obj_LIB_data_fbeta=10.pkl\n",
      "_LIB_data\n",
      "Dumped pickle to results\\obj_LIB_data_fbeta=100.pkl\n",
      "File fit time: 26.77 seconds\n",
      "-------------------------------\n",
      "../../../data\\experimental\\DRTtools_LIB_data_qtr.csv\n",
      "-------------------------------\n",
      "_LIB_data_qtr\n"
     ]
    },
    {
     "name": "stderr",
     "output_type": "stream",
     "text": [
      "../../../bayes-drt\\drt.py:448: UserWarning: Hyperparametric solution did not converge within 50 iterations\n",
      "  warnings.warn(f'Hyperparametric solution did not converge within {max_iter} iterations')\n"
     ]
    },
    {
     "name": "stdout",
     "output_type": "stream",
     "text": [
      "Dumped pickle to results\\obj_LIB_data_qtr_fbeta=0.01.pkl\n",
      "_LIB_data_qtr\n"
     ]
    },
    {
     "name": "stderr",
     "output_type": "stream",
     "text": [
      "../../../bayes-drt\\drt.py:448: UserWarning: Hyperparametric solution did not converge within 50 iterations\n",
      "  warnings.warn(f'Hyperparametric solution did not converge within {max_iter} iterations')\n"
     ]
    },
    {
     "name": "stdout",
     "output_type": "stream",
     "text": [
      "Dumped pickle to results\\obj_LIB_data_qtr_fbeta=0.1.pkl\n",
      "_LIB_data_qtr\n",
      "Dumped pickle to results\\obj_LIB_data_qtr_fbeta=1.pkl\n",
      "_LIB_data_qtr\n",
      "Dumped pickle to results\\obj_LIB_data_qtr_fbeta=10.pkl\n",
      "_LIB_data_qtr\n",
      "Dumped pickle to results\\obj_LIB_data_qtr_fbeta=100.pkl\n",
      "File fit time: 36.96 seconds\n",
      "================================\n",
      "Total fit time: 1.06 minutes\n"
     ]
    }
   ],
   "source": [
    "dr = dr_lib\n",
    "start = time.time()\n",
    "tau_plot_lib = np.logspace(-5,4,200)\n",
    "for file,suffix in zip(lib_files,lib_suffixes):\n",
    "    print('-------------------------------')\n",
    "    print(file)\n",
    "    print('-------------------------------')\n",
    "    fname = os.path.split(file)[1]\n",
    "\n",
    "#     if os.path.exists(Zoutfile) and os.path.exists(Goutfile):\n",
    "#         print('Already ran')\n",
    "#     else:\n",
    "    file_start = time.time()\n",
    "\n",
    "    nonneg = True\n",
    "    weights='unity'\n",
    "\n",
    "    # load Z data\n",
    "    if file[-3:]=='txt':\n",
    "        Zndf = pd.read_csv(file,sep='\\t',header=None)\n",
    "        Zndf = pd.DataFrame(Zndf.values,columns=['Freq','Zreal','Zimag'])\n",
    "    else:\n",
    "        Zndf = pd.read_csv(file)\n",
    "    freq = Zndf['Freq'].values\n",
    "    Zc = (Zndf['Zreal'] + 1j*Zndf['Zimag']).values\n",
    "\n",
    "    # perform Re-Im CV\n",
    "    fit_kw = dict(reg_ord=2,dZ=False,scale_Z=False,nonneg=nonneg,weights=weights,\n",
    "                  penalty='discrete',max_iter=50)      \n",
    "    lambdas = np.logspace(-12,-2,41)\n",
    "    min_lam = dr.ridge_ReImCV(freq,Zc,lambdas=lambdas,**fit_kw)\n",
    "    if min_lam==np.min(lambdas) or min_lam==np.max(lambdas):\n",
    "        warnings.warn('min_lam value {} for file {} is at lambda boundary!'.format(min_lam,fname))\n",
    "\n",
    "    # run hyperparametric fits with best lambda_0\n",
    "    f_betas = [1e-2,1e-1,1,1e1,1e2]\n",
    "    for f_beta in f_betas:\n",
    "        print(suffix)\n",
    "        Zoutfile = os.path.join(outdir,'Zout{}_fbeta={:.3g}.csv'.format(suffix,f_beta))\n",
    "        Goutfile = os.path.join(outdir,'Gout{}_fbeta={:.3g}.csv'.format(suffix,f_beta))\n",
    "        pkl = os.path.join(outdir,'obj{}_fbeta={:.3g}.pkl'.format(suffix,f_beta))\n",
    "\n",
    "        dr.ridge_fit(freq,Zc,part='both',lambda_0=min_lam,hl_fbeta=f_beta,**fit_kw)\n",
    "\n",
    "        # save results\n",
    "        Z_pred = dr.predict_Z(freq)\n",
    "        Z_res = pd.DataFrame(np.array([freq,Z_pred.real,Z_pred.imag]).T,columns=['freq','Zreal','Zimag'])\n",
    "\n",
    "        g_pred = dr.predict_distribution('DRT',eval_tau=tau_plot_lib)\n",
    "        g_res = pd.DataFrame(np.array([tau_plot_lib,g_pred]).T,\n",
    "                             columns=['tau','gamma'])\n",
    "        Z_res.to_csv(Zoutfile,index=False)\n",
    "        g_res.to_csv(Goutfile,index=False)\n",
    "\n",
    "        # pickle the drt object for access to all other attributes\n",
    "        save_pickle(dr,pkl)\n",
    "\n",
    "    print('File fit time: {:.2f} seconds'.format(time.time()-file_start))\n",
    "\n",
    "        \n",
    "print('================================')        \n",
    "print('Total fit time: {:.2f} minutes'.format((time.time()-start)/60))"
   ]
  },
  {
   "cell_type": "code",
   "execution_count": 211,
   "metadata": {},
   "outputs": [
    {
     "data": {
      "text/plain": [
       "0.10913792982407555"
      ]
     },
     "execution_count": 211,
     "metadata": {},
     "output_type": "execute_result"
    }
   ],
   "source": [
    "dr.R_inf"
   ]
  },
  {
   "cell_type": "markdown",
   "metadata": {},
   "source": [
    "## Protonic ceramic microelectrode"
   ]
  },
  {
   "cell_type": "code",
   "execution_count": 173,
   "metadata": {},
   "outputs": [
    {
     "name": "stdout",
     "output_type": "stream",
     "text": [
      "Dumped pickle to results\\obj_PDAC_hyper-w.pkl\n"
     ]
    }
   ],
   "source": [
    "tco_file = os.path.join(datadir,'experimental/PDAC_COM3_02109_Contact10_2065C_500C.txt')\n",
    "suffix = '_PDAC'\n",
    "tco_df = gt.read_eis_zdata(tco_file)\n",
    "Zc = tco_df['Zreal'].values + 1j*tco_df['Zimag'].values\n",
    "freq = tco_df['Freq'].values\n",
    "\n",
    "dr_tco = drt.DRT(basis_freq=np.logspace(7,-3,101),epsilon=3)\n",
    "# tau for plotting\n",
    "tau_plot_tco = np.logspace(-7,4,200)\n",
    "\n",
    "# perform Re-Im CV\n",
    "# use scale_Z=True to get Z to regular scale - makes hyper-w tuning easier\n",
    "fit_kw = dict(reg_ord=2,dZ=False,scale_Z=False,nonneg=True,weights='unity',\n",
    "              penalty='discrete',max_iter=50)      \n",
    "lambdas = np.logspace(-10,0,41)\n",
    "min_lam = dr_tco.ridge_ReImCV(freq,Zc,lambdas=lambdas,**fit_kw)\n",
    "if min_lam==np.min(lambdas) or min_lam==np.max(lambdas):\n",
    "    warnings.warn('min_lam value {} for file {} is at lambda boundary!'.format(min_lam,fname))\n",
    "\n",
    "dr = dr_tco\n",
    "for hyper_w in [True]:#,False]:\n",
    "    if hyper_w:\n",
    "        # hyper-weights fit\n",
    "        Zoutfile = os.path.join(outdir,'Zout{}_hyper-w.csv'.format(suffix,f_beta))\n",
    "        Goutfile = os.path.join(outdir,'Gout{}_hyper-w.csv'.format(suffix,f_beta))\n",
    "        pkl = os.path.join(outdir,'obj{}_hyper-w.pkl'.format(suffix,f_beta))\n",
    "\n",
    "        dr.ridge_fit(freq,Zc,hyper_weights=True,hyper_lambda=False,hw_wbar='unity',hw_beta=1e10,\n",
    "                     lambda_0=min_lam,**fit_kw)\n",
    "\n",
    "        # save results\n",
    "        Z_pred = dr.predict_Z(freq)\n",
    "        Z_res = pd.DataFrame(np.array([freq,Z_pred.real,Z_pred.imag]).T,columns=['freq','Zreal','Zimag'])\n",
    "        Z_res['sigma_re'] = 1/dr.distribution_fits['DRT']['weights'].real**0.5\n",
    "        Z_res['sigma_im'] = 1/dr.distribution_fits['DRT']['weights'].imag**0.5\n",
    "\n",
    "        g_pred = dr.predict_distribution('DRT',eval_tau=tau_plot_tco)\n",
    "        g_res = pd.DataFrame(np.array([tau_plot_tco,g_pred]).T,\n",
    "                             columns=['tau','gamma'])\n",
    "        Z_res.to_csv(Zoutfile,index=False)\n",
    "        g_res.to_csv(Goutfile,index=False)\n",
    "\n",
    "        # pickle the drt object for access to all other attributes\n",
    "        save_pickle(dr,pkl)\n",
    "    else:\n",
    "        # hyper-lambda fit\n",
    "        f_betas = [1e-2,1e-1,1,1e1,1e2]\n",
    "        for f_beta in f_betas:\n",
    "            Zoutfile = os.path.join(outdir,'Zout{}_fbeta={:.3g}.csv'.format(suffix,f_beta))\n",
    "            Goutfile = os.path.join(outdir,'Gout{}_fbeta={:.3g}.csv'.format(suffix,f_beta))\n",
    "            pkl = os.path.join(outdir,'obj{}_fbeta={:.3g}.pkl'.format(suffix,f_beta))\n",
    "\n",
    "            dr.ridge_fit(freq,Zc,part='both',lambda_0=min_lam,hl_fbeta=f_beta,**fit_kw)\n",
    "\n",
    "            # save results\n",
    "            Z_pred = dr.predict_Z(freq)\n",
    "            Z_res = pd.DataFrame(np.array([freq,Z_pred.real,Z_pred.imag]).T,columns=['freq','Zreal','Zimag'])\n",
    "\n",
    "            g_pred = dr.predict_distribution('DRT',eval_tau=tau_plot_tco)\n",
    "            g_res = pd.DataFrame(np.array([tau_plot_tco,g_pred]).T,\n",
    "                                 columns=['tau','gamma'])\n",
    "            Z_res.to_csv(Zoutfile,index=False)\n",
    "            g_res.to_csv(Goutfile,index=False)\n",
    "\n",
    "            # pickle the drt object for access to all other attributes\n",
    "            save_pickle(dr,pkl)\n"
   ]
  }
 ],
 "metadata": {
  "kernelspec": {
   "display_name": "Python 3",
   "language": "python",
   "name": "python3"
  },
  "language_info": {
   "codemirror_mode": {
    "name": "ipython",
    "version": 3
   },
   "file_extension": ".py",
   "mimetype": "text/x-python",
   "name": "python",
   "nbconvert_exporter": "python",
   "pygments_lexer": "ipython3",
   "version": "3.7.6"
  }
 },
 "nbformat": 4,
 "nbformat_minor": 4
}
