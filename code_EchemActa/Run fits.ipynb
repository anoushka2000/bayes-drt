{
 "cells": [
  {
   "cell_type": "code",
   "execution_count": 2,
   "metadata": {},
   "outputs": [],
   "source": [
    "import numpy as np\n",
    "import pandas as pd\n",
    "import os \n",
    "import sys\n",
    "import glob\n",
    "import time\n",
    "import matplotlib.pyplot as plt\n",
    "\n",
    "if '../bayes-drt' not in sys.path:\n",
    "    sys.path.append('../bayes-drt')\n",
    "import drt\n",
    "from stan_models import save_pickle,load_pickle\n",
    "import eis_utils as gt\n",
    "\n",
    "%load_ext autoreload\n",
    "%autoreload 2"
   ]
  },
  {
   "cell_type": "markdown",
   "metadata": {},
   "source": [
    "# Simulated data"
   ]
  },
  {
   "cell_type": "code",
   "execution_count": 3,
   "metadata": {},
   "outputs": [
    {
     "name": "stderr",
     "output_type": "stream",
     "text": [
      "INFO:numexpr.utils:NumExpr defaulting to 4 threads.\n",
      "../bayes-drt\\drt.py:1049: RuntimeWarning: overflow encountered in exp\n",
      "  return phi(y,epsilon)/(1+np.exp(2*(y+np.log(w_n*t_m))))\n",
      "../bayes-drt\\drt.py:327: UserWarning: Hyperparametric solution did not converge within 20 iterations\n",
      "  warnings.warn(f'Hyperparametric solution did not converge within {max_iter} iterations')\n"
     ]
    }
   ],
   "source": [
    "dr = drt.DRT()\n",
    "files = glob.glob('../data/simulated/Z_*.csv')\n",
    "files = [f for f in files if f.find('trunc')==-1]\n",
    "# fit one file to generate A matrices\n",
    "df = pd.read_csv(files[0])\n",
    "Z = df['Zreal'] + 1j*df['Zimag']\n",
    "dr.ridge_fit(df['Freq'].values,Z.values)"
   ]
  },
  {
   "cell_type": "code",
   "execution_count": 802,
   "metadata": {},
   "outputs": [
    {
     "name": "stdout",
     "output_type": "stream",
     "text": [
      "-------------------------------\n",
      "../data/simulated\\Z_2RC_Macdonald_0.25.csv\n",
      "-------------------------------\n",
      "File fit time: 12.71 seconds\n"
     ]
    },
    {
     "name": "stderr",
     "output_type": "stream",
     "text": [
      "../bayes-drt\\stan_models.py:7: UserWarning: Pickling fit objects is an experimental feature!\n",
      "The relevant StanModel instance must be pickled along with this fit object.\n",
      "When unpickling the StanModel must be unpickled first.\n",
      "  pickle.dump(obj, f, pickle.HIGHEST_PROTOCOL)\n"
     ]
    },
    {
     "name": "stdout",
     "output_type": "stream",
     "text": [
      "Dumped pickle to map_results\\obj_2RC_Macdonald_0.25.pkl\n",
      "-------------------------------\n",
      "../data/simulated\\Z_2RC_Macdonald_1.0.csv\n",
      "-------------------------------\n",
      "File fit time: 6.97 seconds\n",
      "Dumped pickle to map_results\\obj_2RC_Macdonald_1.0.pkl\n",
      "-------------------------------\n",
      "../data/simulated\\Z_2RC_Macdonald_2.5.csv\n",
      "-------------------------------\n",
      "File fit time: 3.50 seconds\n",
      "Dumped pickle to map_results\\obj_2RC_Macdonald_2.5.pkl\n",
      "-------------------------------\n",
      "../data/simulated\\Z_2RC_noiseless.csv\n",
      "-------------------------------\n",
      "Already ran\n",
      "-------------------------------\n",
      "../data/simulated\\Z_2RC_Orazem_0.25.csv\n",
      "-------------------------------\n",
      "File fit time: 17.38 seconds\n",
      "Dumped pickle to map_results\\obj_2RC_Orazem_0.25.pkl\n",
      "-------------------------------\n",
      "../data/simulated\\Z_2RC_Orazem_1.0.csv\n",
      "-------------------------------\n",
      "File fit time: 4.86 seconds\n",
      "Dumped pickle to map_results\\obj_2RC_Orazem_1.0.pkl\n",
      "-------------------------------\n",
      "../data/simulated\\Z_2RC_Orazem_2.5.csv\n",
      "-------------------------------\n",
      "File fit time: 1.77 seconds\n",
      "Dumped pickle to map_results\\obj_2RC_Orazem_2.5.pkl\n",
      "-------------------------------\n",
      "../data/simulated\\Z_2RC_uniform_0.25.csv\n",
      "-------------------------------\n",
      "File fit time: 13.53 seconds\n",
      "Dumped pickle to map_results\\obj_2RC_uniform_0.25.pkl\n",
      "-------------------------------\n",
      "../data/simulated\\Z_2RC_uniform_1.0.csv\n",
      "-------------------------------\n",
      "File fit time: 8.68 seconds\n",
      "Dumped pickle to map_results\\obj_2RC_uniform_1.0.pkl\n",
      "-------------------------------\n",
      "../data/simulated\\Z_2RC_uniform_2.5.csv\n",
      "-------------------------------\n",
      "File fit time: 3.26 seconds\n",
      "Dumped pickle to map_results\\obj_2RC_uniform_2.5.pkl\n",
      "-------------------------------\n",
      "../data/simulated\\Z_2ZARC_Macdonald_0.25.csv\n",
      "-------------------------------\n",
      "File fit time: 7.73 seconds\n",
      "Dumped pickle to map_results\\obj_2ZARC_Macdonald_0.25.pkl\n",
      "-------------------------------\n",
      "../data/simulated\\Z_2ZARC_Macdonald_1.0.csv\n",
      "-------------------------------\n",
      "File fit time: 2.08 seconds\n",
      "Dumped pickle to map_results\\obj_2ZARC_Macdonald_1.0.pkl\n",
      "-------------------------------\n",
      "../data/simulated\\Z_2ZARC_Macdonald_2.5.csv\n",
      "-------------------------------\n",
      "File fit time: 1.07 seconds\n",
      "Dumped pickle to map_results\\obj_2ZARC_Macdonald_2.5.pkl\n",
      "-------------------------------\n",
      "../data/simulated\\Z_2ZARC_noiseless.csv\n",
      "-------------------------------\n",
      "Already ran\n",
      "-------------------------------\n",
      "../data/simulated\\Z_2ZARC_Orazem_0.25.csv\n",
      "-------------------------------\n",
      "File fit time: 3.49 seconds\n",
      "Dumped pickle to map_results\\obj_2ZARC_Orazem_0.25.pkl\n",
      "-------------------------------\n",
      "../data/simulated\\Z_2ZARC_Orazem_1.0.csv\n",
      "-------------------------------\n",
      "File fit time: 1.76 seconds\n",
      "Dumped pickle to map_results\\obj_2ZARC_Orazem_1.0.pkl\n",
      "-------------------------------\n",
      "../data/simulated\\Z_2ZARC_Orazem_2.5.csv\n",
      "-------------------------------\n",
      "File fit time: 1.51 seconds\n",
      "Dumped pickle to map_results\\obj_2ZARC_Orazem_2.5.pkl\n",
      "-------------------------------\n",
      "../data/simulated\\Z_2ZARC_uniform_0.25.csv\n",
      "-------------------------------\n",
      "File fit time: 3.73 seconds\n",
      "Dumped pickle to map_results\\obj_2ZARC_uniform_0.25.pkl\n",
      "-------------------------------\n",
      "../data/simulated\\Z_2ZARC_uniform_1.0.csv\n",
      "-------------------------------\n",
      "File fit time: 1.21 seconds\n",
      "Dumped pickle to map_results\\obj_2ZARC_uniform_1.0.pkl\n",
      "-------------------------------\n",
      "../data/simulated\\Z_2ZARC_uniform_2.5.csv\n",
      "-------------------------------\n",
      "File fit time: 1.29 seconds\n",
      "Dumped pickle to map_results\\obj_2ZARC_uniform_2.5.pkl\n",
      "-------------------------------\n",
      "../data/simulated\\Z_Gerischer_Macdonald_0.25.csv\n",
      "-------------------------------\n",
      "File fit time: 5.78 seconds\n",
      "Dumped pickle to map_results\\obj_Gerischer_Macdonald_0.25.pkl\n",
      "-------------------------------\n",
      "../data/simulated\\Z_Gerischer_Macdonald_1.0.csv\n",
      "-------------------------------\n",
      "File fit time: 2.09 seconds\n",
      "Dumped pickle to map_results\\obj_Gerischer_Macdonald_1.0.pkl\n",
      "-------------------------------\n",
      "../data/simulated\\Z_Gerischer_Macdonald_2.5.csv\n",
      "-------------------------------\n",
      "File fit time: 2.02 seconds\n",
      "Dumped pickle to map_results\\obj_Gerischer_Macdonald_2.5.pkl\n",
      "-------------------------------\n",
      "../data/simulated\\Z_Gerischer_noiseless.csv\n",
      "-------------------------------\n",
      "Already ran\n",
      "-------------------------------\n",
      "../data/simulated\\Z_Gerischer_Orazem_0.25.csv\n",
      "-------------------------------\n",
      "File fit time: 4.99 seconds\n",
      "Dumped pickle to map_results\\obj_Gerischer_Orazem_0.25.pkl\n",
      "-------------------------------\n",
      "../data/simulated\\Z_Gerischer_Orazem_1.0.csv\n",
      "-------------------------------\n",
      "File fit time: 2.49 seconds\n",
      "Dumped pickle to map_results\\obj_Gerischer_Orazem_1.0.pkl\n",
      "-------------------------------\n",
      "../data/simulated\\Z_Gerischer_Orazem_2.5.csv\n",
      "-------------------------------\n",
      "File fit time: 1.97 seconds\n",
      "Dumped pickle to map_results\\obj_Gerischer_Orazem_2.5.pkl\n",
      "-------------------------------\n",
      "../data/simulated\\Z_Gerischer_uniform_0.25.csv\n",
      "-------------------------------\n",
      "File fit time: 6.13 seconds\n",
      "Dumped pickle to map_results\\obj_Gerischer_uniform_0.25.pkl\n",
      "-------------------------------\n",
      "../data/simulated\\Z_Gerischer_uniform_1.0.csv\n",
      "-------------------------------\n",
      "File fit time: 2.44 seconds\n",
      "Dumped pickle to map_results\\obj_Gerischer_uniform_1.0.pkl\n",
      "-------------------------------\n",
      "../data/simulated\\Z_Gerischer_uniform_2.5.csv\n",
      "-------------------------------\n",
      "File fit time: 2.10 seconds\n",
      "Dumped pickle to map_results\\obj_Gerischer_uniform_2.5.pkl\n",
      "-------------------------------\n",
      "../data/simulated\\Z_RC_Macdonald_0.25.csv\n",
      "-------------------------------\n",
      "File fit time: 7.88 seconds\n",
      "Dumped pickle to map_results\\obj_RC_Macdonald_0.25.pkl\n",
      "-------------------------------\n",
      "../data/simulated\\Z_RC_Macdonald_1.0.csv\n",
      "-------------------------------\n",
      "File fit time: 4.24 seconds\n",
      "Dumped pickle to map_results\\obj_RC_Macdonald_1.0.pkl\n",
      "-------------------------------\n",
      "../data/simulated\\Z_RC_Macdonald_2.5.csv\n",
      "-------------------------------\n",
      "File fit time: 2.09 seconds\n",
      "Dumped pickle to map_results\\obj_RC_Macdonald_2.5.pkl\n",
      "-------------------------------\n",
      "../data/simulated\\Z_RC_noiseless.csv\n",
      "-------------------------------\n",
      "Already ran\n",
      "-------------------------------\n",
      "../data/simulated\\Z_RC_Orazem_0.25.csv\n",
      "-------------------------------\n",
      "File fit time: 11.06 seconds\n",
      "Dumped pickle to map_results\\obj_RC_Orazem_0.25.pkl\n",
      "-------------------------------\n",
      "../data/simulated\\Z_RC_Orazem_1.0.csv\n",
      "-------------------------------\n",
      "File fit time: 2.65 seconds\n",
      "Dumped pickle to map_results\\obj_RC_Orazem_1.0.pkl\n",
      "-------------------------------\n",
      "../data/simulated\\Z_RC_Orazem_2.5.csv\n",
      "-------------------------------\n",
      "File fit time: 1.56 seconds\n",
      "Dumped pickle to map_results\\obj_RC_Orazem_2.5.pkl\n",
      "-------------------------------\n",
      "../data/simulated\\Z_RC_uniform_0.25.csv\n",
      "-------------------------------\n",
      "File fit time: 6.67 seconds\n",
      "Dumped pickle to map_results\\obj_RC_uniform_0.25.pkl\n",
      "-------------------------------\n",
      "../data/simulated\\Z_RC_uniform_1.0.csv\n",
      "-------------------------------\n",
      "File fit time: 2.15 seconds\n",
      "Dumped pickle to map_results\\obj_RC_uniform_1.0.pkl\n",
      "-------------------------------\n",
      "../data/simulated\\Z_RC_uniform_2.5.csv\n",
      "-------------------------------\n",
      "File fit time: 2.41 seconds\n",
      "Dumped pickle to map_results\\obj_RC_uniform_2.5.pkl\n",
      "-------------------------------\n",
      "../data/simulated\\Z_ZARC-RL_Macdonald_0.25.csv\n",
      "-------------------------------\n",
      "File fit time: 4.18 seconds\n",
      "Dumped pickle to map_results\\obj_ZARC-RL_Macdonald_0.25.pkl\n",
      "-------------------------------\n",
      "../data/simulated\\Z_ZARC-RL_Macdonald_1.0.csv\n",
      "-------------------------------\n",
      "File fit time: 2.48 seconds\n",
      "Dumped pickle to map_results\\obj_ZARC-RL_Macdonald_1.0.pkl\n",
      "-------------------------------\n",
      "../data/simulated\\Z_ZARC-RL_Macdonald_2.5.csv\n",
      "-------------------------------\n",
      "File fit time: 1.68 seconds\n",
      "Dumped pickle to map_results\\obj_ZARC-RL_Macdonald_2.5.pkl\n",
      "-------------------------------\n",
      "../data/simulated\\Z_ZARC-RL_noiseless.csv\n",
      "-------------------------------\n",
      "Already ran\n",
      "-------------------------------\n",
      "../data/simulated\\Z_ZARC-RL_Orazem_0.25.csv\n",
      "-------------------------------\n",
      "File fit time: 4.78 seconds\n",
      "Dumped pickle to map_results\\obj_ZARC-RL_Orazem_0.25.pkl\n",
      "-------------------------------\n",
      "../data/simulated\\Z_ZARC-RL_Orazem_1.0.csv\n",
      "-------------------------------\n",
      "File fit time: 1.84 seconds\n"
     ]
    },
    {
     "name": "stdout",
     "output_type": "stream",
     "text": [
      "Dumped pickle to map_results\\obj_ZARC-RL_Orazem_1.0.pkl\n",
      "-------------------------------\n",
      "../data/simulated\\Z_ZARC-RL_Orazem_2.5.csv\n",
      "-------------------------------\n",
      "File fit time: 1.32 seconds\n",
      "Dumped pickle to map_results\\obj_ZARC-RL_Orazem_2.5.pkl\n",
      "-------------------------------\n",
      "../data/simulated\\Z_ZARC-RL_uniform_0.25.csv\n",
      "-------------------------------\n",
      "File fit time: 4.56 seconds\n",
      "Dumped pickle to map_results\\obj_ZARC-RL_uniform_0.25.pkl\n",
      "-------------------------------\n",
      "../data/simulated\\Z_ZARC-RL_uniform_1.0.csv\n",
      "-------------------------------\n",
      "File fit time: 2.10 seconds\n",
      "Dumped pickle to map_results\\obj_ZARC-RL_uniform_1.0.pkl\n",
      "-------------------------------\n",
      "../data/simulated\\Z_ZARC-RL_uniform_2.5.csv\n",
      "-------------------------------\n",
      "File fit time: 2.01 seconds\n",
      "Dumped pickle to map_results\\obj_ZARC-RL_uniform_2.5.pkl\n",
      "-------------------------------\n",
      "../data/simulated\\Z_ZARC_Macdonald_0.25.csv\n",
      "-------------------------------\n",
      "File fit time: 5.87 seconds\n",
      "Dumped pickle to map_results\\obj_ZARC_Macdonald_0.25.pkl\n",
      "-------------------------------\n",
      "../data/simulated\\Z_ZARC_Macdonald_1.0.csv\n",
      "-------------------------------\n",
      "File fit time: 3.02 seconds\n",
      "Dumped pickle to map_results\\obj_ZARC_Macdonald_1.0.pkl\n",
      "-------------------------------\n",
      "../data/simulated\\Z_ZARC_Macdonald_2.5.csv\n",
      "-------------------------------\n",
      "File fit time: 2.89 seconds\n",
      "Dumped pickle to map_results\\obj_ZARC_Macdonald_2.5.pkl\n",
      "-------------------------------\n",
      "../data/simulated\\Z_ZARC_noiseless.csv\n",
      "-------------------------------\n",
      "Already ran\n",
      "-------------------------------\n",
      "../data/simulated\\Z_ZARC_Orazem_0.25.csv\n",
      "-------------------------------\n",
      "File fit time: 7.73 seconds\n",
      "Dumped pickle to map_results\\obj_ZARC_Orazem_0.25.pkl\n",
      "-------------------------------\n",
      "../data/simulated\\Z_ZARC_Orazem_1.0.csv\n",
      "-------------------------------\n",
      "File fit time: 2.37 seconds\n",
      "Dumped pickle to map_results\\obj_ZARC_Orazem_1.0.pkl\n",
      "-------------------------------\n",
      "../data/simulated\\Z_ZARC_Orazem_2.5.csv\n",
      "-------------------------------\n",
      "File fit time: 2.04 seconds\n",
      "Dumped pickle to map_results\\obj_ZARC_Orazem_2.5.pkl\n",
      "-------------------------------\n",
      "../data/simulated\\Z_ZARC_uniform_0.25.csv\n",
      "-------------------------------\n",
      "File fit time: 6.54 seconds\n",
      "Dumped pickle to map_results\\obj_ZARC_uniform_0.25.pkl\n",
      "-------------------------------\n",
      "../data/simulated\\Z_ZARC_uniform_1.0.csv\n",
      "-------------------------------\n",
      "File fit time: 2.25 seconds\n",
      "Dumped pickle to map_results\\obj_ZARC_uniform_1.0.pkl\n",
      "-------------------------------\n",
      "../data/simulated\\Z_ZARC_uniform_2.5.csv\n",
      "-------------------------------\n",
      "File fit time: 1.66 seconds\n",
      "Dumped pickle to map_results\\obj_ZARC_uniform_2.5.pkl\n",
      "================================\n",
      "Total fit time: 4.31 minutes\n"
     ]
    }
   ],
   "source": [
    "\"MAP fits\"\n",
    "# tau for plotting\n",
    "tau_plot = np.logspace(-7,2,200)\n",
    "start = time.time()\n",
    "\n",
    "for file in files:\n",
    "    print('-------------------------------')\n",
    "    print(file)\n",
    "    print('-------------------------------')\n",
    "    suffix = file[file.find('_'):]\n",
    "    Zoutfile = os.path.join('map_results',f'Zout{suffix}')\n",
    "    Goutfile = os.path.join('map_results',f'Gout{suffix}')\n",
    "    pkl = os.path.join('map_results','obj{}.pkl'.format(suffix[:-4]))\n",
    "    if file.split('_')[2]=='noiseless.csv':\n",
    "        sigma_min=0.005\n",
    "    else:\n",
    "        sigma_min=0.002\n",
    "    if os.path.exists(Zoutfile) and os.path.exists(Goutfile):\n",
    "        print('Already ran')\n",
    "    else:\n",
    "        df = pd.read_csv(file)\n",
    "        Z = df['Zreal'].values + 1j*df['Zimag'].values\n",
    "        # fit\n",
    "        file_start = time.time()\n",
    "        dr.map_fit(df['Freq'].values,Z,dZ=False,init_from_ridge=False,sigma_min=sigma_min)\n",
    "        print('File fit time: {:.2f} seconds'.format(time.time()-file_start))\n",
    "        \n",
    "        # save results\n",
    "        Z_pred = dr.predict(df['Freq'].values)\n",
    "        Z_res = pd.DataFrame(np.array([df['Freq'],Z_pred.real,Z_pred.imag]).T,columns=['freq','Zreal','Zimag'])\n",
    "        Z_res['sigma_re'] = dr._opt_result['sigma_tot'][:len(df)]*dr._Z_scale\n",
    "        Z_res['sigma_im'] = dr._opt_result['sigma_tot'][len(df):]*dr._Z_scale\n",
    "        \n",
    "        g_pred = dr.drt(eval_tau=tau_plot)\n",
    "        g_res = pd.DataFrame(np.array([tau_plot,g_pred]).T,\n",
    "                             columns=['tau','gamma'])\n",
    "        Z_res.to_csv(Zoutfile,index=False)\n",
    "        g_res.to_csv(Goutfile,index=False)\n",
    "        \n",
    "        # pickle the drt object for access to all other attributes\n",
    "        save_pickle(dr,pkl)\n",
    "        \n",
    "print('================================')        \n",
    "print('Total fit time: {:.2f} minutes'.format((time.time()-start)/60))"
   ]
  },
  {
   "cell_type": "code",
   "execution_count": 861,
   "metadata": {},
   "outputs": [
    {
     "name": "stdout",
     "output_type": "stream",
     "text": [
      "File fit time: 12.55 seconds\n"
     ]
    },
    {
     "data": {
      "text/plain": [
       "<matplotlib.legend.Legend at 0x21465f18c88>"
      ]
     },
     "execution_count": 861,
     "metadata": {},
     "output_type": "execute_result"
    },
    {
     "data": {
      "image/png": "[encoded data removed]",
      "text/plain": [
       "<Figure size 432x288 with 1 Axes>"
      ]
     },
     "metadata": {
      "needs_background": "light"
     },
     "output_type": "display_data"
    }
   ],
   "source": [
    "pkl = load_pickle('map_results/obj_2ZARC_noiseless.pkl')\n",
    "file = '../data/simulated/Z_2RC_Macdonald_0.25.csv'\n",
    "df = pd.read_csv(file)\n",
    "# df = df.sort_values('Freq')\n",
    "Z = df['Zreal'].values + 1j*df['Zimag'].values\n",
    "# fit\n",
    "file_start = time.time()\n",
    "dr.map_fit(df['Freq'].values,Z,dZ=False,init_from_ridge=False,outliers=False,max_iter=30e3,sigma_min=0.002)\n",
    "print('File fit time: {:.2f} seconds'.format(time.time()-file_start))\n",
    "\n",
    "suffix = file[file.find('_'):]\n",
    "gres = pd.read_csv(os.path.join('map_results','Gout{}'.format(suffix)))\n",
    "\n",
    "old_res = pd.read_csv(os.path.join('map_results/old','Gout{}'.format(suffix)))\n",
    "\n",
    "tau_plot = np.logspace(-7,2,200)\n",
    "plt.plot(tau_plot,dr.drt(tau_plot),label='run')\n",
    "# plt.plot(gres['tau'],gres['gamma'],label='New')\n",
    "plt.plot(old_res['tau'],old_res['gamma'],label='Old')\n",
    "plt.xscale('log')\n",
    "plt.legend()"
   ]
  },
  {
   "cell_type": "code",
   "execution_count": 788,
   "metadata": {},
   "outputs": [
    {
     "data": {
      "text/plain": [
       "<matplotlib.axes._subplots.AxesSubplot at 0x21466588548>"
      ]
     },
     "execution_count": 788,
     "metadata": {},
     "output_type": "execute_result"
    },
    {
     "data": {
      "image/png": "[encoded data removed]",
      "text/plain": [
       "<Figure size 432x288 with 1 Axes>"
      ]
     },
     "metadata": {
      "needs_background": "light"
     },
     "output_type": "display_data"
    }
   ],
   "source": [
    "gt.plot_nyquist(df)"
   ]
  },
  {
   "cell_type": "code",
   "execution_count": 469,
   "metadata": {},
   "outputs": [
    {
     "data": {
      "text/plain": [
       "array([<matplotlib.axes._subplots.AxesSubplot object at 0x0000021461C23988>,\n",
       "       <matplotlib.axes._subplots.AxesSubplot object at 0x000002145727F688>,\n",
       "       <matplotlib.axes._subplots.AxesSubplot object at 0x0000021456CCAE48>],\n",
       "      dtype=object)"
      ]
     },
     "execution_count": 469,
     "metadata": {},
     "output_type": "execute_result"
    },
    {
     "data": {
      "image/png": "[encoded data removed]",
      "text/plain": [
       "<Figure size 864x288 with 3 Axes>"
      ]
     },
     "metadata": {
      "needs_background": "light"
     },
     "output_type": "display_data"
    }
   ],
   "source": [
    "fig,axes = plt.subplots(1,3,figsize=(12,4))\n",
    "gt.plot_full_eis(df,axes=axes,bode_cols=['Zreal','Zimag'])\n",
    "\n",
    "df_pred = gt.construct_eis_df(df['Freq'],dr.predict(df['Freq']))\n",
    "gt.plot_full_eis(df_pred,axes=axes,bode_cols=['Zreal','Zimag'],plot_func='plot')"
   ]
  },
  {
   "cell_type": "code",
   "execution_count": 476,
   "metadata": {},
   "outputs": [
    {
     "data": {
      "text/plain": [
       "(0, 0.06019372701960001)"
      ]
     },
     "execution_count": 476,
     "metadata": {},
     "output_type": "execute_result"
    },
    {
     "data": {
      "image/png": "[encoded data removed]",
      "text/plain": [
       "<Figure size 432x288 with 1 Axes>"
      ]
     },
     "metadata": {
      "needs_background": "light"
     },
     "output_type": "display_data"
    }
   ],
   "source": [
    "fig,ax = plt.subplots()\n",
    "ax.plot(dr._opt_result['sigma_tot'])\n",
    "ax.set_ylim(0,ax.get_ylim()[1]*1.1)"
   ]
  },
  {
   "cell_type": "code",
   "execution_count": 473,
   "metadata": {},
   "outputs": [
    {
     "data": {
      "text/plain": [
       "OrderedDict([('hfr_raw', array(0.01161937)),\n",
       "             ('induc', array(2.07573072e-14)),\n",
       "             ('beta',\n",
       "              array([-2.99673347e-04, -4.96894444e-04, -6.75746754e-04, -8.16147879e-04,\n",
       "                     -9.24234028e-04, -1.00472077e-03, -1.06359648e-03, -1.10412760e-03,\n",
       "                     -1.12709188e-03, -1.12992566e-03, -1.10612430e-03, -1.04624562e-03,\n",
       "                     -9.38599572e-04, -7.66484097e-04, -5.11655482e-04, -1.50261454e-04,\n",
       "                      3.44104831e-04,  1.00115337e-03,  1.85612457e-03,  2.95089196e-03,\n",
       "                      4.33778679e-03,  6.08332487e-03,  8.27520521e-03,  1.10241206e-02,\n",
       "                      1.44804073e-02,  1.88335552e-02,  2.43235186e-02,  3.12450493e-02,\n",
       "                      3.99465247e-02,  5.07837867e-02,  6.40937871e-02,  8.01093160e-02,\n",
       "                      9.88844987e-02,  1.20267410e-01,  1.43819818e-01,  1.68858259e-01,\n",
       "                      1.94313468e-01,  2.18879882e-01,  2.41131317e-01,  2.59758175e-01,\n",
       "                      2.73928809e-01,  2.83631908e-01,  2.89234017e-01,  2.91135937e-01,\n",
       "                      2.89928705e-01,  2.85530467e-01,  2.77474176e-01,  2.65160353e-01,\n",
       "                      2.48310659e-01,  2.26909987e-01,  2.01920288e-01,  1.74875301e-01,\n",
       "                      1.47479599e-01,  1.21236350e-01,  9.73013571e-02,  7.65605649e-02,\n",
       "                      5.93368685e-02,  4.56123077e-02,  3.49597093e-02,  2.68018475e-02,\n",
       "                      2.05677405e-02,  1.57873165e-02,  1.20982351e-02,  9.23260640e-03,\n",
       "                      6.98979967e-03,  5.21615505e-03,  3.79002396e-03,  2.61890722e-03,\n",
       "                      1.63379307e-03,  7.88622661e-04,  5.90256095e-05, -5.62470492e-04,\n",
       "                     -1.07353084e-03, -1.46691273e-03, -1.73411532e-03, -1.86660539e-03,\n",
       "                     -1.86226723e-03, -1.72503449e-03, -1.46531372e-03, -1.08944299e-03,\n",
       "                     -6.58801254e-04])),\n",
       "             ('sigma_res_raw', array(2.58348952)),\n",
       "             ('alpha_prop_raw', array(3.50712562e-05)),\n",
       "             ('alpha_re_raw', array(0.24604702)),\n",
       "             ('alpha_im_raw', array(0.0032863)),\n",
       "             ('tau_raw',\n",
       "              array([0.04860773, 0.04878573, 0.04907139, 0.04915096, 0.04886438,\n",
       "                     0.04860236, 0.04855982, 0.04870552, 0.04896414, 0.04912949,\n",
       "                     0.04900635, 0.04876655, 0.04862955, 0.04859237, 0.04864007,\n",
       "                     0.0487592 , 0.04897358, 0.04924951, 0.04965773, 0.05032995,\n",
       "                     0.05140653, 0.05302636, 0.05554678, 0.05939473, 0.06479801,\n",
       "                     0.07220658, 0.08210693, 0.09492831, 0.11057691, 0.12925365,\n",
       "                     0.15067728, 0.17400667, 0.19944211, 0.22630633, 0.25661531,\n",
       "                     0.28464933, 0.31487908, 0.34359156, 0.36898916, 0.38939844,\n",
       "                     0.40096378, 0.41001524, 0.41786192, 0.41400538, 0.41447947,\n",
       "                     0.41306579, 0.40729916, 0.3941764 , 0.38179918, 0.35915942,\n",
       "                     0.33059694, 0.29779287, 0.26694093, 0.23640935, 0.20934999,\n",
       "                     0.18107156, 0.15506864, 0.13044941, 0.10889673, 0.09136858,\n",
       "                     0.07802323, 0.06828235, 0.06147934, 0.056856  , 0.05372218,\n",
       "                     0.05167557, 0.05041787, 0.04973692, 0.04958282, 0.04977372,\n",
       "                     0.04982876, 0.04947935, 0.04907337, 0.04885855, 0.04881195,\n",
       "                     0.04881508, 0.04878584, 0.04876867, 0.0487793 , 0.04881231,\n",
       "                     0.04883564])),\n",
       "             ('d0_strength', array(0.19616974)),\n",
       "             ('d1_strength', array(0.38917305)),\n",
       "             ('d2_strength', array(0.57502783)),\n",
       "             ('hfr', array(1.16193656)),\n",
       "             ('LB',\n",
       "              array([0.00030704, 0.00029255, 0.00029973, 0.00030296, 0.00030586,\n",
       "                     0.00031048, 0.00031745, 0.00032481, 0.00033212, 0.00034041,\n",
       "                     0.0003514 , 0.00036942, 0.00040542, 0.00046654, 0.00056861,\n",
       "                     0.00071696, 0.00092004, 0.00119052, 0.00154173, 0.00199339,\n",
       "                     0.00257055, 0.00330705, 0.00424139, 0.00543624, 0.006951  ,\n",
       "                     0.00886538, 0.01126552, 0.0142276 , 0.01777351, 0.02191561,\n",
       "                     0.0265952 , 0.03174685, 0.03732785, 0.04325881, 0.04947409,\n",
       "                     0.05584306, 0.06222419, 0.06837621, 0.07390941, 0.07829   ,\n",
       "                     0.08116286, 0.08286748, 0.08371472, 0.08379333, 0.08354383,\n",
       "                     0.08288929, 0.08163681, 0.07944514, 0.07614133, 0.0712493 ,\n",
       "                     0.06516896, 0.05855379, 0.05188108, 0.04538095, 0.03918831,\n",
       "                     0.03321792, 0.0275587 , 0.02218266, 0.01737971, 0.01337237,\n",
       "                     0.01021536, 0.0077998 , 0.00597264, 0.00458454, 0.00352134,\n",
       "                     0.00270297, 0.00207968, 0.00161166, 0.00127148, 0.00103624,\n",
       "                     0.00088497, 0.00079899, 0.00076118, 0.00075381, 0.00076067,\n",
       "                     0.00076164, 0.00075058, 0.00072976, 0.00070049, 0.00066226,\n",
       "                     0.00067954])),\n",
       "             ('sigma_res', array(0.05166979)),\n",
       "             ('alpha_prop', array(7.01425124e-07)),\n",
       "             ('alpha_re', array(0.00492094)),\n",
       "             ('alpha_im', array(6.57260565e-05)),\n",
       "             ('y_hat',\n",
       "              array([ 1.16148308e+00,  1.16130837e+00,  1.16109253e+00,  1.16083658e+00,\n",
       "                      1.16054442e+00,  1.16022243e+00,  1.15987908e+00,  1.15952480e+00,\n",
       "                      1.15917209e+00,  1.15883605e+00,  1.15853508e+00,  1.15829196e+00,\n",
       "                      1.15813509e+00,  1.15809991e+00,  1.15823064e+00,  1.15858226e+00,\n",
       "                      1.15922281e+00,  1.16023630e+00,  1.16172608e+00,  1.16381908e+00,\n",
       "                      1.16667088e+00,  1.17047178e+00,  1.17545374e+00,  1.18189793e+00,\n",
       "                      1.19014251e+00,  1.20058962e+00,  1.21371034e+00,  1.23004601e+00,\n",
       "                      1.25020389e+00,  1.27484517e+00,  1.30466381e+00,  1.34035538e+00,\n",
       "                      1.38257642e+00,  1.43189638e+00,  1.48874614e+00,  1.55336816e+00,\n",
       "                      1.62577511e+00,  1.70572315e+00,  1.79270488e+00,  1.88596399e+00,\n",
       "                      1.98452877e+00,  2.08725823e+00,  2.19289168e+00,  2.30009394e+00,\n",
       "                      2.40749179e+00,  2.51370273e+00,  2.61736133e+00,  2.71715042e+00,\n",
       "                      2.81184204e+00,  2.90034849e+00,  2.98177788e+00,  3.05548444e+00,\n",
       "                      3.12110320e+00,  3.17856107e+00,  3.22806155e+00,  3.27004570e+00,\n",
       "                      3.30513578e+00,  3.33407073e+00,  3.35764246e+00,  3.37664041e+00,\n",
       "                      3.39180917e+00,  3.40382076e+00,  3.41326058e+00,  3.42062415e+00,\n",
       "                      3.42632147e+00,  3.43068573e+00,  3.43398418e+00,  3.43642926e+00,\n",
       "                      3.43818932e+00,  3.43939826e+00,  3.44016381e+00,  3.44057443e+00,\n",
       "                      3.44070481e+00,  3.44061983e+00,  3.44037723e+00,  3.44002903e+00,\n",
       "                      3.43962188e+00,  3.43919649e+00,  3.43878646e+00,  3.43841698e+00,\n",
       "                      3.43810371e+00,  5.69468194e-04,  6.05011116e-04,  6.02055389e-04,\n",
       "                      5.42331784e-04,  4.05588054e-04,  1.69632502e-04, -1.90116101e-04,\n",
       "                     -7.01473023e-04, -1.39658191e-03, -2.31313504e-03, -3.49563949e-03,\n",
       "                     -4.99669394e-03, -6.87827274e-03, -9.21303141e-03, -1.20856520e-02,\n",
       "                     -1.55942399e-02, -1.98517605e-02, -2.49874650e-02, -3.11481912e-02,\n",
       "                     -3.84993403e-02, -4.72252178e-02, -5.75283019e-02, -6.96268687e-02,\n",
       "                     -8.37502866e-02, -1.00131225e-01, -1.18994048e-01, -1.40538865e-01,\n",
       "                     -1.64921090e-01, -1.92227046e-01, -2.22447003e-01, -2.55448013e-01,\n",
       "                     -2.90949813e-01, -3.28507673e-01, -3.67506141e-01, -4.07167077e-01,\n",
       "                     -4.46574004e-01, -4.84712630e-01, -5.20524509e-01, -5.52967896e-01,\n",
       "                     -5.81077599e-01, -6.04015410e-01, -6.21104932e-01, -6.31849088e-01,\n",
       "                     -6.35933675e-01, -6.33223905e-01, -6.23761439e-01, -6.07766498e-01,\n",
       "                     -5.85644522e-01, -5.57991689e-01, -5.25590810e-01, -4.89389912e-01,\n",
       "                     -4.50460082e-01, -4.09935055e-01, -3.68940304e-01, -3.28522209e-01,\n",
       "                     -2.89587614e-01, -2.52861511e-01, -2.18866614e-01, -1.87924527e-01,\n",
       "                     -1.60174733e-01, -1.35605489e-01, -1.14090185e-01, -9.54235141e-02,\n",
       "                     -7.93535626e-02, -6.56077969e-02, -5.39125017e-02, -4.40062216e-02,\n",
       "                     -3.56482126e-02, -2.86229910e-02, -2.27419418e-02, -1.78427783e-02,\n",
       "                     -1.37874852e-02, -1.04592702e-02, -7.75896583e-03, -5.60126768e-03,\n",
       "                     -3.91114190e-03, -2.62069311e-03, -1.66675574e-03, -9.89449087e-04,\n",
       "                     -5.31888304e-04, -2.41095189e-04])),\n",
       "             ('y_hat_re',\n",
       "              array([1.16148308, 1.16130837, 1.16109253, 1.16083658, 1.16054442,\n",
       "                     1.16022243, 1.15987908, 1.1595248 , 1.15917209, 1.15883605,\n",
       "                     1.15853508, 1.15829196, 1.15813509, 1.15809991, 1.15823064,\n",
       "                     1.15858226, 1.15922281, 1.1602363 , 1.16172608, 1.16381908,\n",
       "                     1.16667088, 1.17047178, 1.17545374, 1.18189793, 1.19014251,\n",
       "                     1.20058962, 1.21371034, 1.23004601, 1.25020389, 1.27484517,\n",
       "                     1.30466381, 1.34035538, 1.38257642, 1.43189638, 1.48874614,\n",
       "                     1.55336816, 1.62577511, 1.70572315, 1.79270488, 1.88596399,\n",
       "                     1.98452877, 2.08725823, 2.19289168, 2.30009394, 2.40749179,\n",
       "                     2.51370273, 2.61736133, 2.71715042, 2.81184204, 2.90034849,\n",
       "                     2.98177788, 3.05548444, 3.1211032 , 3.17856107, 3.22806155,\n",
       "                     3.2700457 , 3.30513578, 3.33407073, 3.35764246, 3.37664041,\n",
       "                     3.39180917, 3.40382076, 3.41326058, 3.42062415, 3.42632147,\n",
       "                     3.43068573, 3.43398418, 3.43642926, 3.43818932, 3.43939826,\n",
       "                     3.44016381, 3.44057443, 3.44070481, 3.44061983, 3.44037723,\n",
       "                     3.44002903, 3.43962188, 3.43919649, 3.43878646, 3.43841698,\n",
       "                     3.43810371, 1.16148308, 1.16130837, 1.16109253, 1.16083658,\n",
       "                     1.16054442, 1.16022243, 1.15987908, 1.1595248 , 1.15917209,\n",
       "                     1.15883605, 1.15853508, 1.15829196, 1.15813509, 1.15809991,\n",
       "                     1.15823064, 1.15858226, 1.15922281, 1.1602363 , 1.16172608,\n",
       "                     1.16381908, 1.16667088, 1.17047178, 1.17545374, 1.18189793,\n",
       "                     1.19014251, 1.20058962, 1.21371034, 1.23004601, 1.25020389,\n",
       "                     1.27484517, 1.30466381, 1.34035538, 1.38257642, 1.43189638,\n",
       "                     1.48874614, 1.55336816, 1.62577511, 1.70572315, 1.79270488,\n",
       "                     1.88596399, 1.98452877, 2.08725823, 2.19289168, 2.30009394,\n",
       "                     2.40749179, 2.51370273, 2.61736133, 2.71715042, 2.81184204,\n",
       "                     2.90034849, 2.98177788, 3.05548444, 3.1211032 , 3.17856107,\n",
       "                     3.22806155, 3.2700457 , 3.30513578, 3.33407073, 3.35764246,\n",
       "                     3.37664041, 3.39180917, 3.40382076, 3.41326058, 3.42062415,\n",
       "                     3.42632147, 3.43068573, 3.43398418, 3.43642926, 3.43818932,\n",
       "                     3.43939826, 3.44016381, 3.44057443, 3.44070481, 3.44061983,\n",
       "                     3.44037723, 3.44002903, 3.43962188, 3.43919649, 3.43878646,\n",
       "                     3.43841698, 3.43810371])),\n",
       "             ('y_hat_im',\n",
       "              array([ 5.69468194e-04,  6.05011116e-04,  6.02055389e-04,  5.42331784e-04,\n",
       "                      4.05588054e-04,  1.69632502e-04, -1.90116101e-04, -7.01473023e-04,\n",
       "                     -1.39658191e-03, -2.31313504e-03, -3.49563949e-03, -4.99669394e-03,\n",
       "                     -6.87827274e-03, -9.21303141e-03, -1.20856520e-02, -1.55942399e-02,\n",
       "                     -1.98517605e-02, -2.49874650e-02, -3.11481912e-02, -3.84993403e-02,\n",
       "                     -4.72252178e-02, -5.75283019e-02, -6.96268687e-02, -8.37502866e-02,\n",
       "                     -1.00131225e-01, -1.18994048e-01, -1.40538865e-01, -1.64921090e-01,\n",
       "                     -1.92227046e-01, -2.22447003e-01, -2.55448013e-01, -2.90949813e-01,\n",
       "                     -3.28507673e-01, -3.67506141e-01, -4.07167077e-01, -4.46574004e-01,\n",
       "                     -4.84712630e-01, -5.20524509e-01, -5.52967896e-01, -5.81077599e-01,\n",
       "                     -6.04015410e-01, -6.21104932e-01, -6.31849088e-01, -6.35933675e-01,\n",
       "                     -6.33223905e-01, -6.23761439e-01, -6.07766498e-01, -5.85644522e-01,\n",
       "                     -5.57991689e-01, -5.25590810e-01, -4.89389912e-01, -4.50460082e-01,\n",
       "                     -4.09935055e-01, -3.68940304e-01, -3.28522209e-01, -2.89587614e-01,\n",
       "                     -2.52861511e-01, -2.18866614e-01, -1.87924527e-01, -1.60174733e-01,\n",
       "                     -1.35605489e-01, -1.14090185e-01, -9.54235141e-02, -7.93535626e-02,\n",
       "                     -6.56077969e-02, -5.39125017e-02, -4.40062216e-02, -3.56482126e-02,\n",
       "                     -2.86229910e-02, -2.27419418e-02, -1.78427783e-02, -1.37874852e-02,\n",
       "                     -1.04592702e-02, -7.75896583e-03, -5.60126768e-03, -3.91114190e-03,\n",
       "                     -2.62069311e-03, -1.66675574e-03, -9.89449087e-04, -5.31888304e-04,\n",
       "                     -2.41095189e-04,  5.69468194e-04,  6.05011116e-04,  6.02055389e-04,\n",
       "                      5.42331784e-04,  4.05588054e-04,  1.69632502e-04, -1.90116101e-04,\n",
       "                     -7.01473023e-04, -1.39658191e-03, -2.31313504e-03, -3.49563949e-03,\n",
       "                     -4.99669394e-03, -6.87827274e-03, -9.21303141e-03, -1.20856520e-02,\n",
       "                     -1.55942399e-02, -1.98517605e-02, -2.49874650e-02, -3.11481912e-02,\n",
       "                     -3.84993403e-02, -4.72252178e-02, -5.75283019e-02, -6.96268687e-02,\n",
       "                     -8.37502866e-02, -1.00131225e-01, -1.18994048e-01, -1.40538865e-01,\n",
       "                     -1.64921090e-01, -1.92227046e-01, -2.22447003e-01, -2.55448013e-01,\n",
       "                     -2.90949813e-01, -3.28507673e-01, -3.67506141e-01, -4.07167077e-01,\n",
       "                     -4.46574004e-01, -4.84712630e-01, -5.20524509e-01, -5.52967896e-01,\n",
       "                     -5.81077599e-01, -6.04015410e-01, -6.21104932e-01, -6.31849088e-01,\n",
       "                     -6.35933675e-01, -6.33223905e-01, -6.23761439e-01, -6.07766498e-01,\n",
       "                     -5.85644522e-01, -5.57991689e-01, -5.25590810e-01, -4.89389912e-01,\n",
       "                     -4.50460082e-01, -4.09935055e-01, -3.68940304e-01, -3.28522209e-01,\n",
       "                     -2.89587614e-01, -2.52861511e-01, -2.18866614e-01, -1.87924527e-01,\n",
       "                     -1.60174733e-01, -1.35605489e-01, -1.14090185e-01, -9.54235141e-02,\n",
       "                     -7.93535626e-02, -6.56077969e-02, -5.39125017e-02, -4.40062216e-02,\n",
       "                     -3.56482126e-02, -2.86229910e-02, -2.27419418e-02, -1.78427783e-02,\n",
       "                     -1.37874852e-02, -1.04592702e-02, -7.75896583e-03, -5.60126768e-03,\n",
       "                     -3.91114190e-03, -2.62069311e-03, -1.66675574e-03, -9.89449087e-04,\n",
       "                     -5.31888304e-04, -2.41095189e-04])),\n",
       "             ('sigma_tot',\n",
       "              array([0.05222485, 0.05222476, 0.05222464, 0.0522245 , 0.05222435,\n",
       "                     0.05222417, 0.05222399, 0.0522238 , 0.05222361, 0.05222343,\n",
       "                     0.05222327, 0.05222314, 0.05222305, 0.05222303, 0.0522231 ,\n",
       "                     0.05222329, 0.05222364, 0.05222418, 0.05222498, 0.05222611,\n",
       "                     0.05222765, 0.05222971, 0.05223242, 0.05223594, 0.05224048,\n",
       "                     0.05224626, 0.05225361, 0.05226285, 0.05227444, 0.05228885,\n",
       "                     0.05230665, 0.0523285 , 0.0523551 , 0.05238719, 0.05242555,\n",
       "                     0.05247094, 0.05252403, 0.05258539, 0.05265541, 0.05273424,\n",
       "                     0.05282176, 0.05291756, 0.05302091, 0.05313078, 0.05324588,\n",
       "                     0.0533646 , 0.05348514, 0.05360551, 0.05372363, 0.05383745,\n",
       "                     0.05394506, 0.05404484, 0.05413557, 0.05421646, 0.05428724,\n",
       "                     0.05434805, 0.05439943, 0.05444217, 0.05447723, 0.05450566,\n",
       "                     0.05452846, 0.05454658, 0.05456087, 0.05457203, 0.05458069,\n",
       "                     0.05458732, 0.05459235, 0.05459607, 0.05459875, 0.0546006 ,\n",
       "                     0.05460177, 0.05460239, 0.05460259, 0.05460246, 0.05460209,\n",
       "                     0.05460156, 0.05460094, 0.05460029, 0.05459967, 0.0545991 ,\n",
       "                     0.05459862, 0.05222485, 0.05222476, 0.05222464, 0.0522245 ,\n",
       "                     0.05222435, 0.05222417, 0.05222399, 0.0522238 , 0.05222361,\n",
       "                     0.05222343, 0.05222327, 0.05222314, 0.05222305, 0.05222303,\n",
       "                     0.0522231 , 0.05222329, 0.05222364, 0.05222418, 0.05222498,\n",
       "                     0.05222611, 0.05222765, 0.05222971, 0.05223242, 0.05223594,\n",
       "                     0.05224048, 0.05224626, 0.05225361, 0.05226285, 0.05227444,\n",
       "                     0.05228885, 0.05230665, 0.0523285 , 0.0523551 , 0.05238719,\n",
       "                     0.05242555, 0.05247094, 0.05252403, 0.05258539, 0.05265541,\n",
       "                     0.05273424, 0.05282176, 0.05291756, 0.05302091, 0.05313078,\n",
       "                     0.05324588, 0.0533646 , 0.05348514, 0.05360551, 0.05372363,\n",
       "                     0.05383745, 0.05394506, 0.05404484, 0.05413557, 0.05421646,\n",
       "                     0.05428724, 0.05434805, 0.05439943, 0.05444217, 0.05447723,\n",
       "                     0.05450566, 0.05452846, 0.05454658, 0.05456087, 0.05457203,\n",
       "                     0.05458069, 0.05458732, 0.05459235, 0.05459607, 0.05459875,\n",
       "                     0.0546006 , 0.05460177, 0.05460239, 0.05460259, 0.05460246,\n",
       "                     0.05460209, 0.05460156, 0.05460094, 0.05460029, 0.05459967,\n",
       "                     0.0545991 , 0.05459862])),\n",
       "             ('tau',\n",
       "              array([0.00729116, 0.00731786, 0.00736071, 0.00737264, 0.00732966,\n",
       "                     0.00729035, 0.00728397, 0.00730583, 0.00734462, 0.00736942,\n",
       "                     0.00735095, 0.00731498, 0.00729443, 0.00728885, 0.00729601,\n",
       "                     0.00731388, 0.00734604, 0.00738743, 0.00744866, 0.00754949,\n",
       "                     0.00771098, 0.00795395, 0.00833202, 0.00890921, 0.0097197 ,\n",
       "                     0.01083099, 0.01231604, 0.01423925, 0.01658654, 0.01938805,\n",
       "                     0.02260159, 0.026101  , 0.02991632, 0.03394595, 0.0384923 ,\n",
       "                     0.0426974 , 0.04723186, 0.05153873, 0.05534837, 0.05840977,\n",
       "                     0.06014457, 0.06150229, 0.06267929, 0.06210081, 0.06217192,\n",
       "                     0.06195987, 0.06109487, 0.05912646, 0.05726988, 0.05387391,\n",
       "                     0.04958954, 0.04466893, 0.04004114, 0.0354614 , 0.0314025 ,\n",
       "                     0.02716073, 0.0232603 , 0.01956741, 0.01633451, 0.01370529,\n",
       "                     0.01170348, 0.01024235, 0.0092219 , 0.0085284 , 0.00805833,\n",
       "                     0.00775134, 0.00756268, 0.00746054, 0.00743742, 0.00746606,\n",
       "                     0.00747431, 0.0074219 , 0.007361  , 0.00732878, 0.00732179,\n",
       "                     0.00732226, 0.00731788, 0.0073153 , 0.00731689, 0.00732185,\n",
       "                     0.00732535])),\n",
       "             ('dtau',\n",
       "              array([-5.51688906e-04,  1.04994677e-03,  1.86238652e-03, -1.25636868e-04,\n",
       "                     -1.12899161e-03, -9.69122578e-04, -5.79550091e-04,  4.76190030e-04,\n",
       "                      1.46798510e-03,  5.95120663e-04, -5.26975326e-04, -5.13136236e-04,\n",
       "                     -4.36743955e-04, -3.67134990e-04, -4.88320025e-04, -3.14244661e-04,\n",
       "                     -6.71503876e-04, -1.32914007e-03, -2.00852757e-03, -2.64188791e-03,\n",
       "                     -4.24599216e-03, -5.97484197e-03, -6.54654524e-03, -7.73673209e-03,\n",
       "                     -8.62724470e-03, -8.89397417e-03, -7.44567093e-03, -6.84622730e-03,\n",
       "                     -5.31300400e-03, -3.16197662e-03, -3.02581433e-03, -1.79097776e-03,\n",
       "                     -3.80541005e-03,  2.21630941e-03, -1.92845121e-03,  1.20464466e-03,\n",
       "                      2.41192897e-03,  3.37972917e-03,  5.67794558e-03,  1.56739449e-03,\n",
       "                      7.34599179e-04,  7.00184517e-03, -2.61507715e-03,  1.13863336e-03,\n",
       "                      2.63454423e-03,  4.51518500e-03, -4.72848110e-04,  6.71985564e-03,\n",
       "                      4.12262739e-03,  3.20751762e-03, -1.63882341e-03, -3.00030930e-04,\n",
       "                     -3.67183181e-03,  1.45578528e-03, -3.14174539e-03, -2.23074834e-03,\n",
       "                     -5.87690870e-03, -9.23930653e-03, -1.14448928e-02, -1.15493143e-02,\n",
       "                     -1.07563274e-02, -8.86347862e-03, -6.54945718e-03, -5.05943956e-03,\n",
       "                     -3.81666433e-03, -2.85982866e-03, -2.64819074e-03, -1.73952750e-03,\n",
       "                      6.82408488e-04,  2.02917240e-03,  2.85885281e-04, -9.73928753e-04,\n",
       "                     -8.60701534e-04, -2.54682621e-04,  1.65759626e-04, -6.18687978e-05,\n",
       "                     -1.42496498e-04, -1.14686011e-04,  4.95475489e-05])),\n",
       "             ('y_tilde',\n",
       "              array([ 1.16148308e+00,  1.16130837e+00,  1.16109253e+00,  1.16083658e+00,\n",
       "                      1.16054442e+00,  1.16022243e+00,  1.15987908e+00,  1.15952480e+00,\n",
       "                      1.15917209e+00,  1.15883605e+00,  1.15853508e+00,  1.15829196e+00,\n",
       "                      1.15813509e+00,  1.15809991e+00,  1.15823064e+00,  1.15858226e+00,\n",
       "                      1.15922281e+00,  1.16023630e+00,  1.16172608e+00,  1.16381908e+00,\n",
       "                      1.16667088e+00,  1.17047178e+00,  1.17545374e+00,  1.18189793e+00,\n",
       "                      1.19014251e+00,  1.20058962e+00,  1.21371034e+00,  1.23004601e+00,\n",
       "                      1.25020389e+00,  1.27484517e+00,  1.30466381e+00,  1.34035538e+00,\n",
       "                      1.38257642e+00,  1.43189638e+00,  1.48874614e+00,  1.55336816e+00,\n",
       "                      1.62577511e+00,  1.70572315e+00,  1.79270488e+00,  1.88596399e+00,\n",
       "                      1.98452877e+00,  2.08725823e+00,  2.19289168e+00,  2.30009394e+00,\n",
       "                      2.40749179e+00,  2.51370273e+00,  2.61736133e+00,  2.71715042e+00,\n",
       "                      2.81184204e+00,  2.90034849e+00,  2.98177788e+00,  3.05548444e+00,\n",
       "                      3.12110320e+00,  3.17856107e+00,  3.22806155e+00,  3.27004570e+00,\n",
       "                      3.30513578e+00,  3.33407073e+00,  3.35764246e+00,  3.37664041e+00,\n",
       "                      3.39180917e+00,  3.40382076e+00,  3.41326058e+00,  3.42062415e+00,\n",
       "                      3.42632147e+00,  3.43068573e+00,  3.43398418e+00,  3.43642926e+00,\n",
       "                      3.43818932e+00,  3.43939826e+00,  3.44016381e+00,  3.44057443e+00,\n",
       "                      3.44070481e+00,  3.44061983e+00,  3.44037723e+00,  3.44002903e+00,\n",
       "                      3.43962188e+00,  3.43919649e+00,  3.43878646e+00,  3.43841698e+00,\n",
       "                      3.43810371e+00,  5.69468194e-04,  6.05011116e-04,  6.02055389e-04,\n",
       "                      5.42331784e-04,  4.05588054e-04,  1.69632502e-04, -1.90116101e-04,\n",
       "                     -7.01473023e-04, -1.39658191e-03, -2.31313504e-03, -3.49563949e-03,\n",
       "                     -4.99669394e-03, -6.87827274e-03, -9.21303141e-03, -1.20856520e-02,\n",
       "                     -1.55942399e-02, -1.98517605e-02, -2.49874650e-02, -3.11481912e-02,\n",
       "                     -3.84993403e-02, -4.72252178e-02, -5.75283019e-02, -6.96268687e-02,\n",
       "                     -8.37502866e-02, -1.00131225e-01, -1.18994048e-01, -1.40538865e-01,\n",
       "                     -1.64921090e-01, -1.92227046e-01, -2.22447003e-01, -2.55448013e-01,\n",
       "                     -2.90949813e-01, -3.28507673e-01, -3.67506141e-01, -4.07167077e-01,\n",
       "                     -4.46574004e-01, -4.84712630e-01, -5.20524509e-01, -5.52967896e-01,\n",
       "                     -5.81077599e-01, -6.04015410e-01, -6.21104932e-01, -6.31849088e-01,\n",
       "                     -6.35933675e-01, -6.33223905e-01, -6.23761439e-01, -6.07766498e-01,\n",
       "                     -5.85644522e-01, -5.57991689e-01, -5.25590810e-01, -4.89389912e-01,\n",
       "                     -4.50460082e-01, -4.09935055e-01, -3.68940304e-01, -3.28522209e-01,\n",
       "                     -2.89587614e-01, -2.52861511e-01, -2.18866614e-01, -1.87924527e-01,\n",
       "                     -1.60174733e-01, -1.35605489e-01, -1.14090185e-01, -9.54235141e-02,\n",
       "                     -7.93535626e-02, -6.56077969e-02, -5.39125017e-02, -4.40062216e-02,\n",
       "                     -3.56482126e-02, -2.86229910e-02, -2.27419418e-02, -1.78427783e-02,\n",
       "                     -1.37874852e-02, -1.04592702e-02, -7.75896583e-03, -5.60126768e-03,\n",
       "                     -3.91114190e-03, -2.62069311e-03, -1.66675574e-03, -9.89449087e-04,\n",
       "                     -5.31888304e-04, -2.41095189e-04]))])"
      ]
     },
     "execution_count": 473,
     "metadata": {},
     "output_type": "execute_result"
    }
   ],
   "source": [
    "dr._opt_result"
   ]
  },
  {
   "cell_type": "code",
   "execution_count": 48,
   "metadata": {},
   "outputs": [
    {
     "name": "stdout",
     "output_type": "stream",
     "text": [
      "calculating A\n"
     ]
    },
    {
     "name": "stderr",
     "output_type": "stream",
     "text": [
      "../bayes-drt\\drt.py:913: RuntimeWarning: overflow encountered in exp\n",
      "  return func\n"
     ]
    },
    {
     "data": {
      "text/plain": [
       "[<matplotlib.lines.Line2D at 0x2144a6703c8>]"
      ]
     },
     "execution_count": 48,
     "metadata": {},
     "output_type": "execute_result"
    },
    {
     "data": {
      "image/png": "[encoded data removed]",
      "text/plain": [
       "<Figure size 432x288 with 1 Axes>"
      ]
     },
     "metadata": {
      "needs_background": "light"
     },
     "output_type": "display_data"
    }
   ],
   "source": [
    "plt.plot(dr.predict(df['Freq'].values).imag)\n",
    "plt.plot(df['Zimag'])"
   ]
  },
  {
   "cell_type": "code",
   "execution_count": 878,
   "metadata": {},
   "outputs": [
    {
     "name": "stdout",
     "output_type": "stream",
     "text": [
      "-------------------------------\n",
      "../data/simulated\\Z_2RC_Macdonald_0.25.csv\n",
      "-------------------------------\n"
     ]
    },
    {
     "name": "stderr",
     "output_type": "stream",
     "text": [
      "../bayes-drt\\drt.py:311: UserWarning: Hyperparametric solution did not converge within 20 iterations\n",
      "  warnings.warn(f'Hyperparametric solution did not converge within {max_iter} iterations')\n",
      "WARNING:pystan:Maximum (flat) parameter count (1000) exceeded: skipping diagnostic tests for n_eff and Rhat.\n",
      "To run all diagnostics call pystan.check_hmc_diagnostics(fit)\n",
      "WARNING:pystan:400 of 400 iterations saturated the maximum tree depth of 10 (100 %)\n",
      "WARNING:pystan:Run again with max_treedepth larger than 10 to avoid saturation\n"
     ]
    },
    {
     "name": "stdout",
     "output_type": "stream",
     "text": [
      "File fit time: 129.66 seconds\n"
     ]
    },
    {
     "name": "stderr",
     "output_type": "stream",
     "text": [
      "../bayes-drt\\stan_models.py:7: UserWarning: Pickling fit objects is an experimental feature!\n",
      "The relevant StanModel instance must be pickled along with this fit object.\n",
      "When unpickling the StanModel must be unpickled first.\n",
      "  pickle.dump(obj, f, pickle.HIGHEST_PROTOCOL)\n"
     ]
    },
    {
     "name": "stdout",
     "output_type": "stream",
     "text": [
      "Dumped pickle to bayes_results\\obj_2RC_Macdonald_0.25.pkl\n",
      "-------------------------------\n",
      "../data/simulated\\Z_2RC_Macdonald_1.0.csv\n",
      "-------------------------------\n"
     ]
    },
    {
     "name": "stderr",
     "output_type": "stream",
     "text": [
      "WARNING:pystan:Maximum (flat) parameter count (1000) exceeded: skipping diagnostic tests for n_eff and Rhat.\n",
      "To run all diagnostics call pystan.check_hmc_diagnostics(fit)\n"
     ]
    },
    {
     "name": "stdout",
     "output_type": "stream",
     "text": [
      "File fit time: 71.71 seconds\n",
      "Dumped pickle to bayes_results\\obj_2RC_Macdonald_1.0.pkl\n",
      "-------------------------------\n",
      "../data/simulated\\Z_2RC_Macdonald_2.5.csv\n",
      "-------------------------------\n"
     ]
    },
    {
     "name": "stderr",
     "output_type": "stream",
     "text": [
      "WARNING:pystan:Maximum (flat) parameter count (1000) exceeded: skipping diagnostic tests for n_eff and Rhat.\n",
      "To run all diagnostics call pystan.check_hmc_diagnostics(fit)\n"
     ]
    },
    {
     "name": "stdout",
     "output_type": "stream",
     "text": [
      "File fit time: 72.95 seconds\n",
      "Dumped pickle to bayes_results\\obj_2RC_Macdonald_2.5.pkl\n",
      "-------------------------------\n",
      "../data/simulated\\Z_2RC_noiseless.csv\n",
      "-------------------------------\n"
     ]
    },
    {
     "name": "stderr",
     "output_type": "stream",
     "text": [
      "WARNING:pystan:Maximum (flat) parameter count (1000) exceeded: skipping diagnostic tests for n_eff and Rhat.\n",
      "To run all diagnostics call pystan.check_hmc_diagnostics(fit)\n",
      "WARNING:pystan:400 of 400 iterations saturated the maximum tree depth of 10 (100 %)\n",
      "WARNING:pystan:Run again with max_treedepth larger than 10 to avoid saturation\n"
     ]
    },
    {
     "name": "stdout",
     "output_type": "stream",
     "text": [
      "File fit time: 129.19 seconds\n",
      "Dumped pickle to bayes_results\\obj_2RC_noiseless.pkl\n",
      "-------------------------------\n",
      "../data/simulated\\Z_2RC_Orazem_0.25.csv\n",
      "-------------------------------\n"
     ]
    },
    {
     "name": "stderr",
     "output_type": "stream",
     "text": [
      "WARNING:pystan:Maximum (flat) parameter count (1000) exceeded: skipping diagnostic tests for n_eff and Rhat.\n",
      "To run all diagnostics call pystan.check_hmc_diagnostics(fit)\n",
      "WARNING:pystan:399 of 400 iterations saturated the maximum tree depth of 10 (99.8 %)\n",
      "WARNING:pystan:Run again with max_treedepth larger than 10 to avoid saturation\n"
     ]
    },
    {
     "name": "stdout",
     "output_type": "stream",
     "text": [
      "File fit time: 128.51 seconds\n",
      "Dumped pickle to bayes_results\\obj_2RC_Orazem_0.25.pkl\n",
      "-------------------------------\n",
      "../data/simulated\\Z_2RC_Orazem_1.0.csv\n",
      "-------------------------------\n"
     ]
    },
    {
     "name": "stderr",
     "output_type": "stream",
     "text": [
      "WARNING:pystan:Maximum (flat) parameter count (1000) exceeded: skipping diagnostic tests for n_eff and Rhat.\n",
      "To run all diagnostics call pystan.check_hmc_diagnostics(fit)\n"
     ]
    },
    {
     "name": "stdout",
     "output_type": "stream",
     "text": [
      "File fit time: 69.31 seconds\n",
      "Dumped pickle to bayes_results\\obj_2RC_Orazem_1.0.pkl\n",
      "-------------------------------\n",
      "../data/simulated\\Z_2RC_Orazem_2.5.csv\n",
      "-------------------------------\n"
     ]
    },
    {
     "name": "stderr",
     "output_type": "stream",
     "text": [
      "WARNING:pystan:Maximum (flat) parameter count (1000) exceeded: skipping diagnostic tests for n_eff and Rhat.\n",
      "To run all diagnostics call pystan.check_hmc_diagnostics(fit)\n"
     ]
    },
    {
     "name": "stdout",
     "output_type": "stream",
     "text": [
      "File fit time: 68.82 seconds\n",
      "Dumped pickle to bayes_results\\obj_2RC_Orazem_2.5.pkl\n",
      "-------------------------------\n",
      "../data/simulated\\Z_2RC_uniform_0.25.csv\n",
      "-------------------------------\n"
     ]
    },
    {
     "name": "stderr",
     "output_type": "stream",
     "text": [
      "WARNING:pystan:Maximum (flat) parameter count (1000) exceeded: skipping diagnostic tests for n_eff and Rhat.\n",
      "To run all diagnostics call pystan.check_hmc_diagnostics(fit)\n",
      "WARNING:pystan:400 of 400 iterations saturated the maximum tree depth of 10 (100 %)\n",
      "WARNING:pystan:Run again with max_treedepth larger than 10 to avoid saturation\n"
     ]
    },
    {
     "name": "stdout",
     "output_type": "stream",
     "text": [
      "File fit time: 129.56 seconds\n",
      "Dumped pickle to bayes_results\\obj_2RC_uniform_0.25.pkl\n",
      "-------------------------------\n",
      "../data/simulated\\Z_2RC_uniform_1.0.csv\n",
      "-------------------------------\n"
     ]
    },
    {
     "name": "stderr",
     "output_type": "stream",
     "text": [
      "WARNING:pystan:Maximum (flat) parameter count (1000) exceeded: skipping diagnostic tests for n_eff and Rhat.\n",
      "To run all diagnostics call pystan.check_hmc_diagnostics(fit)\n"
     ]
    },
    {
     "name": "stdout",
     "output_type": "stream",
     "text": [
      "File fit time: 94.12 seconds\n",
      "Dumped pickle to bayes_results\\obj_2RC_uniform_1.0.pkl\n",
      "-------------------------------\n",
      "../data/simulated\\Z_2RC_uniform_2.5.csv\n",
      "-------------------------------\n"
     ]
    },
    {
     "name": "stderr",
     "output_type": "stream",
     "text": [
      "WARNING:pystan:Maximum (flat) parameter count (1000) exceeded: skipping diagnostic tests for n_eff and Rhat.\n",
      "To run all diagnostics call pystan.check_hmc_diagnostics(fit)\n"
     ]
    },
    {
     "name": "stdout",
     "output_type": "stream",
     "text": [
      "File fit time: 64.35 seconds\n",
      "Dumped pickle to bayes_results\\obj_2RC_uniform_2.5.pkl\n",
      "-------------------------------\n",
      "../data/simulated\\Z_2ZARC_Macdonald_0.25.csv\n",
      "-------------------------------\n"
     ]
    },
    {
     "name": "stderr",
     "output_type": "stream",
     "text": [
      "WARNING:pystan:Maximum (flat) parameter count (1000) exceeded: skipping diagnostic tests for n_eff and Rhat.\n",
      "To run all diagnostics call pystan.check_hmc_diagnostics(fit)\n"
     ]
    },
    {
     "name": "stdout",
     "output_type": "stream",
     "text": [
      "File fit time: 67.48 seconds\n",
      "Dumped pickle to bayes_results\\obj_2ZARC_Macdonald_0.25.pkl\n",
      "-------------------------------\n",
      "../data/simulated\\Z_2ZARC_Macdonald_1.0.csv\n",
      "-------------------------------\n"
     ]
    },
    {
     "name": "stderr",
     "output_type": "stream",
     "text": [
      "WARNING:pystan:Maximum (flat) parameter count (1000) exceeded: skipping diagnostic tests for n_eff and Rhat.\n",
      "To run all diagnostics call pystan.check_hmc_diagnostics(fit)\n",
      "WARNING:pystan:1 of 400 iterations ended with a divergence (0.25 %).\n",
      "WARNING:pystan:Try running with adapt_delta larger than 0.9 to remove the divergences.\n"
     ]
    },
    {
     "name": "stdout",
     "output_type": "stream",
     "text": [
      "File fit time: 65.59 seconds\n",
      "Dumped pickle to bayes_results\\obj_2ZARC_Macdonald_1.0.pkl\n",
      "-------------------------------\n",
      "../data/simulated\\Z_2ZARC_Macdonald_2.5.csv\n",
      "-------------------------------\n"
     ]
    },
    {
     "name": "stderr",
     "output_type": "stream",
     "text": [
      "WARNING:pystan:Maximum (flat) parameter count (1000) exceeded: skipping diagnostic tests for n_eff and Rhat.\n",
      "To run all diagnostics call pystan.check_hmc_diagnostics(fit)\n"
     ]
    },
    {
     "name": "stdout",
     "output_type": "stream",
     "text": [
      "File fit time: 68.51 seconds\n",
      "Dumped pickle to bayes_results\\obj_2ZARC_Macdonald_2.5.pkl\n",
      "-------------------------------\n",
      "../data/simulated\\Z_2ZARC_noiseless.csv\n",
      "-------------------------------\n"
     ]
    },
    {
     "name": "stderr",
     "output_type": "stream",
     "text": [
      "WARNING:pystan:Maximum (flat) parameter count (1000) exceeded: skipping diagnostic tests for n_eff and Rhat.\n",
      "To run all diagnostics call pystan.check_hmc_diagnostics(fit)\n"
     ]
    },
    {
     "name": "stdout",
     "output_type": "stream",
     "text": [
      "File fit time: 81.96 seconds\n",
      "Dumped pickle to bayes_results\\obj_2ZARC_noiseless.pkl\n",
      "-------------------------------\n",
      "../data/simulated\\Z_2ZARC_Orazem_0.25.csv\n",
      "-------------------------------\n"
     ]
    },
    {
     "name": "stderr",
     "output_type": "stream",
     "text": [
      "WARNING:pystan:Maximum (flat) parameter count (1000) exceeded: skipping diagnostic tests for n_eff and Rhat.\n",
      "To run all diagnostics call pystan.check_hmc_diagnostics(fit)\n"
     ]
    },
    {
     "name": "stdout",
     "output_type": "stream",
     "text": [
      "File fit time: 66.42 seconds\n",
      "Dumped pickle to bayes_results\\obj_2ZARC_Orazem_0.25.pkl\n",
      "-------------------------------\n",
      "../data/simulated\\Z_2ZARC_Orazem_1.0.csv\n",
      "-------------------------------\n"
     ]
    },
    {
     "name": "stderr",
     "output_type": "stream",
     "text": [
      "WARNING:pystan:Maximum (flat) parameter count (1000) exceeded: skipping diagnostic tests for n_eff and Rhat.\n",
      "To run all diagnostics call pystan.check_hmc_diagnostics(fit)\n"
     ]
    },
    {
     "name": "stdout",
     "output_type": "stream",
     "text": [
      "File fit time: 68.83 seconds\n",
      "Dumped pickle to bayes_results\\obj_2ZARC_Orazem_1.0.pkl\n",
      "-------------------------------\n",
      "../data/simulated\\Z_2ZARC_Orazem_2.5.csv\n",
      "-------------------------------\n"
     ]
    },
    {
     "name": "stderr",
     "output_type": "stream",
     "text": [
      "WARNING:pystan:Maximum (flat) parameter count (1000) exceeded: skipping diagnostic tests for n_eff and Rhat.\n",
      "To run all diagnostics call pystan.check_hmc_diagnostics(fit)\n"
     ]
    },
    {
     "name": "stdout",
     "output_type": "stream",
     "text": [
      "File fit time: 65.04 seconds\n",
      "Dumped pickle to bayes_results\\obj_2ZARC_Orazem_2.5.pkl\n",
      "-------------------------------\n",
      "../data/simulated\\Z_2ZARC_uniform_0.25.csv\n",
      "-------------------------------\n"
     ]
    },
    {
     "name": "stderr",
     "output_type": "stream",
     "text": [
      "WARNING:pystan:Maximum (flat) parameter count (1000) exceeded: skipping diagnostic tests for n_eff and Rhat.\n",
      "To run all diagnostics call pystan.check_hmc_diagnostics(fit)\n"
     ]
    },
    {
     "name": "stdout",
     "output_type": "stream",
     "text": [
      "File fit time: 71.09 seconds\n",
      "Dumped pickle to bayes_results\\obj_2ZARC_uniform_0.25.pkl\n",
      "-------------------------------\n",
      "../data/simulated\\Z_2ZARC_uniform_1.0.csv\n",
      "-------------------------------\n"
     ]
    },
    {
     "name": "stderr",
     "output_type": "stream",
     "text": [
      "WARNING:pystan:Maximum (flat) parameter count (1000) exceeded: skipping diagnostic tests for n_eff and Rhat.\n",
      "To run all diagnostics call pystan.check_hmc_diagnostics(fit)\n"
     ]
    },
    {
     "name": "stdout",
     "output_type": "stream",
     "text": [
      "File fit time: 68.85 seconds\n",
      "Dumped pickle to bayes_results\\obj_2ZARC_uniform_1.0.pkl\n",
      "-------------------------------\n",
      "../data/simulated\\Z_2ZARC_uniform_2.5.csv\n",
      "-------------------------------\n"
     ]
    },
    {
     "name": "stderr",
     "output_type": "stream",
     "text": [
      "WARNING:pystan:Maximum (flat) parameter count (1000) exceeded: skipping diagnostic tests for n_eff and Rhat.\n",
      "To run all diagnostics call pystan.check_hmc_diagnostics(fit)\n"
     ]
    },
    {
     "name": "stdout",
     "output_type": "stream",
     "text": [
      "File fit time: 64.74 seconds\n",
      "Dumped pickle to bayes_results\\obj_2ZARC_uniform_2.5.pkl\n",
      "-------------------------------\n",
      "../data/simulated\\Z_Gerischer_Macdonald_0.25.csv\n",
      "-------------------------------\n"
     ]
    },
    {
     "name": "stderr",
     "output_type": "stream",
     "text": [
      "WARNING:pystan:Maximum (flat) parameter count (1000) exceeded: skipping diagnostic tests for n_eff and Rhat.\n",
      "To run all diagnostics call pystan.check_hmc_diagnostics(fit)\n"
     ]
    },
    {
     "name": "stdout",
     "output_type": "stream",
     "text": [
      "File fit time: 86.78 seconds\n",
      "Dumped pickle to bayes_results\\obj_Gerischer_Macdonald_0.25.pkl\n",
      "-------------------------------\n",
      "../data/simulated\\Z_Gerischer_Macdonald_1.0.csv\n",
      "-------------------------------\n"
     ]
    },
    {
     "name": "stderr",
     "output_type": "stream",
     "text": [
      "WARNING:pystan:Maximum (flat) parameter count (1000) exceeded: skipping diagnostic tests for n_eff and Rhat.\n",
      "To run all diagnostics call pystan.check_hmc_diagnostics(fit)\n"
     ]
    },
    {
     "name": "stdout",
     "output_type": "stream",
     "text": [
      "File fit time: 62.65 seconds\n",
      "Dumped pickle to bayes_results\\obj_Gerischer_Macdonald_1.0.pkl\n",
      "-------------------------------\n",
      "../data/simulated\\Z_Gerischer_Macdonald_2.5.csv\n",
      "-------------------------------\n"
     ]
    },
    {
     "name": "stderr",
     "output_type": "stream",
     "text": [
      "WARNING:pystan:Maximum (flat) parameter count (1000) exceeded: skipping diagnostic tests for n_eff and Rhat.\n",
      "To run all diagnostics call pystan.check_hmc_diagnostics(fit)\n"
     ]
    },
    {
     "name": "stdout",
     "output_type": "stream",
     "text": [
      "File fit time: 66.83 seconds\n",
      "Dumped pickle to bayes_results\\obj_Gerischer_Macdonald_2.5.pkl\n",
      "-------------------------------\n",
      "../data/simulated\\Z_Gerischer_noiseless.csv\n",
      "-------------------------------\n"
     ]
    },
    {
     "name": "stderr",
     "output_type": "stream",
     "text": [
      "WARNING:pystan:Maximum (flat) parameter count (1000) exceeded: skipping diagnostic tests for n_eff and Rhat.\n",
      "To run all diagnostics call pystan.check_hmc_diagnostics(fit)\n",
      "WARNING:pystan:99 of 400 iterations saturated the maximum tree depth of 10 (24.8 %)\n",
      "WARNING:pystan:Run again with max_treedepth larger than 10 to avoid saturation\n"
     ]
    },
    {
     "name": "stdout",
     "output_type": "stream",
     "text": [
      "File fit time: 108.52 seconds\n",
      "Dumped pickle to bayes_results\\obj_Gerischer_noiseless.pkl\n",
      "-------------------------------\n",
      "../data/simulated\\Z_Gerischer_Orazem_0.25.csv\n",
      "-------------------------------\n"
     ]
    },
    {
     "name": "stderr",
     "output_type": "stream",
     "text": [
      "WARNING:pystan:Maximum (flat) parameter count (1000) exceeded: skipping diagnostic tests for n_eff and Rhat.\n",
      "To run all diagnostics call pystan.check_hmc_diagnostics(fit)\n"
     ]
    },
    {
     "name": "stdout",
     "output_type": "stream",
     "text": [
      "File fit time: 88.28 seconds\n",
      "Dumped pickle to bayes_results\\obj_Gerischer_Orazem_0.25.pkl\n",
      "-------------------------------\n",
      "../data/simulated\\Z_Gerischer_Orazem_1.0.csv\n",
      "-------------------------------\n"
     ]
    },
    {
     "name": "stderr",
     "output_type": "stream",
     "text": [
      "WARNING:pystan:Maximum (flat) parameter count (1000) exceeded: skipping diagnostic tests for n_eff and Rhat.\n",
      "To run all diagnostics call pystan.check_hmc_diagnostics(fit)\n"
     ]
    },
    {
     "name": "stdout",
     "output_type": "stream",
     "text": [
      "File fit time: 60.61 seconds\n",
      "Dumped pickle to bayes_results\\obj_Gerischer_Orazem_1.0.pkl\n",
      "-------------------------------\n",
      "../data/simulated\\Z_Gerischer_Orazem_2.5.csv\n",
      "-------------------------------\n"
     ]
    },
    {
     "name": "stderr",
     "output_type": "stream",
     "text": [
      "WARNING:pystan:Maximum (flat) parameter count (1000) exceeded: skipping diagnostic tests for n_eff and Rhat.\n",
      "To run all diagnostics call pystan.check_hmc_diagnostics(fit)\n"
     ]
    },
    {
     "name": "stdout",
     "output_type": "stream",
     "text": [
      "File fit time: 69.56 seconds\n",
      "Dumped pickle to bayes_results\\obj_Gerischer_Orazem_2.5.pkl\n",
      "-------------------------------\n",
      "../data/simulated\\Z_Gerischer_uniform_0.25.csv\n",
      "-------------------------------\n"
     ]
    },
    {
     "name": "stderr",
     "output_type": "stream",
     "text": [
      "WARNING:pystan:Maximum (flat) parameter count (1000) exceeded: skipping diagnostic tests for n_eff and Rhat.\n",
      "To run all diagnostics call pystan.check_hmc_diagnostics(fit)\n",
      "WARNING:pystan:3 of 400 iterations saturated the maximum tree depth of 10 (0.75 %)\n",
      "WARNING:pystan:Run again with max_treedepth larger than 10 to avoid saturation\n"
     ]
    },
    {
     "name": "stdout",
     "output_type": "stream",
     "text": [
      "File fit time: 88.00 seconds\n",
      "Dumped pickle to bayes_results\\obj_Gerischer_uniform_0.25.pkl\n",
      "-------------------------------\n",
      "../data/simulated\\Z_Gerischer_uniform_1.0.csv\n",
      "-------------------------------\n"
     ]
    },
    {
     "name": "stderr",
     "output_type": "stream",
     "text": [
      "WARNING:pystan:Maximum (flat) parameter count (1000) exceeded: skipping diagnostic tests for n_eff and Rhat.\n",
      "To run all diagnostics call pystan.check_hmc_diagnostics(fit)\n"
     ]
    },
    {
     "name": "stdout",
     "output_type": "stream",
     "text": [
      "File fit time: 65.77 seconds\n",
      "Dumped pickle to bayes_results\\obj_Gerischer_uniform_1.0.pkl\n",
      "-------------------------------\n",
      "../data/simulated\\Z_Gerischer_uniform_2.5.csv\n",
      "-------------------------------\n"
     ]
    },
    {
     "name": "stderr",
     "output_type": "stream",
     "text": [
      "WARNING:pystan:Maximum (flat) parameter count (1000) exceeded: skipping diagnostic tests for n_eff and Rhat.\n",
      "To run all diagnostics call pystan.check_hmc_diagnostics(fit)\n",
      "WARNING:pystan:1 of 400 iterations ended with a divergence (0.25 %).\n",
      "WARNING:pystan:Try running with adapt_delta larger than 0.9 to remove the divergences.\n"
     ]
    },
    {
     "name": "stdout",
     "output_type": "stream",
     "text": [
      "File fit time: 66.98 seconds\n",
      "Dumped pickle to bayes_results\\obj_Gerischer_uniform_2.5.pkl\n",
      "-------------------------------\n",
      "../data/simulated\\Z_RC_Macdonald_0.25.csv\n",
      "-------------------------------\n"
     ]
    },
    {
     "name": "stderr",
     "output_type": "stream",
     "text": [
      "WARNING:pystan:Maximum (flat) parameter count (1000) exceeded: skipping diagnostic tests for n_eff and Rhat.\n",
      "To run all diagnostics call pystan.check_hmc_diagnostics(fit)\n",
      "WARNING:pystan:400 of 400 iterations saturated the maximum tree depth of 10 (100 %)\n",
      "WARNING:pystan:Run again with max_treedepth larger than 10 to avoid saturation\n"
     ]
    },
    {
     "name": "stdout",
     "output_type": "stream",
     "text": [
      "File fit time: 125.42 seconds\n",
      "Dumped pickle to bayes_results\\obj_RC_Macdonald_0.25.pkl\n",
      "-------------------------------\n",
      "../data/simulated\\Z_RC_Macdonald_1.0.csv\n",
      "-------------------------------\n"
     ]
    },
    {
     "name": "stderr",
     "output_type": "stream",
     "text": [
      "WARNING:pystan:Maximum (flat) parameter count (1000) exceeded: skipping diagnostic tests for n_eff and Rhat.\n",
      "To run all diagnostics call pystan.check_hmc_diagnostics(fit)\n",
      "WARNING:pystan:1 of 400 iterations saturated the maximum tree depth of 10 (0.25 %)\n",
      "WARNING:pystan:Run again with max_treedepth larger than 10 to avoid saturation\n"
     ]
    },
    {
     "name": "stdout",
     "output_type": "stream",
     "text": [
      "File fit time: 85.57 seconds\n",
      "Dumped pickle to bayes_results\\obj_RC_Macdonald_1.0.pkl\n",
      "-------------------------------\n",
      "../data/simulated\\Z_RC_Macdonald_2.5.csv\n",
      "-------------------------------\n"
     ]
    },
    {
     "name": "stderr",
     "output_type": "stream",
     "text": [
      "WARNING:pystan:Maximum (flat) parameter count (1000) exceeded: skipping diagnostic tests for n_eff and Rhat.\n",
      "To run all diagnostics call pystan.check_hmc_diagnostics(fit)\n"
     ]
    },
    {
     "name": "stdout",
     "output_type": "stream",
     "text": [
      "File fit time: 69.17 seconds\n",
      "Dumped pickle to bayes_results\\obj_RC_Macdonald_2.5.pkl\n",
      "-------------------------------\n",
      "../data/simulated\\Z_RC_noiseless.csv\n",
      "-------------------------------\n"
     ]
    },
    {
     "name": "stderr",
     "output_type": "stream",
     "text": [
      "WARNING:pystan:Maximum (flat) parameter count (1000) exceeded: skipping diagnostic tests for n_eff and Rhat.\n",
      "To run all diagnostics call pystan.check_hmc_diagnostics(fit)\n",
      "WARNING:pystan:400 of 400 iterations saturated the maximum tree depth of 10 (100 %)\n",
      "WARNING:pystan:Run again with max_treedepth larger than 10 to avoid saturation\n"
     ]
    },
    {
     "name": "stdout",
     "output_type": "stream",
     "text": [
      "File fit time: 125.47 seconds\n",
      "Dumped pickle to bayes_results\\obj_RC_noiseless.pkl\n",
      "-------------------------------\n",
      "../data/simulated\\Z_RC_Orazem_0.25.csv\n",
      "-------------------------------\n"
     ]
    },
    {
     "name": "stderr",
     "output_type": "stream",
     "text": [
      "WARNING:pystan:Maximum (flat) parameter count (1000) exceeded: skipping diagnostic tests for n_eff and Rhat.\n",
      "To run all diagnostics call pystan.check_hmc_diagnostics(fit)\n",
      "WARNING:pystan:400 of 400 iterations saturated the maximum tree depth of 10 (100 %)\n",
      "WARNING:pystan:Run again with max_treedepth larger than 10 to avoid saturation\n"
     ]
    },
    {
     "name": "stdout",
     "output_type": "stream",
     "text": [
      "File fit time: 130.76 seconds\n",
      "Dumped pickle to bayes_results\\obj_RC_Orazem_0.25.pkl\n",
      "-------------------------------\n",
      "../data/simulated\\Z_RC_Orazem_1.0.csv\n",
      "-------------------------------\n"
     ]
    },
    {
     "name": "stderr",
     "output_type": "stream",
     "text": [
      "WARNING:pystan:Maximum (flat) parameter count (1000) exceeded: skipping diagnostic tests for n_eff and Rhat.\n",
      "To run all diagnostics call pystan.check_hmc_diagnostics(fit)\n",
      "WARNING:pystan:123 of 400 iterations saturated the maximum tree depth of 10 (30.8 %)\n",
      "WARNING:pystan:Run again with max_treedepth larger than 10 to avoid saturation\n"
     ]
    },
    {
     "name": "stdout",
     "output_type": "stream",
     "text": [
      "File fit time: 110.41 seconds\n",
      "Dumped pickle to bayes_results\\obj_RC_Orazem_1.0.pkl\n",
      "-------------------------------\n",
      "../data/simulated\\Z_RC_Orazem_2.5.csv\n",
      "-------------------------------\n"
     ]
    },
    {
     "name": "stderr",
     "output_type": "stream",
     "text": [
      "WARNING:pystan:Maximum (flat) parameter count (1000) exceeded: skipping diagnostic tests for n_eff and Rhat.\n",
      "To run all diagnostics call pystan.check_hmc_diagnostics(fit)\n",
      "WARNING:pystan:1 of 400 iterations ended with a divergence (0.25 %).\n",
      "WARNING:pystan:Try running with adapt_delta larger than 0.9 to remove the divergences.\n"
     ]
    },
    {
     "name": "stdout",
     "output_type": "stream",
     "text": [
      "File fit time: 77.72 seconds\n",
      "Dumped pickle to bayes_results\\obj_RC_Orazem_2.5.pkl\n",
      "-------------------------------\n",
      "../data/simulated\\Z_RC_uniform_0.25.csv\n",
      "-------------------------------\n"
     ]
    },
    {
     "name": "stderr",
     "output_type": "stream",
     "text": [
      "WARNING:pystan:Maximum (flat) parameter count (1000) exceeded: skipping diagnostic tests for n_eff and Rhat.\n",
      "To run all diagnostics call pystan.check_hmc_diagnostics(fit)\n",
      "WARNING:pystan:400 of 400 iterations saturated the maximum tree depth of 10 (100 %)\n",
      "WARNING:pystan:Run again with max_treedepth larger than 10 to avoid saturation\n"
     ]
    },
    {
     "name": "stdout",
     "output_type": "stream",
     "text": [
      "File fit time: 133.29 seconds\n",
      "Dumped pickle to bayes_results\\obj_RC_uniform_0.25.pkl\n",
      "-------------------------------\n",
      "../data/simulated\\Z_RC_uniform_1.0.csv\n",
      "-------------------------------\n"
     ]
    },
    {
     "name": "stderr",
     "output_type": "stream",
     "text": [
      "WARNING:pystan:Maximum (flat) parameter count (1000) exceeded: skipping diagnostic tests for n_eff and Rhat.\n",
      "To run all diagnostics call pystan.check_hmc_diagnostics(fit)\n",
      "WARNING:pystan:368 of 400 iterations saturated the maximum tree depth of 10 (92 %)\n",
      "WARNING:pystan:Run again with max_treedepth larger than 10 to avoid saturation\n"
     ]
    },
    {
     "name": "stdout",
     "output_type": "stream",
     "text": [
      "File fit time: 129.10 seconds\n",
      "Dumped pickle to bayes_results\\obj_RC_uniform_1.0.pkl\n",
      "-------------------------------\n",
      "../data/simulated\\Z_RC_uniform_2.5.csv\n",
      "-------------------------------\n"
     ]
    },
    {
     "name": "stderr",
     "output_type": "stream",
     "text": [
      "WARNING:pystan:Maximum (flat) parameter count (1000) exceeded: skipping diagnostic tests for n_eff and Rhat.\n",
      "To run all diagnostics call pystan.check_hmc_diagnostics(fit)\n"
     ]
    },
    {
     "name": "stdout",
     "output_type": "stream",
     "text": [
      "File fit time: 82.65 seconds\n",
      "Dumped pickle to bayes_results\\obj_RC_uniform_2.5.pkl\n",
      "-------------------------------\n",
      "../data/simulated\\Z_ZARC-RL_Macdonald_0.25.csv\n",
      "-------------------------------\n"
     ]
    },
    {
     "name": "stderr",
     "output_type": "stream",
     "text": [
      "WARNING:pystan:Maximum (flat) parameter count (1000) exceeded: skipping diagnostic tests for n_eff and Rhat.\n",
      "To run all diagnostics call pystan.check_hmc_diagnostics(fit)\n"
     ]
    },
    {
     "name": "stdout",
     "output_type": "stream",
     "text": [
      "File fit time: 67.29 seconds\n",
      "Dumped pickle to bayes_results\\obj_ZARC-RL_Macdonald_0.25.pkl\n",
      "-------------------------------\n",
      "../data/simulated\\Z_ZARC-RL_Macdonald_1.0.csv\n",
      "-------------------------------\n"
     ]
    },
    {
     "name": "stderr",
     "output_type": "stream",
     "text": [
      "WARNING:pystan:Maximum (flat) parameter count (1000) exceeded: skipping diagnostic tests for n_eff and Rhat.\n",
      "To run all diagnostics call pystan.check_hmc_diagnostics(fit)\n"
     ]
    },
    {
     "name": "stdout",
     "output_type": "stream",
     "text": [
      "File fit time: 63.84 seconds\n",
      "Dumped pickle to bayes_results\\obj_ZARC-RL_Macdonald_1.0.pkl\n",
      "-------------------------------\n",
      "../data/simulated\\Z_ZARC-RL_Macdonald_2.5.csv\n",
      "-------------------------------\n"
     ]
    },
    {
     "name": "stderr",
     "output_type": "stream",
     "text": [
      "WARNING:pystan:Maximum (flat) parameter count (1000) exceeded: skipping diagnostic tests for n_eff and Rhat.\n",
      "To run all diagnostics call pystan.check_hmc_diagnostics(fit)\n",
      "WARNING:pystan:2 of 400 iterations ended with a divergence (0.5 %).\n",
      "WARNING:pystan:Try running with adapt_delta larger than 0.9 to remove the divergences.\n"
     ]
    },
    {
     "name": "stdout",
     "output_type": "stream",
     "text": [
      "File fit time: 64.19 seconds\n",
      "Dumped pickle to bayes_results\\obj_ZARC-RL_Macdonald_2.5.pkl\n",
      "-------------------------------\n",
      "../data/simulated\\Z_ZARC-RL_noiseless.csv\n",
      "-------------------------------\n"
     ]
    },
    {
     "name": "stderr",
     "output_type": "stream",
     "text": [
      "WARNING:pystan:Maximum (flat) parameter count (1000) exceeded: skipping diagnostic tests for n_eff and Rhat.\n",
      "To run all diagnostics call pystan.check_hmc_diagnostics(fit)\n"
     ]
    },
    {
     "name": "stdout",
     "output_type": "stream",
     "text": [
      "File fit time: 92.96 seconds\n",
      "Dumped pickle to bayes_results\\obj_ZARC-RL_noiseless.pkl\n",
      "-------------------------------\n",
      "../data/simulated\\Z_ZARC-RL_Orazem_0.25.csv\n",
      "-------------------------------\n"
     ]
    },
    {
     "name": "stderr",
     "output_type": "stream",
     "text": [
      "WARNING:pystan:Maximum (flat) parameter count (1000) exceeded: skipping diagnostic tests for n_eff and Rhat.\n",
      "To run all diagnostics call pystan.check_hmc_diagnostics(fit)\n"
     ]
    },
    {
     "name": "stdout",
     "output_type": "stream",
     "text": [
      "File fit time: 92.39 seconds\n",
      "Dumped pickle to bayes_results\\obj_ZARC-RL_Orazem_0.25.pkl\n",
      "-------------------------------\n",
      "../data/simulated\\Z_ZARC-RL_Orazem_1.0.csv\n",
      "-------------------------------\n"
     ]
    },
    {
     "name": "stderr",
     "output_type": "stream",
     "text": [
      "WARNING:pystan:Maximum (flat) parameter count (1000) exceeded: skipping diagnostic tests for n_eff and Rhat.\n",
      "To run all diagnostics call pystan.check_hmc_diagnostics(fit)\n"
     ]
    },
    {
     "name": "stdout",
     "output_type": "stream",
     "text": [
      "File fit time: 66.29 seconds\n",
      "Dumped pickle to bayes_results\\obj_ZARC-RL_Orazem_1.0.pkl\n",
      "-------------------------------\n",
      "../data/simulated\\Z_ZARC-RL_Orazem_2.5.csv\n",
      "-------------------------------\n"
     ]
    },
    {
     "name": "stderr",
     "output_type": "stream",
     "text": [
      "WARNING:pystan:Maximum (flat) parameter count (1000) exceeded: skipping diagnostic tests for n_eff and Rhat.\n",
      "To run all diagnostics call pystan.check_hmc_diagnostics(fit)\n",
      "WARNING:pystan:2 of 400 iterations ended with a divergence (0.5 %).\n",
      "WARNING:pystan:Try running with adapt_delta larger than 0.9 to remove the divergences.\n"
     ]
    },
    {
     "name": "stdout",
     "output_type": "stream",
     "text": [
      "File fit time: 72.69 seconds\n",
      "Dumped pickle to bayes_results\\obj_ZARC-RL_Orazem_2.5.pkl\n",
      "-------------------------------\n",
      "../data/simulated\\Z_ZARC-RL_uniform_0.25.csv\n",
      "-------------------------------\n"
     ]
    },
    {
     "name": "stderr",
     "output_type": "stream",
     "text": [
      "WARNING:pystan:Maximum (flat) parameter count (1000) exceeded: skipping diagnostic tests for n_eff and Rhat.\n",
      "To run all diagnostics call pystan.check_hmc_diagnostics(fit)\n",
      "WARNING:pystan:1 of 400 iterations saturated the maximum tree depth of 10 (0.25 %)\n",
      "WARNING:pystan:Run again with max_treedepth larger than 10 to avoid saturation\n"
     ]
    },
    {
     "name": "stdout",
     "output_type": "stream",
     "text": [
      "File fit time: 87.72 seconds\n",
      "Dumped pickle to bayes_results\\obj_ZARC-RL_uniform_0.25.pkl\n",
      "-------------------------------\n",
      "../data/simulated\\Z_ZARC-RL_uniform_1.0.csv\n",
      "-------------------------------\n"
     ]
    },
    {
     "name": "stderr",
     "output_type": "stream",
     "text": [
      "WARNING:pystan:Maximum (flat) parameter count (1000) exceeded: skipping diagnostic tests for n_eff and Rhat.\n",
      "To run all diagnostics call pystan.check_hmc_diagnostics(fit)\n"
     ]
    },
    {
     "name": "stdout",
     "output_type": "stream",
     "text": [
      "File fit time: 61.68 seconds\n",
      "Dumped pickle to bayes_results\\obj_ZARC-RL_uniform_1.0.pkl\n",
      "-------------------------------\n",
      "../data/simulated\\Z_ZARC-RL_uniform_2.5.csv\n",
      "-------------------------------\n"
     ]
    },
    {
     "name": "stderr",
     "output_type": "stream",
     "text": [
      "WARNING:pystan:Maximum (flat) parameter count (1000) exceeded: skipping diagnostic tests for n_eff and Rhat.\n",
      "To run all diagnostics call pystan.check_hmc_diagnostics(fit)\n",
      "WARNING:pystan:2 of 400 iterations ended with a divergence (0.5 %).\n",
      "WARNING:pystan:Try running with adapt_delta larger than 0.9 to remove the divergences.\n"
     ]
    },
    {
     "name": "stdout",
     "output_type": "stream",
     "text": [
      "File fit time: 71.48 seconds\n",
      "Dumped pickle to bayes_results\\obj_ZARC-RL_uniform_2.5.pkl\n",
      "-------------------------------\n",
      "../data/simulated\\Z_ZARC_Macdonald_0.25.csv\n",
      "-------------------------------\n"
     ]
    },
    {
     "name": "stderr",
     "output_type": "stream",
     "text": [
      "WARNING:pystan:Maximum (flat) parameter count (1000) exceeded: skipping diagnostic tests for n_eff and Rhat.\n",
      "To run all diagnostics call pystan.check_hmc_diagnostics(fit)\n"
     ]
    },
    {
     "name": "stdout",
     "output_type": "stream",
     "text": [
      "File fit time: 67.68 seconds\n",
      "Dumped pickle to bayes_results\\obj_ZARC_Macdonald_0.25.pkl\n",
      "-------------------------------\n",
      "../data/simulated\\Z_ZARC_Macdonald_1.0.csv\n",
      "-------------------------------\n"
     ]
    },
    {
     "name": "stderr",
     "output_type": "stream",
     "text": [
      "WARNING:pystan:Maximum (flat) parameter count (1000) exceeded: skipping diagnostic tests for n_eff and Rhat.\n",
      "To run all diagnostics call pystan.check_hmc_diagnostics(fit)\n",
      "WARNING:pystan:1 of 400 iterations ended with a divergence (0.25 %).\n",
      "WARNING:pystan:Try running with adapt_delta larger than 0.9 to remove the divergences.\n"
     ]
    },
    {
     "name": "stdout",
     "output_type": "stream",
     "text": [
      "File fit time: 68.63 seconds\n",
      "Dumped pickle to bayes_results\\obj_ZARC_Macdonald_1.0.pkl\n",
      "-------------------------------\n",
      "../data/simulated\\Z_ZARC_Macdonald_2.5.csv\n",
      "-------------------------------\n"
     ]
    },
    {
     "name": "stderr",
     "output_type": "stream",
     "text": [
      "WARNING:pystan:Maximum (flat) parameter count (1000) exceeded: skipping diagnostic tests for n_eff and Rhat.\n",
      "To run all diagnostics call pystan.check_hmc_diagnostics(fit)\n",
      "WARNING:pystan:1 of 400 iterations ended with a divergence (0.25 %).\n",
      "WARNING:pystan:Try running with adapt_delta larger than 0.9 to remove the divergences.\n"
     ]
    },
    {
     "name": "stdout",
     "output_type": "stream",
     "text": [
      "File fit time: 61.94 seconds\n",
      "Dumped pickle to bayes_results\\obj_ZARC_Macdonald_2.5.pkl\n",
      "-------------------------------\n",
      "../data/simulated\\Z_ZARC_noiseless.csv\n",
      "-------------------------------\n"
     ]
    },
    {
     "name": "stderr",
     "output_type": "stream",
     "text": [
      "WARNING:pystan:Maximum (flat) parameter count (1000) exceeded: skipping diagnostic tests for n_eff and Rhat.\n",
      "To run all diagnostics call pystan.check_hmc_diagnostics(fit)\n"
     ]
    },
    {
     "name": "stdout",
     "output_type": "stream",
     "text": [
      "File fit time: 92.20 seconds\n",
      "Dumped pickle to bayes_results\\obj_ZARC_noiseless.pkl\n",
      "-------------------------------\n",
      "../data/simulated\\Z_ZARC_Orazem_0.25.csv\n",
      "-------------------------------\n"
     ]
    },
    {
     "name": "stderr",
     "output_type": "stream",
     "text": [
      "WARNING:pystan:Maximum (flat) parameter count (1000) exceeded: skipping diagnostic tests for n_eff and Rhat.\n",
      "To run all diagnostics call pystan.check_hmc_diagnostics(fit)\n"
     ]
    },
    {
     "name": "stdout",
     "output_type": "stream",
     "text": [
      "File fit time: 89.37 seconds\n",
      "Dumped pickle to bayes_results\\obj_ZARC_Orazem_0.25.pkl\n",
      "-------------------------------\n",
      "../data/simulated\\Z_ZARC_Orazem_1.0.csv\n",
      "-------------------------------\n"
     ]
    },
    {
     "name": "stderr",
     "output_type": "stream",
     "text": [
      "WARNING:pystan:Maximum (flat) parameter count (1000) exceeded: skipping diagnostic tests for n_eff and Rhat.\n",
      "To run all diagnostics call pystan.check_hmc_diagnostics(fit)\n"
     ]
    },
    {
     "name": "stdout",
     "output_type": "stream",
     "text": [
      "File fit time: 62.58 seconds\n",
      "Dumped pickle to bayes_results\\obj_ZARC_Orazem_1.0.pkl\n",
      "-------------------------------\n",
      "../data/simulated\\Z_ZARC_Orazem_2.5.csv\n",
      "-------------------------------\n"
     ]
    },
    {
     "name": "stderr",
     "output_type": "stream",
     "text": [
      "WARNING:pystan:Maximum (flat) parameter count (1000) exceeded: skipping diagnostic tests for n_eff and Rhat.\n",
      "To run all diagnostics call pystan.check_hmc_diagnostics(fit)\n",
      "WARNING:pystan:2 of 400 iterations ended with a divergence (0.5 %).\n",
      "WARNING:pystan:Try running with adapt_delta larger than 0.9 to remove the divergences.\n"
     ]
    },
    {
     "name": "stdout",
     "output_type": "stream",
     "text": [
      "File fit time: 64.77 seconds\n",
      "Dumped pickle to bayes_results\\obj_ZARC_Orazem_2.5.pkl\n",
      "-------------------------------\n",
      "../data/simulated\\Z_ZARC_uniform_0.25.csv\n",
      "-------------------------------\n"
     ]
    },
    {
     "name": "stderr",
     "output_type": "stream",
     "text": [
      "WARNING:pystan:Maximum (flat) parameter count (1000) exceeded: skipping diagnostic tests for n_eff and Rhat.\n",
      "To run all diagnostics call pystan.check_hmc_diagnostics(fit)\n",
      "WARNING:pystan:1 of 400 iterations saturated the maximum tree depth of 10 (0.25 %)\n",
      "WARNING:pystan:Run again with max_treedepth larger than 10 to avoid saturation\n"
     ]
    },
    {
     "name": "stdout",
     "output_type": "stream",
     "text": [
      "File fit time: 87.35 seconds\n",
      "Dumped pickle to bayes_results\\obj_ZARC_uniform_0.25.pkl\n",
      "-------------------------------\n",
      "../data/simulated\\Z_ZARC_uniform_1.0.csv\n",
      "-------------------------------\n"
     ]
    },
    {
     "name": "stderr",
     "output_type": "stream",
     "text": [
      "WARNING:pystan:Maximum (flat) parameter count (1000) exceeded: skipping diagnostic tests for n_eff and Rhat.\n",
      "To run all diagnostics call pystan.check_hmc_diagnostics(fit)\n"
     ]
    },
    {
     "name": "stdout",
     "output_type": "stream",
     "text": [
      "File fit time: 62.89 seconds\n",
      "Dumped pickle to bayes_results\\obj_ZARC_uniform_1.0.pkl\n",
      "-------------------------------\n",
      "../data/simulated\\Z_ZARC_uniform_2.5.csv\n",
      "-------------------------------\n"
     ]
    },
    {
     "name": "stderr",
     "output_type": "stream",
     "text": [
      "WARNING:pystan:Maximum (flat) parameter count (1000) exceeded: skipping diagnostic tests for n_eff and Rhat.\n",
      "To run all diagnostics call pystan.check_hmc_diagnostics(fit)\n"
     ]
    },
    {
     "name": "stdout",
     "output_type": "stream",
     "text": [
      "File fit time: 65.77 seconds\n",
      "Dumped pickle to bayes_results\\obj_ZARC_uniform_2.5.pkl\n",
      "Total fit time: 82.97 minutes\n"
     ]
    }
   ],
   "source": [
    "\"MCMC sampling\"\n",
    "# tau for plotting\n",
    "tau_plot = np.logspace(-7,2,200)\n",
    "start = time.time()\n",
    "\n",
    "for file in files:\n",
    "    print('-------------------------------')\n",
    "    print(file)\n",
    "    print('-------------------------------')\n",
    "    suffix = file[file.find('_'):]\n",
    "    Zoutfile = os.path.join('bayes_results',f'Zout{suffix}')\n",
    "    Goutfile = os.path.join('bayes_results',f'Gout{suffix}')\n",
    "    pkl = os.path.join('bayes_results','obj{}.pkl'.format(suffix[:-4]))\n",
    "    if file.split('_')[2]=='noiseless.csv':\n",
    "        sigma_min=0.005\n",
    "    else:\n",
    "        sigma_min=0.002\n",
    "        \n",
    "    if os.path.exists(Zoutfile) and os.path.exists(Goutfile):\n",
    "        print('Already ran')\n",
    "    else:\n",
    "        df = pd.read_csv(file)\n",
    "        Z = df['Zreal'].values + 1j*df['Zimag'].values\n",
    "        \n",
    "        # fit\n",
    "        file_start = time.time()\n",
    "        dr.bayes_fit(df['Freq'].values,Z,dZ=False,init_from_ridge=True,sigma_min=sigma_min)\n",
    "        print('File fit time: {:.2f} seconds'.format(time.time()-file_start))\n",
    "        \n",
    "        Z_pred = dr.predict(df['Freq'].values)\n",
    "        # Z credibility interval\n",
    "        Z_lo = dr.predict(df['Freq'].values,percentile=2.5)\n",
    "        Z_hi = dr.predict(df['Freq'].values,percentile=97.5)\n",
    "        Z_res = pd.DataFrame(np.array([df['Freq'],Z_pred.real,Z_pred.imag,Z_lo,Z_hi]).T,\n",
    "                             columns=['freq','Zreal','Zimag','Zlo','Zhi'])\n",
    "        Z_res['sigma_re'] = np.mean(dr._sample_result['sigma_tot'],axis=0)[:len(df)]*dr._Z_scale\n",
    "        Z_res['sigma_im'] = np.mean(dr._sample_result['sigma_tot'],axis=0)[len(df):]*dr._Z_scale\n",
    "        \n",
    "        g_pred = dr.drt(eval_tau=tau_plot)\n",
    "        # drt credibility interval\n",
    "        g_lo = dr.drt(eval_tau=tau_plot,percentile=2.5)\n",
    "        g_hi = dr.drt(eval_tau=tau_plot,percentile=97.5)\n",
    "        g_res = pd.DataFrame(np.array([tau_plot,g_pred,g_lo,g_hi]).T,\n",
    "                             columns=['tau','gamma','gamma_lo','gamma_hi'])\n",
    "        \n",
    "        Z_res.to_csv(Zoutfile,index=False)\n",
    "        g_res.to_csv(Goutfile,index=False)\n",
    "        \n",
    "        # pickle the drt object for access to all other attributes\n",
    "        save_pickle(dr,pkl)\n",
    "        \n",
    "print('Total fit time: {:.2f} minutes'.format((time.time()-start)/60))"
   ]
  },
  {
   "cell_type": "code",
   "execution_count": 14,
   "metadata": {},
   "outputs": [
    {
     "name": "stderr",
     "output_type": "stream",
     "text": [
      "WARNING:pystan:Maximum (flat) parameter count (1000) exceeded: skipping diagnostic tests for n_eff and Rhat.\n",
      "To run all diagnostics call pystan.check_hmc_diagnostics(fit)\n",
      "WARNING:pystan:2000 of 2000 iterations saturated the maximum tree depth of 10 (100 %)\n",
      "WARNING:pystan:Run again with max_treedepth larger than 10 to avoid saturation\n"
     ]
    },
    {
     "name": "stdout",
     "output_type": "stream",
     "text": [
      "File fit time: 509.13 seconds\n",
      "Dumped pickle to bayes_results\\obj_2RC_uniform_0.25_4x1000.pkl\n"
     ]
    }
   ],
   "source": [
    "\"Fit example file with 4 chains, 1000 iterations for comparison\"\n",
    "file = '../data/simulated/Z_2RC_uniform_0.25.csv'\n",
    "df = pd.read_csv(file)\n",
    "Z = df['Zreal'].values + 1j*df['Zimag'].values\n",
    "suffix = file[file.find('_'):-4]\n",
    "Zoutfile = os.path.join('bayes_results',f'Zout{suffix}_4x1000.csv')\n",
    "Goutfile = os.path.join('bayes_results',f'Gout{suffix}_4x1000.csv')\n",
    "pkl = os.path.join('bayes_results',f'obj{suffix}_4x1000.pkl')\n",
    "tau_plot = np.logspace(-7,2,200)\n",
    "\n",
    "file_start = time.time()\n",
    "dr.bayes_fit(df['Freq'].values,Z,dZ=False,init_from_ridge=True,warmup=500,sample=500,chains=4)\n",
    "print('File fit time: {:.2f} seconds'.format(time.time()-file_start))\n",
    "        \n",
    "Z_pred = dr.predict(df['Freq'].values)\n",
    "# Z credibility interval\n",
    "Z_lo = dr.predict(df['Freq'].values,percentile=2.5)\n",
    "Z_hi = dr.predict(df['Freq'].values,percentile=97.5)\n",
    "Z_res = pd.DataFrame(np.array([df['Freq'],Z_pred.real,Z_pred.imag,Z_lo,Z_hi]).T,\n",
    "                     columns=['freq','Zreal','Zimag','Zlo','Zhi'])\n",
    "Z_res['sigma_re'] = np.mean(dr._sample_result['sigma_tot'],axis=0)[:len(df)]*dr._Z_scale\n",
    "Z_res['sigma_im'] = np.mean(dr._sample_result['sigma_tot'],axis=0)[len(df):]*dr._Z_scale\n",
    "\n",
    "g_pred = dr.drt(eval_tau=tau_plot)\n",
    "# drt credibility interval\n",
    "g_lo = dr.drt(eval_tau=tau_plot,percentile=2.5)\n",
    "g_hi = dr.drt(eval_tau=tau_plot,percentile=97.5)\n",
    "g_res = pd.DataFrame(np.array([tau_plot,g_pred,g_lo,g_hi]).T,\n",
    "                     columns=['tau','gamma','gamma_lo','gamma_hi'])\n",
    "\n",
    "Z_res.to_csv(Zoutfile,index=False)\n",
    "g_res.to_csv(Goutfile,index=False)\n",
    "\n",
    "# pickle the drt object for access to all other attributes\n",
    "save_pickle(dr,pkl)"
   ]
  },
  {
   "cell_type": "code",
   "execution_count": 9,
   "metadata": {},
   "outputs": [],
   "source": [
    "dr.coef_ = np.zeros(dr._sample_result['beta'].shape[1]+2)\n",
    "dr.coef_[0] = np.mean(dr._sample_result['hfr'])\n",
    "dr.coef_[1] = np.mean(dr._sample_result['induc'])\n",
    "dr.coef_[2:] = np.mean(dr._sample_result['beta'],axis=0)\n",
    "\n",
    "\n",
    "dr._scaled_coef = dr.coef_.copy()\n",
    "dr.coef_ = dr._rescale_coef(dr.coef_,False,True)\n",
    "\n",
    "dr.fit_type = 'bayes'\n",
    "dr.sigma_min = 0.002"
   ]
  },
  {
   "cell_type": "code",
   "execution_count": 7,
   "metadata": {},
   "outputs": [
    {
     "data": {
      "text/plain": [
       "(2000, 81)"
      ]
     },
     "execution_count": 7,
     "metadata": {},
     "output_type": "execute_result"
    }
   ],
   "source": [
    "dr._sample_result['beta'].shape"
   ]
  },
  {
   "cell_type": "code",
   "execution_count": 873,
   "metadata": {},
   "outputs": [
    {
     "data": {
      "image/png": "[encoded data removed]",
      "text/plain": [
       "<Figure size 720x288 with 2 Axes>"
      ]
     },
     "metadata": {
      "needs_background": "light"
     },
     "output_type": "display_data"
    }
   ],
   "source": [
    "fig,axes = plt.subplots(1,2,figsize=(10,4),sharey=True)\n",
    "\n",
    "g_lo = dr.drt(eval_tau=tau_plot,percentile=5)\n",
    "g_hi = dr.drt(eval_tau=tau_plot,percentile=95)\n",
    "    \n",
    "axes[0].plot(tau_plot,dr.drt(tau_plot))\n",
    "axes[0].fill_between(tau_plot,g_lo,g_hi,alpha=0.3)\n",
    "\n",
    "suffix = file[file.find('_'):]\n",
    "gres = pd.read_csv(os.path.join('bayes_results/old','Gout{}'.format(suffix)))\n",
    "axes[1].plot(tau_plot,gres['gamma'])\n",
    "axes[1].fill_between(tau_plot,gres['gamma_lo'],gres['gamma_hi'],alpha=0.3)\n",
    "\n",
    "for ax in axes:\n",
    "    ax.set_xscale('log')"
   ]
  },
  {
   "cell_type": "markdown",
   "metadata": {},
   "source": [
    "## Truncated data"
   ]
  },
  {
   "cell_type": "code",
   "execution_count": 2,
   "metadata": {},
   "outputs": [
    {
     "name": "stderr",
     "output_type": "stream",
     "text": [
      "INFO:numexpr.utils:NumExpr defaulting to 4 threads.\n"
     ]
    },
    {
     "ename": "NameError",
     "evalue": "name 'dr_trunc' is not defined",
     "output_type": "error",
     "traceback": [
      "\u001b[1;31m---------------------------------------------------------------------------\u001b[0m",
      "\u001b[1;31mNameError\u001b[0m                                 Traceback (most recent call last)",
      "\u001b[1;32m<ipython-input-2-01843d3276ce>\u001b[0m in \u001b[0;36m<module>\u001b[1;34m\u001b[0m\n\u001b[0;32m      5\u001b[0m \u001b[0mdf\u001b[0m \u001b[1;33m=\u001b[0m \u001b[0mpd\u001b[0m\u001b[1;33m.\u001b[0m\u001b[0mread_csv\u001b[0m\u001b[1;33m(\u001b[0m\u001b[0mtrunc_files\u001b[0m\u001b[1;33m[\u001b[0m\u001b[1;36m0\u001b[0m\u001b[1;33m]\u001b[0m\u001b[1;33m)\u001b[0m\u001b[1;33m\u001b[0m\u001b[1;33m\u001b[0m\u001b[0m\n\u001b[0;32m      6\u001b[0m \u001b[0mZ\u001b[0m \u001b[1;33m=\u001b[0m \u001b[0mdf\u001b[0m\u001b[1;33m[\u001b[0m\u001b[1;34m'Zreal'\u001b[0m\u001b[1;33m]\u001b[0m \u001b[1;33m+\u001b[0m \u001b[1;36m1j\u001b[0m\u001b[1;33m*\u001b[0m\u001b[0mdf\u001b[0m\u001b[1;33m[\u001b[0m\u001b[1;34m'Zimag'\u001b[0m\u001b[1;33m]\u001b[0m\u001b[1;33m\u001b[0m\u001b[1;33m\u001b[0m\u001b[0m\n\u001b[1;32m----> 7\u001b[1;33m \u001b[0mdr_trunc\u001b[0m\u001b[1;33m.\u001b[0m\u001b[0mridge_fit\u001b[0m\u001b[1;33m(\u001b[0m\u001b[0mdf\u001b[0m\u001b[1;33m[\u001b[0m\u001b[1;34m'Freq'\u001b[0m\u001b[1;33m]\u001b[0m\u001b[1;33m.\u001b[0m\u001b[0mvalues\u001b[0m\u001b[1;33m,\u001b[0m\u001b[0mZ\u001b[0m\u001b[1;33m.\u001b[0m\u001b[0mvalues\u001b[0m\u001b[1;33m)\u001b[0m\u001b[1;33m\u001b[0m\u001b[1;33m\u001b[0m\u001b[0m\n\u001b[0m",
      "\u001b[1;31mNameError\u001b[0m: name 'dr_trunc' is not defined"
     ]
    }
   ],
   "source": [
    "dr_trunc = drt.DRT(basis_freq=np.logspace(6,-2,81))\n",
    "trunc_files = glob.glob('../data/simulated/Z_trunc*.csv')\n",
    "\n",
    "# fit one file to generate A matrices\n",
    "df = pd.read_csv(trunc_files[0])\n",
    "Z = df['Zreal'] + 1j*df['Zimag']\n",
    "dr_trunc.ridge_fit(df['Freq'].values,Z.values)"
   ]
  },
  {
   "cell_type": "code",
   "execution_count": 908,
   "metadata": {},
   "outputs": [
    {
     "name": "stdout",
     "output_type": "stream",
     "text": [
      "-------------------------------\n",
      "../data/simulated\\Z_trunc_Macdonald_0.25.csv\n",
      "-------------------------------\n",
      "File fit time: 8.98 seconds\n",
      "Dumped pickle to map_results\\obj_trunc_Macdonald_0.25.pkl\n",
      "-------------------------------\n",
      "../data/simulated\\Z_trunc_Macdonald_1.0.csv\n",
      "-------------------------------\n",
      "File fit time: 2.17 seconds\n",
      "Dumped pickle to map_results\\obj_trunc_Macdonald_1.0.pkl\n",
      "-------------------------------\n",
      "../data/simulated\\Z_trunc_noiseless.csv\n",
      "-------------------------------\n",
      "File fit time: 10.80 seconds\n",
      "Dumped pickle to map_results\\obj_trunc_noiseless.pkl\n",
      "================================\n",
      "Total fit time: 0.40 minutes\n"
     ]
    }
   ],
   "source": [
    "\"MAP fits\"\n",
    "# tau for plotting\n",
    "tau_plot = np.logspace(-7,2,200)\n",
    "start = time.time()\n",
    "\n",
    "for file in trunc_files:\n",
    "    print('-------------------------------')\n",
    "    print(file)\n",
    "    print('-------------------------------')\n",
    "    suffix = file[file.find('_'):]\n",
    "    Zoutfile = os.path.join('map_results',f'Zout{suffix}')\n",
    "    Goutfile = os.path.join('map_results',f'Gout{suffix}')\n",
    "    pkl = os.path.join('map_results','obj{}.pkl'.format(suffix[:-4]))\n",
    "    if file.split('_')[2]=='noiseless.csv':\n",
    "        sigma_min=0.005\n",
    "    else:\n",
    "        sigma_min=0.002\n",
    "    if os.path.exists(Zoutfile) and os.path.exists(Goutfile):\n",
    "        print('Already ran')\n",
    "    else:\n",
    "        df = pd.read_csv(file)\n",
    "        Z = df['Zreal'].values + 1j*df['Zimag'].values\n",
    "        # fit\n",
    "        file_start = time.time()\n",
    "        dr_trunc.map_fit(df['Freq'].values,Z,dZ=False,init_from_ridge=False,sigma_min=sigma_min)\n",
    "        print('File fit time: {:.2f} seconds'.format(time.time()-file_start))\n",
    "        \n",
    "        # save results\n",
    "        Z_pred = dr_trunc.predict(df['Freq'].values)\n",
    "        Z_res = pd.DataFrame(np.array([df['Freq'],Z_pred.real,Z_pred.imag]).T,columns=['freq','Zreal','Zimag'])\n",
    "        Z_res['sigma_re'] = dr_trunc._opt_result['sigma_tot'][:len(df)]*dr_trunc._Z_scale\n",
    "        Z_res['sigma_im'] = dr_trunc._opt_result['sigma_tot'][len(df):]*dr_trunc._Z_scale\n",
    "        \n",
    "        g_pred = dr_trunc.drt(eval_tau=tau_plot)\n",
    "        g_res = pd.DataFrame(np.array([tau_plot,g_pred]).T,\n",
    "                             columns=['tau','gamma'])\n",
    "        Z_res.to_csv(Zoutfile,index=False)\n",
    "        g_res.to_csv(Goutfile,index=False)\n",
    "        \n",
    "        # pickle the drt object for access to all other attributes\n",
    "        save_pickle(dr_trunc,pkl)\n",
    "        \n",
    "print('================================')        \n",
    "print('Total fit time: {:.2f} minutes'.format((time.time()-start)/60))"
   ]
  },
  {
   "cell_type": "code",
   "execution_count": 912,
   "metadata": {},
   "outputs": [
    {
     "name": "stdout",
     "output_type": "stream",
     "text": [
      "-------------------------------\n",
      "../data/simulated\\Z_trunc_Macdonald_0.25.csv\n",
      "-------------------------------\n"
     ]
    },
    {
     "name": "stderr",
     "output_type": "stream",
     "text": [
      "../bayes-drt\\drt.py:311: UserWarning: Hyperparametric solution did not converge within 20 iterations\n",
      "  warnings.warn(f'Hyperparametric solution did not converge within {max_iter} iterations')\n",
      "WARNING:pystan:Rhat above 1.1 or below 0.9 indicates that the chains very likely have not mixed\n",
      "WARNING:pystan:400 of 400 iterations saturated the maximum tree depth of 10 (100 %)\n",
      "WARNING:pystan:Run again with max_treedepth larger than 10 to avoid saturation\n"
     ]
    },
    {
     "name": "stdout",
     "output_type": "stream",
     "text": [
      "File fit time: 114.40 seconds\n"
     ]
    },
    {
     "name": "stderr",
     "output_type": "stream",
     "text": [
      "../bayes-drt\\stan_models.py:7: UserWarning: Pickling fit objects is an experimental feature!\n",
      "The relevant StanModel instance must be pickled along with this fit object.\n",
      "When unpickling the StanModel must be unpickled first.\n",
      "  pickle.dump(obj, f, pickle.HIGHEST_PROTOCOL)\n"
     ]
    },
    {
     "name": "stdout",
     "output_type": "stream",
     "text": [
      "Dumped pickle to bayes_results\\obj_trunc_Macdonald_0.25.pkl\n",
      "-------------------------------\n",
      "../data/simulated\\Z_trunc_Macdonald_1.0.csv\n",
      "-------------------------------\n"
     ]
    },
    {
     "name": "stderr",
     "output_type": "stream",
     "text": [
      "WARNING:pystan:Rhat above 1.1 or below 0.9 indicates that the chains very likely have not mixed\n",
      "WARNING:pystan:1 of 400 iterations ended with a divergence (0.25 %).\n",
      "WARNING:pystan:Try running with adapt_delta larger than 0.9 to remove the divergences.\n"
     ]
    },
    {
     "name": "stdout",
     "output_type": "stream",
     "text": [
      "File fit time: 61.44 seconds\n",
      "Dumped pickle to bayes_results\\obj_trunc_Macdonald_1.0.pkl\n",
      "-------------------------------\n",
      "../data/simulated\\Z_trunc_noiseless.csv\n",
      "-------------------------------\n"
     ]
    },
    {
     "name": "stderr",
     "output_type": "stream",
     "text": [
      "WARNING:pystan:Rhat above 1.1 or below 0.9 indicates that the chains very likely have not mixed\n",
      "WARNING:pystan:400 of 400 iterations saturated the maximum tree depth of 10 (100 %)\n",
      "WARNING:pystan:Run again with max_treedepth larger than 10 to avoid saturation\n"
     ]
    },
    {
     "name": "stdout",
     "output_type": "stream",
     "text": [
      "File fit time: 115.07 seconds\n",
      "Dumped pickle to bayes_results\\obj_trunc_noiseless.pkl\n",
      "Total fit time: 4.88 minutes\n"
     ]
    }
   ],
   "source": [
    "\"MCMC sampling\"\n",
    "# tau for plotting\n",
    "tau_plot = np.logspace(-7,2,200)\n",
    "start = time.time()\n",
    "\n",
    "for file in trunc_files:\n",
    "    print('-------------------------------')\n",
    "    print(file)\n",
    "    print('-------------------------------')\n",
    "    suffix = file[file.find('_'):]\n",
    "    Zoutfile = os.path.join('bayes_results',f'Zout{suffix}')\n",
    "    Goutfile = os.path.join('bayes_results',f'Gout{suffix}')\n",
    "    pkl = os.path.join('bayes_results','obj{}.pkl'.format(suffix[:-4]))\n",
    "    if file.split('_')[2]=='noiseless.csv':\n",
    "        sigma_min=0.005\n",
    "    else:\n",
    "        sigma_min=0.002\n",
    "        \n",
    "    if os.path.exists(Zoutfile) and os.path.exists(Goutfile):\n",
    "        print('Already ran')\n",
    "    else:\n",
    "        df = pd.read_csv(file)\n",
    "        Z = df['Zreal'].values + 1j*df['Zimag'].values\n",
    "        \n",
    "        # fit\n",
    "        file_start = time.time()\n",
    "        dr_trunc.bayes_fit(df['Freq'].values,Z,dZ=False,init_from_ridge=True,sigma_min=sigma_min)\n",
    "        print('File fit time: {:.2f} seconds'.format(time.time()-file_start))\n",
    "        \n",
    "        Z_pred = dr_trunc.predict(df['Freq'].values)\n",
    "        # Z credibility interval\n",
    "        Z_lo = dr_trunc.predict(df['Freq'].values,percentile=2.5)\n",
    "        Z_hi = dr_trunc.predict(df['Freq'].values,percentile=97.5)\n",
    "        Z_res = pd.DataFrame(np.array([df['Freq'],Z_pred.real,Z_pred.imag,Z_lo,Z_hi]).T,\n",
    "                             columns=['freq','Zreal','Zimag','Zlo','Zhi'])\n",
    "        Z_res['sigma_re'] = np.mean(dr._sample_result['sigma_tot'],axis=0)[:len(df)]*dr._Z_scale\n",
    "        Z_res['sigma_im'] = np.mean(dr._sample_result['sigma_tot'],axis=0)[len(df):]*dr._Z_scale\n",
    "        \n",
    "        g_pred = dr_trunc.drt(eval_tau=tau_plot)\n",
    "        # drt credibility interval\n",
    "        g_lo = dr_trunc.drt(eval_tau=tau_plot,percentile=2.5)\n",
    "        g_hi = dr_trunc.drt(eval_tau=tau_plot,percentile=97.5)\n",
    "        g_res = pd.DataFrame(np.array([tau_plot,g_pred,g_lo,g_hi]).T,\n",
    "                             columns=['tau','gamma','gamma_lo','gamma_hi'])\n",
    "        \n",
    "        Z_res.to_csv(Zoutfile,index=False)\n",
    "        g_res.to_csv(Goutfile,index=False)\n",
    "        \n",
    "        # pickle the drt object for access to all other attributes\n",
    "        save_pickle(dr_trunc,pkl)\n",
    "        \n",
    "print('Total fit time: {:.2f} minutes'.format((time.time()-start)/60))"
   ]
  },
  {
   "cell_type": "code",
   "execution_count": 921,
   "metadata": {},
   "outputs": [
    {
     "name": "stdout",
     "output_type": "stream",
     "text": [
      "File fit time: 0.00 seconds\n"
     ]
    },
    {
     "data": {
      "text/plain": [
       "<matplotlib.legend.Legend at 0x21467a331c8>"
      ]
     },
     "execution_count": 921,
     "metadata": {},
     "output_type": "execute_result"
    },
    {
     "data": {
      "image/png": "[encoded data removed]",
      "text/plain": [
       "<Figure size 432x288 with 1 Axes>"
      ]
     },
     "metadata": {
      "needs_background": "light"
     },
     "output_type": "display_data"
    }
   ],
   "source": [
    "noise_level = 0.25\n",
    "if noise_level > 0:\n",
    "    suffix = f'Macdonald_{noise_level}'\n",
    "else:\n",
    "    suffix = 'noiseless'\n",
    "pkl = load_pickle(f'bayes_results/obj_trunc_{suffix}.pkl')\n",
    "file = f'../data/simulated/Z_trunc_{suffix}.csv'\n",
    "df = pd.read_csv(file)\n",
    "# df = df.sort_values('Freq')\n",
    "Z = df['Zreal'].values + 1j*df['Zimag'].values\n",
    "# fit\n",
    "file_start = time.time()\n",
    "# dr_trunc.map_fit(df['Freq'].values,Z,dZ=False,init_from_ridge=False,outliers=False,max_iter=30e3,sigma_min=0.005)\n",
    "print('File fit time: {:.2f} seconds'.format(time.time()-file_start))\n",
    "\n",
    "suffix = file[file.find('_'):]\n",
    "gres = pd.read_csv(os.path.join('map_results','Gout{}'.format(suffix)))\n",
    "\n",
    "# old_res = pd.read_csv(os.path.join('map_results/old','Gout{}'.format(suffix)))\n",
    "\n",
    "gfile = '../data/simulated/gamma_trunc.csv'\n",
    "gtrue = pd.read_csv(gfile)\n",
    "\n",
    "tau_plot = np.logspace(-7,2,200)\n",
    "# plt.plot(tau_plot,dr_trunc.drt(tau_plot),label='run')\n",
    "plt.plot(gres['tau'],gres['gamma'],label='New')\n",
    "plt.plot(gtrue['tau'],gtrue['gamma'],label='True')\n",
    "\n",
    "plt.xscale('log')\n",
    "plt.legend()"
   ]
  },
  {
   "cell_type": "code",
   "execution_count": 3,
   "metadata": {},
   "outputs": [
    {
     "ename": "NameError",
     "evalue": "name 'dr_mcmc' is not defined",
     "output_type": "error",
     "traceback": [
      "\u001b[1;31m---------------------------------------------------------------------------\u001b[0m",
      "\u001b[1;31mNameError\u001b[0m                                 Traceback (most recent call last)",
      "\u001b[1;32m<ipython-input-3-3038bd24adef>\u001b[0m in \u001b[0;36m<module>\u001b[1;34m\u001b[0m\n\u001b[1;32m----> 1\u001b[1;33m \u001b[0mdr_mcmc\u001b[0m\u001b[1;33m.\u001b[0m\u001b[0mtau\u001b[0m\u001b[1;33m\u001b[0m\u001b[1;33m\u001b[0m\u001b[0m\n\u001b[0m",
      "\u001b[1;31mNameError\u001b[0m: name 'dr_mcmc' is not defined"
     ]
    }
   ],
   "source": [
    "dr_mcmc.tau"
   ]
  },
  {
   "cell_type": "code",
   "execution_count": 911,
   "metadata": {},
   "outputs": [
    {
     "data": {
      "text/plain": [
       "array([<matplotlib.axes._subplots.AxesSubplot object at 0x00000214623A9308>,\n",
       "       <matplotlib.axes._subplots.AxesSubplot object at 0x0000021465424B48>,\n",
       "       <matplotlib.axes._subplots.AxesSubplot object at 0x000002145D85C948>],\n",
       "      dtype=object)"
      ]
     },
     "execution_count": 911,
     "metadata": {},
     "output_type": "execute_result"
    },
    {
     "data": {
      "image/png": "[encoded data removed]",
      "text/plain": [
       "<Figure size 864x288 with 3 Axes>"
      ]
     },
     "metadata": {
      "needs_background": "light"
     },
     "output_type": "display_data"
    }
   ],
   "source": [
    "fig,axes = plt.subplots(1,3,figsize=(12,4))\n",
    "\n",
    "gt.plot_full_eis(df,axes=axes,bode_cols=['Zreal','Zimag'])\n",
    "\n",
    "Zres = pd.read_csv(os.path.join('map_results','Zout{}'.format(suffix)))\n",
    "Zres['Freq'] = Zres['freq']\n",
    "gt.plot_full_eis(Zres,axes=axes,bode_cols=['Zreal','Zimag'],plot_func='plot')"
   ]
  },
  {
   "cell_type": "markdown",
   "metadata": {},
   "source": [
    "# Experimental data\n",
    "## LIB data from DRTtools"
   ]
  },
  {
   "cell_type": "code",
   "execution_count": 6,
   "metadata": {},
   "outputs": [
    {
     "name": "stderr",
     "output_type": "stream",
     "text": [
      "../bayes-drt\\drt.py:1035: RuntimeWarning: overflow encountered in exp\n",
      "  return phi(y,epsilon)/(1+np.exp(2*(y+np.log(w_n*t_m))))\n",
      "../bayes-drt\\drt.py:1117: IntegrationWarning: The integral is probably divergent, or slowly convergent.\n",
      "  A_main[n,:] = [quad(func,limits[0],limits[1],args=(w_n,t_m,epsilon),epsabs=1e-4)[0] for t_m in tau]\n",
      "../bayes-drt\\drt.py:311: UserWarning: Hyperparametric solution did not converge within 20 iterations\n",
      "  warnings.warn(f'Hyperparametric solution did not converge within {max_iter} iterations')\n"
     ]
    }
   ],
   "source": [
    "lib_files = ['../data/experimental/DRTtools_LIB_data.txt',\n",
    "             '../data/experimental/DRTtools_LIB_data_qtr.csv'\n",
    "            ]\n",
    "\n",
    "dr_lib = drt.DRT(basis_freq=np.logspace(4,-5,101))\n",
    "\n",
    "# run ridge_fit to generate A matrices\n",
    "lib_df = pd.read_csv(lib_files[0],sep='\\t',header=None)\n",
    "lib_df = pd.DataFrame(lib_df.values,columns=['Freq','Zreal','Zimag'])\n",
    "Z_lib = lib_df['Zreal'] + 1j*lib_df['Zimag']\n",
    "f = lib_df['Freq'].values\n",
    "Z_lib = Z_lib\n",
    "dr_lib.ridge_fit(f,Z_lib.values)\n",
    "\n",
    "# finer tau for plotting\n",
    "tau_plot = np.logspace(np.log10(np.min(dr_lib.tau)),np.log10(np.max(dr_lib.tau)),200)"
   ]
  },
  {
   "cell_type": "code",
   "execution_count": 7,
   "metadata": {},
   "outputs": [
    {
     "name": "stdout",
     "output_type": "stream",
     "text": [
      "-------------------------------\n",
      "../data/experimental/DRTtools_LIB_data.txt\n",
      "-------------------------------\n",
      "File fit time: 23.43 seconds\n",
      "Dumped pickle to map_results\\obj_LIB_data.pkl\n",
      "-------------------------------\n",
      "../data/experimental/DRTtools_LIB_data_qtr.csv\n",
      "-------------------------------\n",
      "File fit time: 11.20 seconds\n",
      "Dumped pickle to map_results\\obj_LIB_data_qtr.pkl\n",
      "Total fit time: 0.58 minutes\n"
     ]
    }
   ],
   "source": [
    "\"MAP fits\"\n",
    "start = time.time()\n",
    "\n",
    "for file in lib_files:\n",
    "    print('-------------------------------')\n",
    "    print(file)\n",
    "    print('-------------------------------')\n",
    "    suffix = file[file.find('_'):]\n",
    "    # strip file extension\n",
    "    suffix = suffix[:suffix.find('.')]\n",
    "    Zoutfile = os.path.join('map_results',f'Zout{suffix}.csv')\n",
    "    Goutfile = os.path.join('map_results',f'Gout{suffix}.csv')\n",
    "    pkl = os.path.join('map_results','obj{}.pkl'.format(suffix))\n",
    "    if os.path.exists(Zoutfile) and os.path.exists(Goutfile):\n",
    "        print('Already ran')\n",
    "    else:\n",
    "        if file[-3:]=='txt':\n",
    "            df = pd.read_csv(file,sep='\\t',header=None)\n",
    "            df = pd.DataFrame(df.values,columns=['Freq','Zreal','Zimag'])\n",
    "        else:\n",
    "            df = pd.read_csv(file)\n",
    "        Z = df['Zreal'].values + 1j*df['Zimag'].values\n",
    "        # fit\n",
    "        file_start = time.time()\n",
    "        # initializing from the ridge solution may be helpful for faster convergence for more complex spectra\n",
    "        dr_lib.map_fit(df['Freq'].values,Z,dZ=False,init_from_ridge=True,max_iter=30e3)\n",
    "        print('File fit time: {:.2f} seconds'.format(time.time()-file_start))\n",
    "        # save results\n",
    "        Z_pred = dr_lib.predict(df['Freq'].values)\n",
    "        Z_res = pd.DataFrame(np.array([df['Freq'],Z_pred.real,Z_pred.imag]).T,columns=['freq','Zreal','Zimag'])\n",
    "        g_pred = dr_lib.drt(eval_tau=tau_plot)\n",
    "        g_res = pd.DataFrame(np.array([tau_plot,g_pred]).T,\n",
    "                             columns=['tau','gamma'])\n",
    "        Z_res.to_csv(Zoutfile,index=False)\n",
    "        g_res.to_csv(Goutfile,index=False)\n",
    "        \n",
    "        # pickle the drt object for access to all other attributes\n",
    "        save_pickle(dr_lib,pkl)\n",
    "        \n",
    "print('Total fit time: {:.2f} minutes'.format((time.time()-start)/60))"
   ]
  },
  {
   "cell_type": "code",
   "execution_count": 9,
   "metadata": {},
   "outputs": [
    {
     "name": "stdout",
     "output_type": "stream",
     "text": [
      "-------------------------------\n",
      "../data/experimental/DRTtools_LIB_data.txt\n",
      "-------------------------------\n"
     ]
    },
    {
     "name": "stderr",
     "output_type": "stream",
     "text": [
      "WARNING:pystan:Maximum (flat) parameter count (1000) exceeded: skipping diagnostic tests for n_eff and Rhat.\n",
      "To run all diagnostics call pystan.check_hmc_diagnostics(fit)\n",
      "WARNING:pystan:1 of 400 iterations ended with a divergence (0.25 %).\n",
      "WARNING:pystan:Try running with adapt_delta larger than 0.9 to remove the divergences.\n",
      "WARNING:pystan:399 of 400 iterations saturated the maximum tree depth of 10 (99.8 %)\n",
      "WARNING:pystan:Run again with max_treedepth larger than 10 to avoid saturation\n"
     ]
    },
    {
     "name": "stdout",
     "output_type": "stream",
     "text": [
      "File fit time: 195.32 seconds\n"
     ]
    },
    {
     "name": "stderr",
     "output_type": "stream",
     "text": [
      "../bayes-drt\\stan_models.py:7: UserWarning: Pickling fit objects is an experimental feature!\n",
      "The relevant StanModel instance must be pickled along with this fit object.\n",
      "When unpickling the StanModel must be unpickled first.\n",
      "  pickle.dump(obj, f, pickle.HIGHEST_PROTOCOL)\n"
     ]
    },
    {
     "name": "stdout",
     "output_type": "stream",
     "text": [
      "Dumped pickle to bayes_results\\obj_LIB_data.pkl\n",
      "-------------------------------\n",
      "../data/experimental/DRTtools_LIB_data_qtr.csv\n",
      "-------------------------------\n"
     ]
    },
    {
     "name": "stderr",
     "output_type": "stream",
     "text": [
      "WARNING:pystan:Rhat above 1.1 or below 0.9 indicates that the chains very likely have not mixed\n",
      "WARNING:pystan:44 of 400 iterations saturated the maximum tree depth of 10 (11 %)\n",
      "WARNING:pystan:Run again with max_treedepth larger than 10 to avoid saturation\n"
     ]
    },
    {
     "name": "stdout",
     "output_type": "stream",
     "text": [
      "File fit time: 120.17 seconds\n",
      "Dumped pickle to bayes_results\\obj_LIB_data_qtr.pkl\n",
      "Total fit time: 5.26 minutes\n"
     ]
    }
   ],
   "source": [
    "\"MCMC sampling\"\n",
    "# tau for plotting\n",
    "tau_plot = np.logspace(np.log10(np.min(dr_lib.tau)),np.log10(np.max(dr_lib.tau)),200)\n",
    "start = time.time()\n",
    "\n",
    "for file in lib_files:\n",
    "    print('-------------------------------')\n",
    "    print(file)\n",
    "    print('-------------------------------')\n",
    "    suffix = file[file.find('_'):]\n",
    "    # strip file extension\n",
    "    suffix = suffix[:suffix.find('.')]\n",
    "    Zoutfile = os.path.join('bayes_results',f'Zout{suffix}.csv')\n",
    "    Goutfile = os.path.join('bayes_results',f'Gout{suffix}.csv')\n",
    "    pkl = os.path.join('bayes_results','obj{}.pkl'.format(suffix))\n",
    "    if os.path.exists(Zoutfile) and os.path.exists(Goutfile):\n",
    "        print('Already ran')\n",
    "    else:\n",
    "        if file[-3:]=='txt':\n",
    "            df = pd.read_csv(file,sep='\\t',header=None)\n",
    "            df = pd.DataFrame(df.values,columns=['Freq','Zreal','Zimag'])\n",
    "        else:\n",
    "            df = pd.read_csv(file)\n",
    "        Z = df['Zreal'].values + 1j*df['Zimag'].values\n",
    "        \n",
    "        # fit\n",
    "        file_start = time.time()\n",
    "        # initializing from the ridge solution may be helpful for sampling for more complex spectra\n",
    "        dr_lib.bayes_fit(df['Freq'].values,Z,dZ=False,init_from_ridge=True)\n",
    "        print('File fit time: {:.2f} seconds'.format(time.time()-file_start))\n",
    "        \n",
    "        Z_pred = dr_lib.predict(df['Freq'].values)\n",
    "        # Z credibility interval\n",
    "        Z_lo = dr_lib.predict(df['Freq'].values,percentile=2.5)\n",
    "        Z_hi = dr_lib.predict(df['Freq'].values,percentile=97.5)\n",
    "        Z_res = pd.DataFrame(np.array([df['Freq'],Z_pred.real,Z_pred.imag,Z_lo,Z_hi]).T,\n",
    "                             columns=['freq','Zreal','Zimag','Zlo','Zhi'])\n",
    "        Z_res['sigma_re'] = np.mean(dr._sample_result['sigma_tot'],axis=0)[:len(df)]*dr._Z_scale\n",
    "        Z_res['sigma_im'] = np.mean(dr._sample_result['sigma_tot'],axis=0)[len(df):]*dr._Z_scale\n",
    "        \n",
    "        g_pred = dr_lib.drt(eval_tau=tau_plot)\n",
    "        # drt crediibility interval\n",
    "        g_lo = dr_lib.drt(eval_tau=tau_plot,percentile=2.5)\n",
    "        g_hi = dr_lib.drt(eval_tau=tau_plot,percentile=97.5)\n",
    "        g_res = pd.DataFrame(np.array([tau_plot,g_pred,g_lo,g_hi]).T,\n",
    "                             columns=['tau','gamma','gamma_lo','gamma_hi'])\n",
    "        \n",
    "        Z_res.to_csv(Zoutfile,index=False)\n",
    "        g_res.to_csv(Goutfile,index=False)\n",
    "        \n",
    "        # pickle the drt object for access to all other attributes\n",
    "        save_pickle(dr_lib,pkl)\n",
    "        \n",
    "print('Total fit time: {:.2f} minutes'.format((time.time()-start)/60))"
   ]
  },
  {
   "cell_type": "code",
   "execution_count": 877,
   "metadata": {},
   "outputs": [
    {
     "name": "stdout",
     "output_type": "stream",
     "text": [
      "fit time: 0.0\n"
     ]
    },
    {
     "data": {
      "image/png": "[encoded data removed]",
      "text/plain": [
       "<Figure size 432x288 with 1 Axes>"
      ]
     },
     "metadata": {
      "needs_background": "light"
     },
     "output_type": "display_data"
    }
   ],
   "source": [
    "fig,ax = plt.subplots()\n",
    "\n",
    "tau_plot = np.logspace(np.log10(np.min(dr_lib.tau)),np.log10(np.max(dr_lib.tau)),200)\n",
    "\n",
    "file = '../data/experimental/DRTtools_LIB_data.txt'\n",
    "lib_df = pd.read_csv(file,sep='\\t',header=None)\n",
    "lib_df = pd.DataFrame(lib_df.values,columns=['Freq','Zreal','Zimag'])\n",
    "Z_lib = (lib_df['Zreal'] + 1j*lib_df['Zimag']).values\n",
    "\n",
    "start = time.time()\n",
    "# dr_lib.map_fit(lib_df['Freq'].values,Z_lib,dZ=False,init_from_ridge=True,max_iter=30e3,outliers=False,sigma_min=0.002)\n",
    "print('fit time:',time.time()-start)\n",
    "ax.plot(tau_plot,dr_lib.drt(tau_plot))\n",
    "\n",
    "gres = pd.read_csv('bayes_results/Gout_LIB_data.csv')\n",
    "ax.plot(gres['tau'],gres['gamma'])\n",
    "\n",
    "oldres = pd.read_csv('bayes_results/old/Gout_LIB_data.csv')\n",
    "ax.plot(oldres['tau'],oldres['gamma'])\n",
    "\n",
    "# g_lib = drt_from_ecm(hist[3]['params'],dr_lib.tau)\n",
    "# ax.plot(dr_lib.tau,g_lib,ls='--')\n",
    "\n",
    "ax.axvline(1/(2*np.pi*np.min(lib_df['Freq'])))\n",
    "ax.axvline(1/(2*np.pi*np.max(lib_df['Freq'])))\n",
    "ax.set_xscale('log')"
   ]
  },
  {
   "cell_type": "code",
   "execution_count": 478,
   "metadata": {},
   "outputs": [
    {
     "data": {
      "text/plain": [
       "<matplotlib.axes._subplots.AxesSubplot at 0x2146ac059c8>"
      ]
     },
     "execution_count": 478,
     "metadata": {},
     "output_type": "execute_result"
    },
    {
     "data": {
      "image/png": "[encoded data removed]",
      "text/plain": [
       "<Figure size 432x288 with 1 Axes>"
      ]
     },
     "metadata": {
      "needs_background": "light"
     },
     "output_type": "display_data"
    }
   ],
   "source": [
    "if '../../../misc_modules' not in sys.path:\n",
    "    sys.path.append('../../../misc_modules')\n",
    "import gamry_tools as gt\n",
    "\n",
    "fig,ax = plt.subplots()\n",
    "tdf = gt.construct_eis_df(f,Z_lib)\n",
    "gt.plot_nyquist(tdf,ax=ax)\n",
    "\n",
    "Z_pred = dr_lib.predict(lib_df['Freq'].values)\n",
    "df_pred = gt.construct_eis_df(lib_df['Freq'],Z_pred)\n",
    "gt.plot_nyquist(df_pred,ax=ax,plot_func='plot')"
   ]
  },
  {
   "cell_type": "code",
   "execution_count": 709,
   "metadata": {},
   "outputs": [
    {
     "data": {
      "image/png": "[encoded data removed]",
      "text/plain": [
       "<Figure size 720x288 with 4 Axes>"
      ]
     },
     "metadata": {
      "needs_background": "light"
     },
     "output_type": "display_data"
    }
   ],
   "source": [
    "fig,axes = plt.subplots(1,2,figsize=(10,4))\n",
    "\n",
    "Zres = pd.read_csv('bayes_results/Zout_LIB_data.csv')\n",
    "real_cols = ['freq','Zreal','Zimag']\n",
    "for col in real_cols:\n",
    "    Zres[col] = Zres[col].str.replace('i','j').apply(lambda x: np.complex(x))\n",
    "    Zres[col] = np.real(Zres[col])\n",
    "imag_cols = ['Zlo','Zhi']\n",
    "for col in imag_cols:\n",
    "    Zres[col] = Zres[col].str.replace('i','j').apply(lambda x: np.complex(x))\n",
    "axes[0].scatter(lib_df['Freq'],Zres['Zreal']-lib_df['Zreal'],s=10)\n",
    "axes[1].scatter(lib_df['Freq'],Zres['Zimag']-lib_df['Zimag'],s=10)\n",
    "\n",
    "Z_ecm = gt.Z_var_num_RC(lib_df['Freq'].values,**hist[3]['params'])\n",
    "\n",
    "axes[0].scatter(lib_df['Freq'],Z_ecm.real-lib_df['Zreal'],s=10)\n",
    "axes[1].scatter(lib_df['Freq'],Z_ecm.imag-lib_df['Zimag'],s=10)\n",
    "\n",
    "\n",
    "sigma_re = dr_lib._opt_result['sigma_tot'][:len(lib_df)]*dr_lib._Z_scale\n",
    "sigma_im = dr_lib._opt_result['sigma_tot'][len(lib_df):]*dr_lib._Z_scale\n",
    "axes[0].fill_between(lib_df['Freq'],-3*sigma_re,3*sigma_re,alpha=0.2,color='gray')\n",
    "axes[1].fill_between(lib_df['Freq'],-3*sigma_im,3*sigma_im,alpha=0.2,color='gray')\n",
    "axes[0].axhline(3*0.002*dr_lib._Z_scale)\n",
    "\n",
    "for ax in axes:\n",
    "    ax.set_xscale('log')\n",
    "    ax.set_xlim(0.75*np.min(lib_df['Freq']),ax.get_xlim()[1])\n",
    "    ax.set_ylim(-1e-3,1e-3)\n",
    "    \n",
    "    ax2 = ax.twinx()\n",
    "#     ax2.plot(lib_df['Freq'],lib_df['Zreal'])\n",
    "#     ax.plot(lib_df['Freq'],-lib_df['Zimag']*0.288*0.05)\n",
    "#     ax.axhline(dr_lib._Z_scale*0.02)\n",
    "    \n",
    "fig.tight_layout()"
   ]
  },
  {
   "cell_type": "code",
   "execution_count": 710,
   "metadata": {},
   "outputs": [
    {
     "data": {
      "text/plain": [
       "[<matplotlib.lines.Line2D at 0x2145b874608>]"
      ]
     },
     "execution_count": 710,
     "metadata": {},
     "output_type": "execute_result"
    },
    {
     "data": {
      "image/png": "[encoded data removed]",
      "text/plain": [
       "<Figure size 720x288 with 2 Axes>"
      ]
     },
     "metadata": {
      "needs_background": "light"
     },
     "output_type": "display_data"
    }
   ],
   "source": [
    "fig, axes = plt.subplots(1,2,figsize=(10,4))\n",
    "# axes[0].plot(dr_lib._opt_result['so_tau'])\n",
    "\n",
    "axes[1].plot(dr_lib._opt_result['sigma_out_raw'])#*dr_lib._Z_scale)\n",
    "# axes[1].set_ylim(-0.1,0.1)\n",
    "# ax.axhline(0.005) #2.3e-6"
   ]
  },
  {
   "cell_type": "code",
   "execution_count": 514,
   "metadata": {},
   "outputs": [
    {
     "data": {
      "text/plain": [
       "0.00025"
      ]
     },
     "execution_count": 514,
     "metadata": {},
     "output_type": "execute_result"
    }
   ],
   "source": [
    ".005*0.05"
   ]
  },
  {
   "cell_type": "code",
   "execution_count": 602,
   "metadata": {},
   "outputs": [
    {
     "data": {
      "text/plain": [
       "OrderedDict([('hfr_raw', array(0.10931624)),\n",
       "             ('induc', array(7.45523036e-05)),\n",
       "             ('beta',\n",
       "              array([ 0.00185234,  0.00322751,  0.00438261,  0.00523988,  0.00675022,\n",
       "                      0.00800183,  0.01025817,  0.01358267,  0.01842797,  0.02548035,\n",
       "                      0.03504131,  0.04727902,  0.06136176,  0.07604108,  0.08982265,\n",
       "                      0.10187613,  0.11184536,  0.11865695,  0.11960959,  0.11698689,\n",
       "                      0.11294392,  0.10963208,  0.10747305,  0.10742468,  0.10799894,\n",
       "                      0.10859569,  0.10969858,  0.11171271,  0.11247413,  0.10952706,\n",
       "                      0.10323499,  0.09644218,  0.09088453,  0.08566015,  0.0802323 ,\n",
       "                      0.07605732,  0.07553625,  0.07978719,  0.08846466,  0.10233974,\n",
       "                      0.11742281,  0.27116381,  0.39292496,  0.50795363,  0.9703205 ,\n",
       "                      0.93235946,  0.61260445,  0.33185065,  0.10354091, -0.00613124,\n",
       "                      0.01743604,  0.02419213,  0.03264412,  0.03894718,  0.04346097,\n",
       "                      0.04631497,  0.0478127 ,  0.04802207,  0.04668303,  0.04390352,\n",
       "                      0.03939935,  0.03873505,  0.02138688,  0.12959559,  0.20484179,\n",
       "                      0.28239986,  0.37818699,  0.4710892 ,  0.47432149,  0.50236567,\n",
       "                      0.5653046 ,  0.61868039,  0.72012487,  0.8244997 ,  0.8821067 ,\n",
       "                      0.87526083,  0.81587188,  0.74683309,  0.67754998,  0.61416471,\n",
       "                      0.59285884,  0.54714335,  0.45210697,  0.32763309,  0.21871843,\n",
       "                      0.13936491,  0.07816181,  0.06844268,  0.05265309,  0.04009892,\n",
       "                      0.02926197,  0.02129956,  0.01593775,  0.01290053,  0.01165432,\n",
       "                      0.01151606,  0.01175665,  0.01161285,  0.01062942,  0.00834635,\n",
       "                      0.00529375])),\n",
       "             ('sigma_res_raw', array(0.00292169)),\n",
       "             ('alpha_prop_raw', array(0.00052512)),\n",
       "             ('alpha_re_raw', array(0.00043438)),\n",
       "             ('alpha_im_raw', array(0.00646427)),\n",
       "             ('sigma_out_raw',\n",
       "              array([-6.21396323e-05, -1.71397676e-03, -1.80930814e-02, -7.07598178e-06,\n",
       "                     -1.03118517e-02, -1.57722354e-05, -4.86315986e-05,  3.14782872e-05,\n",
       "                     -1.34957936e-04, -5.44098230e-03,  1.36205755e-06,  1.31785241e-04,\n",
       "                      3.68334166e-04, -4.16706448e-03, -7.39313154e-02, -3.77055900e-08,\n",
       "                     -1.81369800e-03, -6.26840366e-06,  7.86183386e-06,  2.02578608e-05,\n",
       "                     -2.84706959e-02, -1.14020239e-04, -3.17261567e-02,  1.34197048e-02,\n",
       "                      7.24509066e-06,  3.61256911e-06,  5.92131227e-04,  4.64953522e-04,\n",
       "                      1.80710660e-02,  5.87640890e-05,  2.34118276e-05,  1.59446475e-04,\n",
       "                     -9.69980422e-07,  8.55653888e-06,  3.53945942e-12, -6.59728474e-05,\n",
       "                      1.86017851e-05, -9.89937565e-06, -4.08973110e-04, -9.97996081e-09,\n",
       "                     -5.84598543e-02,  1.43674074e-06,  3.76249561e-06,  3.16666637e-01,\n",
       "                      3.27624704e-03, -1.98333854e-04,  3.22485743e-05,  3.42570582e-06,\n",
       "                      9.51261928e-04,  1.55069749e-03,  2.26319452e-05,  3.62284322e-02,\n",
       "                      2.46204913e-03,  2.36256749e-08, -6.96534133e-02, -1.54439437e-03,\n",
       "                      8.04321769e-05,  3.16150347e-03, -6.08475581e-06, -3.80208443e-05,\n",
       "                     -2.87969243e-02, -1.86919218e-05, -1.32740916e-03, -2.81365068e-09,\n",
       "                     -5.19531934e-04,  2.59748209e-05, -6.24720769e-06, -3.56383442e-06,\n",
       "                     -3.24360920e-02, -6.89703582e-02,  5.76757563e-04,  6.63273648e-04,\n",
       "                     -2.06297843e-04, -8.10195042e-07,  1.06462613e-05,  4.03010356e-05,\n",
       "                     -1.62626132e-06,  5.29703611e-06,  1.00735554e-03, -2.16354358e-05,\n",
       "                      1.47451229e-03, -9.66983409e-02, -3.24880510e-04, -4.88876060e-04,\n",
       "                      2.57386066e-03, -1.25420792e-07,  4.71205893e-04, -9.06764013e-05,\n",
       "                      3.35054412e-04, -4.16957341e-04, -6.10688832e-04, -1.02393259e-03,\n",
       "                      4.85912324e-03,  5.42147847e-06,  3.36552411e-04,  3.33675032e-06,\n",
       "                     -1.33454611e-03, -3.89669227e-03, -5.15907562e-04,  2.86231031e-03,\n",
       "                     -3.02959785e-03, -1.09231870e-02,  1.41626610e-04,  2.19625885e-04,\n",
       "                     -4.31355104e-03,  3.18160921e-06, -1.48461727e+00, -1.63446373e-03,\n",
       "                      4.22672311e-04, -1.47811046e-05, -2.12800450e-02, -7.70054470e-07,\n",
       "                     -3.46774171e-04,  1.91151553e-09,  5.21324113e-05, -3.09251549e-04,\n",
       "                      5.74490102e-07, -5.66774591e-04, -4.88912765e-04, -1.43129289e-02,\n",
       "                     -9.37064966e-04, -5.10219471e-06,  6.76654545e-04,  4.82599203e-05,\n",
       "                      2.36197046e-07,  3.26714908e-13,  2.69283002e-06, -2.48978122e-05,\n",
       "                     -4.32956481e-05, -4.78668694e-06, -4.58431513e-05, -8.81447761e-04,\n",
       "                      8.45936591e-07, -4.12393766e-06,  1.55575774e-03, -2.19999124e-05,\n",
       "                     -1.62997873e-05, -5.65211494e-03, -5.81124757e-06, -7.96197442e-05,\n",
       "                      5.46236747e-06, -1.57090594e-04, -7.35842745e-05,  1.77604677e-03,\n",
       "                     -2.51901690e-09, -5.14149829e-06,  1.90324763e-04,  8.83057354e-02,\n",
       "                     -4.21687138e-04,  7.94658049e-04,  7.22245571e-03, -6.58169764e-05,\n",
       "                     -2.89996542e-04,  1.71890675e-04, -8.72334651e-04, -6.04299887e-02,\n",
       "                      3.91040787e-06, -5.24376636e-10,  1.97539467e-07,  9.38135043e-03,\n",
       "                      6.65924676e-05, -7.96552265e-03, -9.82583221e-12, -4.00665337e-09,\n",
       "                     -1.93792336e-03, -1.06465920e-05,  4.96017650e-05, -4.60551390e-05,\n",
       "                     -1.08102292e-01,  3.14122239e-04,  1.90491245e-03, -2.30445008e-06,\n",
       "                      6.13072604e-05,  5.96366676e-05,  3.21693314e-03,  2.04174189e-03,\n",
       "                     -2.22775511e-04, -2.74065920e-05, -1.70733070e-03, -4.03111405e-05,\n",
       "                     -5.50335396e-03,  1.93271661e-04,  5.02883397e-03,  1.56033719e-05,\n",
       "                      1.51111853e-05, -1.15353227e-03, -1.17950150e-12,  4.94959445e-07,\n",
       "                     -1.11276018e-05, -1.33876631e-03, -8.80097069e-05,  1.91157383e-05,\n",
       "                      3.40840290e-02, -8.51367636e-09,  1.22565187e-06, -4.17905630e-07,\n",
       "                     -2.94568794e-02,  1.52256922e-03, -1.55542565e-03, -2.20929323e-04,\n",
       "                      2.80382289e-04,  1.34316790e-04, -2.45779132e-02, -5.87292118e-03,\n",
       "                     -2.96026387e-08, -2.66404746e+00, -1.73510152e-02,  2.20224890e-01,\n",
       "                      2.33462805e-01,  1.11091110e-01,  3.38327463e-05,  5.05023190e-05,\n",
       "                     -1.67553981e-06, -2.35996417e-04])),\n",
       "             ('so_tau',\n",
       "              array([0.01550369, 0.00697618, 0.07352423, 0.00240556, 0.03669131,\n",
       "                     0.07058757, 0.00245201, 0.00873211, 0.01363972, 0.04719507,\n",
       "                     0.0020961 , 0.00935718, 0.08369833, 0.05354537, 0.05407959,\n",
       "                     0.00228354, 0.01231768, 0.0030026 , 0.02226145, 0.00398582,\n",
       "                     0.06593008, 0.00431516, 0.06943477, 0.01192139, 0.02077641,\n",
       "                     0.03020147, 0.03912822, 0.01911076, 0.02309256, 0.01739892,\n",
       "                     0.03494039, 0.0108029 , 0.00315635, 0.02770385, 0.00222803,\n",
       "                     0.0078459 , 0.0172183 , 0.02029242, 0.09997272, 0.01092205,\n",
       "                     0.06575488, 0.00627549, 0.00211865, 0.10607278, 0.0555132 ,\n",
       "                     0.00243075, 0.00836582, 0.00957617, 0.08557786, 0.00783837,\n",
       "                     0.00526049, 0.07901141, 0.02287053, 0.0046291 , 0.04288189,\n",
       "                     0.00857793, 0.01605637, 0.00595709, 0.00517722, 0.01047908,\n",
       "                     0.05441183, 0.03462313, 0.00704828, 0.00197569, 0.01286055,\n",
       "                     0.01373426, 0.00254015, 0.00523418, 0.07982004, 0.06698504,\n",
       "                     0.0029039 , 0.03972368, 0.01353984, 0.00242523, 0.01097399,\n",
       "                     0.00396332, 0.00375729, 0.00243516, 0.00719115, 0.08252198,\n",
       "                     0.02743331, 0.09321963, 0.08018705, 0.0990044 , 0.05734852,\n",
       "                     0.00334195, 0.07564037, 0.00503887, 0.00845411, 0.00396762,\n",
       "                     0.00203406, 0.00517295, 0.00930297, 0.00359257, 0.00542269,\n",
       "                     0.003111  , 0.01392882, 0.00698881, 0.00527513, 0.01983771,\n",
       "                     0.03910812, 0.11356542, 0.01110894, 0.01028997, 0.02982458,\n",
       "                     0.00229558, 0.30071358, 0.01849192, 0.01234609, 0.03003817,\n",
       "                     0.07505062, 0.00495626, 0.01041433, 0.00367606, 0.0293401 ,\n",
       "                     0.01049225, 0.00611497, 0.01338277, 0.067464  , 0.05582719,\n",
       "                     0.00998319, 0.01727449, 0.07966786, 0.02006333, 0.02052456,\n",
       "                     0.00355521, 0.01118166, 0.00847874, 0.01728478, 0.00921828,\n",
       "                     0.03541397, 0.00206694, 0.02538821, 0.01013422, 0.03287301,\n",
       "                     0.00603403, 0.03554444, 0.02563571, 0.03137811, 0.02939011,\n",
       "                     0.03947793, 0.01790623, 0.00541728, 0.07775359, 0.00354695,\n",
       "                     0.03079733, 0.01831113, 0.04403513, 0.05705505, 0.00993304,\n",
       "                     0.07315808, 0.0167124 , 0.00413697, 0.00199984, 0.00712193,\n",
       "                     0.0823368 , 0.00346183, 0.00222084, 0.0072234 , 0.09291625,\n",
       "                     0.01438406, 0.02433713, 0.00216463, 0.00227299, 0.02238157,\n",
       "                     0.00530023, 0.01054034, 0.00752957, 0.07450883, 0.01071334,\n",
       "                     0.01903249, 0.02141571, 0.02861994, 0.03152476, 0.01430068,\n",
       "                     0.02502949, 0.02353611, 0.01084793, 0.0100806 , 0.0074506 ,\n",
       "                     0.085041  , 0.01997573, 0.03821803, 0.00232376, 0.00327329,\n",
       "                     0.07015888, 0.00361384, 0.00486882, 0.00565389, 0.00316037,\n",
       "                     0.0026629 , 0.01059487, 0.09166572, 0.00638359, 0.00650264,\n",
       "                     0.00643997, 0.05162796, 0.10209561, 0.0149069 , 0.03054848,\n",
       "                     0.01824681, 0.00823259, 0.02374211, 0.0228723 , 0.00324389,\n",
       "                     0.57023328, 0.03624118, 0.18789084, 0.17240131, 0.11294451,\n",
       "                     0.00933264, 0.00311409, 0.01285263, 0.00435734])),\n",
       "             ('tau_raw',\n",
       "              array([0.05771499, 0.05780974, 0.05817097, 0.05902977, 0.06029996,\n",
       "                     0.06232129, 0.0656135 , 0.0707379 , 0.07783472, 0.08723689,\n",
       "                     0.09820553, 0.10959854, 0.12101145, 0.13281242, 0.1452311 ,\n",
       "                     0.15762053, 0.16713694, 0.16882131, 0.16435641, 0.15881215,\n",
       "                     0.15403701, 0.15067225, 0.14800482, 0.1459762 , 0.1451281 ,\n",
       "                     0.14528021, 0.14594191, 0.14671864, 0.14704291, 0.14622702,\n",
       "                     0.14416097, 0.14107604, 0.13681787, 0.13188564, 0.12645656,\n",
       "                     0.12090964, 0.11577807, 0.11170289, 0.12794447, 0.37147601,\n",
       "                     2.02838099, 1.23068627, 1.2001847 , 1.69419818, 5.02240132,\n",
       "                     1.66087557, 1.15410102, 1.07078478, 1.16060357, 1.33894678,\n",
       "                     0.24608796, 0.09099439, 0.07651768, 0.07715524, 0.07895413,\n",
       "                     0.08020411, 0.0795548 , 0.0783197 , 0.07812647, 0.08037899,\n",
       "                     0.09286626, 0.16878812, 0.75907161, 0.55299815, 0.5261853 ,\n",
       "                     0.58057981, 0.6597852 , 0.72322243, 0.67845408, 0.6428465 ,\n",
       "                     0.6608212 , 0.71660706, 0.79249069, 0.86632619, 0.93525557,\n",
       "                     1.02696162, 1.18972756, 1.41845055, 1.40424635, 1.20607659,\n",
       "                     1.0329062 , 0.91454284, 0.81643759, 0.71934737, 0.61168606,\n",
       "                     0.48146226, 0.34065841, 0.22186332, 0.15348597, 0.11480516,\n",
       "                     0.09247674, 0.07916665, 0.07107636, 0.06597185, 0.0627005 ,\n",
       "                     0.06061982, 0.05937283, 0.05869283, 0.0583004 , 0.05801595,\n",
       "                     0.05787195])),\n",
       "             ('d0_strength', array(0.11086481)),\n",
       "             ('d1_strength', array(0.21606769)),\n",
       "             ('d2_strength', array(0.1803694)),\n",
       "             ('hfr', array(10.93162439)),\n",
       "             ('LB',\n",
       "              array([0.00152533, 0.00156903, 0.00142182, 0.00186813, 0.00195197,\n",
       "                     0.00324886, 0.00453316, 0.00635333, 0.00891481, 0.01157952,\n",
       "                     0.01432296, 0.01660712, 0.01886808, 0.02119691, 0.02323636,\n",
       "                     0.02491637, 0.02689639, 0.02926227, 0.02746559, 0.02547045,\n",
       "                     0.02427207, 0.02358844, 0.02323209, 0.02287741, 0.02296732,\n",
       "                     0.02311698, 0.02339492, 0.02415069, 0.02573606, 0.0251884 ,\n",
       "                     0.0229087 , 0.02139984, 0.02001468, 0.01888951, 0.01790817,\n",
       "                     0.01850738, 0.01993369, 0.02151628, 0.02486628, 0.06451746,\n",
       "                     0.26036745, 0.13782622, 0.18530952, 0.52606098, 0.9548541 ,\n",
       "                     0.75388627, 0.3034783 , 0.29447574, 0.33474812, 0.29343412,\n",
       "                     0.02410985, 0.01005655, 0.01070541, 0.01101372, 0.01092798,\n",
       "                     0.01084148, 0.01091524, 0.01109256, 0.01098543, 0.01021895,\n",
       "                     0.00904081, 0.02082233, 0.21963635, 0.08742396, 0.08660278,\n",
       "                     0.10670819, 0.12295222, 0.1955264 , 0.10565106, 0.1335485 ,\n",
       "                     0.13252865, 0.17290855, 0.17980182, 0.2234227 , 0.25111184,\n",
       "                     0.23074076, 0.18875621, 0.17183298, 0.15815727, 0.15313386,\n",
       "                     0.14093595, 0.17777866, 0.15708359, 0.13199018, 0.12130433,\n",
       "                     0.09719014, 0.10798373, 0.02226989, 0.01788158, 0.01500642,\n",
       "                     0.01289197, 0.01035309, 0.00798227, 0.00577731, 0.00385345,\n",
       "                     0.00261767, 0.00268297, 0.00343044, 0.00417363, 0.0042414 ,\n",
       "                     0.00459526])),\n",
       "             ('sigma_res', array(0.00014608)),\n",
       "             ('alpha_prop', array(2.62561054e-05)),\n",
       "             ('alpha_re', array(2.17189828e-05)),\n",
       "             ('alpha_im', array(0.00032321)),\n",
       "             ('sigma_out',\n",
       "              array([-3.10698161e-06, -8.56988382e-05, -9.04654070e-04, -3.53799089e-07,\n",
       "                     -5.15592586e-04, -7.88611768e-07, -2.43157993e-06,  1.57391436e-06,\n",
       "                     -6.74789682e-06, -2.72049115e-04,  6.81028777e-08,  6.58926207e-06,\n",
       "                      1.84167083e-05, -2.08353224e-04, -3.69656577e-03, -1.88527950e-09,\n",
       "                     -9.06848999e-05, -3.13420183e-07,  3.93091693e-07,  1.01289304e-06,\n",
       "                     -1.42353479e-03, -5.70101195e-06, -1.58630783e-03,  6.70985241e-04,\n",
       "                      3.62254533e-07,  1.80628456e-07,  2.96065614e-05,  2.32476761e-05,\n",
       "                      9.03553300e-04,  2.93820445e-06,  1.17059138e-06,  7.97232377e-06,\n",
       "                     -4.84990211e-08,  4.27826944e-07,  1.76972971e-13, -3.29864237e-06,\n",
       "                      9.30089253e-07, -4.94968783e-07, -2.04486555e-05, -4.98998040e-10,\n",
       "                     -2.92299271e-03,  7.18370371e-08,  1.88124780e-07,  1.58333318e-02,\n",
       "                      1.63812352e-04, -9.91669269e-06,  1.61242872e-06,  1.71285291e-07,\n",
       "                      4.75630964e-05,  7.75348747e-05,  1.13159726e-06,  1.81142161e-03,\n",
       "                      1.23102456e-04,  1.18128374e-09, -3.48267066e-03, -7.72197185e-05,\n",
       "                      4.02160884e-06,  1.58075174e-04, -3.04237791e-07, -1.90104222e-06,\n",
       "                     -1.43984622e-03, -9.34596092e-07, -6.63704579e-05, -1.40682534e-10,\n",
       "                     -2.59765967e-05,  1.29874105e-06, -3.12360384e-07, -1.78191721e-07,\n",
       "                     -1.62180460e-03, -3.44851791e-03,  2.88378781e-05,  3.31636824e-05,\n",
       "                     -1.03148922e-05, -4.05097521e-08,  5.32313065e-07,  2.01505178e-06,\n",
       "                     -8.13130662e-08,  2.64851806e-07,  5.03677768e-05, -1.08177179e-06,\n",
       "                      7.37256145e-05, -4.83491704e-03, -1.62440255e-05, -2.44438030e-05,\n",
       "                      1.28693033e-04, -6.27103960e-09,  2.35602946e-05, -4.53382007e-06,\n",
       "                      1.67527206e-05, -2.08478671e-05, -3.05344416e-05, -5.11966297e-05,\n",
       "                      2.42956162e-04,  2.71073923e-07,  1.68276206e-05,  1.66837516e-07,\n",
       "                     -6.67273057e-05, -1.94834614e-04, -2.57953781e-05,  1.43115515e-04,\n",
       "                     -1.51479893e-04, -5.46159351e-04,  7.08133051e-06,  1.09812943e-05,\n",
       "                     -2.15677552e-04,  1.59080460e-07, -7.42308633e-02, -8.17231864e-05,\n",
       "                      2.11336155e-05, -7.39055229e-07, -1.06400225e-03, -3.85027235e-08,\n",
       "                     -1.73387085e-05,  9.55757764e-11,  2.60662056e-06, -1.54625774e-05,\n",
       "                      2.87245051e-08, -2.83387296e-05, -2.44456383e-05, -7.15646446e-04,\n",
       "                     -4.68532483e-05, -2.55109735e-07,  3.38327272e-05,  2.41299601e-06,\n",
       "                      1.18098523e-08,  1.63357454e-14,  1.34641501e-07, -1.24489061e-06,\n",
       "                     -2.16478240e-06, -2.39334347e-07, -2.29215756e-06, -4.40723881e-05,\n",
       "                      4.22968296e-08, -2.06196883e-07,  7.77878869e-05, -1.09999562e-06,\n",
       "                     -8.14989365e-07, -2.82605747e-04, -2.90562378e-07, -3.98098721e-06,\n",
       "                      2.73118374e-07, -7.85452969e-06, -3.67921372e-06,  8.88023384e-05,\n",
       "                     -1.25950845e-10, -2.57074914e-07,  9.51623814e-06,  4.41528677e-03,\n",
       "                     -2.10843569e-05,  3.97329025e-05,  3.61122786e-04, -3.29084882e-06,\n",
       "                     -1.44998271e-05,  8.59453376e-06, -4.36167326e-05, -3.02149944e-03,\n",
       "                      1.95520394e-07, -2.62188318e-11,  9.87697336e-09,  4.69067522e-04,\n",
       "                      3.32962338e-06, -3.98276132e-04, -4.91291611e-13, -2.00332668e-10,\n",
       "                     -9.68961678e-05, -5.32329601e-07,  2.48008825e-06, -2.30275695e-06,\n",
       "                     -5.40511460e-03,  1.57061119e-05,  9.52456226e-05, -1.15222504e-07,\n",
       "                      3.06536302e-06,  2.98183338e-06,  1.60846657e-04,  1.02087095e-04,\n",
       "                     -1.11387756e-05, -1.37032960e-06, -8.53665348e-05, -2.01555702e-06,\n",
       "                     -2.75167698e-04,  9.66358306e-06,  2.51441698e-04,  7.80168596e-07,\n",
       "                      7.55559266e-07, -5.76766134e-05, -5.89750749e-14,  2.47479723e-08,\n",
       "                     -5.56380090e-07, -6.69383156e-05, -4.40048535e-06,  9.55786917e-07,\n",
       "                      1.70420145e-03, -4.25683818e-10,  6.12825935e-08, -2.08952815e-08,\n",
       "                     -1.47284397e-03,  7.61284611e-05, -7.77712827e-05, -1.10464661e-05,\n",
       "                      1.40191145e-05,  6.71583951e-06, -1.22889566e-03, -2.93646059e-04,\n",
       "                     -1.48013193e-09, -1.33202373e-01, -8.67550760e-04,  1.10112445e-02,\n",
       "                      1.16731402e-02,  5.55455549e-03,  1.69163732e-06,  2.52511595e-06,\n",
       "                     -8.37769904e-08, -1.17998208e-05])),\n",
       "             ('y_hat',\n",
       "              array([ 1.10261825e+01,  1.10377625e+01,  1.10504826e+01,  1.10642237e+01,\n",
       "                      1.10787948e+01,  1.10944157e+01,  1.11110507e+01,  1.11282570e+01,\n",
       "                      1.11467066e+01,  1.11654672e+01,  1.11848917e+01,  1.12050141e+01,\n",
       "                      1.12257420e+01,  1.12468195e+01,  1.12681554e+01,  1.12898003e+01,\n",
       "                      1.13111078e+01,  1.13331023e+01,  1.13552541e+01,  1.13772679e+01,\n",
       "                      1.13995335e+01,  1.14217259e+01,  1.14438622e+01,  1.14655533e+01,\n",
       "                      1.14880232e+01,  1.15097507e+01,  1.15319083e+01,  1.15539151e+01,\n",
       "                      1.15757863e+01,  1.15976326e+01,  1.16191834e+01,  1.16406256e+01,\n",
       "                      1.16620949e+01,  1.16833551e+01,  1.17048135e+01,  1.17260907e+01,\n",
       "                      1.17471574e+01,  1.17683523e+01,  1.17899159e+01,  1.18113018e+01,\n",
       "                      1.18337002e+01,  1.18565973e+01,  1.18799857e+01,  1.19047195e+01,\n",
       "                      1.19311541e+01,  1.19592878e+01,  1.19891809e+01,  1.20222824e+01,\n",
       "                      1.20575827e+01,  1.20970941e+01,  1.21407132e+01,  1.21889059e+01,\n",
       "                      1.22410578e+01,  1.22982528e+01,  1.23618183e+01,  1.24292687e+01,\n",
       "                      1.25010680e+01,  1.25754912e+01,  1.26537379e+01,  1.27352589e+01,\n",
       "                      1.28155215e+01,  1.28965538e+01,  1.29735073e+01,  1.30492893e+01,\n",
       "                      1.31198226e+01,  1.31860151e+01,  1.32466324e+01,  1.33012338e+01,\n",
       "                      1.33512564e+01,  1.33938063e+01,  1.34327505e+01,  1.34660107e+01,\n",
       "                      1.34956286e+01,  1.35213371e+01,  1.35437058e+01,  1.35646453e+01,\n",
       "                      1.35831065e+01,  1.35998885e+01,  1.36156589e+01,  1.36310204e+01,\n",
       "                      1.36457905e+01,  1.36600460e+01,  1.36749057e+01,  1.36898000e+01,\n",
       "                      1.37055205e+01,  1.37225063e+01,  1.37403299e+01,  1.37599920e+01,\n",
       "                      1.37814565e+01,  1.38059076e+01,  1.38329057e+01,  1.38629385e+01,\n",
       "                      1.38973891e+01,  1.39351157e+01,  1.39783236e+01,  1.40258416e+01,\n",
       "                      1.40792833e+01,  1.41388133e+01,  1.42032260e+01,  1.42742445e+01,\n",
       "                      1.43509727e+01,  1.44335800e+01,  1.45225637e+01,  1.46171880e+01,\n",
       "                      1.47175924e+01,  1.48232758e+01,  1.49348371e+01,  3.11418422e-01,\n",
       "                      2.51383025e-01,  1.96098903e-01,  1.45767957e-01,  1.00476925e-01,\n",
       "                      5.90146406e-02,  2.11404154e-02, -1.26645395e-02, -4.40715144e-02,\n",
       "                     -7.18537594e-02, -9.70123465e-02, -1.19868454e-01, -1.40566689e-01,\n",
       "                     -1.59117047e-01, -1.75722152e-01, -1.90658122e-01, -2.03749588e-01,\n",
       "                     -2.15819742e-01, -2.26696285e-01, -2.36413826e-01, -2.45287161e-01,\n",
       "                     -2.53317483e-01, -2.60640278e-01, -2.67253802e-01, -2.73624340e-01,\n",
       "                     -2.79404271e-01, -2.85011608e-01, -2.90372131e-01, -2.95588695e-01,\n",
       "                     -3.00780077e-01, -3.05977451e-01, -3.11327665e-01, -3.16975840e-01,\n",
       "                     -3.22982124e-01, -3.29582478e-01, -3.36814261e-01, -3.44766225e-01,\n",
       "                     -3.53700580e-01, -3.63855992e-01, -3.75060869e-01, -3.88027519e-01,\n",
       "                     -4.02541058e-01, -4.18554004e-01, -4.36564107e-01, -4.56731588e-01,\n",
       "                     -4.78814456e-01, -5.02535663e-01, -5.28609940e-01, -5.55731509e-01,\n",
       "                     -5.84819683e-01, -6.15038657e-01, -6.45880388e-01, -6.76133829e-01,\n",
       "                     -7.05603396e-01, -7.33908623e-01, -7.59020650e-01, -7.80398336e-01,\n",
       "                     -7.96948430e-01, -8.08362745e-01, -8.13844735e-01, -8.12866393e-01,\n",
       "                     -8.05369273e-01, -7.92006660e-01, -7.72609356e-01, -7.48626605e-01,\n",
       "                     -7.20507804e-01, -6.89554479e-01, -6.57030793e-01, -6.23024224e-01,\n",
       "                     -5.90736253e-01, -5.58401813e-01, -5.28805064e-01, -5.01215902e-01,\n",
       "                     -4.76813843e-01, -4.55857340e-01, -4.37254219e-01, -4.22502858e-01,\n",
       "                     -4.11243929e-01, -4.03264935e-01, -3.98542619e-01, -3.97287451e-01,\n",
       "                     -3.99344398e-01, -4.04894917e-01, -4.13702579e-01, -4.26052009e-01,\n",
       "                     -4.42227040e-01, -4.61532473e-01, -4.84666386e-01, -5.11168238e-01,\n",
       "                     -5.41994898e-01, -5.75979690e-01, -6.13071801e-01, -6.54222655e-01,\n",
       "                     -6.97330490e-01, -7.44146188e-01, -7.92624384e-01, -8.43687886e-01,\n",
       "                     -8.96692490e-01, -9.49960810e-01, -1.00434638e+00, -1.05858873e+00,\n",
       "                     -1.11234316e+00, -1.16545539e+00, -1.21703686e+00, -1.26676982e+00,\n",
       "                     -1.31401891e+00, -1.35864080e+00])),\n",
       "             ('y_hat_re',\n",
       "              array([11.02618254, 11.03776249, 11.05048264, 11.06422366, 11.0787948 ,\n",
       "                     11.09441567, 11.11105075, 11.12825701, 11.14670665, 11.16546715,\n",
       "                     11.18489174, 11.20501409, 11.22574195, 11.24681946, 11.26815541,\n",
       "                     11.2898003 , 11.31110777, 11.33310229, 11.35525409, 11.37726794,\n",
       "                     11.39953349, 11.42172593, 11.44386219, 11.46555331, 11.48802316,\n",
       "                     11.50975069, 11.53190834, 11.55391514, 11.57578627, 11.59763261,\n",
       "                     11.61918336, 11.64062555, 11.66209488, 11.68335512, 11.70481347,\n",
       "                     11.72609071, 11.74715742, 11.7683523 , 11.7899159 , 11.81130184,\n",
       "                     11.83370025, 11.85659731, 11.87998567, 11.90471951, 11.93115414,\n",
       "                     11.95928783, 11.98918095, 12.02228243, 12.0575827 , 12.0970941 ,\n",
       "                     12.14071318, 12.18890592, 12.24105784, 12.29825279, 12.36181827,\n",
       "                     12.42926869, 12.50106802, 12.57549117, 12.65373791, 12.73525887,\n",
       "                     12.81552152, 12.89655376, 12.97350734, 13.04928929, 13.11982261,\n",
       "                     13.1860151 , 13.24663239, 13.30123381, 13.35125641, 13.39380625,\n",
       "                     13.43275049, 13.46601073, 13.4956286 , 13.52133709, 13.54370575,\n",
       "                     13.56464525, 13.58310654, 13.59988847, 13.61565886, 13.63102037,\n",
       "                     13.64579052, 13.66004604, 13.67490565, 13.68980004, 13.70552053,\n",
       "                     13.72250634, 13.74032993, 13.75999204, 13.78145648, 13.80590759,\n",
       "                     13.83290571, 13.86293848, 13.89738913, 13.93511569, 13.97832364,\n",
       "                     14.0258416 , 14.07928334, 14.13881332, 14.20322598, 14.27424454,\n",
       "                     14.35097267, 14.43358002, 14.5225637 , 14.61718803, 14.71759244,\n",
       "                     14.82327579, 14.93483708, 11.02618254, 11.03776249, 11.05048264,\n",
       "                     11.06422366, 11.0787948 , 11.09441567, 11.11105075, 11.12825701,\n",
       "                     11.14670665, 11.16546715, 11.18489174, 11.20501409, 11.22574195,\n",
       "                     11.24681946, 11.26815541, 11.2898003 , 11.31110777, 11.33310229,\n",
       "                     11.35525409, 11.37726794, 11.39953349, 11.42172593, 11.44386219,\n",
       "                     11.46555331, 11.48802316, 11.50975069, 11.53190834, 11.55391514,\n",
       "                     11.57578627, 11.59763261, 11.61918336, 11.64062555, 11.66209488,\n",
       "                     11.68335512, 11.70481347, 11.72609071, 11.74715742, 11.7683523 ,\n",
       "                     11.7899159 , 11.81130184, 11.83370025, 11.85659731, 11.87998567,\n",
       "                     11.90471951, 11.93115414, 11.95928783, 11.98918095, 12.02228243,\n",
       "                     12.0575827 , 12.0970941 , 12.14071318, 12.18890592, 12.24105784,\n",
       "                     12.29825279, 12.36181827, 12.42926869, 12.50106802, 12.57549117,\n",
       "                     12.65373791, 12.73525887, 12.81552152, 12.89655376, 12.97350734,\n",
       "                     13.04928929, 13.11982261, 13.1860151 , 13.24663239, 13.30123381,\n",
       "                     13.35125641, 13.39380625, 13.43275049, 13.46601073, 13.4956286 ,\n",
       "                     13.52133709, 13.54370575, 13.56464525, 13.58310654, 13.59988847,\n",
       "                     13.61565886, 13.63102037, 13.64579052, 13.66004604, 13.67490565,\n",
       "                     13.68980004, 13.70552053, 13.72250634, 13.74032993, 13.75999204,\n",
       "                     13.78145648, 13.80590759, 13.83290571, 13.86293848, 13.89738913,\n",
       "                     13.93511569, 13.97832364, 14.0258416 , 14.07928334, 14.13881332,\n",
       "                     14.20322598, 14.27424454, 14.35097267, 14.43358002, 14.5225637 ,\n",
       "                     14.61718803, 14.71759244, 14.82327579, 14.93483708])),\n",
       "             ('y_hat_im',\n",
       "              array([ 0.31141842,  0.25138303,  0.1960989 ,  0.14576796,  0.10047693,\n",
       "                      0.05901464,  0.02114042, -0.01266454, -0.04407151, -0.07185376,\n",
       "                     -0.09701235, -0.11986845, -0.14056669, -0.15911705, -0.17572215,\n",
       "                     -0.19065812, -0.20374959, -0.21581974, -0.22669628, -0.23641383,\n",
       "                     -0.24528716, -0.25331748, -0.26064028, -0.2672538 , -0.27362434,\n",
       "                     -0.27940427, -0.28501161, -0.29037213, -0.29558869, -0.30078008,\n",
       "                     -0.30597745, -0.31132767, -0.31697584, -0.32298212, -0.32958248,\n",
       "                     -0.33681426, -0.34476623, -0.35370058, -0.36385599, -0.37506087,\n",
       "                     -0.38802752, -0.40254106, -0.418554  , -0.43656411, -0.45673159,\n",
       "                     -0.47881446, -0.50253566, -0.52860994, -0.55573151, -0.58481968,\n",
       "                     -0.61503866, -0.64588039, -0.67613383, -0.7056034 , -0.73390862,\n",
       "                     -0.75902065, -0.78039834, -0.79694843, -0.80836275, -0.81384473,\n",
       "                     -0.81286639, -0.80536927, -0.79200666, -0.77260936, -0.74862661,\n",
       "                     -0.7205078 , -0.68955448, -0.65703079, -0.62302422, -0.59073625,\n",
       "                     -0.55840181, -0.52880506, -0.5012159 , -0.47681384, -0.45585734,\n",
       "                     -0.43725422, -0.42250286, -0.41124393, -0.40326494, -0.39854262,\n",
       "                     -0.39728745, -0.3993444 , -0.40489492, -0.41370258, -0.42605201,\n",
       "                     -0.44222704, -0.46153247, -0.48466639, -0.51116824, -0.5419949 ,\n",
       "                     -0.57597969, -0.6130718 , -0.65422266, -0.69733049, -0.74414619,\n",
       "                     -0.79262438, -0.84368789, -0.89669249, -0.94996081, -1.00434638,\n",
       "                     -1.05858873, -1.11234316, -1.16545539, -1.21703686, -1.26676982,\n",
       "                     -1.31401891, -1.3586408 ,  0.31141842,  0.25138303,  0.1960989 ,\n",
       "                      0.14576796,  0.10047693,  0.05901464,  0.02114042, -0.01266454,\n",
       "                     -0.04407151, -0.07185376, -0.09701235, -0.11986845, -0.14056669,\n",
       "                     -0.15911705, -0.17572215, -0.19065812, -0.20374959, -0.21581974,\n",
       "                     -0.22669628, -0.23641383, -0.24528716, -0.25331748, -0.26064028,\n",
       "                     -0.2672538 , -0.27362434, -0.27940427, -0.28501161, -0.29037213,\n",
       "                     -0.29558869, -0.30078008, -0.30597745, -0.31132767, -0.31697584,\n",
       "                     -0.32298212, -0.32958248, -0.33681426, -0.34476623, -0.35370058,\n",
       "                     -0.36385599, -0.37506087, -0.38802752, -0.40254106, -0.418554  ,\n",
       "                     -0.43656411, -0.45673159, -0.47881446, -0.50253566, -0.52860994,\n",
       "                     -0.55573151, -0.58481968, -0.61503866, -0.64588039, -0.67613383,\n",
       "                     -0.7056034 , -0.73390862, -0.75902065, -0.78039834, -0.79694843,\n",
       "                     -0.80836275, -0.81384473, -0.81286639, -0.80536927, -0.79200666,\n",
       "                     -0.77260936, -0.74862661, -0.7205078 , -0.68955448, -0.65703079,\n",
       "                     -0.62302422, -0.59073625, -0.55840181, -0.52880506, -0.5012159 ,\n",
       "                     -0.47681384, -0.45585734, -0.43725422, -0.42250286, -0.41124393,\n",
       "                     -0.40326494, -0.39854262, -0.39728745, -0.3993444 , -0.40489492,\n",
       "                     -0.41370258, -0.42605201, -0.44222704, -0.46153247, -0.48466639,\n",
       "                     -0.51116824, -0.5419949 , -0.57597969, -0.6130718 , -0.65422266,\n",
       "                     -0.69733049, -0.74414619, -0.79262438, -0.84368789, -0.89669249,\n",
       "                     -0.94996081, -1.00434638, -1.05858873, -1.11234316, -1.16545539,\n",
       "                     -1.21703686, -1.26676982, -1.31401891, -1.3586408 ])),\n",
       "             ('sigma_tot',\n",
       "              array([0.00501723, 0.00501764, 0.0050976 , 0.00501654, 0.00504289,\n",
       "                     0.00501643, 0.00501645, 0.00501649, 0.00501656, 0.00502401,\n",
       "                     0.00501673, 0.00501684, 0.00501698, 0.00502138, 0.0062319 ,\n",
       "                     0.00501728, 0.00501821, 0.0050175 , 0.00501761, 0.00501772,\n",
       "                     0.00521584, 0.00501792, 0.00526278, 0.00506277, 0.00501821,\n",
       "                     0.0050183 , 0.00501848, 0.00501853, 0.00509926, 0.00501866,\n",
       "                     0.00501875, 0.00501885, 0.00501894, 0.00501904, 0.00501914,\n",
       "                     0.00501925, 0.00501936, 0.00501948, 0.00501966, 0.00501976,\n",
       "                     0.00580892, 0.00502011, 0.00502031, 0.01661024, 0.00502347,\n",
       "                     0.0050211 , 0.00502142, 0.00502179, 0.00502242, 0.00502325,\n",
       "                     0.00502315, 0.00534029, 0.00502576, 0.00502483, 0.00611425,\n",
       "                     0.00502662, 0.00502657, 0.00502954, 0.00502748, 0.00502781,\n",
       "                     0.00523013, 0.00502814, 0.00502859, 0.00502806, 0.00502796,\n",
       "                     0.00502767, 0.0050274 , 0.00502711, 0.00528196, 0.00609577,\n",
       "                     0.00502636, 0.00502615, 0.00502585, 0.00502567, 0.00502554,\n",
       "                     0.00502543, 0.00502536, 0.00502531, 0.00502555, 0.0050253 ,\n",
       "                     0.00502588, 0.0069736 , 0.00502552, 0.00502568, 0.00502742,\n",
       "                     0.00502597, 0.00502627, 0.0050265 , 0.00502687, 0.0050273 ,\n",
       "                     0.00502783, 0.00502856, 0.00503481, 0.00502967, 0.00503054,\n",
       "                     0.00503144, 0.00503292, 0.0050374 , 0.00503493, 0.00503823,\n",
       "                     0.00503989, 0.00506861, 0.00504065, 0.00504225, 0.00504846,\n",
       "                     0.00504548, 0.07440225, 0.00500955, 0.00500858, 0.00500829,\n",
       "                     0.0051199 , 0.00500802, 0.005008  , 0.00500796, 0.00500797,\n",
       "                     0.00500803, 0.00500806, 0.00500821, 0.00500826, 0.00505915,\n",
       "                     0.00500858, 0.00500844, 0.00500864, 0.0050086 , 0.00500867,\n",
       "                     0.00500875, 0.00500882, 0.00500889, 0.00500896, 0.00500902,\n",
       "                     0.00500908, 0.00500933, 0.0050092 , 0.00500925, 0.00500991,\n",
       "                     0.00500937, 0.00500942, 0.00501744, 0.00500954, 0.0050096 ,\n",
       "                     0.00500966, 0.00500974, 0.0050098 , 0.00501067, 0.00500997,\n",
       "                     0.00501007, 0.00501019, 0.00667817, 0.0050105 , 0.00501078,\n",
       "                     0.00502381, 0.00501103, 0.0050113 , 0.00501156, 0.00501207,\n",
       "                     0.00585251, 0.00501262, 0.00501305, 0.00501351, 0.00503588,\n",
       "                     0.00501448, 0.00503077, 0.00501546, 0.00501588, 0.00501718,\n",
       "                     0.00501653, 0.00501672, 0.0050168 , 0.0073745 , 0.00501667,\n",
       "                     0.00501732, 0.00501612, 0.00501577, 0.00501539, 0.00501758,\n",
       "                     0.00501564, 0.00501426, 0.00501391, 0.00501434, 0.00501335,\n",
       "                     0.00502068, 0.00501296, 0.00501911, 0.0050127 , 0.00501262,\n",
       "                     0.00501291, 0.00501255, 0.00501256, 0.0050126 , 0.00501311,\n",
       "                     0.00501276, 0.00501289, 0.00529481, 0.00501326, 0.00501352,\n",
       "                     0.00501382, 0.00522603, 0.00501521, 0.00501573, 0.00501573,\n",
       "                     0.0050164 , 0.00501715, 0.00516627, 0.00502752, 0.00501998,\n",
       "                     0.13329698, 0.00509668, 0.01210305, 0.01270873, 0.00749111,\n",
       "                     0.00502771, 0.00502914, 0.00503056, 0.00503198])),\n",
       "             ('tau',\n",
       "              array([0.00865725, 0.00867146, 0.00872565, 0.00885447, 0.00904499,\n",
       "                     0.00934819, 0.00984202, 0.01061068, 0.01167521, 0.01308553,\n",
       "                     0.01473083, 0.01643978, 0.01815172, 0.01992186, 0.02178467,\n",
       "                     0.02364308, 0.02507054, 0.0253232 , 0.02465346, 0.02382182,\n",
       "                     0.02310555, 0.02260084, 0.02220072, 0.02189643, 0.02176921,\n",
       "                     0.02179203, 0.02189129, 0.0220078 , 0.02205644, 0.02193405,\n",
       "                     0.02162415, 0.02116141, 0.02052268, 0.01978285, 0.01896848,\n",
       "                     0.01813645, 0.01736671, 0.01675543, 0.01919167, 0.0557214 ,\n",
       "                     0.30425715, 0.18460294, 0.18002771, 0.25412973, 0.7533602 ,\n",
       "                     0.24913134, 0.17311515, 0.16061772, 0.17409054, 0.20084202,\n",
       "                     0.03691319, 0.01364916, 0.01147765, 0.01157329, 0.01184312,\n",
       "                     0.01203062, 0.01193322, 0.01174795, 0.01171897, 0.01205685,\n",
       "                     0.01392994, 0.02531822, 0.11386074, 0.08294972, 0.07892779,\n",
       "                     0.08708697, 0.09896778, 0.10848336, 0.10176811, 0.09642697,\n",
       "                     0.09912318, 0.10749106, 0.1188736 , 0.12994893, 0.14028834,\n",
       "                     0.15404424, 0.17845913, 0.21276758, 0.21063695, 0.18091149,\n",
       "                     0.15493593, 0.13718143, 0.12246564, 0.1079021 , 0.09175291,\n",
       "                     0.07221934, 0.05109876, 0.0332795 , 0.0230229 , 0.01722077,\n",
       "                     0.01387151, 0.011875  , 0.01066145, 0.00989578, 0.00940508,\n",
       "                     0.00909297, 0.00890592, 0.00880392, 0.00874506, 0.00870239,\n",
       "                     0.00868079])),\n",
       "             ('dtau',\n",
       "              array([-1.15237212e-03, -2.13840871e-03, -1.74230998e-03, -3.11414914e-03,\n",
       "                     -5.09811230e-03, -6.98099391e-03, -6.97087780e-03, -7.40464432e-03,\n",
       "                     -4.48910992e-03, -1.08031884e-03, -4.53989581e-05, -8.01686007e-04,\n",
       "                     -1.16276249e-03,  5.03689538e-05,  4.55684340e-03,  1.17150199e-02,\n",
       "                      9.10617243e-03,  1.64179007e-03, -1.21073170e-03, -2.28901617e-03,\n",
       "                     -1.15704188e-03, -1.07903564e-03, -2.02176439e-03, -1.72298666e-03,\n",
       "                     -8.76903803e-04, -1.97039244e-04,  7.70961287e-04,  1.93847370e-03,\n",
       "                      2.13735648e-03,  1.76692421e-03,  2.07909157e-03,  1.23168687e-03,\n",
       "                      9.41797881e-04,  2.32973018e-04, -8.58791134e-04, -2.28107552e-03,\n",
       "                     -4.54705469e-02, -4.44118370e-01, -9.51187559e-01,  3.02531884e-01,\n",
       "                     -1.55846612e-01, -1.09257151e-01, -4.18219914e-01,  3.32994541e-01,\n",
       "                     -4.29705762e-01, -9.17290400e-02, -4.04224628e-02, -1.90686163e-02,\n",
       "                      2.37351112e-01, -9.52672831e-01, -3.86333907e-01, -4.93815906e-02,\n",
       "                     -3.76299253e-03,  1.73808933e-03,  5.92015012e-03,  1.84087419e-03,\n",
       "                     -3.32573460e-03, -7.82621358e-03, -3.18328188e-02, -1.70768655e-01,\n",
       "                     -7.61845144e-01,  2.62279916e-01, -8.10403283e-02, -3.85830671e-02,\n",
       "                     -1.06836620e-02,  5.97473355e-03,  3.74039747e-02, -3.37560134e-03,\n",
       "                     -2.08379021e-02, -1.43046082e-02, -7.01143475e-03,  6.46108740e-04,\n",
       "                      1.41577911e-03, -6.08835373e-03, -1.72985741e-02, -1.38596954e-02,\n",
       "                      4.28155891e-02,  3.27516542e-02, -5.18196201e-03, -1.32652475e-02,\n",
       "                     -5.53777107e-03, -3.10807348e-04,  3.67384464e-03,  9.22143063e-03,\n",
       "                      5.49371456e-03, -1.61516420e-02, -5.68117071e-02, -4.83701275e-02,\n",
       "                     -3.56089913e-02, -2.43800343e-02, -1.64835272e-02, -1.05020569e-02,\n",
       "                     -6.94673266e-03, -4.74745870e-03, -3.43817435e-03, -2.38740754e-03,\n",
       "                     -1.22493765e-03, -4.62995555e-04, -6.05229367e-04])),\n",
       "             ('y_tilde',\n",
       "              array([ 1.10261825e+01,  1.10377625e+01,  1.10504826e+01,  1.10642237e+01,\n",
       "                      1.10787948e+01,  1.10944157e+01,  1.11110507e+01,  1.11282570e+01,\n",
       "                      1.11467066e+01,  1.11654672e+01,  1.11848917e+01,  1.12050141e+01,\n",
       "                      1.12257420e+01,  1.12468195e+01,  1.12681554e+01,  1.12898003e+01,\n",
       "                      1.13111078e+01,  1.13331023e+01,  1.13552541e+01,  1.13772679e+01,\n",
       "                      1.13995335e+01,  1.14217259e+01,  1.14438622e+01,  1.14655533e+01,\n",
       "                      1.14880232e+01,  1.15097507e+01,  1.15319083e+01,  1.15539151e+01,\n",
       "                      1.15757863e+01,  1.15976326e+01,  1.16191834e+01,  1.16406256e+01,\n",
       "                      1.16620949e+01,  1.16833551e+01,  1.17048135e+01,  1.17260907e+01,\n",
       "                      1.17471574e+01,  1.17683523e+01,  1.17899159e+01,  1.18113018e+01,\n",
       "                      1.18337002e+01,  1.18565973e+01,  1.18799857e+01,  1.19047195e+01,\n",
       "                      1.19311541e+01,  1.19592878e+01,  1.19891809e+01,  1.20222824e+01,\n",
       "                      1.20575827e+01,  1.20970941e+01,  1.21407132e+01,  1.21889059e+01,\n",
       "                      1.22410578e+01,  1.22982528e+01,  1.23618183e+01,  1.24292687e+01,\n",
       "                      1.25010680e+01,  1.25754912e+01,  1.26537379e+01,  1.27352589e+01,\n",
       "                      1.28155215e+01,  1.28965538e+01,  1.29735073e+01,  1.30492893e+01,\n",
       "                      1.31198226e+01,  1.31860151e+01,  1.32466324e+01,  1.33012338e+01,\n",
       "                      1.33512564e+01,  1.33938063e+01,  1.34327505e+01,  1.34660107e+01,\n",
       "                      1.34956286e+01,  1.35213371e+01,  1.35437058e+01,  1.35646453e+01,\n",
       "                      1.35831065e+01,  1.35998885e+01,  1.36156589e+01,  1.36310204e+01,\n",
       "                      1.36457905e+01,  1.36600460e+01,  1.36749057e+01,  1.36898000e+01,\n",
       "                      1.37055205e+01,  1.37225063e+01,  1.37403299e+01,  1.37599920e+01,\n",
       "                      1.37814565e+01,  1.38059076e+01,  1.38329057e+01,  1.38629385e+01,\n",
       "                      1.38973891e+01,  1.39351157e+01,  1.39783236e+01,  1.40258416e+01,\n",
       "                      1.40792833e+01,  1.41388133e+01,  1.42032260e+01,  1.42742445e+01,\n",
       "                      1.43509727e+01,  1.44335800e+01,  1.45225637e+01,  1.46171880e+01,\n",
       "                      1.47175924e+01,  1.48232758e+01,  1.49348371e+01,  3.11418422e-01,\n",
       "                      2.51383025e-01,  1.96098903e-01,  1.45767957e-01,  1.00476925e-01,\n",
       "                      5.90146406e-02,  2.11404154e-02, -1.26645395e-02, -4.40715144e-02,\n",
       "                     -7.18537594e-02, -9.70123465e-02, -1.19868454e-01, -1.40566689e-01,\n",
       "                     -1.59117047e-01, -1.75722152e-01, -1.90658122e-01, -2.03749588e-01,\n",
       "                     -2.15819742e-01, -2.26696285e-01, -2.36413826e-01, -2.45287161e-01,\n",
       "                     -2.53317483e-01, -2.60640278e-01, -2.67253802e-01, -2.73624340e-01,\n",
       "                     -2.79404271e-01, -2.85011608e-01, -2.90372131e-01, -2.95588695e-01,\n",
       "                     -3.00780077e-01, -3.05977451e-01, -3.11327665e-01, -3.16975840e-01,\n",
       "                     -3.22982124e-01, -3.29582478e-01, -3.36814261e-01, -3.44766225e-01,\n",
       "                     -3.53700580e-01, -3.63855992e-01, -3.75060869e-01, -3.88027519e-01,\n",
       "                     -4.02541058e-01, -4.18554004e-01, -4.36564107e-01, -4.56731588e-01,\n",
       "                     -4.78814456e-01, -5.02535663e-01, -5.28609940e-01, -5.55731509e-01,\n",
       "                     -5.84819683e-01, -6.15038657e-01, -6.45880388e-01, -6.76133829e-01,\n",
       "                     -7.05603396e-01, -7.33908623e-01, -7.59020650e-01, -7.80398336e-01,\n",
       "                     -7.96948430e-01, -8.08362745e-01, -8.13844735e-01, -8.12866393e-01,\n",
       "                     -8.05369273e-01, -7.92006660e-01, -7.72609356e-01, -7.48626605e-01,\n",
       "                     -7.20507804e-01, -6.89554479e-01, -6.57030793e-01, -6.23024224e-01,\n",
       "                     -5.90736253e-01, -5.58401813e-01, -5.28805064e-01, -5.01215902e-01,\n",
       "                     -4.76813843e-01, -4.55857340e-01, -4.37254219e-01, -4.22502858e-01,\n",
       "                     -4.11243929e-01, -4.03264935e-01, -3.98542619e-01, -3.97287451e-01,\n",
       "                     -3.99344398e-01, -4.04894917e-01, -4.13702579e-01, -4.26052009e-01,\n",
       "                     -4.42227040e-01, -4.61532473e-01, -4.84666386e-01, -5.11168238e-01,\n",
       "                     -5.41994898e-01, -5.75979690e-01, -6.13071801e-01, -6.54222655e-01,\n",
       "                     -6.97330490e-01, -7.44146188e-01, -7.92624384e-01, -8.43687886e-01,\n",
       "                     -8.96692490e-01, -9.49960810e-01, -1.00434638e+00, -1.05858873e+00,\n",
       "                     -1.11234316e+00, -1.16545539e+00, -1.21703686e+00, -1.26676982e+00,\n",
       "                     -1.31401891e+00, -1.35864080e+00]))])"
      ]
     },
     "execution_count": 602,
     "metadata": {},
     "output_type": "execute_result"
    }
   ],
   "source": [
    "dr_lib._opt_result"
   ]
  },
  {
   "cell_type": "code",
   "execution_count": 482,
   "metadata": {},
   "outputs": [
    {
     "data": {
      "image/png": "[encoded data removed]",
      "text/plain": [
       "<Figure size 432x288 with 1 Axes>"
      ]
     },
     "metadata": {
      "needs_background": "light"
     },
     "output_type": "display_data"
    }
   ],
   "source": [
    "tau_plot = np.logspace(np.log10(np.min(dr_lib.tau)),np.log10(np.max(dr_lib.tau)),200)\n",
    "fig,ax = plt.subplots()\n",
    "# g_nscale = np.copy(dr_lib.drt(tau_plot))\n",
    "ax.plot(tau_plot,dr_lib.drt(tau_plot))\n",
    "# ax.plot(tau_plot,g_nscale)\n",
    "# dr_lib.coef_ = dr_lib.\n",
    "\n",
    "g_lib = drt_from_ecm(hist[3]['params'],dr_lib.tau)\n",
    "ax.plot(dr_lib.tau,g_lib,ls='--')\n",
    "\n",
    "ax.axvline(1/(2*np.pi*np.min(lib_df['Freq'])))\n",
    "ax.axvline(1/(2*np.pi*np.max(lib_df['Freq'])))\n",
    "ax.set_xscale('log')"
   ]
  },
  {
   "cell_type": "markdown",
   "metadata": {},
   "source": [
    "## Protonic ceramic microelectrode"
   ]
  },
  {
   "cell_type": "code",
   "execution_count": 14,
   "metadata": {},
   "outputs": [],
   "source": [
    "tco_file = '../data/experimental/PDAC_COM3_02109_Contact10_2065C_500C.txt'\n",
    "tco_df = gt.read_eis_zdata(tco_file)\n",
    "\n",
    "dr_tco = drt.DRT(basis_freq=np.logspace(7,-3,101))\n",
    "\n",
    "# run ridge_fit to generate A matrices\n",
    "Z_tco = tco_df['Zreal'] + 1j*tco_df['Zimag']\n",
    "f = tco_df['Freq'].values\n",
    "dr_tco.ridge_fit(f,Z_tco.values)\n",
    "\n",
    "# finer tau for plotting\n",
    "tau_plot_tco = np.logspace(np.log10(np.min(dr_tco.tau)),np.log10(np.max(dr_tco.tau)),200)"
   ]
  },
  {
   "cell_type": "code",
   "execution_count": 15,
   "metadata": {},
   "outputs": [
    {
     "data": {
      "text/plain": [
       "(1.591549430918952e-08, 159.15494309189538)"
      ]
     },
     "execution_count": 15,
     "metadata": {},
     "output_type": "execute_result"
    }
   ],
   "source": [
    "np.min(tau_plot_tco),np.max(tau_plot_tco)"
   ]
  },
  {
   "cell_type": "code",
   "execution_count": 17,
   "metadata": {},
   "outputs": [
    {
     "name": "stdout",
     "output_type": "stream",
     "text": [
      "-------------------------------\n",
      "Outliers=True\n",
      "-------------------------------\n",
      "File fit time: 28.22 seconds\n",
      "Dumped pickle to map_results\\obj_PDAC_outliers.pkl\n",
      "-------------------------------\n",
      "Outliers=False\n",
      "-------------------------------\n",
      "File fit time: 13.70 seconds\n",
      "Dumped pickle to map_results\\obj_PDAC.pkl\n",
      "Total fit time: 0.70 minutes\n"
     ]
    }
   ],
   "source": [
    "\"MAP fits\"\n",
    "start = time.time()\n",
    "file = tco_file\n",
    "\n",
    "for outliers in [True,False]:\n",
    "    print('-------------------------------')\n",
    "    print(f'Outliers={outliers}')\n",
    "    print('-------------------------------')\n",
    "    suffix = '_PDAC'\n",
    "    if outliers:\n",
    "        suffix += '_outliers'\n",
    "    Zoutfile = os.path.join('map_results',f'Zout{suffix}.csv')\n",
    "    Goutfile = os.path.join('map_results',f'Gout{suffix}.csv')\n",
    "    pkl = os.path.join('map_results','obj{}.pkl'.format(suffix))\n",
    "    if os.path.exists(Zoutfile) and os.path.exists(Goutfile):\n",
    "        print('Already ran')\n",
    "    else:\n",
    "        df = gt.read_eis_zdata(file)\n",
    "        Z = df['Zreal'].values + 1j*df['Zimag'].values\n",
    "        # fit\n",
    "        file_start = time.time()\n",
    "        # initializing from the ridge solution may be helpful for faster convergence for more complex spectra\n",
    "        dr_tco.map_fit(df['Freq'].values,Z,dZ=False,init_from_ridge=True,max_iter=30e3,outliers=outliers)\n",
    "        print('File fit time: {:.2f} seconds'.format(time.time()-file_start))\n",
    "        # save results\n",
    "        Z_pred = dr_tco.predict(df['Freq'].values)\n",
    "        Z_res = pd.DataFrame(np.array([df['Freq'],Z_pred.real,Z_pred.imag]).T,columns=['freq','Zreal','Zimag'])\n",
    "        g_pred = dr_tco.drt(eval_tau=tau_plot_tco)\n",
    "        g_res = pd.DataFrame(np.array([tau_plot_tco,g_pred]).T,\n",
    "                             columns=['tau','gamma'])\n",
    "        Z_res.to_csv(Zoutfile,index=False)\n",
    "        g_res.to_csv(Goutfile,index=False)\n",
    "        \n",
    "        # pickle the drt object for access to all other attributes\n",
    "        save_pickle(dr_tco,pkl)\n",
    "        \n",
    "print('Total fit time: {:.2f} minutes'.format((time.time()-start)/60))"
   ]
  },
  {
   "cell_type": "code",
   "execution_count": 28,
   "metadata": {},
   "outputs": [
    {
     "name": "stdout",
     "output_type": "stream",
     "text": [
      "-------------------------------\n",
      "Outliers=True\n",
      "-------------------------------\n"
     ]
    },
    {
     "name": "stderr",
     "output_type": "stream",
     "text": [
      "../bayes-drt\\drt.py:311: UserWarning: Hyperparametric solution did not converge within 20 iterations\n",
      "  warnings.warn(f'Hyperparametric solution did not converge within {max_iter} iterations')\n",
      "WARNING:pystan:Maximum (flat) parameter count (1000) exceeded: skipping diagnostic tests for n_eff and Rhat.\n",
      "To run all diagnostics call pystan.check_hmc_diagnostics(fit)\n",
      "WARNING:pystan:17 of 400 iterations ended with a divergence (4.25 %).\n",
      "WARNING:pystan:Try running with adapt_delta larger than 0.9 to remove the divergences.\n",
      "WARNING:pystan:191 of 400 iterations saturated the maximum tree depth of 10 (47.8 %)\n",
      "WARNING:pystan:Run again with max_treedepth larger than 10 to avoid saturation\n"
     ]
    },
    {
     "name": "stdout",
     "output_type": "stream",
     "text": [
      "File fit time: 222.17 seconds\n",
      "Dumped pickle to bayes_results\\obj_PDAC_outliers.pkl\n",
      "-------------------------------\n",
      "Outliers=False\n",
      "-------------------------------\n",
      "Already ran\n",
      "Total fit time: 3.71 minutes\n"
     ]
    },
    {
     "name": "stderr",
     "output_type": "stream",
     "text": [
      "../bayes-drt\\stan_models.py:7: UserWarning: Pickling fit objects is an experimental feature!\n",
      "The relevant StanModel instance must be pickled along with this fit object.\n",
      "When unpickling the StanModel must be unpickled first.\n",
      "  pickle.dump(obj, f, pickle.HIGHEST_PROTOCOL)\n"
     ]
    }
   ],
   "source": [
    "\"MCMC sampling\"\n",
    "# tau for plotting\n",
    "start = time.time()\n",
    "\n",
    "file = tco_file\n",
    "for outliers in [True,False]:\n",
    "    print('-------------------------------')\n",
    "    print(f'Outliers={outliers}')\n",
    "    print('-------------------------------')\n",
    "    suffix = '_PDAC'\n",
    "    if outliers:\n",
    "        suffix += '_outliers'\n",
    "        \n",
    "    Zoutfile = os.path.join('bayes_results',f'Zout{suffix}.csv')\n",
    "    Goutfile = os.path.join('bayes_results',f'Gout{suffix}.csv')\n",
    "    pkl = os.path.join('bayes_results','obj{}.pkl'.format(suffix))\n",
    "    \n",
    "    if os.path.exists(Zoutfile) and os.path.exists(Goutfile):\n",
    "        print('Already ran')\n",
    "    else:\n",
    "        df = gt.read_eis_zdata(file)\n",
    "        Z = df['Zreal'].values + 1j*df['Zimag'].values\n",
    "\n",
    "        # fit\n",
    "        file_start = time.time()\n",
    "        # initializing from the ridge solution may be helpful for sampling for more complex spectra\n",
    "        dr_tco.bayes_fit(df['Freq'].values,Z,dZ=False,init_from_ridge=True,outliers=outliers)\n",
    "        print('File fit time: {:.2f} seconds'.format(time.time()-file_start))\n",
    "\n",
    "        Z_pred = dr_tco.predict(df['Freq'].values)\n",
    "        # Z credibility interval\n",
    "        Z_lo = dr_tco.predict(df['Freq'].values,percentile=2.5)\n",
    "        Z_hi = dr_tco.predict(df['Freq'].values,percentile=97.5)\n",
    "        Z_res = pd.DataFrame(np.array([df['Freq'],Z_pred.real,Z_pred.imag,Z_lo,Z_hi]).T,\n",
    "                             columns=['freq','Zreal','Zimag','Zlo','Zhi'])\n",
    "        Z_res['sigma_re'] = np.mean(dr._sample_result['sigma_tot'],axis=0)[:len(df)]*dr._Z_scale\n",
    "        Z_res['sigma_im'] = np.mean(dr._sample_result['sigma_tot'],axis=0)[len(df):]*dr._Z_scale\n",
    "\n",
    "        g_pred = dr_tco.drt(eval_tau=tau_plot_tco)\n",
    "        # drt crediibility interval\n",
    "        g_lo = dr_tco.drt(eval_tau=tau_plot_tco,percentile=2.5)\n",
    "        g_hi = dr_tco.drt(eval_tau=tau_plot_tco,percentile=97.5)\n",
    "        g_res = pd.DataFrame(np.array([tau_plot_tco,g_pred,g_lo,g_hi]).T,\n",
    "                             columns=['tau','gamma','gamma_lo','gamma_hi'])\n",
    "\n",
    "        Z_res.to_csv(Zoutfile,index=False)\n",
    "        g_res.to_csv(Goutfile,index=False)\n",
    "\n",
    "        # pickle the drt object for access to all other attributes\n",
    "        save_pickle(dr_tco,pkl)\n",
    "        \n",
    "print('Total fit time: {:.2f} minutes'.format((time.time()-start)/60))"
   ]
  },
  {
   "cell_type": "code",
   "execution_count": 29,
   "metadata": {},
   "outputs": [
    {
     "data": {
      "image/png": "[encoded data removed]",
      "text/plain": [
       "<Figure size 432x288 with 1 Axes>"
      ]
     },
     "metadata": {
      "needs_background": "light"
     },
     "output_type": "display_data"
    }
   ],
   "source": [
    "dr_out = load_pickle('bayes_results/obj_PDAC_outliers.pkl')\n",
    "sigma_re,sigma_im = dr_out.predict_err_scale(dr_out.f_train)\n",
    "\n",
    "fig,ax = plt.subplots()\n",
    "ax.plot(dr_out.f_train,sigma_re)\n",
    "ax.plot(dr_out.f_train,sigma_im)\n",
    "ax.set_xscale('log')"
   ]
  },
  {
   "cell_type": "code",
   "execution_count": 22,
   "metadata": {},
   "outputs": [
    {
     "ename": "ValueError",
     "evalue": "No parameter sigma_out",
     "output_type": "error",
     "traceback": [
      "\u001b[1;31m---------------------------------------------------------------------------\u001b[0m",
      "\u001b[1;31mValueError\u001b[0m                                Traceback (most recent call last)",
      "\u001b[1;32m<ipython-input-22-3ff8a6f9e5de>\u001b[0m in \u001b[0;36m<module>\u001b[1;34m\u001b[0m\n\u001b[1;32m----> 1\u001b[1;33m \u001b[0mnp\u001b[0m\u001b[1;33m.\u001b[0m\u001b[0mmean\u001b[0m\u001b[1;33m(\u001b[0m\u001b[0mdr_out\u001b[0m\u001b[1;33m.\u001b[0m\u001b[0m_sample_result\u001b[0m\u001b[1;33m[\u001b[0m\u001b[1;34m'sigma_out'\u001b[0m\u001b[1;33m]\u001b[0m\u001b[1;33m,\u001b[0m\u001b[0maxis\u001b[0m\u001b[1;33m=\u001b[0m\u001b[1;36m0\u001b[0m\u001b[1;33m)\u001b[0m\u001b[1;33m\u001b[0m\u001b[1;33m\u001b[0m\u001b[0m\n\u001b[0m",
      "\u001b[1;32mstanfit4anon_model_4535d58deac35ed2ee292471815b1843_4635932380230228430.pyx\u001b[0m in \u001b[0;36mstanfit4anon_model_4535d58deac35ed2ee292471815b1843_4635932380230228430.StanFit4Model.__getitem__\u001b[1;34m()\u001b[0m\n",
      "\u001b[1;32mstanfit4anon_model_4535d58deac35ed2ee292471815b1843_4635932380230228430.pyx\u001b[0m in \u001b[0;36mstanfit4anon_model_4535d58deac35ed2ee292471815b1843_4635932380230228430.StanFit4Model.extract\u001b[1;34m()\u001b[0m\n",
      "\u001b[1;32m~\\anaconda3\\envs\\stan\\lib\\site-packages\\pystan\\misc.py\u001b[0m in \u001b[0;36m_check_pars\u001b[1;34m(allpars, pars)\u001b[0m\n\u001b[0;32m    875\u001b[0m     \u001b[1;32mfor\u001b[0m \u001b[0mpar\u001b[0m \u001b[1;32min\u001b[0m \u001b[0mpars\u001b[0m\u001b[1;33m:\u001b[0m\u001b[1;33m\u001b[0m\u001b[1;33m\u001b[0m\u001b[0m\n\u001b[0;32m    876\u001b[0m         \u001b[1;32mif\u001b[0m \u001b[0mpar\u001b[0m \u001b[1;32mnot\u001b[0m \u001b[1;32min\u001b[0m \u001b[0mallpars\u001b[0m\u001b[1;33m:\u001b[0m\u001b[1;33m\u001b[0m\u001b[1;33m\u001b[0m\u001b[0m\n\u001b[1;32m--> 877\u001b[1;33m             \u001b[1;32mraise\u001b[0m \u001b[0mValueError\u001b[0m\u001b[1;33m(\u001b[0m\u001b[1;34m\"No parameter {}\"\u001b[0m\u001b[1;33m.\u001b[0m\u001b[0mformat\u001b[0m\u001b[1;33m(\u001b[0m\u001b[0mpar\u001b[0m\u001b[1;33m)\u001b[0m\u001b[1;33m)\u001b[0m\u001b[1;33m\u001b[0m\u001b[1;33m\u001b[0m\u001b[0m\n\u001b[0m\u001b[0;32m    878\u001b[0m \u001b[1;33m\u001b[0m\u001b[0m\n\u001b[0;32m    879\u001b[0m \u001b[1;33m\u001b[0m\u001b[0m\n",
      "\u001b[1;31mValueError\u001b[0m: No parameter sigma_out"
     ]
    }
   ],
   "source": [
    "np.mean(dr_out._sample_result['sigma_out'],axis=0)"
   ]
  },
  {
   "cell_type": "code",
   "execution_count": null,
   "metadata": {},
   "outputs": [],
   "source": [
    "dr_lib = drt.DRT(basis_freq=np.logspace(4,-5,101))\n",
    "# finer tau for plotting\n",
    "tau_plot = np.logspace(np.log10(np.min(dr_lib.tau)),np.log10(np.max(dr_lib.tau)),200)\n",
    "\n",
    "# run ridge_fit to generate A matrices\n",
    "Z_lib = lib_df['Zreal'] + 1j*lib_df['Zimag']\n",
    "f = lib_df['Freq'].values\n",
    "Z_lib = Z_lib\n",
    "dr_lib.ridge_fit(f,Z_lib.values)"
   ]
  },
  {
   "cell_type": "code",
   "execution_count": 369,
   "metadata": {},
   "outputs": [
    {
     "name": "stderr",
     "output_type": "stream",
     "text": [
      "../bayes-drt\\drt.py:311: UserWarning: Hyperparametric solution did not converge within 20 iterations\n",
      "  warnings.warn(f'Hyperparametric solution did not converge within {max_iter} iterations')\n"
     ]
    },
    {
     "data": {
      "image/png": "[encoded data removed]",
      "text/plain": [
       "<Figure size 864x432 with 6 Axes>"
      ]
     },
     "metadata": {
      "needs_background": "light"
     },
     "output_type": "display_data"
    }
   ],
   "source": [
    "from scipy.stats import iqr\n",
    "\n",
    "dr_tco.ridge_fit(tco_df['Freq'].values,Z_tco,dZ=True,beta=3,lambda_0=1e-2)\n",
    "\n",
    "fig,axes = plt.subplots(2,3,figsize=(12,6))\n",
    "\n",
    "gt.plot_full_eis(tco_df,axes=axes[0],bode_cols=['Zreal','Zimag'])\n",
    "\n",
    "Z_pred = dr_tco.predict(tco_df['Freq'].values)\n",
    "df_pred = gt.construct_eis_df(tco_df['Freq'],Z_pred)\n",
    "gt.plot_full_eis(df_pred,axes=axes[0],bode_cols=['Zreal','Zimag'],plot_func='plot')\n",
    "\n",
    "axes[1,0].plot(dr_tco.tau,dr_tco.drt())\n",
    "re_err = Z_pred.real - tco_df['Zreal']\n",
    "im_err = Z_pred.imag - tco_df['Zimag']\n",
    "axes[1,1].scatter(tco_df['Freq'],re_err,s=10)\n",
    "axes[1,2].scatter(tco_df['Freq'],im_err,s=10)\n",
    "# axes[1,1].axhline(-3*np.std(re_err))\n",
    "axes[1,1].axhline(-5*iqr(re_err))\n",
    "axes[1,1].axhline(5*iqr(re_err))\n",
    "# axes[1,1].axhline(3*np.std(re_err))\n",
    "\n",
    "axes[1,2].axhline(-5*iqr(im_err))\n",
    "axes[1,2].axhline(5*iqr(im_err))\n",
    "\n",
    "for ax in axes[1]:\n",
    "    ax.set_xscale('log')"
   ]
  },
  {
   "cell_type": "code",
   "execution_count": null,
   "metadata": {},
   "outputs": [],
   "source": [
    "\n"
   ]
  },
  {
   "cell_type": "code",
   "execution_count": 862,
   "metadata": {},
   "outputs": [
    {
     "name": "stdout",
     "output_type": "stream",
     "text": [
      "fit time: 20.9215247631073\n"
     ]
    }
   ],
   "source": [
    "Z_tco = (tco_df['Zreal'] + 1j*tco_df['Zimag']).values\n",
    "start = time.time()\n",
    "dr_tco.map_fit(tco_df['Freq'].values,Z_tco,dZ=False,init_from_ridge=True,outliers=True,max_iter=30e3,sigma_min=0.002)\n",
    "print('fit time:',time.time() - start)"
   ]
  },
  {
   "cell_type": "code",
   "execution_count": 863,
   "metadata": {},
   "outputs": [
    {
     "data": {
      "image/png": "[encoded data removed]",
      "text/plain": [
       "<Figure size 864x432 with 6 Axes>"
      ]
     },
     "metadata": {
      "needs_background": "light"
     },
     "output_type": "display_data"
    }
   ],
   "source": [
    "fig,axes = plt.subplots(2,3,figsize=(12,6))\n",
    "\n",
    "gt.plot_full_eis(tco_df,axes=axes[0],bode_cols=['Zreal','Zimag'])\n",
    "\n",
    "Z_pred = dr_tco.predict(tco_df['Freq'].values)\n",
    "df_pred = gt.construct_eis_df(tco_df['Freq'],Z_pred)\n",
    "gt.plot_full_eis(df_pred,axes=axes[0],bode_cols=['Zreal','Zimag'],plot_func='plot')\n",
    "\n",
    "axes[1,0].plot(dr_tco.tau,dr_tco.drt())\n",
    "re_err = Z_pred.real - tco_df['Zreal']\n",
    "im_err = Z_pred.imag - tco_df['Zimag']\n",
    "axes[1,1].scatter(tco_df['Freq'],re_err,s=10)\n",
    "axes[1,2].scatter(tco_df['Freq'],im_err,s=10)\n",
    "\n",
    "sigma_re = dr_tco._opt_result['sigma_tot'][:len(tco_df)]*dr_tco._Z_scale\n",
    "sigma_im = dr_tco._opt_result['sigma_tot'][len(tco_df):]*dr_tco._Z_scale\n",
    "axes[1,1].fill_between(tco_df['Freq'],-3*sigma_re,3*sigma_re,alpha=0.2,color='gray')\n",
    "axes[1,2].fill_between(tco_df['Freq'],-3*sigma_im,3*sigma_im,alpha=0.2,color='gray')\n",
    "\n",
    "# axes[1,1].axhline(-3*np.std(re_err))\n",
    "# axes[1,1].axhline(-5*iqr(re_err))\n",
    "# axes[1,1].axhline(5*iqr(re_err))\n",
    "# axes[1,1].axhline(3*np.std(re_err))\n",
    "\n",
    "# axes[1,2].axhline(-5*iqr(im_err))\n",
    "# axes[1,2].axhline(5*iqr(im_err))\n",
    "\n",
    "for ax in axes[1]:\n",
    "    ax.set_xscale('log')"
   ]
  },
  {
   "cell_type": "code",
   "execution_count": 864,
   "metadata": {},
   "outputs": [
    {
     "name": "stdout",
     "output_type": "stream",
     "text": [
      "8.65e+08\n"
     ]
    }
   ],
   "source": [
    "cdf = tco_df[~tco_df.index.isin([61,62,63,64])]\n",
    "Zc = cdf['Zreal'] + 1j*cdf['Zimag']\n",
    "score = dr_tco.score(cdf['Freq'].values,Zc.values)\n",
    "print('{:.2e}'.format(score))"
   ]
  },
  {
   "cell_type": "code",
   "execution_count": 746,
   "metadata": {},
   "outputs": [],
   "source": [
    "def zarc_drt(t,t0,n):\n",
    "    \"Analytical DRT of ZARC\"\n",
    "    return (1/(2*np.pi))*np.sin((1-n)*np.pi)/(np.cosh(n*np.log(t/t0))-np.cos((1-n)*np.pi))\n",
    "\n",
    "def ger_drt(t,t0):\n",
    "    \"Analytical DRT of Gerischer\"\n",
    "    t = np.sort(t)\n",
    "    tl = t[t<=t0]\n",
    "    th = t[t>t0]\n",
    "    out = np.zeros(len(t))\n",
    "    out[:len(tl)] = (1/np.pi)*np.sqrt(tl/(t0-tl))\n",
    "    out[len(tl):] = 0\n",
    "    return out"
   ]
  },
  {
   "cell_type": "code",
   "execution_count": 764,
   "metadata": {},
   "outputs": [
    {
     "data": {
      "text/plain": [
       "(0, 10000000.0)"
      ]
     },
     "execution_count": 764,
     "metadata": {},
     "output_type": "execute_result"
    },
    {
     "data": {
      "image/png": "[encoded data removed]",
      "text/plain": [
       "<Figure size 432x288 with 1 Axes>"
      ]
     },
     "metadata": {
      "needs_background": "light"
     },
     "output_type": "display_data"
    }
   ],
   "source": [
    "tau_plot = np.logspace(np.log10(np.min(dr_tco.tau)),np.log10(np.max(dr_tco.tau)),200)\n",
    "plt.plot(tau_plot,dr_tco.drt(tau_plot))\n",
    "plt.xscale('log')\n",
    "plt.axvline(1/(2*np.pi*np.min(tco_df['Freq'])))\n",
    "plt.axvline(1/(2*np.pi*np.max(tco_df['Freq'])))\n",
    "\n",
    "# ecm_drt = zarc_drt(dr_tco.tau,)\n",
    "ecm_drt = 5e6*zarc_drt(tau_plot,0.55e-3,0.85) \\\n",
    "    + 10e6*ger_drt(tau_plot,5)\n",
    "plt.plot(tau_plot,ecm_drt)\n",
    "\n",
    "plt.ylim(0,1e7)"
   ]
  },
  {
   "cell_type": "code",
   "execution_count": 655,
   "metadata": {},
   "outputs": [
    {
     "data": {
      "text/plain": [
       "[<matplotlib.lines.Line2D at 0x2146a8ff848>]"
      ]
     },
     "execution_count": 655,
     "metadata": {},
     "output_type": "execute_result"
    },
    {
     "data": {
      "image/png": "[encoded data removed]",
      "text/plain": [
       "<Figure size 432x288 with 1 Axes>"
      ]
     },
     "metadata": {
      "needs_background": "light"
     },
     "output_type": "display_data"
    }
   ],
   "source": [
    "x= np.arange(-1,1,0.001)\n",
    "scale = 0.1\n",
    "plt.plot(x,np.exp(-np.abs(x)/scale))"
   ]
  },
  {
   "cell_type": "code",
   "execution_count": 744,
   "metadata": {},
   "outputs": [
    {
     "data": {
      "text/plain": [
       "[<matplotlib.lines.Line2D at 0x214716b2e08>]"
      ]
     },
     "execution_count": 744,
     "metadata": {},
     "output_type": "execute_result"
    },
    {
     "data": {
      "image/png": "[encoded data removed]",
      "text/plain": [
       "<Figure size 432x288 with 1 Axes>"
      ]
     },
     "metadata": {
      "needs_background": "light"
     },
     "output_type": "display_data"
    }
   ],
   "source": [
    "plt.plot(dr_tco._opt_result['sigma_out_raw'])#-dr_tco._opt_result['sigma_out'])\n",
    "# plt.plot(re_err/dr_tco._Z_scale)\n",
    "# plt.axhline(0.01)"
   ]
  },
  {
   "cell_type": "code",
   "execution_count": 307,
   "metadata": {},
   "outputs": [
    {
     "data": {
      "text/plain": [
       "[<matplotlib.lines.Line2D at 0x2146196e748>]"
      ]
     },
     "execution_count": 307,
     "metadata": {},
     "output_type": "execute_result"
    },
    {
     "data": {
      "image/png": "[encoded data removed]",
      "text/plain": [
       "<Figure size 432x288 with 1 Axes>"
      ]
     },
     "metadata": {
      "needs_background": "light"
     },
     "output_type": "display_data"
    }
   ],
   "source": [
    "plt.plot(dr_tco._opt_result['sigma_tot'])"
   ]
  },
  {
   "cell_type": "code",
   "execution_count": 694,
   "metadata": {},
   "outputs": [
    {
     "data": {
      "text/plain": [
       "OrderedDict([('hfr_raw', array(2.21535578e-05)),\n",
       "             ('induc', array(1.80043104e-11)),\n",
       "             ('beta',\n",
       "              array([-6.87397307e-04, -1.02471491e-03, -1.21305592e-03, -1.21155190e-03,\n",
       "                     -1.06425950e-03, -8.16437368e-04, -5.23541103e-04, -2.40716429e-04,\n",
       "                     -3.74625646e-06,  1.75332735e-04,  2.93177967e-04,  3.51496545e-04,\n",
       "                      3.54153187e-04,  3.13897338e-04,  2.48119294e-04,  1.69116256e-04,\n",
       "                      8.17459197e-05, -1.13956822e-05, -1.00740032e-04, -1.76646102e-04,\n",
       "                     -2.26106597e-04, -2.34752460e-04, -1.92899381e-04, -9.94934968e-05,\n",
       "                      2.91319863e-05,  1.69108507e-04,  2.94818650e-04,  3.81162765e-04,\n",
       "                      4.02749350e-04,  3.39332267e-04,  1.88173282e-04, -3.16663757e-05,\n",
       "                     -2.69047636e-04, -4.48656749e-04, -4.79170940e-04, -2.62045389e-04,\n",
       "                      2.86789649e-04,  1.22080704e-03,  2.54885843e-03,  4.23572400e-03,\n",
       "                      6.23364096e-03,  8.47779776e-03,  1.10843519e-02,  1.35860175e-02,\n",
       "                      1.87507540e-02,  1.46112689e-02,  7.42878811e-02,  2.43692969e-01,\n",
       "                      4.17169495e-01,  5.80217302e-01,  7.98754556e-01,  6.08221248e-01,\n",
       "                      4.81727495e-01,  3.41749662e-01,  2.21533031e-01,  1.00711506e-01,\n",
       "                      1.05040359e-01,  9.17757355e-02,  8.56453564e-02,  8.08609368e-02,\n",
       "                      7.80997476e-02,  7.66780739e-02,  7.63397830e-02,  7.67134877e-02,\n",
       "                      7.75293633e-02,  7.85795685e-02,  7.98260444e-02,  8.12433106e-02,\n",
       "                      8.30900931e-02,  8.56014981e-02,  8.90944673e-02,  9.38636983e-02,\n",
       "                      1.00130956e-01,  1.08059126e-01,  1.17722787e-01,  1.29153240e-01,\n",
       "                      1.42390690e-01,  1.57587020e-01,  1.74948863e-01,  1.95345294e-01,\n",
       "                      2.19583864e-01,  2.48821408e-01,  2.82723955e-01,  3.21420836e-01,\n",
       "                      3.64097914e-01,  4.11422467e-01,  4.64832993e-01,  5.28618493e-01,\n",
       "                      6.09354753e-01,  7.16951592e-01,  8.57827140e-01,  1.02533487e+00,\n",
       "                      1.20632666e+00,  1.38120746e+00,  1.51967527e+00,  1.39677026e+00,\n",
       "                      1.17182591e+00,  8.84165124e-01,  5.74300465e-01,  2.82819659e-01,\n",
       "                     -3.54331022e-02,  1.71010730e-02,  4.13818141e-03,  5.22753519e-03,\n",
       "                      3.73428657e-03,  3.00369174e-03,  2.30562556e-03,  1.74800218e-03,\n",
       "                      1.27108789e-03,  8.46451246e-04,  4.77001729e-04])),\n",
       "             ('sigma_res_raw', array(0.00103844)),\n",
       "             ('alpha_prop_raw', array(0.01319397)),\n",
       "             ('alpha_re_raw', array(0.06985313)),\n",
       "             ('alpha_im_raw', array(0.00703227)),\n",
       "             ('sigma_out_raw',\n",
       "              array([0.01030062, 0.00878608, 0.00878784, 0.00879692, 0.00881012,\n",
       "                     0.00882959, 0.00884449, 0.00885447, 0.00885713, 0.0088717 ,\n",
       "                     0.00880345, 0.00879632, 0.00878742, 0.00878273, 0.00878279,\n",
       "                     0.00882578, 0.00881497, 0.00881432, 0.00881703, 0.00883562,\n",
       "                     0.00881237, 0.00882387, 0.0088148 , 0.00886903, 0.00887471,\n",
       "                     0.00890548, 0.00889322, 0.00882719, 0.00880608, 0.00879939,\n",
       "                     0.00880613, 0.00881478, 0.00930823, 0.00935844, 0.00883617,\n",
       "                     0.00899121, 0.00905279, 0.00912139, 0.00925816, 0.00939415,\n",
       "                     0.00959507, 0.01007018, 0.01224621, 0.0131724 , 0.01078153,\n",
       "                     0.01121233, 0.0112916 , 0.01206049, 0.0135104 , 0.01535661,\n",
       "                     0.01564604, 0.01707939, 0.01866381, 0.02132016, 0.02446291,\n",
       "                     0.02750847, 0.02406067, 0.02997983, 0.02572754, 0.02554417,\n",
       "                     0.02772776, 0.15188244, 0.02858573, 1.1619924 , 1.17776041,\n",
       "                     0.32206779, 0.22970352, 0.02861827, 0.07022667, 0.03363493,\n",
       "                     0.03223335, 0.0286439 , 0.02906315, 0.02855261, 0.03212383,\n",
       "                     0.03127668, 0.03363502, 0.0309588 , 0.03104025, 0.0346884 ,\n",
       "                     0.03478389, 0.0417475 , 0.02940718, 0.03062569, 0.0296794 ,\n",
       "                     0.03051875, 0.03256007, 0.03817648, 0.02997949, 0.03168778,\n",
       "                     0.03272514, 0.03814035, 0.03094525, 0.03102956, 0.03125613,\n",
       "                     0.03137229, 0.03204461, 0.03281071, 0.03143632, 0.03143862,\n",
       "                     0.0383352 , 0.04497395, 0.03205109, 0.03915217, 0.11952624,\n",
       "                     0.03513682, 0.00883631, 0.0089884 , 0.0088905 , 0.00883312,\n",
       "                     0.00880722, 0.00879551, 0.00878979, 0.00879201, 0.00878776,\n",
       "                     0.00878822, 0.00877997, 0.00878233, 0.0088001 , 0.00885127,\n",
       "                     0.00901722, 0.00882211, 0.00878235, 0.00878358, 0.00878806,\n",
       "                     0.00879524, 0.00879272, 0.00880908, 0.00883406, 0.00882607,\n",
       "                     0.00883492, 0.00892569, 0.00889453, 0.00886029, 0.00882049,\n",
       "                     0.00894032, 0.009173  , 0.00883454, 0.00884015, 0.00917533,\n",
       "                     0.00953294, 0.00961195, 0.00977814, 0.00998466, 0.00997488,\n",
       "                     0.0103934 , 0.00991876, 0.01057809, 0.01043678, 0.01152951,\n",
       "                     0.01245491, 0.01240041, 0.01374559, 0.01524167, 0.02431247,\n",
       "                     0.01840562, 0.01603648, 0.01880107, 0.01915481, 0.01995705,\n",
       "                     0.02144301, 0.02443637, 0.02327225, 0.07252146, 0.11223135,\n",
       "                     0.02813766, 0.09390657, 0.30702966, 0.62486102, 1.18881617,\n",
       "                     0.58371991, 0.37763681, 0.18602594, 0.03251169, 0.03098578,\n",
       "                     0.03209005, 0.03474364, 0.03088434, 0.03232593, 0.10019188,\n",
       "                     0.0290622 , 0.03042104, 0.02865552, 0.03131613, 0.02973914,\n",
       "                     0.02985211, 0.03094408, 0.03149343, 0.0306399 , 0.02963458,\n",
       "                     0.0293708 , 0.02948819, 0.02970683, 0.03030293, 0.02994167,\n",
       "                     0.03003333, 0.0304442 , 0.03051095, 0.03097839, 0.03179564,\n",
       "                     0.03255499, 0.03100444, 0.03092547, 0.03166548, 0.03162982,\n",
       "                     0.03287681, 0.04204506, 0.04926719, 0.03558154, 0.03196359,\n",
       "                     0.03629379, 0.03266586])),\n",
       "             ('tau_raw',\n",
       "              array([0.04908965, 0.04905529, 0.04902216, 0.04896308, 0.04890659,\n",
       "                     0.04886681, 0.04884558, 0.04883776, 0.04883554, 0.04883135,\n",
       "                     0.0488214 , 0.04880841, 0.04879713, 0.04879125, 0.04878926,\n",
       "                     0.04878894, 0.04878807, 0.04878714, 0.04878781, 0.04879058,\n",
       "                     0.04879455, 0.0487976 , 0.04879774, 0.04879492, 0.04879295,\n",
       "                     0.04879484, 0.04880298, 0.04881467, 0.04882366, 0.04882365,\n",
       "                     0.04881369, 0.04880714, 0.04883401, 0.04892851, 0.04910934,\n",
       "                     0.04936721, 0.04967181, 0.05001386, 0.05043403, 0.05101587,\n",
       "                     0.05181801, 0.0526887 , 0.05337961, 0.06405169, 0.16125591,\n",
       "                     0.81221188, 1.31219778, 0.93691021, 0.97474583, 1.30286811,\n",
       "                     3.68229431, 1.20975502, 0.88243688, 0.78817922, 0.74752703,\n",
       "                     1.14298943, 0.26042424, 0.14940919, 0.13421006, 0.1261669 ,\n",
       "                     0.12044627, 0.11732108, 0.11615496, 0.11635262, 0.11739963,\n",
       "                     0.11888633, 0.120592  , 0.12258051, 0.12518027, 0.12886212,\n",
       "                     0.13407214, 0.14111309, 0.15012776, 0.16116596, 0.17426621,\n",
       "                     0.18959611, 0.20753056, 0.22890389, 0.25458724, 0.28546151,\n",
       "                     0.32107364, 0.36062153, 0.40337644, 0.45005204, 0.50228458,\n",
       "                     0.56584409, 0.65329517, 0.78431406, 0.970197  , 1.18327991,\n",
       "                     1.36697305, 1.54209561, 1.76297678, 2.3901444 , 3.31396296,\n",
       "                     2.50647383, 2.08991803, 1.83933034, 1.62324361, 1.6670806 ,\n",
       "                     2.68540732, 0.38678098, 0.08916164, 0.04948984, 0.0494565 ,\n",
       "                     0.04953799, 0.04926848, 0.04908464, 0.04897469, 0.04891029,\n",
       "                     0.04888402])),\n",
       "             ('d0_strength', array(0.15210393)),\n",
       "             ('d1_strength', array(0.27660995)),\n",
       "             ('d2_strength', array(0.28688338)),\n",
       "             ('hfr', array(0.00221536)),\n",
       "             ('LB',\n",
       "              array([7.70893038e-04, 7.22631485e-04, 6.75538380e-04, 5.80481268e-04,\n",
       "                     4.74809383e-04, 3.82047689e-04, 3.30370838e-04, 3.13151896e-04,\n",
       "                     2.89269430e-04, 2.59499359e-04, 2.30896117e-04, 2.04826871e-04,\n",
       "                     1.68435636e-04, 1.31045751e-04, 1.10106021e-04, 1.02471014e-04,\n",
       "                     9.91937801e-05, 9.73299288e-05, 1.02063015e-04, 1.19345754e-04,\n",
       "                     1.48578706e-04, 1.75185370e-04, 1.84248224e-04, 1.64332468e-04,\n",
       "                     1.45764659e-04, 1.53399429e-04, 1.87698020e-04, 2.40801967e-04,\n",
       "                     2.93585759e-04, 3.14769206e-04, 2.91428648e-04, 2.42433042e-04,\n",
       "                     3.01845809e-04, 5.22150971e-04, 8.29568813e-04, 1.15971260e-03,\n",
       "                     1.47876318e-03, 1.77517312e-03, 2.07645297e-03, 2.43346807e-03,\n",
       "                     2.87232951e-03, 3.43888995e-03, 4.07626436e-03, 5.44596956e-03,\n",
       "                     1.26075149e-02, 1.99436184e-01, 3.10568422e-01, 1.95680216e-01,\n",
       "                     2.08966434e-01, 2.50418619e-01, 9.15900031e-01, 2.25268915e-01,\n",
       "                     1.86976158e-01, 1.66709267e-01, 1.50783679e-01, 2.88236271e-01,\n",
       "                     3.52486417e-02, 2.64531770e-02, 2.31263554e-02, 2.12341398e-02,\n",
       "                     1.99782142e-02, 1.93378200e-02, 1.90944269e-02, 1.91358663e-02,\n",
       "                     1.93364252e-02, 1.96111415e-02, 1.99331902e-02, 2.03259042e-02,\n",
       "                     2.08845110e-02, 2.17093238e-02, 2.28860581e-02, 2.44617414e-02,\n",
       "                     2.64675120e-02, 2.89039875e-02, 3.17769964e-02, 3.51046251e-02,\n",
       "                     3.89390222e-02, 4.33730319e-02, 4.87827314e-02, 5.53448893e-02,\n",
       "                     6.32513515e-02, 7.18045631e-02, 8.13913522e-02, 9.17335086e-02,\n",
       "                     1.03427372e-01, 1.17206469e-01, 1.35500640e-01, 1.61880297e-01,\n",
       "                     1.99850566e-01, 2.42692207e-01, 2.79960630e-01, 3.16683963e-01,\n",
       "                     3.56202422e-01, 4.41379005e-01, 7.81768941e-01, 5.63440941e-01,\n",
       "                     4.52953514e-01, 3.92907633e-01, 3.51789362e-01, 3.40025593e-01,\n",
       "                     8.26013466e-01, 3.53509792e-02, 4.60739047e-03, 1.56891148e-03,\n",
       "                     1.55882059e-03, 1.18075760e-03, 9.54599189e-04, 7.54316464e-04,\n",
       "                     6.03011270e-04, 4.89743197e-04, 4.47264938e-04])),\n",
       "             ('sigma_res', array(5.19219022e-05)),\n",
       "             ('alpha_prop', array(0.0006597)),\n",
       "             ('alpha_re', array(0.00349266)),\n",
       "             ('alpha_im', array(0.00035161)),\n",
       "             ('sigma_out',\n",
       "              array([0.00051503, 0.0004393 , 0.00043939, 0.00043985, 0.00044051,\n",
       "                     0.00044148, 0.00044222, 0.00044272, 0.00044286, 0.00044359,\n",
       "                     0.00044017, 0.00043982, 0.00043937, 0.00043914, 0.00043914,\n",
       "                     0.00044129, 0.00044075, 0.00044072, 0.00044085, 0.00044178,\n",
       "                     0.00044062, 0.00044119, 0.00044074, 0.00044345, 0.00044374,\n",
       "                     0.00044527, 0.00044466, 0.00044136, 0.0004403 , 0.00043997,\n",
       "                     0.00044031, 0.00044074, 0.00046541, 0.00046792, 0.00044181,\n",
       "                     0.00044956, 0.00045264, 0.00045607, 0.00046291, 0.00046971,\n",
       "                     0.00047975, 0.00050351, 0.00061231, 0.00065862, 0.00053908,\n",
       "                     0.00056062, 0.00056458, 0.00060302, 0.00067552, 0.00076783,\n",
       "                     0.0007823 , 0.00085397, 0.00093319, 0.00106601, 0.00122315,\n",
       "                     0.00137542, 0.00120303, 0.00149899, 0.00128638, 0.00127721,\n",
       "                     0.00138639, 0.00759412, 0.00142929, 0.05809962, 0.05888802,\n",
       "                     0.01610339, 0.01148518, 0.00143091, 0.00351133, 0.00168175,\n",
       "                     0.00161167, 0.0014322 , 0.00145316, 0.00142763, 0.00160619,\n",
       "                     0.00156383, 0.00168175, 0.00154794, 0.00155201, 0.00173442,\n",
       "                     0.00173919, 0.00208737, 0.00147036, 0.00153128, 0.00148397,\n",
       "                     0.00152594, 0.001628  , 0.00190882, 0.00149897, 0.00158439,\n",
       "                     0.00163626, 0.00190702, 0.00154726, 0.00155148, 0.00156281,\n",
       "                     0.00156861, 0.00160223, 0.00164054, 0.00157182, 0.00157193,\n",
       "                     0.00191676, 0.0022487 , 0.00160255, 0.00195761, 0.00597631,\n",
       "                     0.00175684, 0.00044182, 0.00044942, 0.00044453, 0.00044166,\n",
       "                     0.00044036, 0.00043978, 0.00043949, 0.0004396 , 0.00043939,\n",
       "                     0.00043941, 0.000439  , 0.00043912, 0.00044   , 0.00044256,\n",
       "                     0.00045086, 0.00044111, 0.00043912, 0.00043918, 0.0004394 ,\n",
       "                     0.00043976, 0.00043964, 0.00044045, 0.0004417 , 0.0004413 ,\n",
       "                     0.00044175, 0.00044628, 0.00044473, 0.00044301, 0.00044102,\n",
       "                     0.00044702, 0.00045865, 0.00044173, 0.00044201, 0.00045877,\n",
       "                     0.00047665, 0.0004806 , 0.00048891, 0.00049923, 0.00049874,\n",
       "                     0.00051967, 0.00049594, 0.0005289 , 0.00052184, 0.00057648,\n",
       "                     0.00062275, 0.00062002, 0.00068728, 0.00076208, 0.00121562,\n",
       "                     0.00092028, 0.00080182, 0.00094005, 0.00095774, 0.00099785,\n",
       "                     0.00107215, 0.00122182, 0.00116361, 0.00362607, 0.00561157,\n",
       "                     0.00140688, 0.00469533, 0.01535148, 0.03124305, 0.05944081,\n",
       "                     0.029186  , 0.01888184, 0.0093013 , 0.00162558, 0.00154929,\n",
       "                     0.0016045 , 0.00173718, 0.00154422, 0.0016163 , 0.00500959,\n",
       "                     0.00145311, 0.00152105, 0.00143278, 0.00156581, 0.00148696,\n",
       "                     0.00149261, 0.0015472 , 0.00157467, 0.00153199, 0.00148173,\n",
       "                     0.00146854, 0.00147441, 0.00148534, 0.00151515, 0.00149708,\n",
       "                     0.00150167, 0.00152221, 0.00152555, 0.00154892, 0.00158978,\n",
       "                     0.00162775, 0.00155022, 0.00154627, 0.00158327, 0.00158149,\n",
       "                     0.00164384, 0.00210225, 0.00246336, 0.00177908, 0.00159818,\n",
       "                     0.00181469, 0.00163329])),\n",
       "             ('y_hat',\n",
       "              array([ 1.04075139e-04,  1.20473630e-04,  1.43427587e-04,  1.69763200e-04,\n",
       "                      1.96687991e-04,  2.21838818e-04,  2.43410389e-04,  2.60122546e-04,\n",
       "                      2.71415036e-04,  2.77259158e-04,  2.78249256e-04,  2.75537217e-04,\n",
       "                      2.70680995e-04,  2.65660666e-04,  2.62593257e-04,  2.63729369e-04,\n",
       "                      2.71197121e-04,  2.86987346e-04,  3.13111245e-04,  3.50292463e-04,\n",
       "                      4.00828755e-04,  4.64938193e-04,  5.46682392e-04,  6.45015323e-04,\n",
       "                      7.69091007e-04,  9.18906653e-04,  1.10925129e-03,  1.36263390e-03,\n",
       "                      1.68255702e-03,  2.12659898e-03,  2.69869348e-03,  3.46131232e-03,\n",
       "                      4.53798582e-03,  5.93067406e-03,  7.86546670e-03,  1.02980958e-02,\n",
       "                      1.34301504e-02,  1.77671665e-02,  2.35205754e-02,  3.04117143e-02,\n",
       "                      4.03831523e-02,  5.23579354e-02,  6.78747077e-02,  8.69983562e-02,\n",
       "                      1.11416361e-01,  1.43431315e-01,  1.82214457e-01,  2.29601711e-01,\n",
       "                      2.86031678e-01,  3.48358360e-01,  4.24321993e-01,  5.03015072e-01,\n",
       "                      5.94105545e-01,  6.87928860e-01,  7.81761983e-01,  8.80393483e-01,\n",
       "                      9.72657931e-01,  1.06161901e+00,  1.13955372e+00,  1.21804108e+00,\n",
       "                      1.28502109e+00,  1.34295834e+00,  1.39613344e+00,  1.44527427e+00,\n",
       "                      1.48755738e+00,  1.52400821e+00,  1.55840261e+00,  1.58863251e+00,\n",
       "                      1.61779737e+00,  1.64440500e+00,  1.67112116e+00,  1.69654733e+00,\n",
       "                      1.72067248e+00,  1.74358959e+00,  1.76698329e+00,  1.79204914e+00,\n",
       "                      1.81556509e+00,  1.84013395e+00,  1.86610260e+00,  1.89167023e+00,\n",
       "                      1.91719302e+00,  1.94496398e+00,  1.97470612e+00,  2.00444394e+00,\n",
       "                      2.03626033e+00,  2.07186558e+00,  2.10748471e+00,  2.14530525e+00,\n",
       "                      2.18680409e+00,  2.23083257e+00,  2.28161510e+00,  2.33176556e+00,\n",
       "                      2.39208760e+00,  2.45379317e+00,  2.51897214e+00,  2.59301349e+00,\n",
       "                      2.67396459e+00,  2.76080323e+00,  2.85930705e+00,  2.96455453e+00,\n",
       "                      3.07849159e+00,  3.20801072e+00,  3.34539250e+00,  3.49891791e+00,\n",
       "                      3.66333357e+00,  3.84259020e+00, -1.76365995e-04, -3.34997082e-04,\n",
       "                     -4.88298278e-04, -6.45366639e-04, -8.06550475e-04, -9.74551603e-04,\n",
       "                     -1.15944285e-03, -1.36430790e-03, -1.59830825e-03, -1.86722909e-03,\n",
       "                     -2.18124264e-03, -2.54799091e-03, -2.98129402e-03, -3.48609629e-03,\n",
       "                     -4.07909907e-03, -4.77479081e-03, -5.58119659e-03, -6.51979502e-03,\n",
       "                     -7.62153328e-03, -8.88056972e-03, -1.03569789e-02, -1.20507340e-02,\n",
       "                     -1.40572558e-02, -1.63313110e-02, -1.90355501e-02, -2.20893310e-02,\n",
       "                     -2.56655340e-02, -2.99690058e-02, -3.47990321e-02, -4.06765067e-02,\n",
       "                     -4.72582649e-02, -5.48696874e-02, -6.41512389e-02, -7.45317324e-02,\n",
       "                     -8.70276709e-02, -1.00698807e-01, -1.16128573e-01, -1.34835382e-01,\n",
       "                     -1.56502053e-01, -1.79271208e-01, -2.08077988e-01, -2.38229163e-01,\n",
       "                     -2.72329007e-01, -3.08921745e-01, -3.49466364e-01, -3.95128752e-01,\n",
       "                     -4.42221435e-01, -4.90809947e-01, -5.39043877e-01, -5.82913989e-01,\n",
       "                     -6.25747622e-01, -6.59982766e-01, -6.88576750e-01, -7.07139241e-01,\n",
       "                     -7.15523217e-01, -7.13920384e-01, -7.02924786e-01, -6.83564179e-01,\n",
       "                     -6.59322210e-01, -6.27808805e-01, -5.95098395e-01, -5.62455582e-01,\n",
       "                     -5.29086901e-01, -4.95731885e-01, -4.65649496e-01, -4.39331291e-01,\n",
       "                     -4.14911960e-01, -3.94471050e-01, -3.76327813e-01, -3.61673285e-01,\n",
       "                     -3.49244987e-01, -3.39874525e-01, -3.33394781e-01, -3.29498777e-01,\n",
       "                     -3.27805682e-01, -3.28503852e-01, -3.31432147e-01, -3.36716358e-01,\n",
       "                     -3.44607763e-01, -3.54506699e-01, -3.66300554e-01, -3.81077042e-01,\n",
       "                     -3.98862786e-01, -4.18396016e-01, -4.40919824e-01, -4.67755874e-01,\n",
       "                     -4.95970624e-01, -5.27078830e-01, -5.62215483e-01, -6.00284034e-01,\n",
       "                     -6.44803940e-01, -6.89067282e-01, -7.42317155e-01, -7.96456665e-01,\n",
       "                     -8.52982102e-01, -9.16088089e-01, -9.83491366e-01, -1.05369564e+00,\n",
       "                     -1.13054767e+00, -1.20923387e+00, -1.29032489e+00, -1.37727840e+00,\n",
       "                     -1.46341481e+00, -1.55228174e+00, -1.63888837e+00, -1.72335331e+00])),\n",
       "             ('y_hat_re',\n",
       "              array([1.04075139e-04, 1.20473630e-04, 1.43427587e-04, 1.69763200e-04,\n",
       "                     1.96687991e-04, 2.21838818e-04, 2.43410389e-04, 2.60122546e-04,\n",
       "                     2.71415036e-04, 2.77259158e-04, 2.78249256e-04, 2.75537217e-04,\n",
       "                     2.70680995e-04, 2.65660666e-04, 2.62593257e-04, 2.63729369e-04,\n",
       "                     2.71197121e-04, 2.86987346e-04, 3.13111245e-04, 3.50292463e-04,\n",
       "                     4.00828755e-04, 4.64938193e-04, 5.46682392e-04, 6.45015323e-04,\n",
       "                     7.69091007e-04, 9.18906653e-04, 1.10925129e-03, 1.36263390e-03,\n",
       "                     1.68255702e-03, 2.12659898e-03, 2.69869348e-03, 3.46131232e-03,\n",
       "                     4.53798582e-03, 5.93067406e-03, 7.86546670e-03, 1.02980958e-02,\n",
       "                     1.34301504e-02, 1.77671665e-02, 2.35205754e-02, 3.04117143e-02,\n",
       "                     4.03831523e-02, 5.23579354e-02, 6.78747077e-02, 8.69983562e-02,\n",
       "                     1.11416361e-01, 1.43431315e-01, 1.82214457e-01, 2.29601711e-01,\n",
       "                     2.86031678e-01, 3.48358360e-01, 4.24321993e-01, 5.03015072e-01,\n",
       "                     5.94105545e-01, 6.87928860e-01, 7.81761983e-01, 8.80393483e-01,\n",
       "                     9.72657931e-01, 1.06161901e+00, 1.13955372e+00, 1.21804108e+00,\n",
       "                     1.28502109e+00, 1.34295834e+00, 1.39613344e+00, 1.44527427e+00,\n",
       "                     1.48755738e+00, 1.52400821e+00, 1.55840261e+00, 1.58863251e+00,\n",
       "                     1.61779737e+00, 1.64440500e+00, 1.67112116e+00, 1.69654733e+00,\n",
       "                     1.72067248e+00, 1.74358959e+00, 1.76698329e+00, 1.79204914e+00,\n",
       "                     1.81556509e+00, 1.84013395e+00, 1.86610260e+00, 1.89167023e+00,\n",
       "                     1.91719302e+00, 1.94496398e+00, 1.97470612e+00, 2.00444394e+00,\n",
       "                     2.03626033e+00, 2.07186558e+00, 2.10748471e+00, 2.14530525e+00,\n",
       "                     2.18680409e+00, 2.23083257e+00, 2.28161510e+00, 2.33176556e+00,\n",
       "                     2.39208760e+00, 2.45379317e+00, 2.51897214e+00, 2.59301349e+00,\n",
       "                     2.67396459e+00, 2.76080323e+00, 2.85930705e+00, 2.96455453e+00,\n",
       "                     3.07849159e+00, 3.20801072e+00, 3.34539250e+00, 3.49891791e+00,\n",
       "                     3.66333357e+00, 3.84259020e+00, 1.04075139e-04, 1.20473630e-04,\n",
       "                     1.43427587e-04, 1.69763200e-04, 1.96687991e-04, 2.21838818e-04,\n",
       "                     2.43410389e-04, 2.60122546e-04, 2.71415036e-04, 2.77259158e-04,\n",
       "                     2.78249256e-04, 2.75537217e-04, 2.70680995e-04, 2.65660666e-04,\n",
       "                     2.62593257e-04, 2.63729369e-04, 2.71197121e-04, 2.86987346e-04,\n",
       "                     3.13111245e-04, 3.50292463e-04, 4.00828755e-04, 4.64938193e-04,\n",
       "                     5.46682392e-04, 6.45015323e-04, 7.69091007e-04, 9.18906653e-04,\n",
       "                     1.10925129e-03, 1.36263390e-03, 1.68255702e-03, 2.12659898e-03,\n",
       "                     2.69869348e-03, 3.46131232e-03, 4.53798582e-03, 5.93067406e-03,\n",
       "                     7.86546670e-03, 1.02980958e-02, 1.34301504e-02, 1.77671665e-02,\n",
       "                     2.35205754e-02, 3.04117143e-02, 4.03831523e-02, 5.23579354e-02,\n",
       "                     6.78747077e-02, 8.69983562e-02, 1.11416361e-01, 1.43431315e-01,\n",
       "                     1.82214457e-01, 2.29601711e-01, 2.86031678e-01, 3.48358360e-01,\n",
       "                     4.24321993e-01, 5.03015072e-01, 5.94105545e-01, 6.87928860e-01,\n",
       "                     7.81761983e-01, 8.80393483e-01, 9.72657931e-01, 1.06161901e+00,\n",
       "                     1.13955372e+00, 1.21804108e+00, 1.28502109e+00, 1.34295834e+00,\n",
       "                     1.39613344e+00, 1.44527427e+00, 1.48755738e+00, 1.52400821e+00,\n",
       "                     1.55840261e+00, 1.58863251e+00, 1.61779737e+00, 1.64440500e+00,\n",
       "                     1.67112116e+00, 1.69654733e+00, 1.72067248e+00, 1.74358959e+00,\n",
       "                     1.76698329e+00, 1.79204914e+00, 1.81556509e+00, 1.84013395e+00,\n",
       "                     1.86610260e+00, 1.89167023e+00, 1.91719302e+00, 1.94496398e+00,\n",
       "                     1.97470612e+00, 2.00444394e+00, 2.03626033e+00, 2.07186558e+00,\n",
       "                     2.10748471e+00, 2.14530525e+00, 2.18680409e+00, 2.23083257e+00,\n",
       "                     2.28161510e+00, 2.33176556e+00, 2.39208760e+00, 2.45379317e+00,\n",
       "                     2.51897214e+00, 2.59301349e+00, 2.67396459e+00, 2.76080323e+00,\n",
       "                     2.85930705e+00, 2.96455453e+00, 3.07849159e+00, 3.20801072e+00,\n",
       "                     3.34539250e+00, 3.49891791e+00, 3.66333357e+00, 3.84259020e+00])),\n",
       "             ('y_hat_im',\n",
       "              array([-1.76365995e-04, -3.34997082e-04, -4.88298278e-04, -6.45366639e-04,\n",
       "                     -8.06550475e-04, -9.74551603e-04, -1.15944285e-03, -1.36430790e-03,\n",
       "                     -1.59830825e-03, -1.86722909e-03, -2.18124264e-03, -2.54799091e-03,\n",
       "                     -2.98129402e-03, -3.48609629e-03, -4.07909907e-03, -4.77479081e-03,\n",
       "                     -5.58119659e-03, -6.51979502e-03, -7.62153328e-03, -8.88056972e-03,\n",
       "                     -1.03569789e-02, -1.20507340e-02, -1.40572558e-02, -1.63313110e-02,\n",
       "                     -1.90355501e-02, -2.20893310e-02, -2.56655340e-02, -2.99690058e-02,\n",
       "                     -3.47990321e-02, -4.06765067e-02, -4.72582649e-02, -5.48696874e-02,\n",
       "                     -6.41512389e-02, -7.45317324e-02, -8.70276709e-02, -1.00698807e-01,\n",
       "                     -1.16128573e-01, -1.34835382e-01, -1.56502053e-01, -1.79271208e-01,\n",
       "                     -2.08077988e-01, -2.38229163e-01, -2.72329007e-01, -3.08921745e-01,\n",
       "                     -3.49466364e-01, -3.95128752e-01, -4.42221435e-01, -4.90809947e-01,\n",
       "                     -5.39043877e-01, -5.82913989e-01, -6.25747622e-01, -6.59982766e-01,\n",
       "                     -6.88576750e-01, -7.07139241e-01, -7.15523217e-01, -7.13920384e-01,\n",
       "                     -7.02924786e-01, -6.83564179e-01, -6.59322210e-01, -6.27808805e-01,\n",
       "                     -5.95098395e-01, -5.62455582e-01, -5.29086901e-01, -4.95731885e-01,\n",
       "                     -4.65649496e-01, -4.39331291e-01, -4.14911960e-01, -3.94471050e-01,\n",
       "                     -3.76327813e-01, -3.61673285e-01, -3.49244987e-01, -3.39874525e-01,\n",
       "                     -3.33394781e-01, -3.29498777e-01, -3.27805682e-01, -3.28503852e-01,\n",
       "                     -3.31432147e-01, -3.36716358e-01, -3.44607763e-01, -3.54506699e-01,\n",
       "                     -3.66300554e-01, -3.81077042e-01, -3.98862786e-01, -4.18396016e-01,\n",
       "                     -4.40919824e-01, -4.67755874e-01, -4.95970624e-01, -5.27078830e-01,\n",
       "                     -5.62215483e-01, -6.00284034e-01, -6.44803940e-01, -6.89067282e-01,\n",
       "                     -7.42317155e-01, -7.96456665e-01, -8.52982102e-01, -9.16088089e-01,\n",
       "                     -9.83491366e-01, -1.05369564e+00, -1.13054767e+00, -1.20923387e+00,\n",
       "                     -1.29032489e+00, -1.37727840e+00, -1.46341481e+00, -1.55228174e+00,\n",
       "                     -1.63888837e+00, -1.72335331e+00, -1.76365995e-04, -3.34997082e-04,\n",
       "                     -4.88298278e-04, -6.45366639e-04, -8.06550475e-04, -9.74551603e-04,\n",
       "                     -1.15944285e-03, -1.36430790e-03, -1.59830825e-03, -1.86722909e-03,\n",
       "                     -2.18124264e-03, -2.54799091e-03, -2.98129402e-03, -3.48609629e-03,\n",
       "                     -4.07909907e-03, -4.77479081e-03, -5.58119659e-03, -6.51979502e-03,\n",
       "                     -7.62153328e-03, -8.88056972e-03, -1.03569789e-02, -1.20507340e-02,\n",
       "                     -1.40572558e-02, -1.63313110e-02, -1.90355501e-02, -2.20893310e-02,\n",
       "                     -2.56655340e-02, -2.99690058e-02, -3.47990321e-02, -4.06765067e-02,\n",
       "                     -4.72582649e-02, -5.48696874e-02, -6.41512389e-02, -7.45317324e-02,\n",
       "                     -8.70276709e-02, -1.00698807e-01, -1.16128573e-01, -1.34835382e-01,\n",
       "                     -1.56502053e-01, -1.79271208e-01, -2.08077988e-01, -2.38229163e-01,\n",
       "                     -2.72329007e-01, -3.08921745e-01, -3.49466364e-01, -3.95128752e-01,\n",
       "                     -4.42221435e-01, -4.90809947e-01, -5.39043877e-01, -5.82913989e-01,\n",
       "                     -6.25747622e-01, -6.59982766e-01, -6.88576750e-01, -7.07139241e-01,\n",
       "                     -7.15523217e-01, -7.13920384e-01, -7.02924786e-01, -6.83564179e-01,\n",
       "                     -6.59322210e-01, -6.27808805e-01, -5.95098395e-01, -5.62455582e-01,\n",
       "                     -5.29086901e-01, -4.95731885e-01, -4.65649496e-01, -4.39331291e-01,\n",
       "                     -4.14911960e-01, -3.94471050e-01, -3.76327813e-01, -3.61673285e-01,\n",
       "                     -3.49244987e-01, -3.39874525e-01, -3.33394781e-01, -3.29498777e-01,\n",
       "                     -3.27805682e-01, -3.28503852e-01, -3.31432147e-01, -3.36716358e-01,\n",
       "                     -3.44607763e-01, -3.54506699e-01, -3.66300554e-01, -3.81077042e-01,\n",
       "                     -3.98862786e-01, -4.18396016e-01, -4.40919824e-01, -4.67755874e-01,\n",
       "                     -4.95970624e-01, -5.27078830e-01, -5.62215483e-01, -6.00284034e-01,\n",
       "                     -6.44803940e-01, -6.89067282e-01, -7.42317155e-01, -7.96456665e-01,\n",
       "                     -8.52982102e-01, -9.16088089e-01, -9.83491366e-01, -1.05369564e+00,\n",
       "                     -1.13054767e+00, -1.20923387e+00, -1.29032489e+00, -1.37727840e+00,\n",
       "                     -1.46341481e+00, -1.55228174e+00, -1.63888837e+00, -1.72335331e+00])),\n",
       "             ('sigma_tot',\n",
       "              array([0.00112603, 0.00109347, 0.00109351, 0.00109369, 0.00109396,\n",
       "                     0.00109435, 0.00109465, 0.00109485, 0.00109491, 0.0010952 ,\n",
       "                     0.00109382, 0.00109368, 0.0010935 , 0.00109341, 0.00109341,\n",
       "                     0.00109427, 0.00109406, 0.00109404, 0.0010941 , 0.00109448,\n",
       "                     0.00109401, 0.00109424, 0.00109406, 0.00109516, 0.00109528,\n",
       "                     0.00109592, 0.00109568, 0.00109436, 0.00109396, 0.00109386,\n",
       "                     0.00109404, 0.00109429, 0.00110457, 0.00110579, 0.00109527,\n",
       "                     0.00109881, 0.00110069, 0.00110315, 0.0011077 , 0.00111309,\n",
       "                     0.00112197, 0.00113924, 0.00120208, 0.00124254, 0.00121047,\n",
       "                     0.00126341, 0.00132857, 0.00143601, 0.00159015, 0.00177973,\n",
       "                     0.00198439, 0.00223215, 0.00252813, 0.00286004, 0.00320676,\n",
       "                     0.0035707 , 0.00380309, 0.00418882, 0.00437233, 0.00462888,\n",
       "                     0.00488166, 0.00902763, 0.00526364, 0.05833514, 0.05913362,\n",
       "                     0.01702026, 0.01279125, 0.00591221, 0.00681292, 0.00616522,\n",
       "                     0.00623676, 0.00627948, 0.00636658, 0.00643914, 0.00656061,\n",
       "                     0.00663585, 0.00674457, 0.00679649, 0.00688633, 0.00701681,\n",
       "                     0.00710503, 0.00729179, 0.00724221, 0.00735727, 0.00745744,\n",
       "                     0.00758885, 0.00773283, 0.00792628, 0.00798155, 0.00815054,\n",
       "                     0.00833669, 0.0085668 , 0.00870384, 0.00891952, 0.00914875,\n",
       "                     0.00940816, 0.00969652, 0.01000635, 0.01034027, 0.01070925,\n",
       "                     0.01116311, 0.01167532, 0.01205111, 0.01264128, 0.0143735 ,\n",
       "                     0.01382033, 0.00109448, 0.00109758, 0.00109558, 0.00109442,\n",
       "                     0.0010939 , 0.00109366, 0.00109355, 0.00109359, 0.00109351,\n",
       "                     0.00109352, 0.00109335, 0.0010934 , 0.00109376, 0.00109479,\n",
       "                     0.00109817, 0.0010942 , 0.00109341, 0.00109343, 0.00109353,\n",
       "                     0.00109368, 0.00109363, 0.00109397, 0.00109449, 0.00109435,\n",
       "                     0.00109455, 0.00109643, 0.00109584, 0.00109521, 0.00109449,\n",
       "                     0.00109704, 0.00110199, 0.00109528, 0.00109573, 0.00110304,\n",
       "                     0.00111125, 0.00111384, 0.00111869, 0.00112514, 0.00112778,\n",
       "                     0.00114105, 0.00113699, 0.00116086, 0.0011716 , 0.00121683,\n",
       "                     0.00126893, 0.00131352, 0.00141045, 0.00153661, 0.0019081 ,\n",
       "                     0.00187613, 0.00201514, 0.00228394, 0.00254766, 0.0028374 ,\n",
       "                     0.0031454 , 0.00349792, 0.00376477, 0.00530665, 0.00696967,\n",
       "                     0.00461525, 0.00658712, 0.01608876, 0.03163961, 0.05966432,\n",
       "                     0.02966378, 0.01964604, 0.01082769, 0.00587525, 0.00595057,\n",
       "                     0.00605278, 0.00617699, 0.0062099 , 0.00630824, 0.00795265,\n",
       "                     0.00642349, 0.00652318, 0.00658233, 0.00669504, 0.00676461,\n",
       "                     0.0068522 , 0.00695048, 0.0070505 , 0.00714191, 0.00723241,\n",
       "                     0.00733811, 0.00746077, 0.00758463, 0.00771984, 0.00785849,\n",
       "                     0.00801043, 0.00818874, 0.00836188, 0.00857388, 0.00879397,\n",
       "                     0.00902563, 0.00926796, 0.00954754, 0.00985436, 0.01019558,\n",
       "                     0.01057029, 0.01104358, 0.01156163, 0.01191166, 0.01241952,\n",
       "                     0.01301933, 0.01361797])),\n",
       "             ('tau',\n",
       "              array([0.00736345, 0.00735829, 0.00735332, 0.00734446, 0.00733599,\n",
       "                     0.00733002, 0.00732684, 0.00732566, 0.00732533, 0.0073247 ,\n",
       "                     0.00732321, 0.00732126, 0.00731957, 0.00731869, 0.00731839,\n",
       "                     0.00731834, 0.00731821, 0.00731807, 0.00731817, 0.00731859,\n",
       "                     0.00731918, 0.00731964, 0.00731966, 0.00731924, 0.00731894,\n",
       "                     0.00731923, 0.00732045, 0.0073222 , 0.00732355, 0.00732355,\n",
       "                     0.00732205, 0.00732107, 0.0073251 , 0.00733928, 0.0073664 ,\n",
       "                     0.00740508, 0.00745077, 0.00750208, 0.0075651 , 0.00765238,\n",
       "                     0.0077727 , 0.00790331, 0.00800694, 0.00960775, 0.02418839,\n",
       "                     0.12183178, 0.19682967, 0.14053653, 0.14621187, 0.19543022,\n",
       "                     0.55234415, 0.18146325, 0.13236553, 0.11822688, 0.11212905,\n",
       "                     0.17144841, 0.03906364, 0.02241138, 0.02013151, 0.01892503,\n",
       "                     0.01806694, 0.01759816, 0.01742324, 0.01745289, 0.01760994,\n",
       "                     0.01783295, 0.0180888 , 0.01838708, 0.01877704, 0.01932932,\n",
       "                     0.02011082, 0.02116696, 0.02251916, 0.02417489, 0.02613993,\n",
       "                     0.02843942, 0.03112958, 0.03433558, 0.03818809, 0.04281923,\n",
       "                     0.04816105, 0.05409323, 0.06050647, 0.06750781, 0.07534269,\n",
       "                     0.08487661, 0.09799428, 0.11764711, 0.14552955, 0.17749199,\n",
       "                     0.20504596, 0.23131434, 0.26444652, 0.35852166, 0.49709444,\n",
       "                     0.37597107, 0.3134877 , 0.27589955, 0.24348654, 0.25006209,\n",
       "                     0.4028111 , 0.05801715, 0.01337425, 0.00742348, 0.00741847,\n",
       "                     0.0074307 , 0.00739027, 0.0073627 , 0.0073462 , 0.00733654,\n",
       "                     0.0073326 ])),\n",
       "             ('dtau',\n",
       "              array([-6.28725969e-06,  1.32377052e-04, -1.32392805e-05, -8.54388878e-05,\n",
       "                     -9.49038667e-05, -6.86384662e-05, -2.86317878e-05,  1.00429417e-05,\n",
       "                      2.95236332e-05,  1.55440008e-05, -8.72170618e-06, -2.76882445e-05,\n",
       "                     -1.99558117e-05, -8.51306414e-06,  2.77431261e-06,  3.59915030e-07,\n",
       "                     -8.27190685e-06, -1.07227468e-05, -6.11754285e-06,  4.66834542e-06,\n",
       "                      1.49585364e-05,  1.51256906e-05, -4.38012277e-06, -1.97044416e-05,\n",
       "                     -3.20770863e-05, -1.81794379e-05,  1.38444760e-05,  4.60870128e-05,\n",
       "                      5.08960804e-05, -1.73805375e-05, -1.71245353e-04, -3.46223839e-04,\n",
       "                     -4.41063336e-04, -3.92195378e-04, -2.36697236e-04, -1.88431110e-04,\n",
       "                     -3.90490550e-04, -8.01417683e-04, -1.07955990e-03, -3.30724852e-04,\n",
       "                      8.53025581e-04, -4.67461740e-02, -3.37743341e-01, -8.58498401e-01,\n",
       "                      4.64688084e-02,  1.66757153e-01, -1.10235531e-01, -7.44518877e-02,\n",
       "                     -3.93613118e-01,  3.29411848e-01, -4.43317269e-01, -6.60275192e-02,\n",
       "                     -1.70029476e-02, -1.45852446e-01,  2.79536179e-01, -7.40666616e-01,\n",
       "                     -1.60324664e-01, -1.33297964e-02, -4.60211287e-03, -5.38711927e-03,\n",
       "                     -4.17459114e-03, -2.93525836e-03, -1.82494408e-03, -9.36311566e-04,\n",
       "                     -4.60480925e-04, -5.86340091e-04, -1.24663054e-03, -2.16106845e-03,\n",
       "                     -2.96473088e-03, -3.41407052e-03, -3.49671985e-03, -3.36966568e-03,\n",
       "                     -3.19863689e-03, -3.19863751e-03, -3.43434481e-03, -4.14260297e-03,\n",
       "                     -4.70724780e-03, -5.09738444e-03, -4.14930652e-03, -3.06452512e-03,\n",
       "                     -2.22325478e-03, -2.42992396e-03, -3.08683238e-03, -5.63772820e-03,\n",
       "                     -1.05557164e-02, -1.66723297e-02, -1.74879128e-02, -7.00887475e-03,\n",
       "                      6.20938527e-03,  1.56743868e-03, -7.41825177e-03, -5.76136977e-02,\n",
       "                     -3.10285592e-02,  1.30607049e-01, -3.89923602e-02, -1.98534238e-02,\n",
       "                     -4.68933796e-03, -4.00315322e-02, -1.46137165e-01,  3.08794223e-01,\n",
       "                     -1.29337218e+00, -7.23258224e-01, -2.00235294e-01, -5.80467617e-04,\n",
       "                      1.77133003e-03, -4.34672414e-04, -3.76355398e-04, -2.32507577e-04,\n",
       "                     -1.94892679e-04])),\n",
       "             ('y_tilde',\n",
       "              array([ 1.04075139e-04,  1.20473630e-04,  1.43427587e-04,  1.69763200e-04,\n",
       "                      1.96687991e-04,  2.21838818e-04,  2.43410389e-04,  2.60122546e-04,\n",
       "                      2.71415036e-04,  2.77259158e-04,  2.78249256e-04,  2.75537217e-04,\n",
       "                      2.70680995e-04,  2.65660666e-04,  2.62593257e-04,  2.63729369e-04,\n",
       "                      2.71197121e-04,  2.86987346e-04,  3.13111245e-04,  3.50292463e-04,\n",
       "                      4.00828755e-04,  4.64938193e-04,  5.46682392e-04,  6.45015323e-04,\n",
       "                      7.69091007e-04,  9.18906653e-04,  1.10925129e-03,  1.36263390e-03,\n",
       "                      1.68255702e-03,  2.12659898e-03,  2.69869348e-03,  3.46131232e-03,\n",
       "                      4.53798582e-03,  5.93067406e-03,  7.86546670e-03,  1.02980958e-02,\n",
       "                      1.34301504e-02,  1.77671665e-02,  2.35205754e-02,  3.04117143e-02,\n",
       "                      4.03831523e-02,  5.23579354e-02,  6.78747077e-02,  8.69983562e-02,\n",
       "                      1.11416361e-01,  1.43431315e-01,  1.82214457e-01,  2.29601711e-01,\n",
       "                      2.86031678e-01,  3.48358360e-01,  4.24321993e-01,  5.03015072e-01,\n",
       "                      5.94105545e-01,  6.87928860e-01,  7.81761983e-01,  8.80393483e-01,\n",
       "                      9.72657931e-01,  1.06161901e+00,  1.13955372e+00,  1.21804108e+00,\n",
       "                      1.28502109e+00,  1.34295834e+00,  1.39613344e+00,  1.44527427e+00,\n",
       "                      1.48755738e+00,  1.52400821e+00,  1.55840261e+00,  1.58863251e+00,\n",
       "                      1.61779737e+00,  1.64440500e+00,  1.67112116e+00,  1.69654733e+00,\n",
       "                      1.72067248e+00,  1.74358959e+00,  1.76698329e+00,  1.79204914e+00,\n",
       "                      1.81556509e+00,  1.84013395e+00,  1.86610260e+00,  1.89167023e+00,\n",
       "                      1.91719302e+00,  1.94496398e+00,  1.97470612e+00,  2.00444394e+00,\n",
       "                      2.03626033e+00,  2.07186558e+00,  2.10748471e+00,  2.14530525e+00,\n",
       "                      2.18680409e+00,  2.23083257e+00,  2.28161510e+00,  2.33176556e+00,\n",
       "                      2.39208760e+00,  2.45379317e+00,  2.51897214e+00,  2.59301349e+00,\n",
       "                      2.67396459e+00,  2.76080323e+00,  2.85930705e+00,  2.96455453e+00,\n",
       "                      3.07849159e+00,  3.20801072e+00,  3.34539250e+00,  3.49891791e+00,\n",
       "                      3.66333357e+00,  3.84259020e+00, -1.76365995e-04, -3.34997082e-04,\n",
       "                     -4.88298278e-04, -6.45366639e-04, -8.06550475e-04, -9.74551603e-04,\n",
       "                     -1.15944285e-03, -1.36430790e-03, -1.59830825e-03, -1.86722909e-03,\n",
       "                     -2.18124264e-03, -2.54799091e-03, -2.98129402e-03, -3.48609629e-03,\n",
       "                     -4.07909907e-03, -4.77479081e-03, -5.58119659e-03, -6.51979502e-03,\n",
       "                     -7.62153328e-03, -8.88056972e-03, -1.03569789e-02, -1.20507340e-02,\n",
       "                     -1.40572558e-02, -1.63313110e-02, -1.90355501e-02, -2.20893310e-02,\n",
       "                     -2.56655340e-02, -2.99690058e-02, -3.47990321e-02, -4.06765067e-02,\n",
       "                     -4.72582649e-02, -5.48696874e-02, -6.41512389e-02, -7.45317324e-02,\n",
       "                     -8.70276709e-02, -1.00698807e-01, -1.16128573e-01, -1.34835382e-01,\n",
       "                     -1.56502053e-01, -1.79271208e-01, -2.08077988e-01, -2.38229163e-01,\n",
       "                     -2.72329007e-01, -3.08921745e-01, -3.49466364e-01, -3.95128752e-01,\n",
       "                     -4.42221435e-01, -4.90809947e-01, -5.39043877e-01, -5.82913989e-01,\n",
       "                     -6.25747622e-01, -6.59982766e-01, -6.88576750e-01, -7.07139241e-01,\n",
       "                     -7.15523217e-01, -7.13920384e-01, -7.02924786e-01, -6.83564179e-01,\n",
       "                     -6.59322210e-01, -6.27808805e-01, -5.95098395e-01, -5.62455582e-01,\n",
       "                     -5.29086901e-01, -4.95731885e-01, -4.65649496e-01, -4.39331291e-01,\n",
       "                     -4.14911960e-01, -3.94471050e-01, -3.76327813e-01, -3.61673285e-01,\n",
       "                     -3.49244987e-01, -3.39874525e-01, -3.33394781e-01, -3.29498777e-01,\n",
       "                     -3.27805682e-01, -3.28503852e-01, -3.31432147e-01, -3.36716358e-01,\n",
       "                     -3.44607763e-01, -3.54506699e-01, -3.66300554e-01, -3.81077042e-01,\n",
       "                     -3.98862786e-01, -4.18396016e-01, -4.40919824e-01, -4.67755874e-01,\n",
       "                     -4.95970624e-01, -5.27078830e-01, -5.62215483e-01, -6.00284034e-01,\n",
       "                     -6.44803940e-01, -6.89067282e-01, -7.42317155e-01, -7.96456665e-01,\n",
       "                     -8.52982102e-01, -9.16088089e-01, -9.83491366e-01, -1.05369564e+00,\n",
       "                     -1.13054767e+00, -1.20923387e+00, -1.29032489e+00, -1.37727840e+00,\n",
       "                     -1.46341481e+00, -1.55228174e+00, -1.63888837e+00, -1.72335331e+00]))])"
      ]
     },
     "execution_count": 694,
     "metadata": {},
     "output_type": "execute_result"
    }
   ],
   "source": [
    "dr_tco._opt_result"
   ]
  },
  {
   "cell_type": "code",
   "execution_count": null,
   "metadata": {},
   "outputs": [],
   "source": []
  }
 ],
 "metadata": {
  "kernelspec": {
   "display_name": "Python 3",
   "language": "python",
   "name": "python3"
  },
  "language_info": {
   "codemirror_mode": {
    "name": "ipython",
    "version": 3
   },
   "file_extension": ".py",
   "mimetype": "text/x-python",
   "name": "python",
   "nbconvert_exporter": "python",
   "pygments_lexer": "ipython3",
   "version": "3.7.6"
  }
 },
 "nbformat": 4,
 "nbformat_minor": 4
}
