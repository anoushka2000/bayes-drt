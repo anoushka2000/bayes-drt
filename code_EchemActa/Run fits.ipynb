{
 "cells": [
  {
   "cell_type": "markdown",
   "metadata": {},
   "source": [
    "This notebook contains the code to apply `bayes-drt` (CHB algorithm) to the example spectra presented in the manuscript. The code to apply the Gaussian Process, Elastic Net, gEISi, and previous hierarchical Bayesian algorithms to the same data can be found in the `comparisons` directory."
   ]
  },
  {
   "cell_type": "code",
   "execution_count": 1,
   "metadata": {},
   "outputs": [],
   "source": [
    "import numpy as np\n",
    "import pandas as pd\n",
    "import os \n",
    "import sys\n",
    "import glob\n",
    "import time\n",
    "import matplotlib.pyplot as plt\n",
    "\n",
    "if '../bayes-drt' not in sys.path:\n",
    "    sys.path.append('../bayes-drt')\n",
    "import drt\n",
    "from stan_models import save_pickle,load_pickle\n",
    "import eis_utils as gt\n",
    "\n",
    "%load_ext autoreload\n",
    "%autoreload 2"
   ]
  },
  {
   "cell_type": "markdown",
   "metadata": {},
   "source": [
    "# Simulated data\n",
    "\n",
    "# DRT"
   ]
  },
  {
   "cell_type": "code",
   "execution_count": 267,
   "metadata": {},
   "outputs": [
    {
     "name": "stdout",
     "output_type": "stream",
     "text": [
      "60\n"
     ]
    },
    {
     "name": "stderr",
     "output_type": "stream",
     "text": [
      "../bayes-drt\\drt.py:448: UserWarning: Hyperparametric solution did not converge within 20 iterations\n",
      "  warnings.warn(f'Hyperparametric solution did not converge within {max_iter} iterations')\n"
     ]
    }
   ],
   "source": [
    "dr = drt.DRT()\n",
    "files = glob.glob('../data/simulated/Z_*.csv')\n",
    "# trunc and RC-ZARC circuits need different basis tau\n",
    "files = [f for f in files if f.find('trunc')==-1 and f.find('RC-ZARC')==-1 and f.find('DDT')==-1]\n",
    "print(len(files))\n",
    "# fit one file to generate A matrices\n",
    "df = pd.read_csv(files[0])\n",
    "Z = df['Zreal'] + 1j*df['Zimag']\n",
    "dr.ridge_fit(df['Freq'].values,Z.values)"
   ]
  },
  {
   "cell_type": "code",
   "execution_count": 96,
   "metadata": {},
   "outputs": [
    {
     "name": "stdout",
     "output_type": "stream",
     "text": [
      "-------------------------------\n",
      "../data/simulated\\Z_2RC_Macdonald_0.25.csv\n",
      "-------------------------------\n",
      "File fit time: 1.36 seconds\n"
     ]
    },
    {
     "name": "stderr",
     "output_type": "stream",
     "text": [
      "../bayes-drt\\stan_models.py:7: UserWarning: Pickling fit objects is an experimental feature!\n",
      "The relevant StanModel instance must be pickled along with this fit object.\n",
      "When unpickling the StanModel must be unpickled first.\n",
      "  pickle.dump(obj, f, pickle.HIGHEST_PROTOCOL)\n"
     ]
    },
    {
     "name": "stdout",
     "output_type": "stream",
     "text": [
      "Dumped pickle to map_results\\obj_2RC_Macdonald_0.25.pkl\n",
      "-------------------------------\n",
      "../data/simulated\\Z_2RC_Macdonald_1.0.csv\n",
      "-------------------------------\n",
      "File fit time: 1.24 seconds\n"
     ]
    },
    {
     "name": "stderr",
     "output_type": "stream",
     "text": [
      "../bayes-drt\\stan_models.py:7: UserWarning: Pickling fit objects is an experimental feature!\n",
      "The relevant StanModel instance must be pickled along with this fit object.\n",
      "When unpickling the StanModel must be unpickled first.\n",
      "  pickle.dump(obj, f, pickle.HIGHEST_PROTOCOL)\n"
     ]
    },
    {
     "name": "stdout",
     "output_type": "stream",
     "text": [
      "Dumped pickle to map_results\\obj_2RC_Macdonald_1.0.pkl\n",
      "-------------------------------\n",
      "../data/simulated\\Z_2RC_Macdonald_2.5.csv\n",
      "-------------------------------\n",
      "File fit time: 1.69 seconds\n"
     ]
    },
    {
     "name": "stderr",
     "output_type": "stream",
     "text": [
      "../bayes-drt\\stan_models.py:7: UserWarning: Pickling fit objects is an experimental feature!\n",
      "The relevant StanModel instance must be pickled along with this fit object.\n",
      "When unpickling the StanModel must be unpickled first.\n",
      "  pickle.dump(obj, f, pickle.HIGHEST_PROTOCOL)\n"
     ]
    },
    {
     "name": "stdout",
     "output_type": "stream",
     "text": [
      "Dumped pickle to map_results\\obj_2RC_Macdonald_2.5.pkl\n",
      "-------------------------------\n",
      "../data/simulated\\Z_2RC_noiseless.csv\n",
      "-------------------------------\n",
      "File fit time: 1.85 seconds\n"
     ]
    },
    {
     "name": "stderr",
     "output_type": "stream",
     "text": [
      "../bayes-drt\\stan_models.py:7: UserWarning: Pickling fit objects is an experimental feature!\n",
      "The relevant StanModel instance must be pickled along with this fit object.\n",
      "When unpickling the StanModel must be unpickled first.\n",
      "  pickle.dump(obj, f, pickle.HIGHEST_PROTOCOL)\n"
     ]
    },
    {
     "name": "stdout",
     "output_type": "stream",
     "text": [
      "Dumped pickle to map_results\\obj_2RC_noiseless.pkl\n",
      "-------------------------------\n",
      "../data/simulated\\Z_2RC_Orazem_0.25.csv\n",
      "-------------------------------\n",
      "File fit time: 1.62 seconds\n"
     ]
    },
    {
     "name": "stderr",
     "output_type": "stream",
     "text": [
      "../bayes-drt\\stan_models.py:7: UserWarning: Pickling fit objects is an experimental feature!\n",
      "The relevant StanModel instance must be pickled along with this fit object.\n",
      "When unpickling the StanModel must be unpickled first.\n",
      "  pickle.dump(obj, f, pickle.HIGHEST_PROTOCOL)\n"
     ]
    },
    {
     "name": "stdout",
     "output_type": "stream",
     "text": [
      "Dumped pickle to map_results\\obj_2RC_Orazem_0.25.pkl\n",
      "-------------------------------\n",
      "../data/simulated\\Z_2RC_Orazem_1.0.csv\n",
      "-------------------------------\n",
      "File fit time: 1.45 seconds\n"
     ]
    },
    {
     "name": "stderr",
     "output_type": "stream",
     "text": [
      "../bayes-drt\\stan_models.py:7: UserWarning: Pickling fit objects is an experimental feature!\n",
      "The relevant StanModel instance must be pickled along with this fit object.\n",
      "When unpickling the StanModel must be unpickled first.\n",
      "  pickle.dump(obj, f, pickle.HIGHEST_PROTOCOL)\n"
     ]
    },
    {
     "name": "stdout",
     "output_type": "stream",
     "text": [
      "Dumped pickle to map_results\\obj_2RC_Orazem_1.0.pkl\n",
      "-------------------------------\n",
      "../data/simulated\\Z_2RC_Orazem_2.5.csv\n",
      "-------------------------------\n",
      "File fit time: 2.51 seconds\n"
     ]
    },
    {
     "name": "stderr",
     "output_type": "stream",
     "text": [
      "../bayes-drt\\stan_models.py:7: UserWarning: Pickling fit objects is an experimental feature!\n",
      "The relevant StanModel instance must be pickled along with this fit object.\n",
      "When unpickling the StanModel must be unpickled first.\n",
      "  pickle.dump(obj, f, pickle.HIGHEST_PROTOCOL)\n"
     ]
    },
    {
     "name": "stdout",
     "output_type": "stream",
     "text": [
      "Dumped pickle to map_results\\obj_2RC_Orazem_2.5.pkl\n",
      "-------------------------------\n",
      "../data/simulated\\Z_2RC_uniform_0.25.csv\n",
      "-------------------------------\n",
      "File fit time: 1.52 seconds\n"
     ]
    },
    {
     "name": "stderr",
     "output_type": "stream",
     "text": [
      "../bayes-drt\\stan_models.py:7: UserWarning: Pickling fit objects is an experimental feature!\n",
      "The relevant StanModel instance must be pickled along with this fit object.\n",
      "When unpickling the StanModel must be unpickled first.\n",
      "  pickle.dump(obj, f, pickle.HIGHEST_PROTOCOL)\n"
     ]
    },
    {
     "name": "stdout",
     "output_type": "stream",
     "text": [
      "Dumped pickle to map_results\\obj_2RC_uniform_0.25.pkl\n",
      "-------------------------------\n",
      "../data/simulated\\Z_2RC_uniform_1.0.csv\n",
      "-------------------------------\n",
      "File fit time: 1.26 seconds\n"
     ]
    },
    {
     "name": "stderr",
     "output_type": "stream",
     "text": [
      "../bayes-drt\\stan_models.py:7: UserWarning: Pickling fit objects is an experimental feature!\n",
      "The relevant StanModel instance must be pickled along with this fit object.\n",
      "When unpickling the StanModel must be unpickled first.\n",
      "  pickle.dump(obj, f, pickle.HIGHEST_PROTOCOL)\n"
     ]
    },
    {
     "name": "stdout",
     "output_type": "stream",
     "text": [
      "Dumped pickle to map_results\\obj_2RC_uniform_1.0.pkl\n",
      "-------------------------------\n",
      "../data/simulated\\Z_2RC_uniform_2.5.csv\n",
      "-------------------------------\n",
      "File fit time: 1.15 seconds\n"
     ]
    },
    {
     "name": "stderr",
     "output_type": "stream",
     "text": [
      "../bayes-drt\\stan_models.py:7: UserWarning: Pickling fit objects is an experimental feature!\n",
      "The relevant StanModel instance must be pickled along with this fit object.\n",
      "When unpickling the StanModel must be unpickled first.\n",
      "  pickle.dump(obj, f, pickle.HIGHEST_PROTOCOL)\n"
     ]
    },
    {
     "name": "stdout",
     "output_type": "stream",
     "text": [
      "Dumped pickle to map_results\\obj_2RC_uniform_2.5.pkl\n",
      "-------------------------------\n",
      "../data/simulated\\Z_2ZARC_Macdonald_0.25.csv\n",
      "-------------------------------\n",
      "File fit time: 2.41 seconds\n"
     ]
    },
    {
     "name": "stderr",
     "output_type": "stream",
     "text": [
      "../bayes-drt\\stan_models.py:7: UserWarning: Pickling fit objects is an experimental feature!\n",
      "The relevant StanModel instance must be pickled along with this fit object.\n",
      "When unpickling the StanModel must be unpickled first.\n",
      "  pickle.dump(obj, f, pickle.HIGHEST_PROTOCOL)\n"
     ]
    },
    {
     "name": "stdout",
     "output_type": "stream",
     "text": [
      "Dumped pickle to map_results\\obj_2ZARC_Macdonald_0.25.pkl\n",
      "-------------------------------\n",
      "../data/simulated\\Z_2ZARC_Macdonald_1.0.csv\n",
      "-------------------------------\n",
      "File fit time: 1.76 seconds\n"
     ]
    },
    {
     "name": "stderr",
     "output_type": "stream",
     "text": [
      "../bayes-drt\\stan_models.py:7: UserWarning: Pickling fit objects is an experimental feature!\n",
      "The relevant StanModel instance must be pickled along with this fit object.\n",
      "When unpickling the StanModel must be unpickled first.\n",
      "  pickle.dump(obj, f, pickle.HIGHEST_PROTOCOL)\n"
     ]
    },
    {
     "name": "stdout",
     "output_type": "stream",
     "text": [
      "Dumped pickle to map_results\\obj_2ZARC_Macdonald_1.0.pkl\n",
      "-------------------------------\n",
      "../data/simulated\\Z_2ZARC_Macdonald_2.5.csv\n",
      "-------------------------------\n",
      "File fit time: 2.15 seconds\n"
     ]
    },
    {
     "name": "stderr",
     "output_type": "stream",
     "text": [
      "../bayes-drt\\stan_models.py:7: UserWarning: Pickling fit objects is an experimental feature!\n",
      "The relevant StanModel instance must be pickled along with this fit object.\n",
      "When unpickling the StanModel must be unpickled first.\n",
      "  pickle.dump(obj, f, pickle.HIGHEST_PROTOCOL)\n"
     ]
    },
    {
     "name": "stdout",
     "output_type": "stream",
     "text": [
      "Dumped pickle to map_results\\obj_2ZARC_Macdonald_2.5.pkl\n",
      "-------------------------------\n",
      "../data/simulated\\Z_2ZARC_noiseless.csv\n",
      "-------------------------------\n",
      "File fit time: 2.84 seconds\n"
     ]
    },
    {
     "name": "stderr",
     "output_type": "stream",
     "text": [
      "../bayes-drt\\stan_models.py:7: UserWarning: Pickling fit objects is an experimental feature!\n",
      "The relevant StanModel instance must be pickled along with this fit object.\n",
      "When unpickling the StanModel must be unpickled first.\n",
      "  pickle.dump(obj, f, pickle.HIGHEST_PROTOCOL)\n"
     ]
    },
    {
     "name": "stdout",
     "output_type": "stream",
     "text": [
      "Dumped pickle to map_results\\obj_2ZARC_noiseless.pkl\n",
      "-------------------------------\n",
      "../data/simulated\\Z_2ZARC_Orazem_0.25.csv\n",
      "-------------------------------\n",
      "File fit time: 2.93 seconds\n"
     ]
    },
    {
     "name": "stderr",
     "output_type": "stream",
     "text": [
      "../bayes-drt\\stan_models.py:7: UserWarning: Pickling fit objects is an experimental feature!\n",
      "The relevant StanModel instance must be pickled along with this fit object.\n",
      "When unpickling the StanModel must be unpickled first.\n",
      "  pickle.dump(obj, f, pickle.HIGHEST_PROTOCOL)\n"
     ]
    },
    {
     "name": "stdout",
     "output_type": "stream",
     "text": [
      "Dumped pickle to map_results\\obj_2ZARC_Orazem_0.25.pkl\n",
      "-------------------------------\n",
      "../data/simulated\\Z_2ZARC_Orazem_1.0.csv\n",
      "-------------------------------\n",
      "File fit time: 1.93 seconds\n"
     ]
    },
    {
     "name": "stderr",
     "output_type": "stream",
     "text": [
      "../bayes-drt\\stan_models.py:7: UserWarning: Pickling fit objects is an experimental feature!\n",
      "The relevant StanModel instance must be pickled along with this fit object.\n",
      "When unpickling the StanModel must be unpickled first.\n",
      "  pickle.dump(obj, f, pickle.HIGHEST_PROTOCOL)\n"
     ]
    },
    {
     "name": "stdout",
     "output_type": "stream",
     "text": [
      "Dumped pickle to map_results\\obj_2ZARC_Orazem_1.0.pkl\n",
      "-------------------------------\n",
      "../data/simulated\\Z_2ZARC_Orazem_2.5.csv\n",
      "-------------------------------\n"
     ]
    },
    {
     "name": "stderr",
     "output_type": "stream",
     "text": [
      "../bayes-drt\\stan_models.py:7: UserWarning: Pickling fit objects is an experimental feature!\n",
      "The relevant StanModel instance must be pickled along with this fit object.\n",
      "When unpickling the StanModel must be unpickled first.\n",
      "  pickle.dump(obj, f, pickle.HIGHEST_PROTOCOL)\n"
     ]
    },
    {
     "name": "stdout",
     "output_type": "stream",
     "text": [
      "File fit time: 1.24 seconds\n",
      "Dumped pickle to map_results\\obj_2ZARC_Orazem_2.5.pkl\n",
      "-------------------------------\n",
      "../data/simulated\\Z_2ZARC_uniform_0.25.csv\n",
      "-------------------------------\n",
      "File fit time: 2.93 seconds\n"
     ]
    },
    {
     "name": "stderr",
     "output_type": "stream",
     "text": [
      "../bayes-drt\\stan_models.py:7: UserWarning: Pickling fit objects is an experimental feature!\n",
      "The relevant StanModel instance must be pickled along with this fit object.\n",
      "When unpickling the StanModel must be unpickled first.\n",
      "  pickle.dump(obj, f, pickle.HIGHEST_PROTOCOL)\n"
     ]
    },
    {
     "name": "stdout",
     "output_type": "stream",
     "text": [
      "Dumped pickle to map_results\\obj_2ZARC_uniform_0.25.pkl\n",
      "-------------------------------\n",
      "../data/simulated\\Z_2ZARC_uniform_1.0.csv\n",
      "-------------------------------\n",
      "File fit time: 1.69 seconds\n"
     ]
    },
    {
     "name": "stderr",
     "output_type": "stream",
     "text": [
      "../bayes-drt\\stan_models.py:7: UserWarning: Pickling fit objects is an experimental feature!\n",
      "The relevant StanModel instance must be pickled along with this fit object.\n",
      "When unpickling the StanModel must be unpickled first.\n",
      "  pickle.dump(obj, f, pickle.HIGHEST_PROTOCOL)\n"
     ]
    },
    {
     "name": "stdout",
     "output_type": "stream",
     "text": [
      "Dumped pickle to map_results\\obj_2ZARC_uniform_1.0.pkl\n",
      "-------------------------------\n",
      "../data/simulated\\Z_2ZARC_uniform_2.5.csv\n",
      "-------------------------------\n",
      "File fit time: 1.27 seconds\n"
     ]
    },
    {
     "name": "stderr",
     "output_type": "stream",
     "text": [
      "../bayes-drt\\stan_models.py:7: UserWarning: Pickling fit objects is an experimental feature!\n",
      "The relevant StanModel instance must be pickled along with this fit object.\n",
      "When unpickling the StanModel must be unpickled first.\n",
      "  pickle.dump(obj, f, pickle.HIGHEST_PROTOCOL)\n"
     ]
    },
    {
     "name": "stdout",
     "output_type": "stream",
     "text": [
      "Dumped pickle to map_results\\obj_2ZARC_uniform_2.5.pkl\n",
      "-------------------------------\n",
      "../data/simulated\\Z_Gerischer_Macdonald_0.25.csv\n",
      "-------------------------------\n",
      "File fit time: 4.13 seconds\n"
     ]
    },
    {
     "name": "stderr",
     "output_type": "stream",
     "text": [
      "../bayes-drt\\stan_models.py:7: UserWarning: Pickling fit objects is an experimental feature!\n",
      "The relevant StanModel instance must be pickled along with this fit object.\n",
      "When unpickling the StanModel must be unpickled first.\n",
      "  pickle.dump(obj, f, pickle.HIGHEST_PROTOCOL)\n"
     ]
    },
    {
     "name": "stdout",
     "output_type": "stream",
     "text": [
      "Dumped pickle to map_results\\obj_Gerischer_Macdonald_0.25.pkl\n",
      "-------------------------------\n",
      "../data/simulated\\Z_Gerischer_Macdonald_1.0.csv\n",
      "-------------------------------\n"
     ]
    },
    {
     "name": "stderr",
     "output_type": "stream",
     "text": [
      "../bayes-drt\\stan_models.py:7: UserWarning: Pickling fit objects is an experimental feature!\n",
      "The relevant StanModel instance must be pickled along with this fit object.\n",
      "When unpickling the StanModel must be unpickled first.\n",
      "  pickle.dump(obj, f, pickle.HIGHEST_PROTOCOL)\n"
     ]
    },
    {
     "name": "stdout",
     "output_type": "stream",
     "text": [
      "File fit time: 2.69 seconds\n",
      "Dumped pickle to map_results\\obj_Gerischer_Macdonald_1.0.pkl\n",
      "-------------------------------\n",
      "../data/simulated\\Z_Gerischer_Macdonald_2.5.csv\n",
      "-------------------------------\n",
      "File fit time: 1.04 seconds\n"
     ]
    },
    {
     "name": "stderr",
     "output_type": "stream",
     "text": [
      "../bayes-drt\\stan_models.py:7: UserWarning: Pickling fit objects is an experimental feature!\n",
      "The relevant StanModel instance must be pickled along with this fit object.\n",
      "When unpickling the StanModel must be unpickled first.\n",
      "  pickle.dump(obj, f, pickle.HIGHEST_PROTOCOL)\n"
     ]
    },
    {
     "name": "stdout",
     "output_type": "stream",
     "text": [
      "Dumped pickle to map_results\\obj_Gerischer_Macdonald_2.5.pkl\n",
      "-------------------------------\n",
      "../data/simulated\\Z_Gerischer_noiseless.csv\n",
      "-------------------------------\n",
      "File fit time: 2.09 seconds\n"
     ]
    },
    {
     "name": "stderr",
     "output_type": "stream",
     "text": [
      "../bayes-drt\\stan_models.py:7: UserWarning: Pickling fit objects is an experimental feature!\n",
      "The relevant StanModel instance must be pickled along with this fit object.\n",
      "When unpickling the StanModel must be unpickled first.\n",
      "  pickle.dump(obj, f, pickle.HIGHEST_PROTOCOL)\n"
     ]
    },
    {
     "name": "stdout",
     "output_type": "stream",
     "text": [
      "Dumped pickle to map_results\\obj_Gerischer_noiseless.pkl\n",
      "-------------------------------\n",
      "../data/simulated\\Z_Gerischer_Orazem_0.25.csv\n",
      "-------------------------------\n",
      "File fit time: 2.70 seconds\n"
     ]
    },
    {
     "name": "stderr",
     "output_type": "stream",
     "text": [
      "../bayes-drt\\stan_models.py:7: UserWarning: Pickling fit objects is an experimental feature!\n",
      "The relevant StanModel instance must be pickled along with this fit object.\n",
      "When unpickling the StanModel must be unpickled first.\n",
      "  pickle.dump(obj, f, pickle.HIGHEST_PROTOCOL)\n"
     ]
    },
    {
     "name": "stdout",
     "output_type": "stream",
     "text": [
      "Dumped pickle to map_results\\obj_Gerischer_Orazem_0.25.pkl\n",
      "-------------------------------\n",
      "../data/simulated\\Z_Gerischer_Orazem_1.0.csv\n",
      "-------------------------------\n",
      "File fit time: 1.55 seconds\n"
     ]
    },
    {
     "name": "stderr",
     "output_type": "stream",
     "text": [
      "../bayes-drt\\stan_models.py:7: UserWarning: Pickling fit objects is an experimental feature!\n",
      "The relevant StanModel instance must be pickled along with this fit object.\n",
      "When unpickling the StanModel must be unpickled first.\n",
      "  pickle.dump(obj, f, pickle.HIGHEST_PROTOCOL)\n"
     ]
    },
    {
     "name": "stdout",
     "output_type": "stream",
     "text": [
      "Dumped pickle to map_results\\obj_Gerischer_Orazem_1.0.pkl\n",
      "-------------------------------\n",
      "../data/simulated\\Z_Gerischer_Orazem_2.5.csv\n",
      "-------------------------------\n",
      "File fit time: 1.92 seconds\n"
     ]
    },
    {
     "name": "stderr",
     "output_type": "stream",
     "text": [
      "../bayes-drt\\stan_models.py:7: UserWarning: Pickling fit objects is an experimental feature!\n",
      "The relevant StanModel instance must be pickled along with this fit object.\n",
      "When unpickling the StanModel must be unpickled first.\n",
      "  pickle.dump(obj, f, pickle.HIGHEST_PROTOCOL)\n"
     ]
    },
    {
     "name": "stdout",
     "output_type": "stream",
     "text": [
      "Dumped pickle to map_results\\obj_Gerischer_Orazem_2.5.pkl\n",
      "-------------------------------\n",
      "../data/simulated\\Z_Gerischer_uniform_0.25.csv\n",
      "-------------------------------\n",
      "File fit time: 3.24 seconds\n"
     ]
    },
    {
     "name": "stderr",
     "output_type": "stream",
     "text": [
      "../bayes-drt\\stan_models.py:7: UserWarning: Pickling fit objects is an experimental feature!\n",
      "The relevant StanModel instance must be pickled along with this fit object.\n",
      "When unpickling the StanModel must be unpickled first.\n",
      "  pickle.dump(obj, f, pickle.HIGHEST_PROTOCOL)\n"
     ]
    },
    {
     "name": "stdout",
     "output_type": "stream",
     "text": [
      "Dumped pickle to map_results\\obj_Gerischer_uniform_0.25.pkl\n",
      "-------------------------------\n",
      "../data/simulated\\Z_Gerischer_uniform_1.0.csv\n",
      "-------------------------------\n",
      "File fit time: 1.99 seconds\n"
     ]
    },
    {
     "name": "stderr",
     "output_type": "stream",
     "text": [
      "../bayes-drt\\stan_models.py:7: UserWarning: Pickling fit objects is an experimental feature!\n",
      "The relevant StanModel instance must be pickled along with this fit object.\n",
      "When unpickling the StanModel must be unpickled first.\n",
      "  pickle.dump(obj, f, pickle.HIGHEST_PROTOCOL)\n"
     ]
    },
    {
     "name": "stdout",
     "output_type": "stream",
     "text": [
      "Dumped pickle to map_results\\obj_Gerischer_uniform_1.0.pkl\n",
      "-------------------------------\n",
      "../data/simulated\\Z_Gerischer_uniform_2.5.csv\n",
      "-------------------------------\n",
      "File fit time: 2.50 seconds\n"
     ]
    },
    {
     "name": "stderr",
     "output_type": "stream",
     "text": [
      "../bayes-drt\\stan_models.py:7: UserWarning: Pickling fit objects is an experimental feature!\n",
      "The relevant StanModel instance must be pickled along with this fit object.\n",
      "When unpickling the StanModel must be unpickled first.\n",
      "  pickle.dump(obj, f, pickle.HIGHEST_PROTOCOL)\n"
     ]
    },
    {
     "name": "stdout",
     "output_type": "stream",
     "text": [
      "Dumped pickle to map_results\\obj_Gerischer_uniform_2.5.pkl\n",
      "-------------------------------\n",
      "../data/simulated\\Z_RC_Macdonald_0.25.csv\n",
      "-------------------------------\n"
     ]
    },
    {
     "name": "stderr",
     "output_type": "stream",
     "text": [
      "../bayes-drt\\stan_models.py:7: UserWarning: Pickling fit objects is an experimental feature!\n",
      "The relevant StanModel instance must be pickled along with this fit object.\n",
      "When unpickling the StanModel must be unpickled first.\n",
      "  pickle.dump(obj, f, pickle.HIGHEST_PROTOCOL)\n"
     ]
    },
    {
     "name": "stdout",
     "output_type": "stream",
     "text": [
      "File fit time: 1.25 seconds\n",
      "Dumped pickle to map_results\\obj_RC_Macdonald_0.25.pkl\n",
      "-------------------------------\n",
      "../data/simulated\\Z_RC_Macdonald_1.0.csv\n",
      "-------------------------------\n",
      "File fit time: 0.82 seconds\n"
     ]
    },
    {
     "name": "stderr",
     "output_type": "stream",
     "text": [
      "../bayes-drt\\stan_models.py:7: UserWarning: Pickling fit objects is an experimental feature!\n",
      "The relevant StanModel instance must be pickled along with this fit object.\n",
      "When unpickling the StanModel must be unpickled first.\n",
      "  pickle.dump(obj, f, pickle.HIGHEST_PROTOCOL)\n"
     ]
    },
    {
     "name": "stdout",
     "output_type": "stream",
     "text": [
      "Dumped pickle to map_results\\obj_RC_Macdonald_1.0.pkl\n",
      "-------------------------------\n",
      "../data/simulated\\Z_RC_Macdonald_2.5.csv\n",
      "-------------------------------\n",
      "File fit time: 0.91 seconds\n"
     ]
    },
    {
     "name": "stderr",
     "output_type": "stream",
     "text": [
      "../bayes-drt\\stan_models.py:7: UserWarning: Pickling fit objects is an experimental feature!\n",
      "The relevant StanModel instance must be pickled along with this fit object.\n",
      "When unpickling the StanModel must be unpickled first.\n",
      "  pickle.dump(obj, f, pickle.HIGHEST_PROTOCOL)\n"
     ]
    },
    {
     "name": "stdout",
     "output_type": "stream",
     "text": [
      "Dumped pickle to map_results\\obj_RC_Macdonald_2.5.pkl\n",
      "-------------------------------\n",
      "../data/simulated\\Z_RC_noiseless.csv\n",
      "-------------------------------\n",
      "File fit time: 0.62 seconds\n"
     ]
    },
    {
     "name": "stderr",
     "output_type": "stream",
     "text": [
      "../bayes-drt\\stan_models.py:7: UserWarning: Pickling fit objects is an experimental feature!\n",
      "The relevant StanModel instance must be pickled along with this fit object.\n",
      "When unpickling the StanModel must be unpickled first.\n",
      "  pickle.dump(obj, f, pickle.HIGHEST_PROTOCOL)\n"
     ]
    },
    {
     "name": "stdout",
     "output_type": "stream",
     "text": [
      "Dumped pickle to map_results\\obj_RC_noiseless.pkl\n",
      "-------------------------------\n",
      "../data/simulated\\Z_RC_Orazem_0.25.csv\n",
      "-------------------------------\n",
      "File fit time: 0.84 seconds\n"
     ]
    },
    {
     "name": "stderr",
     "output_type": "stream",
     "text": [
      "../bayes-drt\\stan_models.py:7: UserWarning: Pickling fit objects is an experimental feature!\n",
      "The relevant StanModel instance must be pickled along with this fit object.\n",
      "When unpickling the StanModel must be unpickled first.\n",
      "  pickle.dump(obj, f, pickle.HIGHEST_PROTOCOL)\n"
     ]
    },
    {
     "name": "stdout",
     "output_type": "stream",
     "text": [
      "Dumped pickle to map_results\\obj_RC_Orazem_0.25.pkl\n",
      "-------------------------------\n",
      "../data/simulated\\Z_RC_Orazem_1.0.csv\n",
      "-------------------------------\n",
      "File fit time: 1.02 seconds\n"
     ]
    },
    {
     "name": "stderr",
     "output_type": "stream",
     "text": [
      "../bayes-drt\\stan_models.py:7: UserWarning: Pickling fit objects is an experimental feature!\n",
      "The relevant StanModel instance must be pickled along with this fit object.\n",
      "When unpickling the StanModel must be unpickled first.\n",
      "  pickle.dump(obj, f, pickle.HIGHEST_PROTOCOL)\n"
     ]
    },
    {
     "name": "stdout",
     "output_type": "stream",
     "text": [
      "Dumped pickle to map_results\\obj_RC_Orazem_1.0.pkl\n",
      "-------------------------------\n",
      "../data/simulated\\Z_RC_Orazem_2.5.csv\n",
      "-------------------------------\n",
      "File fit time: 0.63 seconds\n"
     ]
    },
    {
     "name": "stderr",
     "output_type": "stream",
     "text": [
      "../bayes-drt\\stan_models.py:7: UserWarning: Pickling fit objects is an experimental feature!\n",
      "The relevant StanModel instance must be pickled along with this fit object.\n",
      "When unpickling the StanModel must be unpickled first.\n",
      "  pickle.dump(obj, f, pickle.HIGHEST_PROTOCOL)\n"
     ]
    },
    {
     "name": "stdout",
     "output_type": "stream",
     "text": [
      "Dumped pickle to map_results\\obj_RC_Orazem_2.5.pkl\n",
      "-------------------------------\n",
      "../data/simulated\\Z_RC_uniform_0.25.csv\n",
      "-------------------------------\n",
      "File fit time: 1.47 seconds\n"
     ]
    },
    {
     "name": "stderr",
     "output_type": "stream",
     "text": [
      "../bayes-drt\\stan_models.py:7: UserWarning: Pickling fit objects is an experimental feature!\n",
      "The relevant StanModel instance must be pickled along with this fit object.\n",
      "When unpickling the StanModel must be unpickled first.\n",
      "  pickle.dump(obj, f, pickle.HIGHEST_PROTOCOL)\n"
     ]
    },
    {
     "name": "stdout",
     "output_type": "stream",
     "text": [
      "Dumped pickle to map_results\\obj_RC_uniform_0.25.pkl\n",
      "-------------------------------\n",
      "../data/simulated\\Z_RC_uniform_1.0.csv\n",
      "-------------------------------\n",
      "File fit time: 1.13 seconds\n"
     ]
    },
    {
     "name": "stderr",
     "output_type": "stream",
     "text": [
      "../bayes-drt\\stan_models.py:7: UserWarning: Pickling fit objects is an experimental feature!\n",
      "The relevant StanModel instance must be pickled along with this fit object.\n",
      "When unpickling the StanModel must be unpickled first.\n",
      "  pickle.dump(obj, f, pickle.HIGHEST_PROTOCOL)\n"
     ]
    },
    {
     "name": "stdout",
     "output_type": "stream",
     "text": [
      "Dumped pickle to map_results\\obj_RC_uniform_1.0.pkl\n",
      "-------------------------------\n",
      "../data/simulated\\Z_RC_uniform_2.5.csv\n",
      "-------------------------------\n",
      "File fit time: 0.83 seconds\n"
     ]
    },
    {
     "name": "stderr",
     "output_type": "stream",
     "text": [
      "../bayes-drt\\stan_models.py:7: UserWarning: Pickling fit objects is an experimental feature!\n",
      "The relevant StanModel instance must be pickled along with this fit object.\n",
      "When unpickling the StanModel must be unpickled first.\n",
      "  pickle.dump(obj, f, pickle.HIGHEST_PROTOCOL)\n"
     ]
    },
    {
     "name": "stdout",
     "output_type": "stream",
     "text": [
      "Dumped pickle to map_results\\obj_RC_uniform_2.5.pkl\n",
      "-------------------------------\n",
      "../data/simulated\\Z_ZARC-RL_Macdonald_0.25.csv\n",
      "-------------------------------\n"
     ]
    },
    {
     "name": "stderr",
     "output_type": "stream",
     "text": [
      "../bayes-drt\\stan_models.py:7: UserWarning: Pickling fit objects is an experimental feature!\n",
      "The relevant StanModel instance must be pickled along with this fit object.\n",
      "When unpickling the StanModel must be unpickled first.\n",
      "  pickle.dump(obj, f, pickle.HIGHEST_PROTOCOL)\n"
     ]
    },
    {
     "name": "stdout",
     "output_type": "stream",
     "text": [
      "File fit time: 3.06 seconds\n",
      "Dumped pickle to map_results\\obj_ZARC-RL_Macdonald_0.25.pkl\n",
      "-------------------------------\n",
      "../data/simulated\\Z_ZARC-RL_Macdonald_1.0.csv\n",
      "-------------------------------\n",
      "File fit time: 1.85 seconds\n"
     ]
    },
    {
     "name": "stderr",
     "output_type": "stream",
     "text": [
      "../bayes-drt\\stan_models.py:7: UserWarning: Pickling fit objects is an experimental feature!\n",
      "The relevant StanModel instance must be pickled along with this fit object.\n",
      "When unpickling the StanModel must be unpickled first.\n",
      "  pickle.dump(obj, f, pickle.HIGHEST_PROTOCOL)\n"
     ]
    },
    {
     "name": "stdout",
     "output_type": "stream",
     "text": [
      "Dumped pickle to map_results\\obj_ZARC-RL_Macdonald_1.0.pkl\n",
      "-------------------------------\n",
      "../data/simulated\\Z_ZARC-RL_Macdonald_2.5.csv\n",
      "-------------------------------\n",
      "File fit time: 1.43 seconds\n"
     ]
    },
    {
     "name": "stderr",
     "output_type": "stream",
     "text": [
      "../bayes-drt\\stan_models.py:7: UserWarning: Pickling fit objects is an experimental feature!\n",
      "The relevant StanModel instance must be pickled along with this fit object.\n",
      "When unpickling the StanModel must be unpickled first.\n",
      "  pickle.dump(obj, f, pickle.HIGHEST_PROTOCOL)\n"
     ]
    },
    {
     "name": "stdout",
     "output_type": "stream",
     "text": [
      "Dumped pickle to map_results\\obj_ZARC-RL_Macdonald_2.5.pkl\n",
      "-------------------------------\n",
      "../data/simulated\\Z_ZARC-RL_noiseless.csv\n",
      "-------------------------------\n",
      "File fit time: 5.13 seconds\n"
     ]
    },
    {
     "name": "stderr",
     "output_type": "stream",
     "text": [
      "../bayes-drt\\stan_models.py:7: UserWarning: Pickling fit objects is an experimental feature!\n",
      "The relevant StanModel instance must be pickled along with this fit object.\n",
      "When unpickling the StanModel must be unpickled first.\n",
      "  pickle.dump(obj, f, pickle.HIGHEST_PROTOCOL)\n"
     ]
    },
    {
     "name": "stdout",
     "output_type": "stream",
     "text": [
      "Dumped pickle to map_results\\obj_ZARC-RL_noiseless.pkl\n",
      "-------------------------------\n",
      "../data/simulated\\Z_ZARC-RL_Orazem_0.25.csv\n",
      "-------------------------------\n",
      "File fit time: 4.86 seconds\n"
     ]
    },
    {
     "name": "stderr",
     "output_type": "stream",
     "text": [
      "../bayes-drt\\stan_models.py:7: UserWarning: Pickling fit objects is an experimental feature!\n",
      "The relevant StanModel instance must be pickled along with this fit object.\n",
      "When unpickling the StanModel must be unpickled first.\n",
      "  pickle.dump(obj, f, pickle.HIGHEST_PROTOCOL)\n"
     ]
    },
    {
     "name": "stdout",
     "output_type": "stream",
     "text": [
      "Dumped pickle to map_results\\obj_ZARC-RL_Orazem_0.25.pkl\n",
      "-------------------------------\n",
      "../data/simulated\\Z_ZARC-RL_Orazem_1.0.csv\n",
      "-------------------------------\n",
      "File fit time: 1.29 seconds\n"
     ]
    },
    {
     "name": "stderr",
     "output_type": "stream",
     "text": [
      "../bayes-drt\\stan_models.py:7: UserWarning: Pickling fit objects is an experimental feature!\n",
      "The relevant StanModel instance must be pickled along with this fit object.\n",
      "When unpickling the StanModel must be unpickled first.\n",
      "  pickle.dump(obj, f, pickle.HIGHEST_PROTOCOL)\n"
     ]
    },
    {
     "name": "stdout",
     "output_type": "stream",
     "text": [
      "Dumped pickle to map_results\\obj_ZARC-RL_Orazem_1.0.pkl\n",
      "-------------------------------\n",
      "../data/simulated\\Z_ZARC-RL_Orazem_2.5.csv\n",
      "-------------------------------\n",
      "File fit time: 1.21 seconds\n"
     ]
    },
    {
     "name": "stderr",
     "output_type": "stream",
     "text": [
      "../bayes-drt\\stan_models.py:7: UserWarning: Pickling fit objects is an experimental feature!\n",
      "The relevant StanModel instance must be pickled along with this fit object.\n",
      "When unpickling the StanModel must be unpickled first.\n",
      "  pickle.dump(obj, f, pickle.HIGHEST_PROTOCOL)\n"
     ]
    },
    {
     "name": "stdout",
     "output_type": "stream",
     "text": [
      "Dumped pickle to map_results\\obj_ZARC-RL_Orazem_2.5.pkl\n",
      "-------------------------------\n",
      "../data/simulated\\Z_ZARC-RL_uniform_0.25.csv\n",
      "-------------------------------\n",
      "File fit time: 5.54 seconds\n"
     ]
    },
    {
     "name": "stderr",
     "output_type": "stream",
     "text": [
      "../bayes-drt\\stan_models.py:7: UserWarning: Pickling fit objects is an experimental feature!\n",
      "The relevant StanModel instance must be pickled along with this fit object.\n",
      "When unpickling the StanModel must be unpickled first.\n",
      "  pickle.dump(obj, f, pickle.HIGHEST_PROTOCOL)\n"
     ]
    },
    {
     "name": "stdout",
     "output_type": "stream",
     "text": [
      "Dumped pickle to map_results\\obj_ZARC-RL_uniform_0.25.pkl\n",
      "-------------------------------\n",
      "../data/simulated\\Z_ZARC-RL_uniform_1.0.csv\n",
      "-------------------------------\n",
      "File fit time: 1.62 seconds\n"
     ]
    },
    {
     "name": "stderr",
     "output_type": "stream",
     "text": [
      "../bayes-drt\\stan_models.py:7: UserWarning: Pickling fit objects is an experimental feature!\n",
      "The relevant StanModel instance must be pickled along with this fit object.\n",
      "When unpickling the StanModel must be unpickled first.\n",
      "  pickle.dump(obj, f, pickle.HIGHEST_PROTOCOL)\n"
     ]
    },
    {
     "name": "stdout",
     "output_type": "stream",
     "text": [
      "Dumped pickle to map_results\\obj_ZARC-RL_uniform_1.0.pkl\n",
      "-------------------------------\n",
      "../data/simulated\\Z_ZARC-RL_uniform_2.5.csv\n",
      "-------------------------------\n",
      "File fit time: 1.42 seconds\n"
     ]
    },
    {
     "name": "stderr",
     "output_type": "stream",
     "text": [
      "../bayes-drt\\stan_models.py:7: UserWarning: Pickling fit objects is an experimental feature!\n",
      "The relevant StanModel instance must be pickled along with this fit object.\n",
      "When unpickling the StanModel must be unpickled first.\n",
      "  pickle.dump(obj, f, pickle.HIGHEST_PROTOCOL)\n"
     ]
    },
    {
     "name": "stdout",
     "output_type": "stream",
     "text": [
      "Dumped pickle to map_results\\obj_ZARC-RL_uniform_2.5.pkl\n",
      "-------------------------------\n",
      "../data/simulated\\Z_ZARC_Macdonald_0.25.csv\n",
      "-------------------------------\n"
     ]
    },
    {
     "name": "stderr",
     "output_type": "stream",
     "text": [
      "../bayes-drt\\stan_models.py:7: UserWarning: Pickling fit objects is an experimental feature!\n",
      "The relevant StanModel instance must be pickled along with this fit object.\n",
      "When unpickling the StanModel must be unpickled first.\n",
      "  pickle.dump(obj, f, pickle.HIGHEST_PROTOCOL)\n"
     ]
    },
    {
     "name": "stdout",
     "output_type": "stream",
     "text": [
      "File fit time: 3.31 seconds\n",
      "Dumped pickle to map_results\\obj_ZARC_Macdonald_0.25.pkl\n",
      "-------------------------------\n",
      "../data/simulated\\Z_ZARC_Macdonald_1.0.csv\n",
      "-------------------------------\n",
      "File fit time: 1.88 seconds\n"
     ]
    },
    {
     "name": "stderr",
     "output_type": "stream",
     "text": [
      "../bayes-drt\\stan_models.py:7: UserWarning: Pickling fit objects is an experimental feature!\n",
      "The relevant StanModel instance must be pickled along with this fit object.\n",
      "When unpickling the StanModel must be unpickled first.\n",
      "  pickle.dump(obj, f, pickle.HIGHEST_PROTOCOL)\n"
     ]
    },
    {
     "name": "stdout",
     "output_type": "stream",
     "text": [
      "Dumped pickle to map_results\\obj_ZARC_Macdonald_1.0.pkl\n",
      "-------------------------------\n",
      "../data/simulated\\Z_ZARC_Macdonald_2.5.csv\n",
      "-------------------------------\n",
      "File fit time: 1.44 seconds\n"
     ]
    },
    {
     "name": "stderr",
     "output_type": "stream",
     "text": [
      "../bayes-drt\\stan_models.py:7: UserWarning: Pickling fit objects is an experimental feature!\n",
      "The relevant StanModel instance must be pickled along with this fit object.\n",
      "When unpickling the StanModel must be unpickled first.\n",
      "  pickle.dump(obj, f, pickle.HIGHEST_PROTOCOL)\n"
     ]
    },
    {
     "name": "stdout",
     "output_type": "stream",
     "text": [
      "Dumped pickle to map_results\\obj_ZARC_Macdonald_2.5.pkl\n",
      "-------------------------------\n",
      "../data/simulated\\Z_ZARC_noiseless.csv\n",
      "-------------------------------\n",
      "File fit time: 5.08 seconds\n"
     ]
    },
    {
     "name": "stderr",
     "output_type": "stream",
     "text": [
      "../bayes-drt\\stan_models.py:7: UserWarning: Pickling fit objects is an experimental feature!\n",
      "The relevant StanModel instance must be pickled along with this fit object.\n",
      "When unpickling the StanModel must be unpickled first.\n",
      "  pickle.dump(obj, f, pickle.HIGHEST_PROTOCOL)\n"
     ]
    },
    {
     "name": "stdout",
     "output_type": "stream",
     "text": [
      "Dumped pickle to map_results\\obj_ZARC_noiseless.pkl\n",
      "-------------------------------\n",
      "../data/simulated\\Z_ZARC_Orazem_0.25.csv\n",
      "-------------------------------\n",
      "File fit time: 2.77 seconds\n"
     ]
    },
    {
     "name": "stderr",
     "output_type": "stream",
     "text": [
      "../bayes-drt\\stan_models.py:7: UserWarning: Pickling fit objects is an experimental feature!\n",
      "The relevant StanModel instance must be pickled along with this fit object.\n",
      "When unpickling the StanModel must be unpickled first.\n",
      "  pickle.dump(obj, f, pickle.HIGHEST_PROTOCOL)\n"
     ]
    },
    {
     "name": "stdout",
     "output_type": "stream",
     "text": [
      "Dumped pickle to map_results\\obj_ZARC_Orazem_0.25.pkl\n",
      "-------------------------------\n",
      "../data/simulated\\Z_ZARC_Orazem_1.0.csv\n",
      "-------------------------------\n",
      "File fit time: 1.21 seconds\n"
     ]
    },
    {
     "name": "stderr",
     "output_type": "stream",
     "text": [
      "../bayes-drt\\stan_models.py:7: UserWarning: Pickling fit objects is an experimental feature!\n",
      "The relevant StanModel instance must be pickled along with this fit object.\n",
      "When unpickling the StanModel must be unpickled first.\n",
      "  pickle.dump(obj, f, pickle.HIGHEST_PROTOCOL)\n"
     ]
    },
    {
     "name": "stdout",
     "output_type": "stream",
     "text": [
      "Dumped pickle to map_results\\obj_ZARC_Orazem_1.0.pkl\n",
      "-------------------------------\n",
      "../data/simulated\\Z_ZARC_Orazem_2.5.csv\n",
      "-------------------------------\n",
      "File fit time: 2.26 seconds\n"
     ]
    },
    {
     "name": "stderr",
     "output_type": "stream",
     "text": [
      "../bayes-drt\\stan_models.py:7: UserWarning: Pickling fit objects is an experimental feature!\n",
      "The relevant StanModel instance must be pickled along with this fit object.\n",
      "When unpickling the StanModel must be unpickled first.\n",
      "  pickle.dump(obj, f, pickle.HIGHEST_PROTOCOL)\n"
     ]
    },
    {
     "name": "stdout",
     "output_type": "stream",
     "text": [
      "Dumped pickle to map_results\\obj_ZARC_Orazem_2.5.pkl\n",
      "-------------------------------\n",
      "../data/simulated\\Z_ZARC_uniform_0.25.csv\n",
      "-------------------------------\n",
      "File fit time: 2.52 seconds"
     ]
    },
    {
     "name": "stderr",
     "output_type": "stream",
     "text": [
      "../bayes-drt\\stan_models.py:7: UserWarning: Pickling fit objects is an experimental feature!\n",
      "The relevant StanModel instance must be pickled along with this fit object.\n",
      "When unpickling the StanModel must be unpickled first.\n",
      "  pickle.dump(obj, f, pickle.HIGHEST_PROTOCOL)\n"
     ]
    },
    {
     "name": "stdout",
     "output_type": "stream",
     "text": [
      "\n",
      "Dumped pickle to map_results\\obj_ZARC_uniform_0.25.pkl\n",
      "-------------------------------\n",
      "../data/simulated\\Z_ZARC_uniform_1.0.csv\n",
      "-------------------------------\n",
      "File fit time: 2.87 seconds\n"
     ]
    },
    {
     "name": "stderr",
     "output_type": "stream",
     "text": [
      "../bayes-drt\\stan_models.py:7: UserWarning: Pickling fit objects is an experimental feature!\n",
      "The relevant StanModel instance must be pickled along with this fit object.\n",
      "When unpickling the StanModel must be unpickled first.\n",
      "  pickle.dump(obj, f, pickle.HIGHEST_PROTOCOL)\n"
     ]
    },
    {
     "name": "stdout",
     "output_type": "stream",
     "text": [
      "Dumped pickle to map_results\\obj_ZARC_uniform_1.0.pkl\n",
      "-------------------------------\n",
      "../data/simulated\\Z_ZARC_uniform_2.5.csv\n",
      "-------------------------------\n",
      "File fit time: 1.95 seconds\n",
      "Dumped pickle to map_results\\obj_ZARC_uniform_2.5.pkl\n",
      "================================\n",
      "Total fit time: 2.35 minutes\n"
     ]
    },
    {
     "name": "stderr",
     "output_type": "stream",
     "text": [
      "../bayes-drt\\stan_models.py:7: UserWarning: Pickling fit objects is an experimental feature!\n",
      "The relevant StanModel instance must be pickled along with this fit object.\n",
      "When unpickling the StanModel must be unpickled first.\n",
      "  pickle.dump(obj, f, pickle.HIGHEST_PROTOCOL)\n"
     ]
    }
   ],
   "source": [
    "\"MAP fits\"\n",
    "# tau for plotting\n",
    "tau_plot = np.logspace(-7,2,200)\n",
    "start = time.time()\n",
    "\n",
    "for file in files:\n",
    "    print('-------------------------------')\n",
    "    print(file)\n",
    "    print('-------------------------------')\n",
    "    suffix = file[file.find('_'):]\n",
    "    circ = file.split('_')[1]\n",
    "    Zoutfile = os.path.join('map_results',f'Zout{suffix}')\n",
    "    Goutfile = os.path.join('map_results',f'Gout{suffix}')\n",
    "    pkl = os.path.join('map_results','obj{}.pkl'.format(suffix[:-4]))\n",
    "    if file.split('_')[2]=='noiseless.csv':\n",
    "        sigma_min=0.005\n",
    "    else:\n",
    "        sigma_min=0.002\n",
    "#     if os.path.exists(Zoutfile) and os.path.exists(Goutfile):\n",
    "#         print('Already ran')\n",
    "#     else:\n",
    "    df = pd.read_csv(file)\n",
    "    Z = df['Zreal'].values + 1j*df['Zimag'].values\n",
    "    # fit\n",
    "    file_start = time.time()\n",
    "    if circ=='ZARC-RL':\n",
    "        nonneg_drt = False\n",
    "    else:\n",
    "        nonneg_drt = True\n",
    "    dr.map_fit(df['Freq'].values,Z,init_from_ridge=False,sigma_min=sigma_min,nonneg_drt=nonneg_drt)\n",
    "    print('File fit time: {:.2f} seconds'.format(time.time()-file_start))\n",
    "\n",
    "    # save results\n",
    "    Z_pred = dr.predict_Z(df['Freq'].values)\n",
    "    Z_res = pd.DataFrame(np.array([df['Freq'],Z_pred.real,Z_pred.imag]).T,columns=['freq','Zreal','Zimag'])\n",
    "    sigma_re,sigma_im = dr.predict_sigma(df['Freq'].values)\n",
    "    Z_res['sigma_re'] = sigma_re\n",
    "    Z_res['sigma_im'] = sigma_im\n",
    "\n",
    "    g_pred = dr.predict_distribution('DRT',eval_tau=tau_plot)\n",
    "    g_res = pd.DataFrame(np.array([tau_plot,g_pred]).T,\n",
    "                         columns=['tau','gamma'])\n",
    "    Z_res.to_csv(Zoutfile,index=False)\n",
    "    g_res.to_csv(Goutfile,index=False)\n",
    "\n",
    "    # pickle the drt object for access to all other attributes\n",
    "    save_pickle(dr,pkl)\n",
    "        \n",
    "print('================================')        \n",
    "print('Total fit time: {:.2f} minutes'.format((time.time()-start)/60))"
   ]
  },
  {
   "cell_type": "code",
   "execution_count": 244,
   "metadata": {},
   "outputs": [
    {
     "name": "stdout",
     "output_type": "stream",
     "text": [
      "-------------------------------\n",
      "../data/simulated\\Z_2RC_Macdonald_0.25.csv\n",
      "-------------------------------\n"
     ]
    },
    {
     "name": "stderr",
     "output_type": "stream",
     "text": [
      "WARNING:pystan:Maximum (flat) parameter count (1000) exceeded: skipping diagnostic tests for n_eff and Rhat.\n",
      "To run all diagnostics call pystan.check_hmc_diagnostics(fit)\n"
     ]
    },
    {
     "name": "stdout",
     "output_type": "stream",
     "text": [
      "File fit time: 109.10 seconds\n"
     ]
    },
    {
     "name": "stderr",
     "output_type": "stream",
     "text": [
      "../bayes-drt\\stan_models.py:7: UserWarning: Pickling fit objects is an experimental feature!\n",
      "The relevant StanModel instance must be pickled along with this fit object.\n",
      "When unpickling the StanModel must be unpickled first.\n",
      "  pickle.dump(obj, f, pickle.HIGHEST_PROTOCOL)\n"
     ]
    },
    {
     "name": "stdout",
     "output_type": "stream",
     "text": [
      "Dumped pickle to bayes_results\\obj_2RC_Macdonald_0.25.pkl\n",
      "-------------------------------\n",
      "../data/simulated\\Z_2RC_Macdonald_1.0.csv\n",
      "-------------------------------\n"
     ]
    },
    {
     "name": "stderr",
     "output_type": "stream",
     "text": [
      "WARNING:pystan:Maximum (flat) parameter count (1000) exceeded: skipping diagnostic tests for n_eff and Rhat.\n",
      "To run all diagnostics call pystan.check_hmc_diagnostics(fit)\n"
     ]
    },
    {
     "name": "stdout",
     "output_type": "stream",
     "text": [
      "File fit time: 83.77 seconds\n"
     ]
    },
    {
     "name": "stderr",
     "output_type": "stream",
     "text": [
      "../bayes-drt\\stan_models.py:7: UserWarning: Pickling fit objects is an experimental feature!\n",
      "The relevant StanModel instance must be pickled along with this fit object.\n",
      "When unpickling the StanModel must be unpickled first.\n",
      "  pickle.dump(obj, f, pickle.HIGHEST_PROTOCOL)\n"
     ]
    },
    {
     "name": "stdout",
     "output_type": "stream",
     "text": [
      "Dumped pickle to bayes_results\\obj_2RC_Macdonald_1.0.pkl\n",
      "-------------------------------\n",
      "../data/simulated\\Z_2RC_Macdonald_2.5.csv\n",
      "-------------------------------\n"
     ]
    },
    {
     "name": "stderr",
     "output_type": "stream",
     "text": [
      "WARNING:pystan:Maximum (flat) parameter count (1000) exceeded: skipping diagnostic tests for n_eff and Rhat.\n",
      "To run all diagnostics call pystan.check_hmc_diagnostics(fit)\n"
     ]
    },
    {
     "name": "stdout",
     "output_type": "stream",
     "text": [
      "File fit time: 38.98 seconds\n"
     ]
    },
    {
     "name": "stderr",
     "output_type": "stream",
     "text": [
      "../bayes-drt\\stan_models.py:7: UserWarning: Pickling fit objects is an experimental feature!\n",
      "The relevant StanModel instance must be pickled along with this fit object.\n",
      "When unpickling the StanModel must be unpickled first.\n",
      "  pickle.dump(obj, f, pickle.HIGHEST_PROTOCOL)\n"
     ]
    },
    {
     "name": "stdout",
     "output_type": "stream",
     "text": [
      "Dumped pickle to bayes_results\\obj_2RC_Macdonald_2.5.pkl\n",
      "-------------------------------\n",
      "../data/simulated\\Z_2RC_noiseless.csv\n",
      "-------------------------------\n"
     ]
    },
    {
     "name": "stderr",
     "output_type": "stream",
     "text": [
      "WARNING:pystan:Maximum (flat) parameter count (1000) exceeded: skipping diagnostic tests for n_eff and Rhat.\n",
      "To run all diagnostics call pystan.check_hmc_diagnostics(fit)\n",
      "WARNING:pystan:200 of 400 iterations saturated the maximum tree depth of 10 (50 %)\n",
      "WARNING:pystan:Run again with max_treedepth larger than 10 to avoid saturation\n"
     ]
    },
    {
     "name": "stdout",
     "output_type": "stream",
     "text": [
      "File fit time: 142.82 seconds\n"
     ]
    },
    {
     "name": "stderr",
     "output_type": "stream",
     "text": [
      "../bayes-drt\\stan_models.py:7: UserWarning: Pickling fit objects is an experimental feature!\n",
      "The relevant StanModel instance must be pickled along with this fit object.\n",
      "When unpickling the StanModel must be unpickled first.\n",
      "  pickle.dump(obj, f, pickle.HIGHEST_PROTOCOL)\n"
     ]
    },
    {
     "name": "stdout",
     "output_type": "stream",
     "text": [
      "Dumped pickle to bayes_results\\obj_2RC_noiseless.pkl\n",
      "-------------------------------\n",
      "../data/simulated\\Z_2RC_Orazem_0.25.csv\n",
      "-------------------------------\n"
     ]
    },
    {
     "name": "stderr",
     "output_type": "stream",
     "text": [
      "WARNING:pystan:Maximum (flat) parameter count (1000) exceeded: skipping diagnostic tests for n_eff and Rhat.\n",
      "To run all diagnostics call pystan.check_hmc_diagnostics(fit)\n",
      "WARNING:pystan:400 of 400 iterations saturated the maximum tree depth of 10 (100 %)\n",
      "WARNING:pystan:Run again with max_treedepth larger than 10 to avoid saturation\n"
     ]
    },
    {
     "name": "stdout",
     "output_type": "stream",
     "text": [
      "File fit time: 172.98 seconds\n"
     ]
    },
    {
     "name": "stderr",
     "output_type": "stream",
     "text": [
      "../bayes-drt\\stan_models.py:7: UserWarning: Pickling fit objects is an experimental feature!\n",
      "The relevant StanModel instance must be pickled along with this fit object.\n",
      "When unpickling the StanModel must be unpickled first.\n",
      "  pickle.dump(obj, f, pickle.HIGHEST_PROTOCOL)\n"
     ]
    },
    {
     "name": "stdout",
     "output_type": "stream",
     "text": [
      "Dumped pickle to bayes_results\\obj_2RC_Orazem_0.25.pkl\n",
      "-------------------------------\n",
      "../data/simulated\\Z_2RC_Orazem_1.0.csv\n",
      "-------------------------------\n"
     ]
    },
    {
     "name": "stderr",
     "output_type": "stream",
     "text": [
      "WARNING:pystan:Maximum (flat) parameter count (1000) exceeded: skipping diagnostic tests for n_eff and Rhat.\n",
      "To run all diagnostics call pystan.check_hmc_diagnostics(fit)\n"
     ]
    },
    {
     "name": "stdout",
     "output_type": "stream",
     "text": [
      "File fit time: 75.66 seconds\n"
     ]
    },
    {
     "name": "stderr",
     "output_type": "stream",
     "text": [
      "../bayes-drt\\stan_models.py:7: UserWarning: Pickling fit objects is an experimental feature!\n",
      "The relevant StanModel instance must be pickled along with this fit object.\n",
      "When unpickling the StanModel must be unpickled first.\n",
      "  pickle.dump(obj, f, pickle.HIGHEST_PROTOCOL)\n"
     ]
    },
    {
     "name": "stdout",
     "output_type": "stream",
     "text": [
      "Dumped pickle to bayes_results\\obj_2RC_Orazem_1.0.pkl\n",
      "-------------------------------\n",
      "../data/simulated\\Z_2RC_Orazem_2.5.csv\n",
      "-------------------------------\n"
     ]
    },
    {
     "name": "stderr",
     "output_type": "stream",
     "text": [
      "WARNING:pystan:Maximum (flat) parameter count (1000) exceeded: skipping diagnostic tests for n_eff and Rhat.\n",
      "To run all diagnostics call pystan.check_hmc_diagnostics(fit)\n"
     ]
    },
    {
     "name": "stdout",
     "output_type": "stream",
     "text": [
      "File fit time: 51.13 seconds\n"
     ]
    },
    {
     "name": "stderr",
     "output_type": "stream",
     "text": [
      "../bayes-drt\\stan_models.py:7: UserWarning: Pickling fit objects is an experimental feature!\n",
      "The relevant StanModel instance must be pickled along with this fit object.\n",
      "When unpickling the StanModel must be unpickled first.\n",
      "  pickle.dump(obj, f, pickle.HIGHEST_PROTOCOL)\n"
     ]
    },
    {
     "name": "stdout",
     "output_type": "stream",
     "text": [
      "Dumped pickle to bayes_results\\obj_2RC_Orazem_2.5.pkl\n",
      "-------------------------------\n",
      "../data/simulated\\Z_2RC_uniform_0.25.csv\n",
      "-------------------------------\n"
     ]
    },
    {
     "name": "stderr",
     "output_type": "stream",
     "text": [
      "WARNING:pystan:Maximum (flat) parameter count (1000) exceeded: skipping diagnostic tests for n_eff and Rhat.\n",
      "To run all diagnostics call pystan.check_hmc_diagnostics(fit)\n",
      "WARNING:pystan:312 of 400 iterations saturated the maximum tree depth of 10 (78 %)\n",
      "WARNING:pystan:Run again with max_treedepth larger than 10 to avoid saturation\n"
     ]
    },
    {
     "name": "stdout",
     "output_type": "stream",
     "text": [
      "File fit time: 179.60 seconds\n"
     ]
    },
    {
     "name": "stderr",
     "output_type": "stream",
     "text": [
      "../bayes-drt\\stan_models.py:7: UserWarning: Pickling fit objects is an experimental feature!\n",
      "The relevant StanModel instance must be pickled along with this fit object.\n",
      "When unpickling the StanModel must be unpickled first.\n",
      "  pickle.dump(obj, f, pickle.HIGHEST_PROTOCOL)\n"
     ]
    },
    {
     "name": "stdout",
     "output_type": "stream",
     "text": [
      "Dumped pickle to bayes_results\\obj_2RC_uniform_0.25.pkl\n",
      "-------------------------------\n",
      "../data/simulated\\Z_2RC_uniform_1.0.csv\n",
      "-------------------------------\n"
     ]
    },
    {
     "name": "stderr",
     "output_type": "stream",
     "text": [
      "WARNING:pystan:Maximum (flat) parameter count (1000) exceeded: skipping diagnostic tests for n_eff and Rhat.\n",
      "To run all diagnostics call pystan.check_hmc_diagnostics(fit)\n",
      "WARNING:pystan:5 of 400 iterations saturated the maximum tree depth of 10 (1.25 %)\n",
      "WARNING:pystan:Run again with max_treedepth larger than 10 to avoid saturation\n"
     ]
    },
    {
     "name": "stdout",
     "output_type": "stream",
     "text": [
      "File fit time: 107.12 seconds\n"
     ]
    },
    {
     "name": "stderr",
     "output_type": "stream",
     "text": [
      "../bayes-drt\\stan_models.py:7: UserWarning: Pickling fit objects is an experimental feature!\n",
      "The relevant StanModel instance must be pickled along with this fit object.\n",
      "When unpickling the StanModel must be unpickled first.\n",
      "  pickle.dump(obj, f, pickle.HIGHEST_PROTOCOL)\n"
     ]
    },
    {
     "name": "stdout",
     "output_type": "stream",
     "text": [
      "Dumped pickle to bayes_results\\obj_2RC_uniform_1.0.pkl\n",
      "-------------------------------\n",
      "../data/simulated\\Z_2RC_uniform_2.5.csv\n",
      "-------------------------------\n"
     ]
    },
    {
     "name": "stderr",
     "output_type": "stream",
     "text": [
      "WARNING:pystan:Maximum (flat) parameter count (1000) exceeded: skipping diagnostic tests for n_eff and Rhat.\n",
      "To run all diagnostics call pystan.check_hmc_diagnostics(fit)\n"
     ]
    },
    {
     "name": "stdout",
     "output_type": "stream",
     "text": [
      "File fit time: 62.45 seconds\n"
     ]
    },
    {
     "name": "stderr",
     "output_type": "stream",
     "text": [
      "../bayes-drt\\stan_models.py:7: UserWarning: Pickling fit objects is an experimental feature!\n",
      "The relevant StanModel instance must be pickled along with this fit object.\n",
      "When unpickling the StanModel must be unpickled first.\n",
      "  pickle.dump(obj, f, pickle.HIGHEST_PROTOCOL)\n"
     ]
    },
    {
     "name": "stdout",
     "output_type": "stream",
     "text": [
      "Dumped pickle to bayes_results\\obj_2RC_uniform_2.5.pkl\n",
      "-------------------------------\n",
      "../data/simulated\\Z_2ZARC_Macdonald_0.25.csv\n",
      "-------------------------------\n"
     ]
    },
    {
     "name": "stderr",
     "output_type": "stream",
     "text": [
      "WARNING:pystan:Maximum (flat) parameter count (1000) exceeded: skipping diagnostic tests for n_eff and Rhat.\n",
      "To run all diagnostics call pystan.check_hmc_diagnostics(fit)\n"
     ]
    },
    {
     "name": "stdout",
     "output_type": "stream",
     "text": [
      "File fit time: 62.73 seconds\n"
     ]
    },
    {
     "name": "stderr",
     "output_type": "stream",
     "text": [
      "../bayes-drt\\stan_models.py:7: UserWarning: Pickling fit objects is an experimental feature!\n",
      "The relevant StanModel instance must be pickled along with this fit object.\n",
      "When unpickling the StanModel must be unpickled first.\n",
      "  pickle.dump(obj, f, pickle.HIGHEST_PROTOCOL)\n"
     ]
    },
    {
     "name": "stdout",
     "output_type": "stream",
     "text": [
      "Dumped pickle to bayes_results\\obj_2ZARC_Macdonald_0.25.pkl\n",
      "-------------------------------\n",
      "../data/simulated\\Z_2ZARC_Macdonald_1.0.csv\n",
      "-------------------------------\n"
     ]
    },
    {
     "name": "stderr",
     "output_type": "stream",
     "text": [
      "WARNING:pystan:Maximum (flat) parameter count (1000) exceeded: skipping diagnostic tests for n_eff and Rhat.\n",
      "To run all diagnostics call pystan.check_hmc_diagnostics(fit)\n"
     ]
    },
    {
     "name": "stdout",
     "output_type": "stream",
     "text": [
      "File fit time: 38.75 seconds\n"
     ]
    },
    {
     "name": "stderr",
     "output_type": "stream",
     "text": [
      "../bayes-drt\\stan_models.py:7: UserWarning: Pickling fit objects is an experimental feature!\n",
      "The relevant StanModel instance must be pickled along with this fit object.\n",
      "When unpickling the StanModel must be unpickled first.\n",
      "  pickle.dump(obj, f, pickle.HIGHEST_PROTOCOL)\n"
     ]
    },
    {
     "name": "stdout",
     "output_type": "stream",
     "text": [
      "Dumped pickle to bayes_results\\obj_2ZARC_Macdonald_1.0.pkl\n",
      "-------------------------------\n",
      "../data/simulated\\Z_2ZARC_Macdonald_2.5.csv\n",
      "-------------------------------\n"
     ]
    },
    {
     "name": "stderr",
     "output_type": "stream",
     "text": [
      "WARNING:pystan:Maximum (flat) parameter count (1000) exceeded: skipping diagnostic tests for n_eff and Rhat.\n",
      "To run all diagnostics call pystan.check_hmc_diagnostics(fit)\n"
     ]
    },
    {
     "name": "stdout",
     "output_type": "stream",
     "text": [
      "File fit time: 34.50 seconds\n"
     ]
    },
    {
     "name": "stderr",
     "output_type": "stream",
     "text": [
      "../bayes-drt\\stan_models.py:7: UserWarning: Pickling fit objects is an experimental feature!\n",
      "The relevant StanModel instance must be pickled along with this fit object.\n",
      "When unpickling the StanModel must be unpickled first.\n",
      "  pickle.dump(obj, f, pickle.HIGHEST_PROTOCOL)\n"
     ]
    },
    {
     "name": "stdout",
     "output_type": "stream",
     "text": [
      "Dumped pickle to bayes_results\\obj_2ZARC_Macdonald_2.5.pkl\n",
      "-------------------------------\n",
      "../data/simulated\\Z_2ZARC_noiseless.csv\n",
      "-------------------------------\n"
     ]
    },
    {
     "name": "stderr",
     "output_type": "stream",
     "text": [
      "WARNING:pystan:Maximum (flat) parameter count (1000) exceeded: skipping diagnostic tests for n_eff and Rhat.\n",
      "To run all diagnostics call pystan.check_hmc_diagnostics(fit)\n",
      "WARNING:pystan:2 of 400 iterations saturated the maximum tree depth of 10 (0.5 %)\n",
      "WARNING:pystan:Run again with max_treedepth larger than 10 to avoid saturation\n"
     ]
    },
    {
     "name": "stdout",
     "output_type": "stream",
     "text": [
      "File fit time: 98.26 seconds\n"
     ]
    },
    {
     "name": "stderr",
     "output_type": "stream",
     "text": [
      "../bayes-drt\\stan_models.py:7: UserWarning: Pickling fit objects is an experimental feature!\n",
      "The relevant StanModel instance must be pickled along with this fit object.\n",
      "When unpickling the StanModel must be unpickled first.\n",
      "  pickle.dump(obj, f, pickle.HIGHEST_PROTOCOL)\n"
     ]
    },
    {
     "name": "stdout",
     "output_type": "stream",
     "text": [
      "Dumped pickle to bayes_results\\obj_2ZARC_noiseless.pkl\n",
      "-------------------------------\n",
      "../data/simulated\\Z_2ZARC_Orazem_0.25.csv\n",
      "-------------------------------\n"
     ]
    },
    {
     "name": "stderr",
     "output_type": "stream",
     "text": [
      "WARNING:pystan:Maximum (flat) parameter count (1000) exceeded: skipping diagnostic tests for n_eff and Rhat.\n",
      "To run all diagnostics call pystan.check_hmc_diagnostics(fit)\n"
     ]
    },
    {
     "name": "stdout",
     "output_type": "stream",
     "text": [
      "File fit time: 72.53 seconds\n"
     ]
    },
    {
     "name": "stderr",
     "output_type": "stream",
     "text": [
      "../bayes-drt\\stan_models.py:7: UserWarning: Pickling fit objects is an experimental feature!\n",
      "The relevant StanModel instance must be pickled along with this fit object.\n",
      "When unpickling the StanModel must be unpickled first.\n",
      "  pickle.dump(obj, f, pickle.HIGHEST_PROTOCOL)\n"
     ]
    },
    {
     "name": "stdout",
     "output_type": "stream",
     "text": [
      "Dumped pickle to bayes_results\\obj_2ZARC_Orazem_0.25.pkl\n",
      "-------------------------------\n",
      "../data/simulated\\Z_2ZARC_Orazem_1.0.csv\n",
      "-------------------------------\n"
     ]
    },
    {
     "name": "stderr",
     "output_type": "stream",
     "text": [
      "WARNING:pystan:Maximum (flat) parameter count (1000) exceeded: skipping diagnostic tests for n_eff and Rhat.\n",
      "To run all diagnostics call pystan.check_hmc_diagnostics(fit)\n"
     ]
    },
    {
     "name": "stdout",
     "output_type": "stream",
     "text": [
      "File fit time: 54.65 seconds\n"
     ]
    },
    {
     "name": "stderr",
     "output_type": "stream",
     "text": [
      "../bayes-drt\\stan_models.py:7: UserWarning: Pickling fit objects is an experimental feature!\n",
      "The relevant StanModel instance must be pickled along with this fit object.\n",
      "When unpickling the StanModel must be unpickled first.\n",
      "  pickle.dump(obj, f, pickle.HIGHEST_PROTOCOL)\n"
     ]
    },
    {
     "name": "stdout",
     "output_type": "stream",
     "text": [
      "Dumped pickle to bayes_results\\obj_2ZARC_Orazem_1.0.pkl\n",
      "-------------------------------\n",
      "../data/simulated\\Z_2ZARC_Orazem_2.5.csv\n",
      "-------------------------------\n"
     ]
    },
    {
     "name": "stderr",
     "output_type": "stream",
     "text": [
      "WARNING:pystan:Maximum (flat) parameter count (1000) exceeded: skipping diagnostic tests for n_eff and Rhat.\n",
      "To run all diagnostics call pystan.check_hmc_diagnostics(fit)\n"
     ]
    },
    {
     "name": "stdout",
     "output_type": "stream",
     "text": [
      "File fit time: 42.25 seconds\n"
     ]
    },
    {
     "name": "stderr",
     "output_type": "stream",
     "text": [
      "../bayes-drt\\stan_models.py:7: UserWarning: Pickling fit objects is an experimental feature!\n",
      "The relevant StanModel instance must be pickled along with this fit object.\n",
      "When unpickling the StanModel must be unpickled first.\n",
      "  pickle.dump(obj, f, pickle.HIGHEST_PROTOCOL)\n"
     ]
    },
    {
     "name": "stdout",
     "output_type": "stream",
     "text": [
      "Dumped pickle to bayes_results\\obj_2ZARC_Orazem_2.5.pkl\n",
      "-------------------------------\n",
      "../data/simulated\\Z_2ZARC_uniform_0.25.csv\n",
      "-------------------------------\n"
     ]
    },
    {
     "name": "stderr",
     "output_type": "stream",
     "text": [
      "WARNING:pystan:Maximum (flat) parameter count (1000) exceeded: skipping diagnostic tests for n_eff and Rhat.\n",
      "To run all diagnostics call pystan.check_hmc_diagnostics(fit)\n",
      "WARNING:pystan:3 of 400 iterations saturated the maximum tree depth of 10 (0.75 %)\n",
      "WARNING:pystan:Run again with max_treedepth larger than 10 to avoid saturation\n"
     ]
    },
    {
     "name": "stdout",
     "output_type": "stream",
     "text": [
      "File fit time: 97.68 seconds\n"
     ]
    },
    {
     "name": "stderr",
     "output_type": "stream",
     "text": [
      "../bayes-drt\\stan_models.py:7: UserWarning: Pickling fit objects is an experimental feature!\n",
      "The relevant StanModel instance must be pickled along with this fit object.\n",
      "When unpickling the StanModel must be unpickled first.\n",
      "  pickle.dump(obj, f, pickle.HIGHEST_PROTOCOL)\n"
     ]
    },
    {
     "name": "stdout",
     "output_type": "stream",
     "text": [
      "Dumped pickle to bayes_results\\obj_2ZARC_uniform_0.25.pkl\n",
      "-------------------------------\n",
      "../data/simulated\\Z_2ZARC_uniform_1.0.csv\n",
      "-------------------------------\n"
     ]
    },
    {
     "name": "stderr",
     "output_type": "stream",
     "text": [
      "WARNING:pystan:Maximum (flat) parameter count (1000) exceeded: skipping diagnostic tests for n_eff and Rhat.\n",
      "To run all diagnostics call pystan.check_hmc_diagnostics(fit)\n"
     ]
    },
    {
     "name": "stdout",
     "output_type": "stream",
     "text": [
      "File fit time: 50.42 seconds\n"
     ]
    },
    {
     "name": "stderr",
     "output_type": "stream",
     "text": [
      "../bayes-drt\\stan_models.py:7: UserWarning: Pickling fit objects is an experimental feature!\n",
      "The relevant StanModel instance must be pickled along with this fit object.\n",
      "When unpickling the StanModel must be unpickled first.\n",
      "  pickle.dump(obj, f, pickle.HIGHEST_PROTOCOL)\n"
     ]
    },
    {
     "name": "stdout",
     "output_type": "stream",
     "text": [
      "Dumped pickle to bayes_results\\obj_2ZARC_uniform_1.0.pkl\n",
      "-------------------------------\n",
      "../data/simulated\\Z_2ZARC_uniform_2.5.csv\n",
      "-------------------------------\n"
     ]
    },
    {
     "name": "stderr",
     "output_type": "stream",
     "text": [
      "WARNING:pystan:Maximum (flat) parameter count (1000) exceeded: skipping diagnostic tests for n_eff and Rhat.\n",
      "To run all diagnostics call pystan.check_hmc_diagnostics(fit)\n"
     ]
    },
    {
     "name": "stdout",
     "output_type": "stream",
     "text": [
      "File fit time: 42.48 seconds\n"
     ]
    },
    {
     "name": "stderr",
     "output_type": "stream",
     "text": [
      "../bayes-drt\\stan_models.py:7: UserWarning: Pickling fit objects is an experimental feature!\n",
      "The relevant StanModel instance must be pickled along with this fit object.\n",
      "When unpickling the StanModel must be unpickled first.\n",
      "  pickle.dump(obj, f, pickle.HIGHEST_PROTOCOL)\n"
     ]
    },
    {
     "name": "stdout",
     "output_type": "stream",
     "text": [
      "Dumped pickle to bayes_results\\obj_2ZARC_uniform_2.5.pkl\n",
      "-------------------------------\n",
      "../data/simulated\\Z_Gerischer_Macdonald_0.25.csv\n",
      "-------------------------------\n"
     ]
    },
    {
     "name": "stderr",
     "output_type": "stream",
     "text": [
      "WARNING:pystan:Maximum (flat) parameter count (1000) exceeded: skipping diagnostic tests for n_eff and Rhat.\n",
      "To run all diagnostics call pystan.check_hmc_diagnostics(fit)\n",
      "WARNING:pystan:214 of 400 iterations saturated the maximum tree depth of 10 (53.5 %)\n",
      "WARNING:pystan:Run again with max_treedepth larger than 10 to avoid saturation\n"
     ]
    },
    {
     "name": "stdout",
     "output_type": "stream",
     "text": [
      "File fit time: 128.42 seconds\n"
     ]
    },
    {
     "name": "stderr",
     "output_type": "stream",
     "text": [
      "../bayes-drt\\stan_models.py:7: UserWarning: Pickling fit objects is an experimental feature!\n",
      "The relevant StanModel instance must be pickled along with this fit object.\n",
      "When unpickling the StanModel must be unpickled first.\n",
      "  pickle.dump(obj, f, pickle.HIGHEST_PROTOCOL)\n"
     ]
    },
    {
     "name": "stdout",
     "output_type": "stream",
     "text": [
      "Dumped pickle to bayes_results\\obj_Gerischer_Macdonald_0.25.pkl\n",
      "-------------------------------\n",
      "../data/simulated\\Z_Gerischer_Macdonald_1.0.csv\n",
      "-------------------------------\n"
     ]
    },
    {
     "name": "stderr",
     "output_type": "stream",
     "text": [
      "WARNING:pystan:Maximum (flat) parameter count (1000) exceeded: skipping diagnostic tests for n_eff and Rhat.\n",
      "To run all diagnostics call pystan.check_hmc_diagnostics(fit)\n"
     ]
    },
    {
     "name": "stdout",
     "output_type": "stream",
     "text": [
      "File fit time: 43.31 seconds\n"
     ]
    },
    {
     "name": "stderr",
     "output_type": "stream",
     "text": [
      "../bayes-drt\\stan_models.py:7: UserWarning: Pickling fit objects is an experimental feature!\n",
      "The relevant StanModel instance must be pickled along with this fit object.\n",
      "When unpickling the StanModel must be unpickled first.\n",
      "  pickle.dump(obj, f, pickle.HIGHEST_PROTOCOL)\n"
     ]
    },
    {
     "name": "stdout",
     "output_type": "stream",
     "text": [
      "Dumped pickle to bayes_results\\obj_Gerischer_Macdonald_1.0.pkl\n",
      "-------------------------------\n",
      "../data/simulated\\Z_Gerischer_Macdonald_2.5.csv\n",
      "-------------------------------\n"
     ]
    },
    {
     "name": "stderr",
     "output_type": "stream",
     "text": [
      "WARNING:pystan:Maximum (flat) parameter count (1000) exceeded: skipping diagnostic tests for n_eff and Rhat.\n",
      "To run all diagnostics call pystan.check_hmc_diagnostics(fit)\n"
     ]
    },
    {
     "name": "stdout",
     "output_type": "stream",
     "text": [
      "File fit time: 32.36 seconds\n"
     ]
    },
    {
     "name": "stderr",
     "output_type": "stream",
     "text": [
      "../bayes-drt\\stan_models.py:7: UserWarning: Pickling fit objects is an experimental feature!\n",
      "The relevant StanModel instance must be pickled along with this fit object.\n",
      "When unpickling the StanModel must be unpickled first.\n",
      "  pickle.dump(obj, f, pickle.HIGHEST_PROTOCOL)\n"
     ]
    },
    {
     "name": "stdout",
     "output_type": "stream",
     "text": [
      "Dumped pickle to bayes_results\\obj_Gerischer_Macdonald_2.5.pkl\n",
      "-------------------------------\n",
      "../data/simulated\\Z_Gerischer_noiseless.csv\n",
      "-------------------------------\n"
     ]
    },
    {
     "name": "stderr",
     "output_type": "stream",
     "text": [
      "WARNING:pystan:Maximum (flat) parameter count (1000) exceeded: skipping diagnostic tests for n_eff and Rhat.\n",
      "To run all diagnostics call pystan.check_hmc_diagnostics(fit)\n",
      "WARNING:pystan:399 of 400 iterations saturated the maximum tree depth of 10 (99.8 %)\n",
      "WARNING:pystan:Run again with max_treedepth larger than 10 to avoid saturation\n"
     ]
    },
    {
     "name": "stdout",
     "output_type": "stream",
     "text": [
      "File fit time: 129.89 seconds\n"
     ]
    },
    {
     "name": "stderr",
     "output_type": "stream",
     "text": [
      "../bayes-drt\\stan_models.py:7: UserWarning: Pickling fit objects is an experimental feature!\n",
      "The relevant StanModel instance must be pickled along with this fit object.\n",
      "When unpickling the StanModel must be unpickled first.\n",
      "  pickle.dump(obj, f, pickle.HIGHEST_PROTOCOL)\n"
     ]
    },
    {
     "name": "stdout",
     "output_type": "stream",
     "text": [
      "Dumped pickle to bayes_results\\obj_Gerischer_noiseless.pkl\n",
      "-------------------------------\n",
      "../data/simulated\\Z_Gerischer_Orazem_0.25.csv\n",
      "-------------------------------\n"
     ]
    },
    {
     "name": "stderr",
     "output_type": "stream",
     "text": [
      "WARNING:pystan:Maximum (flat) parameter count (1000) exceeded: skipping diagnostic tests for n_eff and Rhat.\n",
      "To run all diagnostics call pystan.check_hmc_diagnostics(fit)\n",
      "WARNING:pystan:287 of 400 iterations saturated the maximum tree depth of 10 (71.8 %)\n",
      "WARNING:pystan:Run again with max_treedepth larger than 10 to avoid saturation\n"
     ]
    },
    {
     "name": "stdout",
     "output_type": "stream",
     "text": [
      "File fit time: 130.86 seconds\n"
     ]
    },
    {
     "name": "stderr",
     "output_type": "stream",
     "text": [
      "../bayes-drt\\stan_models.py:7: UserWarning: Pickling fit objects is an experimental feature!\n",
      "The relevant StanModel instance must be pickled along with this fit object.\n",
      "When unpickling the StanModel must be unpickled first.\n",
      "  pickle.dump(obj, f, pickle.HIGHEST_PROTOCOL)\n"
     ]
    },
    {
     "name": "stdout",
     "output_type": "stream",
     "text": [
      "Dumped pickle to bayes_results\\obj_Gerischer_Orazem_0.25.pkl\n",
      "-------------------------------\n",
      "../data/simulated\\Z_Gerischer_Orazem_1.0.csv\n",
      "-------------------------------\n"
     ]
    },
    {
     "name": "stderr",
     "output_type": "stream",
     "text": [
      "WARNING:pystan:Maximum (flat) parameter count (1000) exceeded: skipping diagnostic tests for n_eff and Rhat.\n",
      "To run all diagnostics call pystan.check_hmc_diagnostics(fit)\n"
     ]
    },
    {
     "name": "stdout",
     "output_type": "stream",
     "text": [
      "File fit time: 57.20 seconds\n"
     ]
    },
    {
     "name": "stderr",
     "output_type": "stream",
     "text": [
      "../bayes-drt\\stan_models.py:7: UserWarning: Pickling fit objects is an experimental feature!\n",
      "The relevant StanModel instance must be pickled along with this fit object.\n",
      "When unpickling the StanModel must be unpickled first.\n",
      "  pickle.dump(obj, f, pickle.HIGHEST_PROTOCOL)\n"
     ]
    },
    {
     "name": "stdout",
     "output_type": "stream",
     "text": [
      "Dumped pickle to bayes_results\\obj_Gerischer_Orazem_1.0.pkl\n",
      "-------------------------------\n",
      "../data/simulated\\Z_Gerischer_Orazem_2.5.csv\n",
      "-------------------------------\n"
     ]
    },
    {
     "name": "stderr",
     "output_type": "stream",
     "text": [
      "WARNING:pystan:Maximum (flat) parameter count (1000) exceeded: skipping diagnostic tests for n_eff and Rhat.\n",
      "To run all diagnostics call pystan.check_hmc_diagnostics(fit)\n"
     ]
    },
    {
     "name": "stdout",
     "output_type": "stream",
     "text": [
      "File fit time: 46.20 seconds\n"
     ]
    },
    {
     "name": "stderr",
     "output_type": "stream",
     "text": [
      "../bayes-drt\\stan_models.py:7: UserWarning: Pickling fit objects is an experimental feature!\n",
      "The relevant StanModel instance must be pickled along with this fit object.\n",
      "When unpickling the StanModel must be unpickled first.\n",
      "  pickle.dump(obj, f, pickle.HIGHEST_PROTOCOL)\n"
     ]
    },
    {
     "name": "stdout",
     "output_type": "stream",
     "text": [
      "Dumped pickle to bayes_results\\obj_Gerischer_Orazem_2.5.pkl\n",
      "-------------------------------\n",
      "../data/simulated\\Z_Gerischer_uniform_0.25.csv\n",
      "-------------------------------\n"
     ]
    },
    {
     "name": "stderr",
     "output_type": "stream",
     "text": [
      "WARNING:pystan:Maximum (flat) parameter count (1000) exceeded: skipping diagnostic tests for n_eff and Rhat.\n",
      "To run all diagnostics call pystan.check_hmc_diagnostics(fit)\n",
      "WARNING:pystan:383 of 400 iterations saturated the maximum tree depth of 10 (95.8 %)\n",
      "WARNING:pystan:Run again with max_treedepth larger than 10 to avoid saturation\n"
     ]
    },
    {
     "name": "stdout",
     "output_type": "stream",
     "text": [
      "File fit time: 133.40 seconds\n"
     ]
    },
    {
     "name": "stderr",
     "output_type": "stream",
     "text": [
      "../bayes-drt\\stan_models.py:7: UserWarning: Pickling fit objects is an experimental feature!\n",
      "The relevant StanModel instance must be pickled along with this fit object.\n",
      "When unpickling the StanModel must be unpickled first.\n",
      "  pickle.dump(obj, f, pickle.HIGHEST_PROTOCOL)\n"
     ]
    },
    {
     "name": "stdout",
     "output_type": "stream",
     "text": [
      "Dumped pickle to bayes_results\\obj_Gerischer_uniform_0.25.pkl\n",
      "-------------------------------\n",
      "../data/simulated\\Z_Gerischer_uniform_1.0.csv\n",
      "-------------------------------\n"
     ]
    },
    {
     "name": "stderr",
     "output_type": "stream",
     "text": [
      "WARNING:pystan:Maximum (flat) parameter count (1000) exceeded: skipping diagnostic tests for n_eff and Rhat.\n",
      "To run all diagnostics call pystan.check_hmc_diagnostics(fit)\n"
     ]
    },
    {
     "name": "stdout",
     "output_type": "stream",
     "text": [
      "File fit time: 58.32 seconds\n"
     ]
    },
    {
     "name": "stderr",
     "output_type": "stream",
     "text": [
      "../bayes-drt\\stan_models.py:7: UserWarning: Pickling fit objects is an experimental feature!\n",
      "The relevant StanModel instance must be pickled along with this fit object.\n",
      "When unpickling the StanModel must be unpickled first.\n",
      "  pickle.dump(obj, f, pickle.HIGHEST_PROTOCOL)\n"
     ]
    },
    {
     "name": "stdout",
     "output_type": "stream",
     "text": [
      "Dumped pickle to bayes_results\\obj_Gerischer_uniform_1.0.pkl\n",
      "-------------------------------\n",
      "../data/simulated\\Z_Gerischer_uniform_2.5.csv\n",
      "-------------------------------\n"
     ]
    },
    {
     "name": "stderr",
     "output_type": "stream",
     "text": [
      "WARNING:pystan:Maximum (flat) parameter count (1000) exceeded: skipping diagnostic tests for n_eff and Rhat.\n",
      "To run all diagnostics call pystan.check_hmc_diagnostics(fit)\n"
     ]
    },
    {
     "name": "stdout",
     "output_type": "stream",
     "text": [
      "File fit time: 49.88 seconds\n"
     ]
    },
    {
     "name": "stderr",
     "output_type": "stream",
     "text": [
      "../bayes-drt\\stan_models.py:7: UserWarning: Pickling fit objects is an experimental feature!\n",
      "The relevant StanModel instance must be pickled along with this fit object.\n",
      "When unpickling the StanModel must be unpickled first.\n",
      "  pickle.dump(obj, f, pickle.HIGHEST_PROTOCOL)\n"
     ]
    },
    {
     "name": "stdout",
     "output_type": "stream",
     "text": [
      "Dumped pickle to bayes_results\\obj_Gerischer_uniform_2.5.pkl\n",
      "-------------------------------\n",
      "../data/simulated\\Z_RC_Macdonald_0.25.csv\n",
      "-------------------------------\n"
     ]
    },
    {
     "name": "stderr",
     "output_type": "stream",
     "text": [
      "WARNING:pystan:Maximum (flat) parameter count (1000) exceeded: skipping diagnostic tests for n_eff and Rhat.\n",
      "To run all diagnostics call pystan.check_hmc_diagnostics(fit)\n",
      "WARNING:pystan:200 of 400 iterations saturated the maximum tree depth of 10 (50 %)\n",
      "WARNING:pystan:Run again with max_treedepth larger than 10 to avoid saturation\n"
     ]
    },
    {
     "name": "stdout",
     "output_type": "stream",
     "text": [
      "File fit time: 133.69 seconds\n"
     ]
    },
    {
     "name": "stderr",
     "output_type": "stream",
     "text": [
      "../bayes-drt\\stan_models.py:7: UserWarning: Pickling fit objects is an experimental feature!\n",
      "The relevant StanModel instance must be pickled along with this fit object.\n",
      "When unpickling the StanModel must be unpickled first.\n",
      "  pickle.dump(obj, f, pickle.HIGHEST_PROTOCOL)\n"
     ]
    },
    {
     "name": "stdout",
     "output_type": "stream",
     "text": [
      "Dumped pickle to bayes_results\\obj_RC_Macdonald_0.25.pkl\n",
      "-------------------------------\n",
      "../data/simulated\\Z_RC_Macdonald_1.0.csv\n",
      "-------------------------------\n"
     ]
    },
    {
     "name": "stderr",
     "output_type": "stream",
     "text": [
      "WARNING:pystan:Maximum (flat) parameter count (1000) exceeded: skipping diagnostic tests for n_eff and Rhat.\n",
      "To run all diagnostics call pystan.check_hmc_diagnostics(fit)\n",
      "WARNING:pystan:2 of 400 iterations ended with a divergence (0.5 %).\n",
      "WARNING:pystan:Try running with adapt_delta larger than 0.9 to remove the divergences.\n"
     ]
    },
    {
     "name": "stdout",
     "output_type": "stream",
     "text": [
      "File fit time: 46.95 seconds\n"
     ]
    },
    {
     "name": "stderr",
     "output_type": "stream",
     "text": [
      "../bayes-drt\\stan_models.py:7: UserWarning: Pickling fit objects is an experimental feature!\n",
      "The relevant StanModel instance must be pickled along with this fit object.\n",
      "When unpickling the StanModel must be unpickled first.\n",
      "  pickle.dump(obj, f, pickle.HIGHEST_PROTOCOL)\n"
     ]
    },
    {
     "name": "stdout",
     "output_type": "stream",
     "text": [
      "Dumped pickle to bayes_results\\obj_RC_Macdonald_1.0.pkl\n",
      "-------------------------------\n",
      "../data/simulated\\Z_RC_Macdonald_2.5.csv\n",
      "-------------------------------\n"
     ]
    },
    {
     "name": "stderr",
     "output_type": "stream",
     "text": [
      "WARNING:pystan:Maximum (flat) parameter count (1000) exceeded: skipping diagnostic tests for n_eff and Rhat.\n",
      "To run all diagnostics call pystan.check_hmc_diagnostics(fit)\n"
     ]
    },
    {
     "name": "stdout",
     "output_type": "stream",
     "text": [
      "File fit time: 45.23 seconds\n"
     ]
    },
    {
     "name": "stderr",
     "output_type": "stream",
     "text": [
      "../bayes-drt\\stan_models.py:7: UserWarning: Pickling fit objects is an experimental feature!\n",
      "The relevant StanModel instance must be pickled along with this fit object.\n",
      "When unpickling the StanModel must be unpickled first.\n",
      "  pickle.dump(obj, f, pickle.HIGHEST_PROTOCOL)\n"
     ]
    },
    {
     "name": "stdout",
     "output_type": "stream",
     "text": [
      "Dumped pickle to bayes_results\\obj_RC_Macdonald_2.5.pkl\n",
      "-------------------------------\n",
      "../data/simulated\\Z_RC_noiseless.csv\n",
      "-------------------------------\n"
     ]
    },
    {
     "name": "stderr",
     "output_type": "stream",
     "text": [
      "WARNING:pystan:Maximum (flat) parameter count (1000) exceeded: skipping diagnostic tests for n_eff and Rhat.\n",
      "To run all diagnostics call pystan.check_hmc_diagnostics(fit)\n",
      "WARNING:pystan:200 of 400 iterations saturated the maximum tree depth of 10 (50 %)\n",
      "WARNING:pystan:Run again with max_treedepth larger than 10 to avoid saturation\n"
     ]
    },
    {
     "name": "stdout",
     "output_type": "stream",
     "text": [
      "File fit time: 131.98 seconds\n"
     ]
    },
    {
     "name": "stderr",
     "output_type": "stream",
     "text": [
      "../bayes-drt\\stan_models.py:7: UserWarning: Pickling fit objects is an experimental feature!\n",
      "The relevant StanModel instance must be pickled along with this fit object.\n",
      "When unpickling the StanModel must be unpickled first.\n",
      "  pickle.dump(obj, f, pickle.HIGHEST_PROTOCOL)\n"
     ]
    },
    {
     "name": "stdout",
     "output_type": "stream",
     "text": [
      "Dumped pickle to bayes_results\\obj_RC_noiseless.pkl\n",
      "-------------------------------\n",
      "../data/simulated\\Z_RC_Orazem_0.25.csv\n",
      "-------------------------------\n"
     ]
    },
    {
     "name": "stderr",
     "output_type": "stream",
     "text": [
      "WARNING:pystan:Maximum (flat) parameter count (1000) exceeded: skipping diagnostic tests for n_eff and Rhat.\n",
      "To run all diagnostics call pystan.check_hmc_diagnostics(fit)\n",
      "WARNING:pystan:174 of 400 iterations saturated the maximum tree depth of 10 (43.5 %)\n",
      "WARNING:pystan:Run again with max_treedepth larger than 10 to avoid saturation\n"
     ]
    },
    {
     "name": "stdout",
     "output_type": "stream",
     "text": [
      "File fit time: 125.04 seconds\n"
     ]
    },
    {
     "name": "stderr",
     "output_type": "stream",
     "text": [
      "../bayes-drt\\stan_models.py:7: UserWarning: Pickling fit objects is an experimental feature!\n",
      "The relevant StanModel instance must be pickled along with this fit object.\n",
      "When unpickling the StanModel must be unpickled first.\n",
      "  pickle.dump(obj, f, pickle.HIGHEST_PROTOCOL)\n"
     ]
    },
    {
     "name": "stdout",
     "output_type": "stream",
     "text": [
      "Dumped pickle to bayes_results\\obj_RC_Orazem_0.25.pkl\n",
      "-------------------------------\n",
      "../data/simulated\\Z_RC_Orazem_1.0.csv\n",
      "-------------------------------\n"
     ]
    },
    {
     "name": "stderr",
     "output_type": "stream",
     "text": [
      "WARNING:pystan:Maximum (flat) parameter count (1000) exceeded: skipping diagnostic tests for n_eff and Rhat.\n",
      "To run all diagnostics call pystan.check_hmc_diagnostics(fit)\n",
      "WARNING:pystan:2 of 400 iterations ended with a divergence (0.5 %).\n",
      "WARNING:pystan:Try running with adapt_delta larger than 0.9 to remove the divergences.\n"
     ]
    },
    {
     "name": "stdout",
     "output_type": "stream",
     "text": [
      "File fit time: 68.53 seconds\n"
     ]
    },
    {
     "name": "stderr",
     "output_type": "stream",
     "text": [
      "../bayes-drt\\stan_models.py:7: UserWarning: Pickling fit objects is an experimental feature!\n",
      "The relevant StanModel instance must be pickled along with this fit object.\n",
      "When unpickling the StanModel must be unpickled first.\n",
      "  pickle.dump(obj, f, pickle.HIGHEST_PROTOCOL)\n"
     ]
    },
    {
     "name": "stdout",
     "output_type": "stream",
     "text": [
      "Dumped pickle to bayes_results\\obj_RC_Orazem_1.0.pkl\n",
      "-------------------------------\n",
      "../data/simulated\\Z_RC_Orazem_2.5.csv\n",
      "-------------------------------\n"
     ]
    },
    {
     "name": "stderr",
     "output_type": "stream",
     "text": [
      "WARNING:pystan:Maximum (flat) parameter count (1000) exceeded: skipping diagnostic tests for n_eff and Rhat.\n",
      "To run all diagnostics call pystan.check_hmc_diagnostics(fit)\n",
      "WARNING:pystan:1 of 400 iterations ended with a divergence (0.25 %).\n",
      "WARNING:pystan:Try running with adapt_delta larger than 0.9 to remove the divergences.\n"
     ]
    },
    {
     "name": "stdout",
     "output_type": "stream",
     "text": [
      "File fit time: 63.06 seconds\n"
     ]
    },
    {
     "name": "stderr",
     "output_type": "stream",
     "text": [
      "../bayes-drt\\stan_models.py:7: UserWarning: Pickling fit objects is an experimental feature!\n",
      "The relevant StanModel instance must be pickled along with this fit object.\n",
      "When unpickling the StanModel must be unpickled first.\n",
      "  pickle.dump(obj, f, pickle.HIGHEST_PROTOCOL)\n"
     ]
    },
    {
     "name": "stdout",
     "output_type": "stream",
     "text": [
      "Dumped pickle to bayes_results\\obj_RC_Orazem_2.5.pkl\n",
      "-------------------------------\n",
      "../data/simulated\\Z_RC_uniform_0.25.csv\n",
      "-------------------------------\n"
     ]
    },
    {
     "name": "stderr",
     "output_type": "stream",
     "text": [
      "WARNING:pystan:Maximum (flat) parameter count (1000) exceeded: skipping diagnostic tests for n_eff and Rhat.\n",
      "To run all diagnostics call pystan.check_hmc_diagnostics(fit)\n",
      "WARNING:pystan:200 of 400 iterations saturated the maximum tree depth of 10 (50 %)\n",
      "WARNING:pystan:Run again with max_treedepth larger than 10 to avoid saturation\n"
     ]
    },
    {
     "name": "stdout",
     "output_type": "stream",
     "text": [
      "File fit time: 124.32 seconds\n"
     ]
    },
    {
     "name": "stderr",
     "output_type": "stream",
     "text": [
      "../bayes-drt\\stan_models.py:7: UserWarning: Pickling fit objects is an experimental feature!\n",
      "The relevant StanModel instance must be pickled along with this fit object.\n",
      "When unpickling the StanModel must be unpickled first.\n",
      "  pickle.dump(obj, f, pickle.HIGHEST_PROTOCOL)\n"
     ]
    },
    {
     "name": "stdout",
     "output_type": "stream",
     "text": [
      "Dumped pickle to bayes_results\\obj_RC_uniform_0.25.pkl\n",
      "-------------------------------\n",
      "../data/simulated\\Z_RC_uniform_1.0.csv\n",
      "-------------------------------\n"
     ]
    },
    {
     "name": "stderr",
     "output_type": "stream",
     "text": [
      "WARNING:pystan:Maximum (flat) parameter count (1000) exceeded: skipping diagnostic tests for n_eff and Rhat.\n",
      "To run all diagnostics call pystan.check_hmc_diagnostics(fit)\n",
      "WARNING:pystan:1 of 400 iterations ended with a divergence (0.25 %).\n",
      "WARNING:pystan:Try running with adapt_delta larger than 0.9 to remove the divergences.\n"
     ]
    },
    {
     "name": "stdout",
     "output_type": "stream",
     "text": [
      "File fit time: 81.50 seconds\n"
     ]
    },
    {
     "name": "stderr",
     "output_type": "stream",
     "text": [
      "../bayes-drt\\stan_models.py:7: UserWarning: Pickling fit objects is an experimental feature!\n",
      "The relevant StanModel instance must be pickled along with this fit object.\n",
      "When unpickling the StanModel must be unpickled first.\n",
      "  pickle.dump(obj, f, pickle.HIGHEST_PROTOCOL)\n"
     ]
    },
    {
     "name": "stdout",
     "output_type": "stream",
     "text": [
      "Dumped pickle to bayes_results\\obj_RC_uniform_1.0.pkl\n",
      "-------------------------------\n",
      "../data/simulated\\Z_RC_uniform_2.5.csv\n",
      "-------------------------------\n"
     ]
    },
    {
     "name": "stderr",
     "output_type": "stream",
     "text": [
      "WARNING:pystan:Maximum (flat) parameter count (1000) exceeded: skipping diagnostic tests for n_eff and Rhat.\n",
      "To run all diagnostics call pystan.check_hmc_diagnostics(fit)\n",
      "WARNING:pystan:2 of 400 iterations saturated the maximum tree depth of 10 (0.5 %)\n",
      "WARNING:pystan:Run again with max_treedepth larger than 10 to avoid saturation\n"
     ]
    },
    {
     "name": "stdout",
     "output_type": "stream",
     "text": [
      "File fit time: 72.56 seconds\n"
     ]
    },
    {
     "name": "stderr",
     "output_type": "stream",
     "text": [
      "../bayes-drt\\stan_models.py:7: UserWarning: Pickling fit objects is an experimental feature!\n",
      "The relevant StanModel instance must be pickled along with this fit object.\n",
      "When unpickling the StanModel must be unpickled first.\n",
      "  pickle.dump(obj, f, pickle.HIGHEST_PROTOCOL)\n"
     ]
    },
    {
     "name": "stdout",
     "output_type": "stream",
     "text": [
      "Dumped pickle to bayes_results\\obj_RC_uniform_2.5.pkl\n",
      "-------------------------------\n",
      "../data/simulated\\Z_ZARC-RL_Macdonald_0.25.csv\n",
      "-------------------------------\n"
     ]
    },
    {
     "name": "stderr",
     "output_type": "stream",
     "text": [
      "WARNING:pystan:Maximum (flat) parameter count (1000) exceeded: skipping diagnostic tests for n_eff and Rhat.\n",
      "To run all diagnostics call pystan.check_hmc_diagnostics(fit)\n",
      "WARNING:pystan:1 of 400 iterations ended with a divergence (0.25 %).\n",
      "WARNING:pystan:Try running with adapt_delta larger than 0.9 to remove the divergences.\n"
     ]
    },
    {
     "name": "stdout",
     "output_type": "stream",
     "text": [
      "File fit time: 70.36 seconds\n"
     ]
    },
    {
     "name": "stderr",
     "output_type": "stream",
     "text": [
      "../bayes-drt\\stan_models.py:7: UserWarning: Pickling fit objects is an experimental feature!\n",
      "The relevant StanModel instance must be pickled along with this fit object.\n",
      "When unpickling the StanModel must be unpickled first.\n",
      "  pickle.dump(obj, f, pickle.HIGHEST_PROTOCOL)\n"
     ]
    },
    {
     "name": "stdout",
     "output_type": "stream",
     "text": [
      "Dumped pickle to bayes_results\\obj_ZARC-RL_Macdonald_0.25.pkl\n",
      "-------------------------------\n",
      "../data/simulated\\Z_ZARC-RL_Macdonald_1.0.csv\n",
      "-------------------------------\n"
     ]
    },
    {
     "name": "stderr",
     "output_type": "stream",
     "text": [
      "WARNING:pystan:Maximum (flat) parameter count (1000) exceeded: skipping diagnostic tests for n_eff and Rhat.\n",
      "To run all diagnostics call pystan.check_hmc_diagnostics(fit)\n"
     ]
    },
    {
     "name": "stdout",
     "output_type": "stream",
     "text": [
      "File fit time: 89.78 seconds\n"
     ]
    },
    {
     "name": "stderr",
     "output_type": "stream",
     "text": [
      "../bayes-drt\\stan_models.py:7: UserWarning: Pickling fit objects is an experimental feature!\n",
      "The relevant StanModel instance must be pickled along with this fit object.\n",
      "When unpickling the StanModel must be unpickled first.\n",
      "  pickle.dump(obj, f, pickle.HIGHEST_PROTOCOL)\n"
     ]
    },
    {
     "name": "stdout",
     "output_type": "stream",
     "text": [
      "Dumped pickle to bayes_results\\obj_ZARC-RL_Macdonald_1.0.pkl\n",
      "-------------------------------\n",
      "../data/simulated\\Z_ZARC-RL_Macdonald_2.5.csv\n",
      "-------------------------------\n"
     ]
    },
    {
     "name": "stderr",
     "output_type": "stream",
     "text": [
      "WARNING:pystan:Maximum (flat) parameter count (1000) exceeded: skipping diagnostic tests for n_eff and Rhat.\n",
      "To run all diagnostics call pystan.check_hmc_diagnostics(fit)\n"
     ]
    },
    {
     "name": "stdout",
     "output_type": "stream",
     "text": [
      "File fit time: 53.61 seconds\n"
     ]
    },
    {
     "name": "stderr",
     "output_type": "stream",
     "text": [
      "../bayes-drt\\stan_models.py:7: UserWarning: Pickling fit objects is an experimental feature!\n",
      "The relevant StanModel instance must be pickled along with this fit object.\n",
      "When unpickling the StanModel must be unpickled first.\n",
      "  pickle.dump(obj, f, pickle.HIGHEST_PROTOCOL)\n"
     ]
    },
    {
     "name": "stdout",
     "output_type": "stream",
     "text": [
      "Dumped pickle to bayes_results\\obj_ZARC-RL_Macdonald_2.5.pkl\n",
      "-------------------------------\n",
      "../data/simulated\\Z_ZARC-RL_noiseless.csv\n",
      "-------------------------------\n"
     ]
    },
    {
     "name": "stderr",
     "output_type": "stream",
     "text": [
      "WARNING:pystan:Maximum (flat) parameter count (1000) exceeded: skipping diagnostic tests for n_eff and Rhat.\n",
      "To run all diagnostics call pystan.check_hmc_diagnostics(fit)\n",
      "WARNING:pystan:2 of 400 iterations saturated the maximum tree depth of 10 (0.5 %)\n",
      "WARNING:pystan:Run again with max_treedepth larger than 10 to avoid saturation\n"
     ]
    },
    {
     "name": "stdout",
     "output_type": "stream",
     "text": [
      "File fit time: 100.25 seconds\n"
     ]
    },
    {
     "name": "stderr",
     "output_type": "stream",
     "text": [
      "../bayes-drt\\stan_models.py:7: UserWarning: Pickling fit objects is an experimental feature!\n",
      "The relevant StanModel instance must be pickled along with this fit object.\n",
      "When unpickling the StanModel must be unpickled first.\n",
      "  pickle.dump(obj, f, pickle.HIGHEST_PROTOCOL)\n"
     ]
    },
    {
     "name": "stdout",
     "output_type": "stream",
     "text": [
      "Dumped pickle to bayes_results\\obj_ZARC-RL_noiseless.pkl\n",
      "-------------------------------\n",
      "../data/simulated\\Z_ZARC-RL_Orazem_0.25.csv\n",
      "-------------------------------\n"
     ]
    },
    {
     "name": "stderr",
     "output_type": "stream",
     "text": [
      "WARNING:pystan:Maximum (flat) parameter count (1000) exceeded: skipping diagnostic tests for n_eff and Rhat.\n",
      "To run all diagnostics call pystan.check_hmc_diagnostics(fit)\n",
      "WARNING:pystan:2 of 400 iterations saturated the maximum tree depth of 10 (0.5 %)\n",
      "WARNING:pystan:Run again with max_treedepth larger than 10 to avoid saturation\n"
     ]
    },
    {
     "name": "stdout",
     "output_type": "stream",
     "text": [
      "File fit time: 101.35 seconds\n"
     ]
    },
    {
     "name": "stderr",
     "output_type": "stream",
     "text": [
      "../bayes-drt\\stan_models.py:7: UserWarning: Pickling fit objects is an experimental feature!\n",
      "The relevant StanModel instance must be pickled along with this fit object.\n",
      "When unpickling the StanModel must be unpickled first.\n",
      "  pickle.dump(obj, f, pickle.HIGHEST_PROTOCOL)\n"
     ]
    },
    {
     "name": "stdout",
     "output_type": "stream",
     "text": [
      "Dumped pickle to bayes_results\\obj_ZARC-RL_Orazem_0.25.pkl\n",
      "-------------------------------\n",
      "../data/simulated\\Z_ZARC-RL_Orazem_1.0.csv\n",
      "-------------------------------\n"
     ]
    },
    {
     "name": "stderr",
     "output_type": "stream",
     "text": [
      "WARNING:pystan:Maximum (flat) parameter count (1000) exceeded: skipping diagnostic tests for n_eff and Rhat.\n",
      "To run all diagnostics call pystan.check_hmc_diagnostics(fit)\n",
      "WARNING:pystan:1 of 400 iterations ended with a divergence (0.25 %).\n",
      "WARNING:pystan:Try running with adapt_delta larger than 0.9 to remove the divergences.\n"
     ]
    },
    {
     "name": "stdout",
     "output_type": "stream",
     "text": [
      "File fit time: 60.00 seconds\n"
     ]
    },
    {
     "name": "stderr",
     "output_type": "stream",
     "text": [
      "../bayes-drt\\stan_models.py:7: UserWarning: Pickling fit objects is an experimental feature!\n",
      "The relevant StanModel instance must be pickled along with this fit object.\n",
      "When unpickling the StanModel must be unpickled first.\n",
      "  pickle.dump(obj, f, pickle.HIGHEST_PROTOCOL)\n"
     ]
    },
    {
     "name": "stdout",
     "output_type": "stream",
     "text": [
      "Dumped pickle to bayes_results\\obj_ZARC-RL_Orazem_1.0.pkl\n",
      "-------------------------------\n",
      "../data/simulated\\Z_ZARC-RL_Orazem_2.5.csv\n",
      "-------------------------------\n"
     ]
    },
    {
     "name": "stderr",
     "output_type": "stream",
     "text": [
      "WARNING:pystan:Maximum (flat) parameter count (1000) exceeded: skipping diagnostic tests for n_eff and Rhat.\n",
      "To run all diagnostics call pystan.check_hmc_diagnostics(fit)\n",
      "WARNING:pystan:6 of 400 iterations ended with a divergence (1.5 %).\n",
      "WARNING:pystan:Try running with adapt_delta larger than 0.9 to remove the divergences.\n"
     ]
    },
    {
     "name": "stdout",
     "output_type": "stream",
     "text": [
      "File fit time: 65.14 seconds\n"
     ]
    },
    {
     "name": "stderr",
     "output_type": "stream",
     "text": [
      "../bayes-drt\\stan_models.py:7: UserWarning: Pickling fit objects is an experimental feature!\n",
      "The relevant StanModel instance must be pickled along with this fit object.\n",
      "When unpickling the StanModel must be unpickled first.\n",
      "  pickle.dump(obj, f, pickle.HIGHEST_PROTOCOL)\n"
     ]
    },
    {
     "name": "stdout",
     "output_type": "stream",
     "text": [
      "Dumped pickle to bayes_results\\obj_ZARC-RL_Orazem_2.5.pkl\n",
      "-------------------------------\n",
      "../data/simulated\\Z_ZARC-RL_uniform_0.25.csv\n",
      "-------------------------------\n"
     ]
    },
    {
     "name": "stderr",
     "output_type": "stream",
     "text": [
      "WARNING:pystan:Maximum (flat) parameter count (1000) exceeded: skipping diagnostic tests for n_eff and Rhat.\n",
      "To run all diagnostics call pystan.check_hmc_diagnostics(fit)\n",
      "WARNING:pystan:11 of 400 iterations saturated the maximum tree depth of 10 (2.75 %)\n",
      "WARNING:pystan:Run again with max_treedepth larger than 10 to avoid saturation\n"
     ]
    },
    {
     "name": "stdout",
     "output_type": "stream",
     "text": [
      "File fit time: 108.45 seconds\n"
     ]
    },
    {
     "name": "stderr",
     "output_type": "stream",
     "text": [
      "../bayes-drt\\stan_models.py:7: UserWarning: Pickling fit objects is an experimental feature!\n",
      "The relevant StanModel instance must be pickled along with this fit object.\n",
      "When unpickling the StanModel must be unpickled first.\n",
      "  pickle.dump(obj, f, pickle.HIGHEST_PROTOCOL)\n"
     ]
    },
    {
     "name": "stdout",
     "output_type": "stream",
     "text": [
      "Dumped pickle to bayes_results\\obj_ZARC-RL_uniform_0.25.pkl\n",
      "-------------------------------\n",
      "../data/simulated\\Z_ZARC-RL_uniform_1.0.csv\n",
      "-------------------------------\n"
     ]
    },
    {
     "name": "stderr",
     "output_type": "stream",
     "text": [
      "WARNING:pystan:Maximum (flat) parameter count (1000) exceeded: skipping diagnostic tests for n_eff and Rhat.\n",
      "To run all diagnostics call pystan.check_hmc_diagnostics(fit)\n"
     ]
    },
    {
     "name": "stdout",
     "output_type": "stream",
     "text": [
      "File fit time: 57.75 seconds\n"
     ]
    },
    {
     "name": "stderr",
     "output_type": "stream",
     "text": [
      "../bayes-drt\\stan_models.py:7: UserWarning: Pickling fit objects is an experimental feature!\n",
      "The relevant StanModel instance must be pickled along with this fit object.\n",
      "When unpickling the StanModel must be unpickled first.\n",
      "  pickle.dump(obj, f, pickle.HIGHEST_PROTOCOL)\n"
     ]
    },
    {
     "name": "stdout",
     "output_type": "stream",
     "text": [
      "Dumped pickle to bayes_results\\obj_ZARC-RL_uniform_1.0.pkl\n",
      "-------------------------------\n",
      "../data/simulated\\Z_ZARC-RL_uniform_2.5.csv\n",
      "-------------------------------\n"
     ]
    },
    {
     "name": "stderr",
     "output_type": "stream",
     "text": [
      "WARNING:pystan:Maximum (flat) parameter count (1000) exceeded: skipping diagnostic tests for n_eff and Rhat.\n",
      "To run all diagnostics call pystan.check_hmc_diagnostics(fit)\n",
      "WARNING:pystan:1 of 400 iterations ended with a divergence (0.25 %).\n",
      "WARNING:pystan:Try running with adapt_delta larger than 0.9 to remove the divergences.\n"
     ]
    },
    {
     "name": "stdout",
     "output_type": "stream",
     "text": [
      "File fit time: 85.41 seconds\n"
     ]
    },
    {
     "name": "stderr",
     "output_type": "stream",
     "text": [
      "../bayes-drt\\stan_models.py:7: UserWarning: Pickling fit objects is an experimental feature!\n",
      "The relevant StanModel instance must be pickled along with this fit object.\n",
      "When unpickling the StanModel must be unpickled first.\n",
      "  pickle.dump(obj, f, pickle.HIGHEST_PROTOCOL)\n"
     ]
    },
    {
     "name": "stdout",
     "output_type": "stream",
     "text": [
      "Dumped pickle to bayes_results\\obj_ZARC-RL_uniform_2.5.pkl\n",
      "-------------------------------\n",
      "../data/simulated\\Z_ZARC_Macdonald_0.25.csv\n",
      "-------------------------------\n"
     ]
    },
    {
     "name": "stderr",
     "output_type": "stream",
     "text": [
      "WARNING:pystan:Maximum (flat) parameter count (1000) exceeded: skipping diagnostic tests for n_eff and Rhat.\n",
      "To run all diagnostics call pystan.check_hmc_diagnostics(fit)\n"
     ]
    },
    {
     "name": "stdout",
     "output_type": "stream",
     "text": [
      "File fit time: 75.97 seconds\n"
     ]
    },
    {
     "name": "stderr",
     "output_type": "stream",
     "text": [
      "../bayes-drt\\stan_models.py:7: UserWarning: Pickling fit objects is an experimental feature!\n",
      "The relevant StanModel instance must be pickled along with this fit object.\n",
      "When unpickling the StanModel must be unpickled first.\n",
      "  pickle.dump(obj, f, pickle.HIGHEST_PROTOCOL)\n"
     ]
    },
    {
     "name": "stdout",
     "output_type": "stream",
     "text": [
      "Dumped pickle to bayes_results\\obj_ZARC_Macdonald_0.25.pkl\n",
      "-------------------------------\n",
      "../data/simulated\\Z_ZARC_Macdonald_1.0.csv\n",
      "-------------------------------\n"
     ]
    },
    {
     "name": "stderr",
     "output_type": "stream",
     "text": [
      "WARNING:pystan:Maximum (flat) parameter count (1000) exceeded: skipping diagnostic tests for n_eff and Rhat.\n",
      "To run all diagnostics call pystan.check_hmc_diagnostics(fit)\n"
     ]
    },
    {
     "name": "stdout",
     "output_type": "stream",
     "text": [
      "File fit time: 42.61 seconds\n"
     ]
    },
    {
     "name": "stderr",
     "output_type": "stream",
     "text": [
      "../bayes-drt\\stan_models.py:7: UserWarning: Pickling fit objects is an experimental feature!\n",
      "The relevant StanModel instance must be pickled along with this fit object.\n",
      "When unpickling the StanModel must be unpickled first.\n",
      "  pickle.dump(obj, f, pickle.HIGHEST_PROTOCOL)\n"
     ]
    },
    {
     "name": "stdout",
     "output_type": "stream",
     "text": [
      "Dumped pickle to bayes_results\\obj_ZARC_Macdonald_1.0.pkl\n",
      "-------------------------------\n",
      "../data/simulated\\Z_ZARC_Macdonald_2.5.csv\n",
      "-------------------------------\n"
     ]
    },
    {
     "name": "stderr",
     "output_type": "stream",
     "text": [
      "WARNING:pystan:Maximum (flat) parameter count (1000) exceeded: skipping diagnostic tests for n_eff and Rhat.\n",
      "To run all diagnostics call pystan.check_hmc_diagnostics(fit)\n"
     ]
    },
    {
     "name": "stdout",
     "output_type": "stream",
     "text": [
      "File fit time: 33.24 seconds\n"
     ]
    },
    {
     "name": "stderr",
     "output_type": "stream",
     "text": [
      "../bayes-drt\\stan_models.py:7: UserWarning: Pickling fit objects is an experimental feature!\n",
      "The relevant StanModel instance must be pickled along with this fit object.\n",
      "When unpickling the StanModel must be unpickled first.\n",
      "  pickle.dump(obj, f, pickle.HIGHEST_PROTOCOL)\n"
     ]
    },
    {
     "name": "stdout",
     "output_type": "stream",
     "text": [
      "Dumped pickle to bayes_results\\obj_ZARC_Macdonald_2.5.pkl\n",
      "-------------------------------\n",
      "../data/simulated\\Z_ZARC_noiseless.csv\n",
      "-------------------------------\n"
     ]
    },
    {
     "name": "stderr",
     "output_type": "stream",
     "text": [
      "WARNING:pystan:Maximum (flat) parameter count (1000) exceeded: skipping diagnostic tests for n_eff and Rhat.\n",
      "To run all diagnostics call pystan.check_hmc_diagnostics(fit)\n",
      "WARNING:pystan:22 of 400 iterations saturated the maximum tree depth of 10 (5.5 %)\n",
      "WARNING:pystan:Run again with max_treedepth larger than 10 to avoid saturation\n"
     ]
    },
    {
     "name": "stdout",
     "output_type": "stream",
     "text": [
      "File fit time: 112.78 seconds\n"
     ]
    },
    {
     "name": "stderr",
     "output_type": "stream",
     "text": [
      "../bayes-drt\\stan_models.py:7: UserWarning: Pickling fit objects is an experimental feature!\n",
      "The relevant StanModel instance must be pickled along with this fit object.\n",
      "When unpickling the StanModel must be unpickled first.\n",
      "  pickle.dump(obj, f, pickle.HIGHEST_PROTOCOL)\n"
     ]
    },
    {
     "name": "stdout",
     "output_type": "stream",
     "text": [
      "Dumped pickle to bayes_results\\obj_ZARC_noiseless.pkl\n",
      "-------------------------------\n",
      "../data/simulated\\Z_ZARC_Orazem_0.25.csv\n",
      "-------------------------------\n"
     ]
    },
    {
     "name": "stderr",
     "output_type": "stream",
     "text": [
      "WARNING:pystan:Maximum (flat) parameter count (1000) exceeded: skipping diagnostic tests for n_eff and Rhat.\n",
      "To run all diagnostics call pystan.check_hmc_diagnostics(fit)\n",
      "WARNING:pystan:3 of 400 iterations saturated the maximum tree depth of 10 (0.75 %)\n",
      "WARNING:pystan:Run again with max_treedepth larger than 10 to avoid saturation\n"
     ]
    },
    {
     "name": "stdout",
     "output_type": "stream",
     "text": [
      "File fit time: 92.84 seconds\n"
     ]
    },
    {
     "name": "stderr",
     "output_type": "stream",
     "text": [
      "../bayes-drt\\stan_models.py:7: UserWarning: Pickling fit objects is an experimental feature!\n",
      "The relevant StanModel instance must be pickled along with this fit object.\n",
      "When unpickling the StanModel must be unpickled first.\n",
      "  pickle.dump(obj, f, pickle.HIGHEST_PROTOCOL)\n"
     ]
    },
    {
     "name": "stdout",
     "output_type": "stream",
     "text": [
      "Dumped pickle to bayes_results\\obj_ZARC_Orazem_0.25.pkl\n",
      "-------------------------------\n",
      "../data/simulated\\Z_ZARC_Orazem_1.0.csv\n",
      "-------------------------------\n"
     ]
    },
    {
     "name": "stderr",
     "output_type": "stream",
     "text": [
      "WARNING:pystan:Maximum (flat) parameter count (1000) exceeded: skipping diagnostic tests for n_eff and Rhat.\n",
      "To run all diagnostics call pystan.check_hmc_diagnostics(fit)\n"
     ]
    },
    {
     "name": "stdout",
     "output_type": "stream",
     "text": [
      "File fit time: 53.41 seconds\n"
     ]
    },
    {
     "name": "stderr",
     "output_type": "stream",
     "text": [
      "../bayes-drt\\stan_models.py:7: UserWarning: Pickling fit objects is an experimental feature!\n",
      "The relevant StanModel instance must be pickled along with this fit object.\n",
      "When unpickling the StanModel must be unpickled first.\n",
      "  pickle.dump(obj, f, pickle.HIGHEST_PROTOCOL)\n"
     ]
    },
    {
     "name": "stdout",
     "output_type": "stream",
     "text": [
      "Dumped pickle to bayes_results\\obj_ZARC_Orazem_1.0.pkl\n",
      "-------------------------------\n",
      "../data/simulated\\Z_ZARC_Orazem_2.5.csv\n",
      "-------------------------------\n"
     ]
    },
    {
     "name": "stderr",
     "output_type": "stream",
     "text": [
      "WARNING:pystan:Maximum (flat) parameter count (1000) exceeded: skipping diagnostic tests for n_eff and Rhat.\n",
      "To run all diagnostics call pystan.check_hmc_diagnostics(fit)\n"
     ]
    },
    {
     "name": "stdout",
     "output_type": "stream",
     "text": [
      "File fit time: 44.35 seconds\n"
     ]
    },
    {
     "name": "stderr",
     "output_type": "stream",
     "text": [
      "../bayes-drt\\stan_models.py:7: UserWarning: Pickling fit objects is an experimental feature!\n",
      "The relevant StanModel instance must be pickled along with this fit object.\n",
      "When unpickling the StanModel must be unpickled first.\n",
      "  pickle.dump(obj, f, pickle.HIGHEST_PROTOCOL)\n"
     ]
    },
    {
     "name": "stdout",
     "output_type": "stream",
     "text": [
      "Dumped pickle to bayes_results\\obj_ZARC_Orazem_2.5.pkl\n",
      "-------------------------------\n",
      "../data/simulated\\Z_ZARC_uniform_0.25.csv\n",
      "-------------------------------\n"
     ]
    },
    {
     "name": "stderr",
     "output_type": "stream",
     "text": [
      "WARNING:pystan:Maximum (flat) parameter count (1000) exceeded: skipping diagnostic tests for n_eff and Rhat.\n",
      "To run all diagnostics call pystan.check_hmc_diagnostics(fit)\n",
      "WARNING:pystan:14 of 400 iterations saturated the maximum tree depth of 10 (3.5 %)\n",
      "WARNING:pystan:Run again with max_treedepth larger than 10 to avoid saturation\n"
     ]
    },
    {
     "name": "stdout",
     "output_type": "stream",
     "text": [
      "File fit time: 115.87 seconds\n"
     ]
    },
    {
     "name": "stderr",
     "output_type": "stream",
     "text": [
      "../bayes-drt\\stan_models.py:7: UserWarning: Pickling fit objects is an experimental feature!\n",
      "The relevant StanModel instance must be pickled along with this fit object.\n",
      "When unpickling the StanModel must be unpickled first.\n",
      "  pickle.dump(obj, f, pickle.HIGHEST_PROTOCOL)\n"
     ]
    },
    {
     "name": "stdout",
     "output_type": "stream",
     "text": [
      "Dumped pickle to bayes_results\\obj_ZARC_uniform_0.25.pkl\n",
      "-------------------------------\n",
      "../data/simulated\\Z_ZARC_uniform_1.0.csv\n",
      "-------------------------------\n"
     ]
    },
    {
     "name": "stderr",
     "output_type": "stream",
     "text": [
      "WARNING:pystan:Maximum (flat) parameter count (1000) exceeded: skipping diagnostic tests for n_eff and Rhat.\n",
      "To run all diagnostics call pystan.check_hmc_diagnostics(fit)\n"
     ]
    },
    {
     "name": "stdout",
     "output_type": "stream",
     "text": [
      "File fit time: 60.65 seconds\n"
     ]
    },
    {
     "name": "stderr",
     "output_type": "stream",
     "text": [
      "../bayes-drt\\stan_models.py:7: UserWarning: Pickling fit objects is an experimental feature!\n",
      "The relevant StanModel instance must be pickled along with this fit object.\n",
      "When unpickling the StanModel must be unpickled first.\n",
      "  pickle.dump(obj, f, pickle.HIGHEST_PROTOCOL)\n"
     ]
    },
    {
     "name": "stdout",
     "output_type": "stream",
     "text": [
      "Dumped pickle to bayes_results\\obj_ZARC_uniform_1.0.pkl\n",
      "-------------------------------\n",
      "../data/simulated\\Z_ZARC_uniform_2.5.csv\n",
      "-------------------------------\n"
     ]
    },
    {
     "name": "stderr",
     "output_type": "stream",
     "text": [
      "WARNING:pystan:Maximum (flat) parameter count (1000) exceeded: skipping diagnostic tests for n_eff and Rhat.\n",
      "To run all diagnostics call pystan.check_hmc_diagnostics(fit)\n"
     ]
    },
    {
     "name": "stdout",
     "output_type": "stream",
     "text": [
      "File fit time: 47.58 seconds\n",
      "Dumped pickle to bayes_results\\obj_ZARC_uniform_2.5.pkl\n",
      "Total fit time: 80.34 minutes\n"
     ]
    },
    {
     "name": "stderr",
     "output_type": "stream",
     "text": [
      "../bayes-drt\\stan_models.py:7: UserWarning: Pickling fit objects is an experimental feature!\n",
      "The relevant StanModel instance must be pickled along with this fit object.\n",
      "When unpickling the StanModel must be unpickled first.\n",
      "  pickle.dump(obj, f, pickle.HIGHEST_PROTOCOL)\n"
     ]
    }
   ],
   "source": [
    "\"MCMC sampling\"\n",
    "# tau for plotting\n",
    "tau_plot = np.logspace(-7,2,200)\n",
    "start = time.time()\n",
    "\n",
    "for file in files:\n",
    "    print('-------------------------------')\n",
    "    print(file)\n",
    "    print('-------------------------------')\n",
    "    suffix = file[file.find('_'):]\n",
    "    circ = file.split('_')[1]\n",
    "    Zoutfile = os.path.join('bayes_results',f'Zout{suffix}')\n",
    "    Goutfile = os.path.join('bayes_results',f'Gout{suffix}')\n",
    "    pkl = os.path.join('bayes_results','obj{}.pkl'.format(suffix[:-4]))\n",
    "    if file.split('_')[2]=='noiseless.csv':\n",
    "        sigma_min=0.005\n",
    "    else:\n",
    "        sigma_min=0.002\n",
    "        \n",
    "#     if os.path.exists(Zoutfile) and os.path.exists(Goutfile):\n",
    "#         print('Already ran')\n",
    "#     else:\n",
    "    df = pd.read_csv(file)\n",
    "    Z = df['Zreal'].values + 1j*df['Zimag'].values\n",
    "\n",
    "    # fit\n",
    "    file_start = time.time()\n",
    "    if circ=='ZARC-RL':\n",
    "        nonneg_drt = False\n",
    "    else:\n",
    "        nonneg_drt = True\n",
    "    dr.bayes_fit(df['Freq'].values,Z,init_from_ridge=False,sigma_min=sigma_min,nonneg_drt=nonneg_drt)\n",
    "    print('File fit time: {:.2f} seconds'.format(time.time()-file_start))\n",
    "\n",
    "    Z_pred = dr.predict_Z(df['Freq'].values)\n",
    "    Z_res = pd.DataFrame(np.array([df['Freq'],Z_pred.real,Z_pred.imag]).T,\n",
    "                         columns=['freq','Zreal','Zimag'])\n",
    "    sigma_re,sigma_im = dr.predict_sigma(df['Freq'].values)\n",
    "    Z_res['sigma_re'] = sigma_re\n",
    "    Z_res['sigma_im'] = sigma_im\n",
    "\n",
    "    g_pred = dr.predict_distribution('DRT',eval_tau=tau_plot)\n",
    "    # drt credibility interval\n",
    "    g_lo = dr.predict_distribution('DRT',eval_tau=tau_plot,percentile=2.5)\n",
    "    g_hi = dr.predict_distribution('DRT',eval_tau=tau_plot,percentile=97.5)\n",
    "    g_res = pd.DataFrame(np.array([tau_plot,g_pred,g_lo,g_hi]).T,\n",
    "                         columns=['tau','gamma','gamma_lo','gamma_hi'])\n",
    "\n",
    "    Z_res.to_csv(Zoutfile,index=False)\n",
    "    g_res.to_csv(Goutfile,index=False)\n",
    "\n",
    "    # pickle the drt object for access to all other attributes\n",
    "    save_pickle(dr,pkl)\n",
    "        \n",
    "print('Total fit time: {:.2f} minutes'.format((time.time()-start)/60))"
   ]
  },
  {
   "cell_type": "code",
   "execution_count": 271,
   "metadata": {},
   "outputs": [
    {
     "name": "stderr",
     "output_type": "stream",
     "text": [
      "WARNING:pystan:Maximum (flat) parameter count (1000) exceeded: skipping diagnostic tests for n_eff and Rhat.\n",
      "To run all diagnostics call pystan.check_hmc_diagnostics(fit)\n",
      "WARNING:pystan:11 of 2000 iterations ended with a divergence (0.55 %).\n",
      "WARNING:pystan:Try running with adapt_delta larger than 0.9 to remove the divergences.\n",
      "WARNING:pystan:1936 of 2000 iterations saturated the maximum tree depth of 10 (96.8 %)\n",
      "WARNING:pystan:Run again with max_treedepth larger than 10 to avoid saturation\n"
     ]
    },
    {
     "name": "stdout",
     "output_type": "stream",
     "text": [
      "File fit time: 515.49 seconds\n"
     ]
    },
    {
     "name": "stderr",
     "output_type": "stream",
     "text": [
      "../bayes-drt\\stan_models.py:7: UserWarning: Pickling fit objects is an experimental feature!\n",
      "The relevant StanModel instance must be pickled along with this fit object.\n",
      "When unpickling the StanModel must be unpickled first.\n",
      "  pickle.dump(obj, f, pickle.HIGHEST_PROTOCOL)\n"
     ]
    },
    {
     "name": "stdout",
     "output_type": "stream",
     "text": [
      "Dumped pickle to bayes_results\\obj_2RC_uniform_0.25_4x1000.pkl\n"
     ]
    }
   ],
   "source": [
    "\"Fit example file with 4 chains, 1000 iterations for comparison\"\n",
    "file = '../data/simulated/Z_2RC_uniform_0.25.csv'\n",
    "df = pd.read_csv(file)\n",
    "Z = df['Zreal'].values + 1j*df['Zimag'].values\n",
    "suffix = file[file.find('_'):-4]\n",
    "Zoutfile = os.path.join('bayes_results',f'Zout{suffix}_4x1000.csv')\n",
    "Goutfile = os.path.join('bayes_results',f'Gout{suffix}_4x1000.csv')\n",
    "pkl = os.path.join('bayes_results',f'obj{suffix}_4x1000.pkl')\n",
    "tau_plot = np.logspace(-7,2,200)\n",
    "\n",
    "file_start = time.time()\n",
    "dr.bayes_fit(df['Freq'].values,Z,warmup=500,sample=500,chains=4,nonneg_drt=True)\n",
    "print('File fit time: {:.2f} seconds'.format(time.time()-file_start))\n",
    "        \n",
    "Z_pred = dr.predict_Z(df['Freq'].values)\n",
    "Z_res = pd.DataFrame(np.array([df['Freq'],Z_pred.real,Z_pred.imag]).T,\n",
    "                     columns=['freq','Zreal','Zimag'])\n",
    "sigma_re,sigma_im = dr.predict_sigma(df['Freq'].values)\n",
    "Z_res['sigma_re'] = sigma_re\n",
    "Z_res['sigma_im'] = sigma_im\n",
    "\n",
    "g_pred = dr.predict_distribution('DRT',eval_tau=tau_plot)\n",
    "# drt credibility interval\n",
    "g_lo = dr.predict_distribution('DRT',eval_tau=tau_plot,percentile=2.5)\n",
    "g_hi = dr.predict_distribution('DRT',eval_tau=tau_plot,percentile=97.5)\n",
    "g_res = pd.DataFrame(np.array([tau_plot,g_pred,g_lo,g_hi]).T,\n",
    "                     columns=['tau','gamma','gamma_lo','gamma_hi'])\n",
    "\n",
    "Z_res.to_csv(Zoutfile,index=False)\n",
    "g_res.to_csv(Goutfile,index=False)\n",
    "\n",
    "# pickle the drt object for access to all other attributes\n",
    "save_pickle(dr,pkl)"
   ]
  },
  {
   "cell_type": "markdown",
   "metadata": {},
   "source": [
    "## RC-ZARC"
   ]
  },
  {
   "cell_type": "code",
   "execution_count": 97,
   "metadata": {},
   "outputs": [],
   "source": [
    "basis_tau = np.logspace(-2,3,51)\n",
    "dr_rcz = drt.DRT(basis_freq=1/(2*np.pi*basis_tau))\n",
    "rcz_files = glob.glob('../data/simulated/Z_RC-ZARC*.csv')"
   ]
  },
  {
   "cell_type": "code",
   "execution_count": 98,
   "metadata": {},
   "outputs": [
    {
     "name": "stdout",
     "output_type": "stream",
     "text": [
      "-------------------------------\n",
      "../data/simulated\\Z_RC-ZARC_Macdonald_0.25.csv\n",
      "-------------------------------\n",
      "File fit time: 0.96 seconds\n",
      "Dumped pickle to map_results\\obj_RC-ZARC_Macdonald_0.25.pkl\n",
      "-------------------------------\n",
      "../data/simulated\\Z_RC-ZARC_Macdonald_1.0.csv\n",
      "-------------------------------\n",
      "File fit time: 0.95 seconds\n",
      "Dumped pickle to map_results\\obj_RC-ZARC_Macdonald_1.0.pkl\n",
      "-------------------------------\n",
      "../data/simulated\\Z_RC-ZARC_Macdonald_2.5.csv\n",
      "-------------------------------\n",
      "File fit time: 0.56 seconds\n",
      "Dumped pickle to map_results\\obj_RC-ZARC_Macdonald_2.5.pkl\n",
      "-------------------------------\n",
      "../data/simulated\\Z_RC-ZARC_noiseless.csv\n",
      "-------------------------------\n",
      "File fit time: 0.84 seconds\n",
      "Dumped pickle to map_results\\obj_RC-ZARC_noiseless.pkl\n",
      "-------------------------------\n",
      "../data/simulated\\Z_RC-ZARC_Orazem_0.25.csv\n",
      "-------------------------------\n",
      "File fit time: 0.72 seconds\n",
      "Dumped pickle to map_results\\obj_RC-ZARC_Orazem_0.25.pkl\n",
      "-------------------------------\n",
      "../data/simulated\\Z_RC-ZARC_Orazem_1.0.csv\n",
      "-------------------------------\n",
      "File fit time: 0.58 seconds\n",
      "Dumped pickle to map_results\\obj_RC-ZARC_Orazem_1.0.pkl\n",
      "-------------------------------\n",
      "../data/simulated\\Z_RC-ZARC_Orazem_2.5.csv\n",
      "-------------------------------\n",
      "File fit time: 0.47 seconds\n",
      "Dumped pickle to map_results\\obj_RC-ZARC_Orazem_2.5.pkl\n",
      "-------------------------------\n",
      "../data/simulated\\Z_RC-ZARC_uniform_0.25.csv\n",
      "-------------------------------\n",
      "File fit time: 1.07 seconds\n",
      "Dumped pickle to map_results\\obj_RC-ZARC_uniform_0.25.pkl\n",
      "-------------------------------\n",
      "../data/simulated\\Z_RC-ZARC_uniform_1.0.csv\n",
      "-------------------------------\n",
      "File fit time: 0.64 seconds\n",
      "Dumped pickle to map_results\\obj_RC-ZARC_uniform_1.0.pkl\n",
      "-------------------------------\n",
      "../data/simulated\\Z_RC-ZARC_uniform_2.5.csv\n",
      "-------------------------------\n",
      "File fit time: 0.39 seconds\n",
      "Dumped pickle to map_results\\obj_RC-ZARC_uniform_2.5.pkl\n",
      "================================\n",
      "Total fit time: 0.19 minutes\n"
     ]
    }
   ],
   "source": [
    "\"MAP fits\"\n",
    "# tau for plotting\n",
    "tau_plot = np.logspace(np.log10(np.exp(-5)),np.log10(np.exp(5.5)),200)\n",
    "start = time.time()\n",
    "\n",
    "for file in rcz_files:\n",
    "    print('-------------------------------')\n",
    "    print(file)\n",
    "    print('-------------------------------')\n",
    "    suffix = file[file.find('_'):]\n",
    "    Zoutfile = os.path.join('map_results',f'Zout{suffix}')\n",
    "    Goutfile = os.path.join('map_results',f'Gout{suffix}')\n",
    "    pkl = os.path.join('map_results','obj{}.pkl'.format(suffix[:-4]))\n",
    "    if file.split('_')[2]=='noiseless.csv':\n",
    "        sigma_min=0.005\n",
    "    else:\n",
    "        sigma_min=0.002\n",
    "    if os.path.exists(Zoutfile) and os.path.exists(Goutfile):\n",
    "        print('Already ran')\n",
    "    else:\n",
    "        df = pd.read_csv(file)\n",
    "        Z = df['Zreal'].values + 1j*df['Zimag'].values\n",
    "        # fit\n",
    "        file_start = time.time()\n",
    "        dr_rcz.map_fit(df['Freq'].values,Z,init_from_ridge=False,sigma_min=sigma_min,nonneg_drt=True)\n",
    "        print('File fit time: {:.2f} seconds'.format(time.time()-file_start))\n",
    "\n",
    "        # save results\n",
    "        Z_pred = dr_rcz.predict_Z(df['Freq'].values)\n",
    "        Z_res = pd.DataFrame(np.array([df['Freq'],Z_pred.real,Z_pred.imag]).T,columns=['freq','Zreal','Zimag'])\n",
    "        sigma_re,sigma_im = dr_rcz.predict_sigma(df['Freq'].values)\n",
    "        Z_res['sigma_re'] = sigma_re\n",
    "        Z_res['sigma_im'] = sigma_im\n",
    "\n",
    "        g_pred = dr_rcz.predict_distribution('DRT',eval_tau=tau_plot)\n",
    "        g_res = pd.DataFrame(np.array([tau_plot,g_pred]).T,\n",
    "                             columns=['tau','gamma'])\n",
    "        Z_res.to_csv(Zoutfile,index=False)\n",
    "        g_res.to_csv(Goutfile,index=False)\n",
    "\n",
    "        # pickle the drt object for access to all other attributes\n",
    "        save_pickle(dr_rcz,pkl)\n",
    "        \n",
    "print('================================')        \n",
    "print('Total fit time: {:.2f} minutes'.format((time.time()-start)/60))"
   ]
  },
  {
   "cell_type": "code",
   "execution_count": 245,
   "metadata": {},
   "outputs": [
    {
     "name": "stdout",
     "output_type": "stream",
     "text": [
      "-------------------------------\n",
      "../data/simulated\\Z_RC-ZARC_Macdonald_0.25.csv\n",
      "-------------------------------\n"
     ]
    },
    {
     "name": "stderr",
     "output_type": "stream",
     "text": [
      "WARNING:pystan:1 of 400 iterations ended with a divergence (0.25 %).\n",
      "WARNING:pystan:Try running with adapt_delta larger than 0.9 to remove the divergences.\n",
      "WARNING:pystan:7 of 400 iterations saturated the maximum tree depth of 10 (1.75 %)\n",
      "WARNING:pystan:Run again with max_treedepth larger than 10 to avoid saturation\n"
     ]
    },
    {
     "name": "stdout",
     "output_type": "stream",
     "text": [
      "File fit time: 49.35 seconds\n"
     ]
    },
    {
     "name": "stderr",
     "output_type": "stream",
     "text": [
      "../bayes-drt\\stan_models.py:7: UserWarning: Pickling fit objects is an experimental feature!\n",
      "The relevant StanModel instance must be pickled along with this fit object.\n",
      "When unpickling the StanModel must be unpickled first.\n",
      "  pickle.dump(obj, f, pickle.HIGHEST_PROTOCOL)\n"
     ]
    },
    {
     "name": "stdout",
     "output_type": "stream",
     "text": [
      "Dumped pickle to bayes_results\\obj_RC-ZARC_Macdonald_0.25.pkl\n",
      "-------------------------------\n",
      "../data/simulated\\Z_RC-ZARC_Macdonald_1.0.csv\n",
      "-------------------------------\n",
      "File fit time: 31.07 seconds\n"
     ]
    },
    {
     "name": "stderr",
     "output_type": "stream",
     "text": [
      "../bayes-drt\\stan_models.py:7: UserWarning: Pickling fit objects is an experimental feature!\n",
      "The relevant StanModel instance must be pickled along with this fit object.\n",
      "When unpickling the StanModel must be unpickled first.\n",
      "  pickle.dump(obj, f, pickle.HIGHEST_PROTOCOL)\n"
     ]
    },
    {
     "name": "stdout",
     "output_type": "stream",
     "text": [
      "Dumped pickle to bayes_results\\obj_RC-ZARC_Macdonald_1.0.pkl\n",
      "-------------------------------\n",
      "../data/simulated\\Z_RC-ZARC_Macdonald_2.5.csv\n",
      "-------------------------------\n",
      "File fit time: 15.74 seconds\n"
     ]
    },
    {
     "name": "stderr",
     "output_type": "stream",
     "text": [
      "../bayes-drt\\stan_models.py:7: UserWarning: Pickling fit objects is an experimental feature!\n",
      "The relevant StanModel instance must be pickled along with this fit object.\n",
      "When unpickling the StanModel must be unpickled first.\n",
      "  pickle.dump(obj, f, pickle.HIGHEST_PROTOCOL)\n"
     ]
    },
    {
     "name": "stdout",
     "output_type": "stream",
     "text": [
      "Dumped pickle to bayes_results\\obj_RC-ZARC_Macdonald_2.5.pkl\n",
      "-------------------------------\n",
      "../data/simulated\\Z_RC-ZARC_noiseless.csv\n",
      "-------------------------------\n"
     ]
    },
    {
     "name": "stderr",
     "output_type": "stream",
     "text": [
      "WARNING:pystan:12 of 400 iterations saturated the maximum tree depth of 10 (3 %)\n",
      "WARNING:pystan:Run again with max_treedepth larger than 10 to avoid saturation\n"
     ]
    },
    {
     "name": "stdout",
     "output_type": "stream",
     "text": [
      "File fit time: 52.52 seconds\n"
     ]
    },
    {
     "name": "stderr",
     "output_type": "stream",
     "text": [
      "../bayes-drt\\stan_models.py:7: UserWarning: Pickling fit objects is an experimental feature!\n",
      "The relevant StanModel instance must be pickled along with this fit object.\n",
      "When unpickling the StanModel must be unpickled first.\n",
      "  pickle.dump(obj, f, pickle.HIGHEST_PROTOCOL)\n"
     ]
    },
    {
     "name": "stdout",
     "output_type": "stream",
     "text": [
      "Dumped pickle to bayes_results\\obj_RC-ZARC_noiseless.pkl\n",
      "-------------------------------\n",
      "../data/simulated\\Z_RC-ZARC_Orazem_0.25.csv\n",
      "-------------------------------\n"
     ]
    },
    {
     "name": "stderr",
     "output_type": "stream",
     "text": [
      "WARNING:pystan:1 of 400 iterations ended with a divergence (0.25 %).\n",
      "WARNING:pystan:Try running with adapt_delta larger than 0.9 to remove the divergences.\n",
      "WARNING:pystan:3 of 400 iterations saturated the maximum tree depth of 10 (0.75 %)\n",
      "WARNING:pystan:Run again with max_treedepth larger than 10 to avoid saturation\n"
     ]
    },
    {
     "name": "stdout",
     "output_type": "stream",
     "text": [
      "File fit time: 43.22 seconds\n"
     ]
    },
    {
     "name": "stderr",
     "output_type": "stream",
     "text": [
      "../bayes-drt\\stan_models.py:7: UserWarning: Pickling fit objects is an experimental feature!\n",
      "The relevant StanModel instance must be pickled along with this fit object.\n",
      "When unpickling the StanModel must be unpickled first.\n",
      "  pickle.dump(obj, f, pickle.HIGHEST_PROTOCOL)\n"
     ]
    },
    {
     "name": "stdout",
     "output_type": "stream",
     "text": [
      "Dumped pickle to bayes_results\\obj_RC-ZARC_Orazem_0.25.pkl\n",
      "-------------------------------\n",
      "../data/simulated\\Z_RC-ZARC_Orazem_1.0.csv\n",
      "-------------------------------\n",
      "File fit time: 36.55 seconds\n"
     ]
    },
    {
     "name": "stderr",
     "output_type": "stream",
     "text": [
      "../bayes-drt\\stan_models.py:7: UserWarning: Pickling fit objects is an experimental feature!\n",
      "The relevant StanModel instance must be pickled along with this fit object.\n",
      "When unpickling the StanModel must be unpickled first.\n",
      "  pickle.dump(obj, f, pickle.HIGHEST_PROTOCOL)\n"
     ]
    },
    {
     "name": "stdout",
     "output_type": "stream",
     "text": [
      "Dumped pickle to bayes_results\\obj_RC-ZARC_Orazem_1.0.pkl\n",
      "-------------------------------\n",
      "../data/simulated\\Z_RC-ZARC_Orazem_2.5.csv\n",
      "-------------------------------\n",
      "File fit time: 19.42 seconds\n"
     ]
    },
    {
     "name": "stderr",
     "output_type": "stream",
     "text": [
      "../bayes-drt\\stan_models.py:7: UserWarning: Pickling fit objects is an experimental feature!\n",
      "The relevant StanModel instance must be pickled along with this fit object.\n",
      "When unpickling the StanModel must be unpickled first.\n",
      "  pickle.dump(obj, f, pickle.HIGHEST_PROTOCOL)\n"
     ]
    },
    {
     "name": "stdout",
     "output_type": "stream",
     "text": [
      "Dumped pickle to bayes_results\\obj_RC-ZARC_Orazem_2.5.pkl\n",
      "-------------------------------\n",
      "../data/simulated\\Z_RC-ZARC_uniform_0.25.csv\n",
      "-------------------------------\n"
     ]
    },
    {
     "name": "stderr",
     "output_type": "stream",
     "text": [
      "WARNING:pystan:6 of 400 iterations ended with a divergence (1.5 %).\n",
      "WARNING:pystan:Try running with adapt_delta larger than 0.9 to remove the divergences.\n",
      "WARNING:pystan:3 of 400 iterations saturated the maximum tree depth of 10 (0.75 %)\n",
      "WARNING:pystan:Run again with max_treedepth larger than 10 to avoid saturation\n"
     ]
    },
    {
     "name": "stdout",
     "output_type": "stream",
     "text": [
      "File fit time: 51.41 seconds\n"
     ]
    },
    {
     "name": "stderr",
     "output_type": "stream",
     "text": [
      "../bayes-drt\\stan_models.py:7: UserWarning: Pickling fit objects is an experimental feature!\n",
      "The relevant StanModel instance must be pickled along with this fit object.\n",
      "When unpickling the StanModel must be unpickled first.\n",
      "  pickle.dump(obj, f, pickle.HIGHEST_PROTOCOL)\n"
     ]
    },
    {
     "name": "stdout",
     "output_type": "stream",
     "text": [
      "Dumped pickle to bayes_results\\obj_RC-ZARC_uniform_0.25.pkl\n",
      "-------------------------------\n",
      "../data/simulated\\Z_RC-ZARC_uniform_1.0.csv\n",
      "-------------------------------\n",
      "File fit time: 31.36 seconds\n"
     ]
    },
    {
     "name": "stderr",
     "output_type": "stream",
     "text": [
      "../bayes-drt\\stan_models.py:7: UserWarning: Pickling fit objects is an experimental feature!\n",
      "The relevant StanModel instance must be pickled along with this fit object.\n",
      "When unpickling the StanModel must be unpickled first.\n",
      "  pickle.dump(obj, f, pickle.HIGHEST_PROTOCOL)\n"
     ]
    },
    {
     "name": "stdout",
     "output_type": "stream",
     "text": [
      "Dumped pickle to bayes_results\\obj_RC-ZARC_uniform_1.0.pkl\n",
      "-------------------------------\n",
      "../data/simulated\\Z_RC-ZARC_uniform_2.5.csv\n",
      "-------------------------------\n"
     ]
    },
    {
     "name": "stderr",
     "output_type": "stream",
     "text": [
      "WARNING:pystan:1 of 400 iterations ended with a divergence (0.25 %).\n",
      "WARNING:pystan:Try running with adapt_delta larger than 0.9 to remove the divergences.\n"
     ]
    },
    {
     "name": "stdout",
     "output_type": "stream",
     "text": [
      "File fit time: 21.42 seconds\n",
      "Dumped pickle to bayes_results\\obj_RC-ZARC_uniform_2.5.pkl\n",
      "Total fit time: 5.94 minutes\n"
     ]
    },
    {
     "name": "stderr",
     "output_type": "stream",
     "text": [
      "../bayes-drt\\stan_models.py:7: UserWarning: Pickling fit objects is an experimental feature!\n",
      "The relevant StanModel instance must be pickled along with this fit object.\n",
      "When unpickling the StanModel must be unpickled first.\n",
      "  pickle.dump(obj, f, pickle.HIGHEST_PROTOCOL)\n"
     ]
    }
   ],
   "source": [
    "\"MCMC sampling\"\n",
    "# tau for plotting\n",
    "tau_plot = np.logspace(np.log10(np.exp(-5)),np.log10(np.exp(5.5)),200)\n",
    "start = time.time()\n",
    "\n",
    "for file in rcz_files:\n",
    "    print('-------------------------------')\n",
    "    print(file)\n",
    "    print('-------------------------------')\n",
    "    suffix = file[file.find('_'):]\n",
    "    Zoutfile = os.path.join('bayes_results',f'Zout{suffix}')\n",
    "    Goutfile = os.path.join('bayes_results',f'Gout{suffix}')\n",
    "    pkl = os.path.join('bayes_results','obj{}.pkl'.format(suffix[:-4]))\n",
    "#     if file.split('_')[2]=='noiseless.csv':\n",
    "#         sigma_min=0.005\n",
    "#     else:\n",
    "    sigma_min=0.002\n",
    "        \n",
    "#     if os.path.exists(Zoutfile) and os.path.exists(Goutfile):\n",
    "#         print('Already ran')\n",
    "#     else:\n",
    "    df = pd.read_csv(file)\n",
    "    Z = df['Zreal'].values + 1j*df['Zimag'].values\n",
    "\n",
    "    # fit\n",
    "    file_start = time.time()\n",
    "    dr_rcz.bayes_fit(df['Freq'].values,Z,init_from_ridge=False,sigma_min=sigma_min,nonneg_drt=True)\n",
    "    print('File fit time: {:.2f} seconds'.format(time.time()-file_start))\n",
    "\n",
    "    Z_pred = dr_rcz.predict_Z(df['Freq'].values)\n",
    "    Z_res = pd.DataFrame(np.array([df['Freq'],Z_pred.real,Z_pred.imag]).T,\n",
    "                         columns=['freq','Zreal','Zimag'])\n",
    "    sigma_re,sigma_im = dr_rcz.predict_sigma(df['Freq'].values)\n",
    "    Z_res['sigma_re'] = sigma_re\n",
    "    Z_res['sigma_im'] = sigma_im\n",
    "\n",
    "    g_pred = dr_rcz.predict_distribution('DRT',eval_tau=tau_plot)\n",
    "    # drt credibility interval\n",
    "    g_lo = dr_rcz.predict_distribution('DRT',eval_tau=tau_plot,percentile=2.5)\n",
    "    g_hi = dr_rcz.predict_distribution('DRT',eval_tau=tau_plot,percentile=97.5)\n",
    "    g_res = pd.DataFrame(np.array([tau_plot,g_pred,g_lo,g_hi]).T,\n",
    "                         columns=['tau','gamma','gamma_lo','gamma_hi'])\n",
    "\n",
    "    Z_res.to_csv(Zoutfile,index=False)\n",
    "    g_res.to_csv(Goutfile,index=False)\n",
    "\n",
    "    # pickle the drt object for access to all other attributes\n",
    "    save_pickle(dr_rcz,pkl)\n",
    "\n",
    "print('Total fit time: {:.2f} minutes'.format((time.time()-start)/60))"
   ]
  },
  {
   "cell_type": "markdown",
   "metadata": {},
   "source": [
    "## Truncated RL-ZARC-ZARC"
   ]
  },
  {
   "cell_type": "code",
   "execution_count": 268,
   "metadata": {},
   "outputs": [
    {
     "name": "stderr",
     "output_type": "stream",
     "text": [
      "../bayes-drt\\drt.py:448: UserWarning: Hyperparametric solution did not converge within 20 iterations\n",
      "  warnings.warn(f'Hyperparametric solution did not converge within {max_iter} iterations')\n"
     ]
    }
   ],
   "source": [
    "dr_trunc = drt.DRT(basis_freq=np.logspace(6,-2,81))\n",
    "trunc_files = glob.glob('../data/simulated/Z_trunc*.csv')\n",
    "\n",
    "# fit one file to generate A matrices\n",
    "df = pd.read_csv(trunc_files[0])\n",
    "Z = df['Zreal'] + 1j*df['Zimag']\n",
    "dr_trunc.ridge_fit(df['Freq'].values,Z.values)"
   ]
  },
  {
   "cell_type": "code",
   "execution_count": 269,
   "metadata": {},
   "outputs": [
    {
     "name": "stdout",
     "output_type": "stream",
     "text": [
      "-------------------------------\n",
      "../data/simulated\\Z_trunc_Macdonald_0.25.csv\n",
      "-------------------------------\n",
      "File fit time: 9.71 seconds\n",
      "Dumped pickle to map_results\\obj_trunc_Macdonald_0.25.pkl\n",
      "-------------------------------\n",
      "../data/simulated\\Z_trunc_Macdonald_1.0.csv\n",
      "-------------------------------\n",
      "File fit time: 4.50 seconds\n",
      "Dumped pickle to map_results\\obj_trunc_Macdonald_1.0.pkl\n",
      "-------------------------------\n",
      "../data/simulated\\Z_trunc_Macdonald_2.5.csv\n",
      "-------------------------------\n",
      "File fit time: 3.00 seconds\n",
      "Dumped pickle to map_results\\obj_trunc_Macdonald_2.5.pkl\n",
      "-------------------------------\n",
      "../data/simulated\\Z_trunc_noiseless.csv\n",
      "-------------------------------\n",
      "File fit time: 10.19 seconds\n",
      "Dumped pickle to map_results\\obj_trunc_noiseless.pkl\n",
      "-------------------------------\n",
      "../data/simulated\\Z_trunc_noiseless_FullRange.csv\n",
      "-------------------------------\n",
      "File fit time: 25.83 seconds\n",
      "Dumped pickle to map_results\\obj_trunc_noiseless_FullRange.pkl\n",
      "-------------------------------\n",
      "../data/simulated\\Z_trunc_Orazem_0.25.csv\n",
      "-------------------------------\n",
      "File fit time: 6.59 seconds\n",
      "Dumped pickle to map_results\\obj_trunc_Orazem_0.25.pkl\n",
      "-------------------------------\n",
      "../data/simulated\\Z_trunc_Orazem_1.0.csv\n",
      "-------------------------------\n",
      "File fit time: 7.01 seconds\n",
      "Dumped pickle to map_results\\obj_trunc_Orazem_1.0.pkl\n",
      "-------------------------------\n",
      "../data/simulated\\Z_trunc_Orazem_2.5.csv\n",
      "-------------------------------\n",
      "File fit time: 2.24 seconds\n",
      "Dumped pickle to map_results\\obj_trunc_Orazem_2.5.pkl\n",
      "-------------------------------\n",
      "../data/simulated\\Z_trunc_uniform_0.25.csv\n",
      "-------------------------------\n",
      "File fit time: 3.37 seconds\n",
      "Dumped pickle to map_results\\obj_trunc_uniform_0.25.pkl\n",
      "-------------------------------\n",
      "../data/simulated\\Z_trunc_uniform_1.0.csv\n",
      "-------------------------------\n",
      "File fit time: 3.00 seconds\n",
      "Dumped pickle to map_results\\obj_trunc_uniform_1.0.pkl\n",
      "-------------------------------\n",
      "../data/simulated\\Z_trunc_uniform_2.5.csv\n",
      "-------------------------------\n",
      "File fit time: 3.06 seconds\n",
      "Dumped pickle to map_results\\obj_trunc_uniform_2.5.pkl\n",
      "================================\n",
      "Total fit time: 1.42 minutes\n"
     ]
    }
   ],
   "source": [
    "\"MAP fits\"\n",
    "# tau for plotting\n",
    "tau_plot = np.logspace(-7,2,200)\n",
    "start = time.time()\n",
    "\n",
    "for file in trunc_files:\n",
    "    print('-------------------------------')\n",
    "    print(file)\n",
    "    print('-------------------------------')\n",
    "    suffix = file[file.find('_'):]\n",
    "    Zoutfile = os.path.join('map_results',f'Zout{suffix}')\n",
    "    Goutfile = os.path.join('map_results',f'Gout{suffix}')\n",
    "    pkl = os.path.join('map_results','obj{}.pkl'.format(suffix[:-4]))\n",
    "    if file.split('_')[2]=='noiseless.csv':\n",
    "        sigma_min=0.005\n",
    "    else:\n",
    "        sigma_min=0.002\n",
    "#     if os.path.exists(Zoutfile) and os.path.exists(Goutfile):\n",
    "#         print('Already ran')\n",
    "#     else:\n",
    "    df = pd.read_csv(file)\n",
    "    Z = df['Zreal'].values + 1j*df['Zimag'].values\n",
    "    # fit\n",
    "    file_start = time.time()\n",
    "    dr_trunc.map_fit(df['Freq'].values,Z,sigma_min=sigma_min,nonneg_drt=False)\n",
    "    print('File fit time: {:.2f} seconds'.format(time.time()-file_start))\n",
    "\n",
    "    # save results\n",
    "    Z_pred = dr_trunc.predict_Z(df['Freq'].values)\n",
    "    Z_res = pd.DataFrame(np.array([df['Freq'],Z_pred.real,Z_pred.imag]).T,columns=['freq','Zreal','Zimag'])\n",
    "    sigma_re,sigma_im = dr_trunc.predict_sigma(df['Freq'].values)\n",
    "    Z_res['sigma_re'] = sigma_re\n",
    "    Z_res['sigma_im'] = sigma_im\n",
    "\n",
    "    g_pred = dr_trunc.predict_distribution('DRT',eval_tau=tau_plot)\n",
    "    g_res = pd.DataFrame(np.array([tau_plot,g_pred]).T,\n",
    "                         columns=['tau','gamma'])\n",
    "    Z_res.to_csv(Zoutfile,index=False)\n",
    "    g_res.to_csv(Goutfile,index=False)\n",
    "\n",
    "    # pickle the drt object for access to all other attributes\n",
    "    save_pickle(dr_trunc,pkl)\n",
    "        \n",
    "print('================================')        \n",
    "print('Total fit time: {:.2f} minutes'.format((time.time()-start)/60))"
   ]
  },
  {
   "cell_type": "code",
   "execution_count": 270,
   "metadata": {},
   "outputs": [
    {
     "name": "stdout",
     "output_type": "stream",
     "text": [
      "-------------------------------\n",
      "../data/simulated\\Z_trunc_Macdonald_0.25.csv\n",
      "-------------------------------\n"
     ]
    },
    {
     "name": "stderr",
     "output_type": "stream",
     "text": [
      "WARNING:pystan:Rhat above 1.1 or below 0.9 indicates that the chains very likely have not mixed\n",
      "WARNING:pystan:400 of 400 iterations saturated the maximum tree depth of 10 (100 %)\n",
      "WARNING:pystan:Run again with max_treedepth larger than 10 to avoid saturation\n"
     ]
    },
    {
     "name": "stdout",
     "output_type": "stream",
     "text": [
      "File fit time: 123.80 seconds\n"
     ]
    },
    {
     "name": "stderr",
     "output_type": "stream",
     "text": [
      "../bayes-drt\\stan_models.py:7: UserWarning: Pickling fit objects is an experimental feature!\n",
      "The relevant StanModel instance must be pickled along with this fit object.\n",
      "When unpickling the StanModel must be unpickled first.\n",
      "  pickle.dump(obj, f, pickle.HIGHEST_PROTOCOL)\n"
     ]
    },
    {
     "name": "stdout",
     "output_type": "stream",
     "text": [
      "Dumped pickle to bayes_results\\obj_trunc_Macdonald_0.25.pkl\n",
      "-------------------------------\n",
      "../data/simulated\\Z_trunc_Macdonald_1.0.csv\n",
      "-------------------------------\n"
     ]
    },
    {
     "name": "stderr",
     "output_type": "stream",
     "text": [
      "WARNING:pystan:Rhat above 1.1 or below 0.9 indicates that the chains very likely have not mixed\n",
      "WARNING:pystan:236 of 400 iterations saturated the maximum tree depth of 10 (59 %)\n",
      "WARNING:pystan:Run again with max_treedepth larger than 10 to avoid saturation\n"
     ]
    },
    {
     "name": "stdout",
     "output_type": "stream",
     "text": [
      "File fit time: 109.81 seconds\n"
     ]
    },
    {
     "name": "stderr",
     "output_type": "stream",
     "text": [
      "../bayes-drt\\stan_models.py:7: UserWarning: Pickling fit objects is an experimental feature!\n",
      "The relevant StanModel instance must be pickled along with this fit object.\n",
      "When unpickling the StanModel must be unpickled first.\n",
      "  pickle.dump(obj, f, pickle.HIGHEST_PROTOCOL)\n"
     ]
    },
    {
     "name": "stdout",
     "output_type": "stream",
     "text": [
      "Dumped pickle to bayes_results\\obj_trunc_Macdonald_1.0.pkl\n",
      "-------------------------------\n",
      "../data/simulated\\Z_trunc_Macdonald_2.5.csv\n",
      "-------------------------------\n"
     ]
    },
    {
     "name": "stderr",
     "output_type": "stream",
     "text": [
      "WARNING:pystan:Rhat above 1.1 or below 0.9 indicates that the chains very likely have not mixed\n",
      "WARNING:pystan:29 of 400 iterations ended with a divergence (7.25 %).\n",
      "WARNING:pystan:Try running with adapt_delta larger than 0.9 to remove the divergences.\n",
      "WARNING:pystan:183 of 400 iterations saturated the maximum tree depth of 10 (45.8 %)\n",
      "WARNING:pystan:Run again with max_treedepth larger than 10 to avoid saturation\n"
     ]
    },
    {
     "name": "stdout",
     "output_type": "stream",
     "text": [
      "File fit time: 95.14 seconds\n"
     ]
    },
    {
     "name": "stderr",
     "output_type": "stream",
     "text": [
      "../bayes-drt\\stan_models.py:7: UserWarning: Pickling fit objects is an experimental feature!\n",
      "The relevant StanModel instance must be pickled along with this fit object.\n",
      "When unpickling the StanModel must be unpickled first.\n",
      "  pickle.dump(obj, f, pickle.HIGHEST_PROTOCOL)\n"
     ]
    },
    {
     "name": "stdout",
     "output_type": "stream",
     "text": [
      "Dumped pickle to bayes_results\\obj_trunc_Macdonald_2.5.pkl\n",
      "-------------------------------\n",
      "../data/simulated\\Z_trunc_noiseless.csv\n",
      "-------------------------------\n"
     ]
    },
    {
     "name": "stderr",
     "output_type": "stream",
     "text": [
      "WARNING:pystan:Rhat above 1.1 or below 0.9 indicates that the chains very likely have not mixed\n",
      "WARNING:pystan:4 of 400 iterations ended with a divergence (1 %).\n",
      "WARNING:pystan:Try running with adapt_delta larger than 0.9 to remove the divergences.\n",
      "WARNING:pystan:200 of 400 iterations saturated the maximum tree depth of 10 (50 %)\n",
      "WARNING:pystan:Run again with max_treedepth larger than 10 to avoid saturation\n"
     ]
    },
    {
     "name": "stdout",
     "output_type": "stream",
     "text": [
      "File fit time: 123.85 seconds\n"
     ]
    },
    {
     "name": "stderr",
     "output_type": "stream",
     "text": [
      "../bayes-drt\\stan_models.py:7: UserWarning: Pickling fit objects is an experimental feature!\n",
      "The relevant StanModel instance must be pickled along with this fit object.\n",
      "When unpickling the StanModel must be unpickled first.\n",
      "  pickle.dump(obj, f, pickle.HIGHEST_PROTOCOL)\n"
     ]
    },
    {
     "name": "stdout",
     "output_type": "stream",
     "text": [
      "Dumped pickle to bayes_results\\obj_trunc_noiseless.pkl\n",
      "-------------------------------\n",
      "../data/simulated\\Z_trunc_noiseless_FullRange.csv\n",
      "-------------------------------\n"
     ]
    },
    {
     "name": "stderr",
     "output_type": "stream",
     "text": [
      "WARNING:pystan:Maximum (flat) parameter count (1000) exceeded: skipping diagnostic tests for n_eff and Rhat.\n",
      "To run all diagnostics call pystan.check_hmc_diagnostics(fit)\n",
      "WARNING:pystan:400 of 400 iterations saturated the maximum tree depth of 10 (100 %)\n",
      "WARNING:pystan:Run again with max_treedepth larger than 10 to avoid saturation\n"
     ]
    },
    {
     "name": "stdout",
     "output_type": "stream",
     "text": [
      "File fit time: 154.38 seconds\n"
     ]
    },
    {
     "name": "stderr",
     "output_type": "stream",
     "text": [
      "../bayes-drt\\stan_models.py:7: UserWarning: Pickling fit objects is an experimental feature!\n",
      "The relevant StanModel instance must be pickled along with this fit object.\n",
      "When unpickling the StanModel must be unpickled first.\n",
      "  pickle.dump(obj, f, pickle.HIGHEST_PROTOCOL)\n"
     ]
    },
    {
     "name": "stdout",
     "output_type": "stream",
     "text": [
      "Dumped pickle to bayes_results\\obj_trunc_noiseless_FullRange.pkl\n",
      "-------------------------------\n",
      "../data/simulated\\Z_trunc_Orazem_0.25.csv\n",
      "-------------------------------\n"
     ]
    },
    {
     "name": "stderr",
     "output_type": "stream",
     "text": [
      "WARNING:pystan:Rhat above 1.1 or below 0.9 indicates that the chains very likely have not mixed\n",
      "WARNING:pystan:400 of 400 iterations saturated the maximum tree depth of 10 (100 %)\n",
      "WARNING:pystan:Run again with max_treedepth larger than 10 to avoid saturation\n"
     ]
    },
    {
     "name": "stdout",
     "output_type": "stream",
     "text": [
      "File fit time: 110.99 seconds\n"
     ]
    },
    {
     "name": "stderr",
     "output_type": "stream",
     "text": [
      "../bayes-drt\\stan_models.py:7: UserWarning: Pickling fit objects is an experimental feature!\n",
      "The relevant StanModel instance must be pickled along with this fit object.\n",
      "When unpickling the StanModel must be unpickled first.\n",
      "  pickle.dump(obj, f, pickle.HIGHEST_PROTOCOL)\n"
     ]
    },
    {
     "name": "stdout",
     "output_type": "stream",
     "text": [
      "Dumped pickle to bayes_results\\obj_trunc_Orazem_0.25.pkl\n",
      "-------------------------------\n",
      "../data/simulated\\Z_trunc_Orazem_1.0.csv\n",
      "-------------------------------\n"
     ]
    },
    {
     "name": "stderr",
     "output_type": "stream",
     "text": [
      "WARNING:pystan:38 of 400 iterations ended with a divergence (9.5 %).\n",
      "WARNING:pystan:Try running with adapt_delta larger than 0.9 to remove the divergences.\n"
     ]
    },
    {
     "name": "stdout",
     "output_type": "stream",
     "text": [
      "File fit time: 51.02 seconds\n"
     ]
    },
    {
     "name": "stderr",
     "output_type": "stream",
     "text": [
      "../bayes-drt\\stan_models.py:7: UserWarning: Pickling fit objects is an experimental feature!\n",
      "The relevant StanModel instance must be pickled along with this fit object.\n",
      "When unpickling the StanModel must be unpickled first.\n",
      "  pickle.dump(obj, f, pickle.HIGHEST_PROTOCOL)\n"
     ]
    },
    {
     "name": "stdout",
     "output_type": "stream",
     "text": [
      "Dumped pickle to bayes_results\\obj_trunc_Orazem_1.0.pkl\n",
      "-------------------------------\n",
      "../data/simulated\\Z_trunc_Orazem_2.5.csv\n",
      "-------------------------------\n"
     ]
    },
    {
     "name": "stderr",
     "output_type": "stream",
     "text": [
      "WARNING:pystan:Rhat above 1.1 or below 0.9 indicates that the chains very likely have not mixed\n",
      "WARNING:pystan:14 of 400 iterations ended with a divergence (3.5 %).\n",
      "WARNING:pystan:Try running with adapt_delta larger than 0.9 to remove the divergences.\n"
     ]
    },
    {
     "name": "stdout",
     "output_type": "stream",
     "text": [
      "File fit time: 56.64 seconds\n"
     ]
    },
    {
     "name": "stderr",
     "output_type": "stream",
     "text": [
      "../bayes-drt\\stan_models.py:7: UserWarning: Pickling fit objects is an experimental feature!\n",
      "The relevant StanModel instance must be pickled along with this fit object.\n",
      "When unpickling the StanModel must be unpickled first.\n",
      "  pickle.dump(obj, f, pickle.HIGHEST_PROTOCOL)\n"
     ]
    },
    {
     "name": "stdout",
     "output_type": "stream",
     "text": [
      "Dumped pickle to bayes_results\\obj_trunc_Orazem_2.5.pkl\n",
      "-------------------------------\n",
      "../data/simulated\\Z_trunc_uniform_0.25.csv\n",
      "-------------------------------\n"
     ]
    },
    {
     "name": "stderr",
     "output_type": "stream",
     "text": [
      "WARNING:pystan:Rhat above 1.1 or below 0.9 indicates that the chains very likely have not mixed\n",
      "WARNING:pystan:200 of 400 iterations saturated the maximum tree depth of 10 (50 %)\n",
      "WARNING:pystan:Run again with max_treedepth larger than 10 to avoid saturation\n"
     ]
    },
    {
     "name": "stdout",
     "output_type": "stream",
     "text": [
      "File fit time: 102.15 seconds\n"
     ]
    },
    {
     "name": "stderr",
     "output_type": "stream",
     "text": [
      "../bayes-drt\\stan_models.py:7: UserWarning: Pickling fit objects is an experimental feature!\n",
      "The relevant StanModel instance must be pickled along with this fit object.\n",
      "When unpickling the StanModel must be unpickled first.\n",
      "  pickle.dump(obj, f, pickle.HIGHEST_PROTOCOL)\n"
     ]
    },
    {
     "name": "stdout",
     "output_type": "stream",
     "text": [
      "Dumped pickle to bayes_results\\obj_trunc_uniform_0.25.pkl\n",
      "-------------------------------\n",
      "../data/simulated\\Z_trunc_uniform_1.0.csv\n",
      "-------------------------------\n"
     ]
    },
    {
     "name": "stderr",
     "output_type": "stream",
     "text": [
      "WARNING:pystan:Rhat above 1.1 or below 0.9 indicates that the chains very likely have not mixed\n",
      "WARNING:pystan:200 of 400 iterations saturated the maximum tree depth of 10 (50 %)\n",
      "WARNING:pystan:Run again with max_treedepth larger than 10 to avoid saturation\n"
     ]
    },
    {
     "name": "stdout",
     "output_type": "stream",
     "text": [
      "File fit time: 136.43 seconds\n"
     ]
    },
    {
     "name": "stderr",
     "output_type": "stream",
     "text": [
      "../bayes-drt\\stan_models.py:7: UserWarning: Pickling fit objects is an experimental feature!\n",
      "The relevant StanModel instance must be pickled along with this fit object.\n",
      "When unpickling the StanModel must be unpickled first.\n",
      "  pickle.dump(obj, f, pickle.HIGHEST_PROTOCOL)\n"
     ]
    },
    {
     "name": "stdout",
     "output_type": "stream",
     "text": [
      "Dumped pickle to bayes_results\\obj_trunc_uniform_1.0.pkl\n",
      "-------------------------------\n",
      "../data/simulated\\Z_trunc_uniform_2.5.csv\n",
      "-------------------------------\n"
     ]
    },
    {
     "name": "stderr",
     "output_type": "stream",
     "text": [
      "WARNING:pystan:Rhat above 1.1 or below 0.9 indicates that the chains very likely have not mixed\n",
      "WARNING:pystan:200 of 400 iterations saturated the maximum tree depth of 10 (50 %)\n",
      "WARNING:pystan:Run again with max_treedepth larger than 10 to avoid saturation\n"
     ]
    },
    {
     "name": "stdout",
     "output_type": "stream",
     "text": [
      "File fit time: 123.67 seconds\n",
      "Dumped pickle to bayes_results\\obj_trunc_uniform_2.5.pkl\n",
      "Total fit time: 19.93 minutes\n"
     ]
    },
    {
     "name": "stderr",
     "output_type": "stream",
     "text": [
      "../bayes-drt\\stan_models.py:7: UserWarning: Pickling fit objects is an experimental feature!\n",
      "The relevant StanModel instance must be pickled along with this fit object.\n",
      "When unpickling the StanModel must be unpickled first.\n",
      "  pickle.dump(obj, f, pickle.HIGHEST_PROTOCOL)\n"
     ]
    }
   ],
   "source": [
    "\"MCMC sampling\"\n",
    "# tau for plotting\n",
    "tau_plot = np.logspace(-7,2,200)\n",
    "start = time.time()\n",
    "\n",
    "for file in trunc_files:\n",
    "    print('-------------------------------')\n",
    "    print(file)\n",
    "    print('-------------------------------')\n",
    "    suffix = file[file.find('_'):]\n",
    "    Zoutfile = os.path.join('bayes_results',f'Zout{suffix}')\n",
    "    Goutfile = os.path.join('bayes_results',f'Gout{suffix}')\n",
    "    pkl = os.path.join('bayes_results','obj{}.pkl'.format(suffix[:-4]))\n",
    "    if file.split('_')[2]=='noiseless.csv':\n",
    "        sigma_min=0.005\n",
    "    else:\n",
    "        sigma_min=0.002\n",
    "        \n",
    "#     if os.path.exists(Zoutfile) and os.path.exists(Goutfile):\n",
    "#         print('Already ran')\n",
    "#     else:\n",
    "    df = pd.read_csv(file)\n",
    "    Z = df['Zreal'].values + 1j*df['Zimag'].values\n",
    "\n",
    "    # fit\n",
    "    file_start = time.time()\n",
    "    dr_trunc.bayes_fit(df['Freq'].values,Z,sigma_min=sigma_min,nonneg_drt=False)\n",
    "    print('File fit time: {:.2f} seconds'.format(time.time()-file_start))\n",
    "\n",
    "    Z_pred = dr_trunc.predict_Z(df['Freq'].values)\n",
    "    Z_res = pd.DataFrame(np.array([df['Freq'],Z_pred.real,Z_pred.imag]).T,columns=['freq','Zreal','Zimag'])\n",
    "    sigma_re,sigma_im = dr_trunc.predict_sigma(df['Freq'].values)\n",
    "    Z_res['sigma_re'] = sigma_re\n",
    "    Z_res['sigma_im'] = sigma_im\n",
    "\n",
    "    g_pred = dr_trunc.predict_distribution('DRT',eval_tau=tau_plot)\n",
    "    # drt credibility interval\n",
    "    g_lo = dr_trunc.predict_distribution('DRT',eval_tau=tau_plot,percentile=2.5)\n",
    "    g_hi = dr_trunc.predict_distribution('DRT',eval_tau=tau_plot,percentile=97.5)\n",
    "    g_res = pd.DataFrame(np.array([tau_plot,g_pred,g_lo,g_hi]).T,\n",
    "                         columns=['tau','gamma','gamma_lo','gamma_hi'])\n",
    "\n",
    "    Z_res.to_csv(Zoutfile,index=False)\n",
    "    g_res.to_csv(Goutfile,index=False)\n",
    "\n",
    "    # pickle the drt object for access to all other attributes\n",
    "    save_pickle(dr_trunc,pkl)\n",
    "        \n",
    "print('Total fit time: {:.2f} minutes'.format((time.time()-start)/60))"
   ]
  },
  {
   "cell_type": "markdown",
   "metadata": {},
   "source": [
    "## DDT"
   ]
  },
  {
   "cell_type": "code",
   "execution_count": 54,
   "metadata": {},
   "outputs": [],
   "source": [
    "tp_files = glob.glob('../data/simulated/Z_*TP-DDT*.csv')\n",
    "bp_files = glob.glob('../data/simulated/Z_*BP-DDT*.csv')\n",
    "\n",
    "tp_ddt = drt.DRT(distributions={'DDT':{'kernel':'DDT','symmetry':'planar','bc':'transmissive','dist_type':'parallel',\n",
    "                                      'basis_freq':np.logspace(6,-3,91)}\n",
    "                               }\n",
    "                )\n",
    "bp_ddt = drt.DRT(distributions={'DDT':{'kernel':'DDT','symmetry':'planar','bc':'blocking','dist_type':'parallel',\n",
    "                                      'basis_freq':np.logspace(6,-3,91)} # slightly expand basis from data range to capture full distribution\n",
    "                               }\n",
    "                )"
   ]
  },
  {
   "cell_type": "code",
   "execution_count": 265,
   "metadata": {},
   "outputs": [
    {
     "name": "stdout",
     "output_type": "stream",
     "text": [
      "-------------------------------\n",
      "../data/simulated\\Z_BimodalTP-DDT_Macdonald_0.05.csv\n",
      "-------------------------------\n",
      "File fit time: 5.26 seconds\n"
     ]
    },
    {
     "name": "stderr",
     "output_type": "stream",
     "text": [
      "../bayes-drt\\stan_models.py:7: UserWarning: Pickling fit objects is an experimental feature!\n",
      "The relevant StanModel instance must be pickled along with this fit object.\n",
      "When unpickling the StanModel must be unpickled first.\n",
      "  pickle.dump(obj, f, pickle.HIGHEST_PROTOCOL)\n"
     ]
    },
    {
     "name": "stdout",
     "output_type": "stream",
     "text": [
      "Dumped pickle to map_results\\obj_BimodalTP-DDT_Macdonald_0.05.pkl\n",
      "-------------------------------\n",
      "../data/simulated\\Z_BimodalTP-DDT_Macdonald_0.25.csv\n",
      "-------------------------------\n",
      "File fit time: 2.27 seconds\n"
     ]
    },
    {
     "name": "stderr",
     "output_type": "stream",
     "text": [
      "../bayes-drt\\stan_models.py:7: UserWarning: Pickling fit objects is an experimental feature!\n",
      "The relevant StanModel instance must be pickled along with this fit object.\n",
      "When unpickling the StanModel must be unpickled first.\n",
      "  pickle.dump(obj, f, pickle.HIGHEST_PROTOCOL)\n"
     ]
    },
    {
     "name": "stdout",
     "output_type": "stream",
     "text": [
      "Dumped pickle to map_results\\obj_BimodalTP-DDT_Macdonald_0.25.pkl\n",
      "-------------------------------\n",
      "../data/simulated\\Z_BimodalTP-DDT_noiseless.csv\n",
      "-------------------------------\n",
      "File fit time: 3.44 seconds\n"
     ]
    },
    {
     "name": "stderr",
     "output_type": "stream",
     "text": [
      "../bayes-drt\\stan_models.py:7: UserWarning: Pickling fit objects is an experimental feature!\n",
      "The relevant StanModel instance must be pickled along with this fit object.\n",
      "When unpickling the StanModel must be unpickled first.\n",
      "  pickle.dump(obj, f, pickle.HIGHEST_PROTOCOL)\n"
     ]
    },
    {
     "name": "stdout",
     "output_type": "stream",
     "text": [
      "Dumped pickle to map_results\\obj_BimodalTP-DDT_noiseless.pkl\n",
      "-------------------------------\n",
      "../data/simulated\\Z_BimodalTP-DDT_Orazem_0.05.csv\n",
      "-------------------------------\n",
      "File fit time: 3.65 seconds\n"
     ]
    },
    {
     "name": "stderr",
     "output_type": "stream",
     "text": [
      "../bayes-drt\\stan_models.py:7: UserWarning: Pickling fit objects is an experimental feature!\n",
      "The relevant StanModel instance must be pickled along with this fit object.\n",
      "When unpickling the StanModel must be unpickled first.\n",
      "  pickle.dump(obj, f, pickle.HIGHEST_PROTOCOL)\n"
     ]
    },
    {
     "name": "stdout",
     "output_type": "stream",
     "text": [
      "Dumped pickle to map_results\\obj_BimodalTP-DDT_Orazem_0.05.pkl\n",
      "-------------------------------\n",
      "../data/simulated\\Z_BimodalTP-DDT_Orazem_0.25.csv\n",
      "-------------------------------\n",
      "File fit time: 2.25 seconds\n"
     ]
    },
    {
     "name": "stderr",
     "output_type": "stream",
     "text": [
      "../bayes-drt\\stan_models.py:7: UserWarning: Pickling fit objects is an experimental feature!\n",
      "The relevant StanModel instance must be pickled along with this fit object.\n",
      "When unpickling the StanModel must be unpickled first.\n",
      "  pickle.dump(obj, f, pickle.HIGHEST_PROTOCOL)\n"
     ]
    },
    {
     "name": "stdout",
     "output_type": "stream",
     "text": [
      "Dumped pickle to map_results\\obj_BimodalTP-DDT_Orazem_0.25.pkl\n",
      "-------------------------------\n",
      "../data/simulated\\Z_BimodalTP-DDT_uniform_0.05.csv\n",
      "-------------------------------\n",
      "File fit time: 5.16 seconds\n"
     ]
    },
    {
     "name": "stderr",
     "output_type": "stream",
     "text": [
      "../bayes-drt\\stan_models.py:7: UserWarning: Pickling fit objects is an experimental feature!\n",
      "The relevant StanModel instance must be pickled along with this fit object.\n",
      "When unpickling the StanModel must be unpickled first.\n",
      "  pickle.dump(obj, f, pickle.HIGHEST_PROTOCOL)\n"
     ]
    },
    {
     "name": "stdout",
     "output_type": "stream",
     "text": [
      "Dumped pickle to map_results\\obj_BimodalTP-DDT_uniform_0.05.pkl\n",
      "-------------------------------\n",
      "../data/simulated\\Z_BimodalTP-DDT_uniform_0.25.csv\n",
      "-------------------------------\n",
      "File fit time: 1.24 seconds\n"
     ]
    },
    {
     "name": "stderr",
     "output_type": "stream",
     "text": [
      "../bayes-drt\\stan_models.py:7: UserWarning: Pickling fit objects is an experimental feature!\n",
      "The relevant StanModel instance must be pickled along with this fit object.\n",
      "When unpickling the StanModel must be unpickled first.\n",
      "  pickle.dump(obj, f, pickle.HIGHEST_PROTOCOL)\n"
     ]
    },
    {
     "name": "stdout",
     "output_type": "stream",
     "text": [
      "Dumped pickle to map_results\\obj_BimodalTP-DDT_uniform_0.25.pkl\n",
      "-------------------------------\n",
      "../data/simulated\\Z_BimodalBP-DDT_Macdonald_0.05.csv\n",
      "-------------------------------\n",
      "File fit time: 2.79 seconds\n"
     ]
    },
    {
     "name": "stderr",
     "output_type": "stream",
     "text": [
      "../bayes-drt\\stan_models.py:7: UserWarning: Pickling fit objects is an experimental feature!\n",
      "The relevant StanModel instance must be pickled along with this fit object.\n",
      "When unpickling the StanModel must be unpickled first.\n",
      "  pickle.dump(obj, f, pickle.HIGHEST_PROTOCOL)\n"
     ]
    },
    {
     "name": "stdout",
     "output_type": "stream",
     "text": [
      "Dumped pickle to map_results\\obj_BimodalBP-DDT_Macdonald_0.05.pkl\n",
      "-------------------------------\n",
      "../data/simulated\\Z_BimodalBP-DDT_Macdonald_0.25.csv\n",
      "-------------------------------\n",
      "File fit time: 2.03 seconds\n"
     ]
    },
    {
     "name": "stderr",
     "output_type": "stream",
     "text": [
      "../bayes-drt\\stan_models.py:7: UserWarning: Pickling fit objects is an experimental feature!\n",
      "The relevant StanModel instance must be pickled along with this fit object.\n",
      "When unpickling the StanModel must be unpickled first.\n",
      "  pickle.dump(obj, f, pickle.HIGHEST_PROTOCOL)\n"
     ]
    },
    {
     "name": "stdout",
     "output_type": "stream",
     "text": [
      "Dumped pickle to map_results\\obj_BimodalBP-DDT_Macdonald_0.25.pkl\n",
      "-------------------------------\n",
      "../data/simulated\\Z_BimodalBP-DDT_noiseless.csv\n",
      "-------------------------------\n",
      "File fit time: 3.67 seconds\n"
     ]
    },
    {
     "name": "stderr",
     "output_type": "stream",
     "text": [
      "../bayes-drt\\stan_models.py:7: UserWarning: Pickling fit objects is an experimental feature!\n",
      "The relevant StanModel instance must be pickled along with this fit object.\n",
      "When unpickling the StanModel must be unpickled first.\n",
      "  pickle.dump(obj, f, pickle.HIGHEST_PROTOCOL)\n"
     ]
    },
    {
     "name": "stdout",
     "output_type": "stream",
     "text": [
      "Dumped pickle to map_results\\obj_BimodalBP-DDT_noiseless.pkl\n",
      "-------------------------------\n",
      "../data/simulated\\Z_BimodalBP-DDT_Orazem_0.05.csv\n",
      "-------------------------------\n",
      "File fit time: 4.88 seconds\n"
     ]
    },
    {
     "name": "stderr",
     "output_type": "stream",
     "text": [
      "../bayes-drt\\stan_models.py:7: UserWarning: Pickling fit objects is an experimental feature!\n",
      "The relevant StanModel instance must be pickled along with this fit object.\n",
      "When unpickling the StanModel must be unpickled first.\n",
      "  pickle.dump(obj, f, pickle.HIGHEST_PROTOCOL)\n"
     ]
    },
    {
     "name": "stdout",
     "output_type": "stream",
     "text": [
      "Dumped pickle to map_results\\obj_BimodalBP-DDT_Orazem_0.05.pkl\n",
      "-------------------------------\n",
      "../data/simulated\\Z_BimodalBP-DDT_Orazem_0.25.csv\n",
      "-------------------------------\n",
      "File fit time: 2.11 seconds\n"
     ]
    },
    {
     "name": "stderr",
     "output_type": "stream",
     "text": [
      "../bayes-drt\\stan_models.py:7: UserWarning: Pickling fit objects is an experimental feature!\n",
      "The relevant StanModel instance must be pickled along with this fit object.\n",
      "When unpickling the StanModel must be unpickled first.\n",
      "  pickle.dump(obj, f, pickle.HIGHEST_PROTOCOL)\n"
     ]
    },
    {
     "name": "stdout",
     "output_type": "stream",
     "text": [
      "Dumped pickle to map_results\\obj_BimodalBP-DDT_Orazem_0.25.pkl\n",
      "-------------------------------\n",
      "../data/simulated\\Z_BimodalBP-DDT_uniform_0.05.csv\n",
      "-------------------------------\n",
      "File fit time: 3.28 seconds\n"
     ]
    },
    {
     "name": "stderr",
     "output_type": "stream",
     "text": [
      "../bayes-drt\\stan_models.py:7: UserWarning: Pickling fit objects is an experimental feature!\n",
      "The relevant StanModel instance must be pickled along with this fit object.\n",
      "When unpickling the StanModel must be unpickled first.\n",
      "  pickle.dump(obj, f, pickle.HIGHEST_PROTOCOL)\n"
     ]
    },
    {
     "name": "stdout",
     "output_type": "stream",
     "text": [
      "Dumped pickle to map_results\\obj_BimodalBP-DDT_uniform_0.05.pkl\n",
      "-------------------------------\n",
      "../data/simulated\\Z_BimodalBP-DDT_uniform_0.25.csv\n",
      "-------------------------------\n",
      "File fit time: 3.51 seconds\n",
      "Dumped pickle to map_results\\obj_BimodalBP-DDT_uniform_0.25.pkl\n",
      "================================\n",
      "Total fit time: 0.92 minutes\n"
     ]
    },
    {
     "name": "stderr",
     "output_type": "stream",
     "text": [
      "../bayes-drt\\stan_models.py:7: UserWarning: Pickling fit objects is an experimental feature!\n",
      "The relevant StanModel instance must be pickled along with this fit object.\n",
      "When unpickling the StanModel must be unpickled first.\n",
      "  pickle.dump(obj, f, pickle.HIGHEST_PROTOCOL)\n"
     ]
    }
   ],
   "source": [
    "\"MAP fits\"\n",
    "\n",
    "# tau for plotting\n",
    "tau_plot = np.logspace(-7,2,200)\n",
    "start = time.time()\n",
    "\n",
    "for files,dr in zip([tp_files,bp_files],[tp_ddt,bp_ddt]):\n",
    "\n",
    "    for file in files:\n",
    "        print('-------------------------------')\n",
    "        print(file)\n",
    "        print('-------------------------------')\n",
    "        suffix = file[file.find('_'):]\n",
    "        Zoutfile = os.path.join('map_results',f'Zout{suffix}')\n",
    "        Goutfile = os.path.join('map_results',f'Gout{suffix}')\n",
    "        pkl = os.path.join('map_results','obj{}.pkl'.format(suffix[:-4]))\n",
    "        if file.split('_')[2]=='noiseless.csv':\n",
    "            sigma_min=0.005\n",
    "        else:\n",
    "            sigma_min=0.002\n",
    "#         if os.path.exists(Zoutfile) and os.path.exists(Goutfile):\n",
    "#             print('Already ran')\n",
    "#         else:\n",
    "        df = pd.read_csv(file)\n",
    "        Z = df['Zreal'].values + 1j*df['Zimag'].values\n",
    "        # fit\n",
    "        file_start = time.time()\n",
    "        dr.map_fit(df['Freq'].values,Z,init_from_ridge=False,sigma_min=sigma_min)\n",
    "        print('File fit time: {:.2f} seconds'.format(time.time()-file_start))\n",
    "\n",
    "        # save results\n",
    "        Z_pred = dr.predict_Z(df['Freq'].values)\n",
    "        Z_res = pd.DataFrame(np.array([df['Freq'],Z_pred.real,Z_pred.imag]).T,columns=['freq','Zreal','Zimag'])\n",
    "        sigma_re,sigma_im = dr.predict_sigma(df['Freq'].values)\n",
    "        Z_res['sigma_re'] = sigma_re\n",
    "        Z_res['sigma_im'] = sigma_im\n",
    "\n",
    "        g_pred = dr.predict_distribution('DDT',eval_tau=tau_plot)\n",
    "        g_res = pd.DataFrame(np.array([tau_plot,g_pred]).T,\n",
    "                             columns=['tau','gamma'])\n",
    "        Z_res.to_csv(Zoutfile,index=False)\n",
    "        g_res.to_csv(Goutfile,index=False)\n",
    "\n",
    "        # pickle the drt object for access to all other attributes\n",
    "        save_pickle(dr,pkl)\n",
    "        \n",
    "print('================================')        \n",
    "print('Total fit time: {:.2f} minutes'.format((time.time()-start)/60))"
   ]
  },
  {
   "cell_type": "code",
   "execution_count": 247,
   "metadata": {},
   "outputs": [
    {
     "name": "stdout",
     "output_type": "stream",
     "text": [
      "-------------------------------\n",
      "../data/simulated\\Z_BimodalTP-DDT_Macdonald_0.05.csv\n",
      "-------------------------------\n"
     ]
    },
    {
     "name": "stderr",
     "output_type": "stream",
     "text": [
      "WARNING:pystan:Maximum (flat) parameter count (1000) exceeded: skipping diagnostic tests for n_eff and Rhat.\n",
      "To run all diagnostics call pystan.check_hmc_diagnostics(fit)\n",
      "WARNING:pystan:400 of 400 iterations saturated the maximum tree depth of 10 (100 %)\n",
      "WARNING:pystan:Run again with max_treedepth larger than 10 to avoid saturation\n"
     ]
    },
    {
     "name": "stdout",
     "output_type": "stream",
     "text": [
      "File fit time: 175.77 seconds\n"
     ]
    },
    {
     "name": "stderr",
     "output_type": "stream",
     "text": [
      "../bayes-drt\\stan_models.py:7: UserWarning: Pickling fit objects is an experimental feature!\n",
      "The relevant StanModel instance must be pickled along with this fit object.\n",
      "When unpickling the StanModel must be unpickled first.\n",
      "  pickle.dump(obj, f, pickle.HIGHEST_PROTOCOL)\n"
     ]
    },
    {
     "name": "stdout",
     "output_type": "stream",
     "text": [
      "Dumped pickle to bayes_results\\obj_BimodalTP-DDT_Macdonald_0.05.pkl\n",
      "-------------------------------\n",
      "../data/simulated\\Z_BimodalTP-DDT_Macdonald_0.25.csv\n",
      "-------------------------------\n"
     ]
    },
    {
     "name": "stderr",
     "output_type": "stream",
     "text": [
      "WARNING:pystan:Maximum (flat) parameter count (1000) exceeded: skipping diagnostic tests for n_eff and Rhat.\n",
      "To run all diagnostics call pystan.check_hmc_diagnostics(fit)\n",
      "WARNING:pystan:6 of 400 iterations saturated the maximum tree depth of 10 (1.5 %)\n",
      "WARNING:pystan:Run again with max_treedepth larger than 10 to avoid saturation\n"
     ]
    },
    {
     "name": "stdout",
     "output_type": "stream",
     "text": [
      "File fit time: 87.85 seconds\n"
     ]
    },
    {
     "name": "stderr",
     "output_type": "stream",
     "text": [
      "../bayes-drt\\stan_models.py:7: UserWarning: Pickling fit objects is an experimental feature!\n",
      "The relevant StanModel instance must be pickled along with this fit object.\n",
      "When unpickling the StanModel must be unpickled first.\n",
      "  pickle.dump(obj, f, pickle.HIGHEST_PROTOCOL)\n"
     ]
    },
    {
     "name": "stdout",
     "output_type": "stream",
     "text": [
      "Dumped pickle to bayes_results\\obj_BimodalTP-DDT_Macdonald_0.25.pkl\n",
      "-------------------------------\n",
      "../data/simulated\\Z_BimodalTP-DDT_noiseless.csv\n",
      "-------------------------------\n"
     ]
    },
    {
     "name": "stderr",
     "output_type": "stream",
     "text": [
      "WARNING:pystan:Maximum (flat) parameter count (1000) exceeded: skipping diagnostic tests for n_eff and Rhat.\n",
      "To run all diagnostics call pystan.check_hmc_diagnostics(fit)\n",
      "WARNING:pystan:399 of 400 iterations saturated the maximum tree depth of 10 (99.8 %)\n",
      "WARNING:pystan:Run again with max_treedepth larger than 10 to avoid saturation\n"
     ]
    },
    {
     "name": "stdout",
     "output_type": "stream",
     "text": [
      "File fit time: 191.02 seconds\n"
     ]
    },
    {
     "name": "stderr",
     "output_type": "stream",
     "text": [
      "../bayes-drt\\stan_models.py:7: UserWarning: Pickling fit objects is an experimental feature!\n",
      "The relevant StanModel instance must be pickled along with this fit object.\n",
      "When unpickling the StanModel must be unpickled first.\n",
      "  pickle.dump(obj, f, pickle.HIGHEST_PROTOCOL)\n"
     ]
    },
    {
     "name": "stdout",
     "output_type": "stream",
     "text": [
      "Dumped pickle to bayes_results\\obj_BimodalTP-DDT_noiseless.pkl\n",
      "-------------------------------\n",
      "../data/simulated\\Z_BimodalTP-DDT_Orazem_0.05.csv\n",
      "-------------------------------\n"
     ]
    },
    {
     "name": "stderr",
     "output_type": "stream",
     "text": [
      "WARNING:pystan:Maximum (flat) parameter count (1000) exceeded: skipping diagnostic tests for n_eff and Rhat.\n",
      "To run all diagnostics call pystan.check_hmc_diagnostics(fit)\n",
      "WARNING:pystan:400 of 400 iterations saturated the maximum tree depth of 10 (100 %)\n",
      "WARNING:pystan:Run again with max_treedepth larger than 10 to avoid saturation\n"
     ]
    },
    {
     "name": "stdout",
     "output_type": "stream",
     "text": [
      "File fit time: 203.99 seconds\n"
     ]
    },
    {
     "name": "stderr",
     "output_type": "stream",
     "text": [
      "../bayes-drt\\stan_models.py:7: UserWarning: Pickling fit objects is an experimental feature!\n",
      "The relevant StanModel instance must be pickled along with this fit object.\n",
      "When unpickling the StanModel must be unpickled first.\n",
      "  pickle.dump(obj, f, pickle.HIGHEST_PROTOCOL)\n"
     ]
    },
    {
     "name": "stdout",
     "output_type": "stream",
     "text": [
      "Dumped pickle to bayes_results\\obj_BimodalTP-DDT_Orazem_0.05.pkl\n",
      "-------------------------------\n",
      "../data/simulated\\Z_BimodalTP-DDT_Orazem_0.25.csv\n",
      "-------------------------------\n"
     ]
    },
    {
     "name": "stderr",
     "output_type": "stream",
     "text": [
      "WARNING:pystan:Maximum (flat) parameter count (1000) exceeded: skipping diagnostic tests for n_eff and Rhat.\n",
      "To run all diagnostics call pystan.check_hmc_diagnostics(fit)\n",
      "WARNING:pystan:2 of 400 iterations saturated the maximum tree depth of 10 (0.5 %)\n",
      "WARNING:pystan:Run again with max_treedepth larger than 10 to avoid saturation\n"
     ]
    },
    {
     "name": "stdout",
     "output_type": "stream",
     "text": [
      "File fit time: 120.11 seconds\n"
     ]
    },
    {
     "name": "stderr",
     "output_type": "stream",
     "text": [
      "../bayes-drt\\stan_models.py:7: UserWarning: Pickling fit objects is an experimental feature!\n",
      "The relevant StanModel instance must be pickled along with this fit object.\n",
      "When unpickling the StanModel must be unpickled first.\n",
      "  pickle.dump(obj, f, pickle.HIGHEST_PROTOCOL)\n"
     ]
    },
    {
     "name": "stdout",
     "output_type": "stream",
     "text": [
      "Dumped pickle to bayes_results\\obj_BimodalTP-DDT_Orazem_0.25.pkl\n",
      "-------------------------------\n",
      "../data/simulated\\Z_BimodalTP-DDT_uniform_0.05.csv\n",
      "-------------------------------\n"
     ]
    },
    {
     "name": "stderr",
     "output_type": "stream",
     "text": [
      "WARNING:pystan:Maximum (flat) parameter count (1000) exceeded: skipping diagnostic tests for n_eff and Rhat.\n",
      "To run all diagnostics call pystan.check_hmc_diagnostics(fit)\n",
      "WARNING:pystan:400 of 400 iterations saturated the maximum tree depth of 10 (100 %)\n",
      "WARNING:pystan:Run again with max_treedepth larger than 10 to avoid saturation\n"
     ]
    },
    {
     "name": "stdout",
     "output_type": "stream",
     "text": [
      "File fit time: 191.27 seconds\n"
     ]
    },
    {
     "name": "stderr",
     "output_type": "stream",
     "text": [
      "../bayes-drt\\stan_models.py:7: UserWarning: Pickling fit objects is an experimental feature!\n",
      "The relevant StanModel instance must be pickled along with this fit object.\n",
      "When unpickling the StanModel must be unpickled first.\n",
      "  pickle.dump(obj, f, pickle.HIGHEST_PROTOCOL)\n"
     ]
    },
    {
     "name": "stdout",
     "output_type": "stream",
     "text": [
      "Dumped pickle to bayes_results\\obj_BimodalTP-DDT_uniform_0.05.pkl\n",
      "-------------------------------\n",
      "../data/simulated\\Z_BimodalTP-DDT_uniform_0.25.csv\n",
      "-------------------------------\n"
     ]
    },
    {
     "name": "stderr",
     "output_type": "stream",
     "text": [
      "WARNING:pystan:Maximum (flat) parameter count (1000) exceeded: skipping diagnostic tests for n_eff and Rhat.\n",
      "To run all diagnostics call pystan.check_hmc_diagnostics(fit)\n",
      "WARNING:pystan:71 of 400 iterations saturated the maximum tree depth of 10 (17.8 %)\n",
      "WARNING:pystan:Run again with max_treedepth larger than 10 to avoid saturation\n"
     ]
    },
    {
     "name": "stdout",
     "output_type": "stream",
     "text": [
      "File fit time: 136.87 seconds\n"
     ]
    },
    {
     "name": "stderr",
     "output_type": "stream",
     "text": [
      "../bayes-drt\\stan_models.py:7: UserWarning: Pickling fit objects is an experimental feature!\n",
      "The relevant StanModel instance must be pickled along with this fit object.\n",
      "When unpickling the StanModel must be unpickled first.\n",
      "  pickle.dump(obj, f, pickle.HIGHEST_PROTOCOL)\n"
     ]
    },
    {
     "name": "stdout",
     "output_type": "stream",
     "text": [
      "Dumped pickle to bayes_results\\obj_BimodalTP-DDT_uniform_0.25.pkl\n",
      "-------------------------------\n",
      "../data/simulated\\Z_BimodalBP-DDT_Macdonald_0.05.csv\n",
      "-------------------------------\n"
     ]
    },
    {
     "name": "stderr",
     "output_type": "stream",
     "text": [
      "WARNING:pystan:Maximum (flat) parameter count (1000) exceeded: skipping diagnostic tests for n_eff and Rhat.\n",
      "To run all diagnostics call pystan.check_hmc_diagnostics(fit)\n",
      "WARNING:pystan:400 of 400 iterations saturated the maximum tree depth of 10 (100 %)\n",
      "WARNING:pystan:Run again with max_treedepth larger than 10 to avoid saturation\n"
     ]
    },
    {
     "name": "stdout",
     "output_type": "stream",
     "text": [
      "File fit time: 154.79 seconds\n"
     ]
    },
    {
     "name": "stderr",
     "output_type": "stream",
     "text": [
      "../bayes-drt\\stan_models.py:7: UserWarning: Pickling fit objects is an experimental feature!\n",
      "The relevant StanModel instance must be pickled along with this fit object.\n",
      "When unpickling the StanModel must be unpickled first.\n",
      "  pickle.dump(obj, f, pickle.HIGHEST_PROTOCOL)\n"
     ]
    },
    {
     "name": "stdout",
     "output_type": "stream",
     "text": [
      "Dumped pickle to bayes_results\\obj_BimodalBP-DDT_Macdonald_0.05.pkl\n",
      "-------------------------------\n",
      "../data/simulated\\Z_BimodalBP-DDT_Macdonald_0.25.csv\n",
      "-------------------------------\n"
     ]
    },
    {
     "name": "stderr",
     "output_type": "stream",
     "text": [
      "WARNING:pystan:Maximum (flat) parameter count (1000) exceeded: skipping diagnostic tests for n_eff and Rhat.\n",
      "To run all diagnostics call pystan.check_hmc_diagnostics(fit)\n",
      "WARNING:pystan:2 of 400 iterations saturated the maximum tree depth of 10 (0.5 %)\n",
      "WARNING:pystan:Run again with max_treedepth larger than 10 to avoid saturation\n"
     ]
    },
    {
     "name": "stdout",
     "output_type": "stream",
     "text": [
      "File fit time: 81.47 seconds\n"
     ]
    },
    {
     "name": "stderr",
     "output_type": "stream",
     "text": [
      "../bayes-drt\\stan_models.py:7: UserWarning: Pickling fit objects is an experimental feature!\n",
      "The relevant StanModel instance must be pickled along with this fit object.\n",
      "When unpickling the StanModel must be unpickled first.\n",
      "  pickle.dump(obj, f, pickle.HIGHEST_PROTOCOL)\n"
     ]
    },
    {
     "name": "stdout",
     "output_type": "stream",
     "text": [
      "Dumped pickle to bayes_results\\obj_BimodalBP-DDT_Macdonald_0.25.pkl\n",
      "-------------------------------\n",
      "../data/simulated\\Z_BimodalBP-DDT_noiseless.csv\n",
      "-------------------------------\n"
     ]
    },
    {
     "name": "stderr",
     "output_type": "stream",
     "text": [
      "WARNING:pystan:Maximum (flat) parameter count (1000) exceeded: skipping diagnostic tests for n_eff and Rhat.\n",
      "To run all diagnostics call pystan.check_hmc_diagnostics(fit)\n",
      "WARNING:pystan:2 of 400 iterations ended with a divergence (0.5 %).\n",
      "WARNING:pystan:Try running with adapt_delta larger than 0.9 to remove the divergences.\n",
      "WARNING:pystan:398 of 400 iterations saturated the maximum tree depth of 10 (99.5 %)\n",
      "WARNING:pystan:Run again with max_treedepth larger than 10 to avoid saturation\n"
     ]
    },
    {
     "name": "stdout",
     "output_type": "stream",
     "text": [
      "File fit time: 150.02 seconds\n"
     ]
    },
    {
     "name": "stderr",
     "output_type": "stream",
     "text": [
      "../bayes-drt\\stan_models.py:7: UserWarning: Pickling fit objects is an experimental feature!\n",
      "The relevant StanModel instance must be pickled along with this fit object.\n",
      "When unpickling the StanModel must be unpickled first.\n",
      "  pickle.dump(obj, f, pickle.HIGHEST_PROTOCOL)\n"
     ]
    },
    {
     "name": "stdout",
     "output_type": "stream",
     "text": [
      "Dumped pickle to bayes_results\\obj_BimodalBP-DDT_noiseless.pkl\n",
      "-------------------------------\n",
      "../data/simulated\\Z_BimodalBP-DDT_Orazem_0.05.csv\n",
      "-------------------------------\n"
     ]
    },
    {
     "name": "stderr",
     "output_type": "stream",
     "text": [
      "WARNING:pystan:Maximum (flat) parameter count (1000) exceeded: skipping diagnostic tests for n_eff and Rhat.\n",
      "To run all diagnostics call pystan.check_hmc_diagnostics(fit)\n",
      "WARNING:pystan:400 of 400 iterations saturated the maximum tree depth of 10 (100 %)\n",
      "WARNING:pystan:Run again with max_treedepth larger than 10 to avoid saturation\n"
     ]
    },
    {
     "name": "stdout",
     "output_type": "stream",
     "text": [
      "File fit time: 129.71 seconds\n"
     ]
    },
    {
     "name": "stderr",
     "output_type": "stream",
     "text": [
      "../bayes-drt\\stan_models.py:7: UserWarning: Pickling fit objects is an experimental feature!\n",
      "The relevant StanModel instance must be pickled along with this fit object.\n",
      "When unpickling the StanModel must be unpickled first.\n",
      "  pickle.dump(obj, f, pickle.HIGHEST_PROTOCOL)\n"
     ]
    },
    {
     "name": "stdout",
     "output_type": "stream",
     "text": [
      "Dumped pickle to bayes_results\\obj_BimodalBP-DDT_Orazem_0.05.pkl\n",
      "-------------------------------\n",
      "../data/simulated\\Z_BimodalBP-DDT_Orazem_0.25.csv\n",
      "-------------------------------\n"
     ]
    },
    {
     "name": "stderr",
     "output_type": "stream",
     "text": [
      "WARNING:pystan:Maximum (flat) parameter count (1000) exceeded: skipping diagnostic tests for n_eff and Rhat.\n",
      "To run all diagnostics call pystan.check_hmc_diagnostics(fit)\n"
     ]
    },
    {
     "name": "stdout",
     "output_type": "stream",
     "text": [
      "File fit time: 76.68 seconds\n"
     ]
    },
    {
     "name": "stderr",
     "output_type": "stream",
     "text": [
      "../bayes-drt\\stan_models.py:7: UserWarning: Pickling fit objects is an experimental feature!\n",
      "The relevant StanModel instance must be pickled along with this fit object.\n",
      "When unpickling the StanModel must be unpickled first.\n",
      "  pickle.dump(obj, f, pickle.HIGHEST_PROTOCOL)\n"
     ]
    },
    {
     "name": "stdout",
     "output_type": "stream",
     "text": [
      "Dumped pickle to bayes_results\\obj_BimodalBP-DDT_Orazem_0.25.pkl\n",
      "-------------------------------\n",
      "../data/simulated\\Z_BimodalBP-DDT_uniform_0.05.csv\n",
      "-------------------------------\n"
     ]
    },
    {
     "name": "stderr",
     "output_type": "stream",
     "text": [
      "WARNING:pystan:Maximum (flat) parameter count (1000) exceeded: skipping diagnostic tests for n_eff and Rhat.\n",
      "To run all diagnostics call pystan.check_hmc_diagnostics(fit)\n",
      "WARNING:pystan:400 of 400 iterations saturated the maximum tree depth of 10 (100 %)\n",
      "WARNING:pystan:Run again with max_treedepth larger than 10 to avoid saturation\n"
     ]
    },
    {
     "name": "stdout",
     "output_type": "stream",
     "text": [
      "File fit time: 133.37 seconds\n"
     ]
    },
    {
     "name": "stderr",
     "output_type": "stream",
     "text": [
      "../bayes-drt\\stan_models.py:7: UserWarning: Pickling fit objects is an experimental feature!\n",
      "The relevant StanModel instance must be pickled along with this fit object.\n",
      "When unpickling the StanModel must be unpickled first.\n",
      "  pickle.dump(obj, f, pickle.HIGHEST_PROTOCOL)\n"
     ]
    },
    {
     "name": "stdout",
     "output_type": "stream",
     "text": [
      "Dumped pickle to bayes_results\\obj_BimodalBP-DDT_uniform_0.05.pkl\n",
      "-------------------------------\n",
      "../data/simulated\\Z_BimodalBP-DDT_uniform_0.25.csv\n",
      "-------------------------------\n"
     ]
    },
    {
     "name": "stderr",
     "output_type": "stream",
     "text": [
      "WARNING:pystan:Maximum (flat) parameter count (1000) exceeded: skipping diagnostic tests for n_eff and Rhat.\n",
      "To run all diagnostics call pystan.check_hmc_diagnostics(fit)\n",
      "WARNING:pystan:331 of 400 iterations saturated the maximum tree depth of 10 (82.8 %)\n",
      "WARNING:pystan:Run again with max_treedepth larger than 10 to avoid saturation\n"
     ]
    },
    {
     "name": "stdout",
     "output_type": "stream",
     "text": [
      "File fit time: 142.18 seconds\n",
      "Dumped pickle to bayes_results\\obj_BimodalBP-DDT_uniform_0.25.pkl\n",
      "Total fit time: 33.05 minutes\n"
     ]
    },
    {
     "name": "stderr",
     "output_type": "stream",
     "text": [
      "../bayes-drt\\stan_models.py:7: UserWarning: Pickling fit objects is an experimental feature!\n",
      "The relevant StanModel instance must be pickled along with this fit object.\n",
      "When unpickling the StanModel must be unpickled first.\n",
      "  pickle.dump(obj, f, pickle.HIGHEST_PROTOCOL)\n"
     ]
    }
   ],
   "source": [
    "\"MCMC sampling\"\n",
    "# tau for plotting\n",
    "tau_plot = np.logspace(-7,2,200)\n",
    "start = time.time()\n",
    "\n",
    "for files,dr in zip([tp_files,bp_files],[tp_ddt,bp_ddt]):\n",
    "\n",
    "    for file in files:\n",
    "        print('-------------------------------')\n",
    "        print(file)\n",
    "        print('-------------------------------')\n",
    "        suffix = file[file.find('_'):]\n",
    "        Zoutfile = os.path.join('bayes_results',f'Zout{suffix}')\n",
    "        Goutfile = os.path.join('bayes_results',f'Gout{suffix}')\n",
    "        pkl = os.path.join('bayes_results','obj{}.pkl'.format(suffix[:-4]))\n",
    "        if file.split('_')[2]=='noiseless.csv':\n",
    "            sigma_min=0.005\n",
    "        else:\n",
    "            sigma_min=0.002\n",
    "\n",
    "#         if os.path.exists(Zoutfile) and os.path.exists(Goutfile):\n",
    "#             print('Already ran')\n",
    "#         else:\n",
    "        df = pd.read_csv(file)\n",
    "        Z = df['Zreal'].values + 1j*df['Zimag'].values\n",
    "\n",
    "        # fit\n",
    "        file_start = time.time()\n",
    "        dr.bayes_fit(df['Freq'].values,Z,init_from_ridge=False,sigma_min=sigma_min)\n",
    "        print('File fit time: {:.2f} seconds'.format(time.time()-file_start))\n",
    "\n",
    "        Z_pred = dr.predict_Z(df['Freq'].values)\n",
    "        Z_res = pd.DataFrame(np.array([df['Freq'],Z_pred.real,Z_pred.imag]).T,\n",
    "                             columns=['freq','Zreal','Zimag'])\n",
    "        sigma_re,sigma_im = dr.predict_sigma(df['Freq'].values)\n",
    "        Z_res['sigma_re'] = sigma_re\n",
    "        Z_res['sigma_im'] = sigma_im\n",
    "\n",
    "        g_pred = dr.predict_distribution('DDT',eval_tau=tau_plot)\n",
    "        # drt credibility interval\n",
    "        g_lo = dr.predict_distribution('DDT',eval_tau=tau_plot,percentile=2.5)\n",
    "        g_hi = dr.predict_distribution('DDT',eval_tau=tau_plot,percentile=97.5)\n",
    "        g_res = pd.DataFrame(np.array([tau_plot,g_pred,g_lo,g_hi]).T,\n",
    "                             columns=['tau','gamma','gamma_lo','gamma_hi'])\n",
    "\n",
    "        Z_res.to_csv(Zoutfile,index=False)\n",
    "        g_res.to_csv(Goutfile,index=False)\n",
    "\n",
    "        # pickle the drt object for access to all other attributes\n",
    "        save_pickle(dr,pkl)\n",
    "\n",
    "print('Total fit time: {:.2f} minutes'.format((time.time()-start)/60))"
   ]
  },
  {
   "cell_type": "markdown",
   "metadata": {},
   "source": [
    "# DRT-DDT"
   ]
  },
  {
   "cell_type": "code",
   "execution_count": 326,
   "metadata": {},
   "outputs": [],
   "source": [
    "# skip noiseless files\n",
    "sp_files = glob.glob('../data/simulated/Z_DRT-*-TpDDT_uniform*.csv')\n",
    "s2p_files = glob.glob('../data/simulated/Z_DRT-TpDDT-BpDDT_uniform*.csv')\n",
    "\n",
    "# for sp_dr: use xp_scale=0.8\n",
    "sp_dr = drt.DRT(distributions={'DRT':{'kernel':'DRT','basis_freq':np.logspace(6,-2,81)},\n",
    "                                'TP-DDT':{'kernel':'DDT','symmetry':'planar','bc':'transmissive','dist_type':'parallel',\n",
    "                                         'basis_freq':np.logspace(6,-2,81),'x_scale':0.8}\n",
    "                               }\n",
    "                )\n",
    "\n",
    "# for sp2_dr: MAP: xp1_scale = 1 (BP-DDT), xp2_scale = 0.8 (TP-DDT)\n",
    "# bayes: xp1_scale = 0.5 (BP-DDT), xp2_scale = 0.5 (TP-DDT) (1 and 0.8 also work fine)\n",
    "s2p_dr = drt.DRT(distributions={'DRT':{'kernel':'DRT'},\n",
    "            'TP-DDT':{'kernel':'DDT','symmetry':'planar','bc':'transmissive','dist_type':'parallel'},\n",
    "            'BP-DDT':{'kernel':'DDT','symmetry':'planar','bc':'blocking','dist_type':'parallel'}\n",
    "                               }\n",
    "                )"
   ]
  },
  {
   "cell_type": "code",
   "execution_count": 328,
   "metadata": {},
   "outputs": [
    {
     "name": "stdout",
     "output_type": "stream",
     "text": [
      "-------------------------------\n",
      "../data/simulated\\Z_DRT-2-TpDDT_uniform_0.25.csv\n",
      "-------------------------------\n",
      "File fit time: 4.12 seconds\n",
      "Dumped pickle to map_results\\obj_DRT-2-TpDDT_uniform_0.25.pkl\n",
      "1.0 0.2364923925947181\n",
      "0.8271966826504259\n",
      "-------------------------------\n",
      "../data/simulated\\Z_DRT-3-TpDDT_uniform_0.25.csv\n",
      "-------------------------------\n",
      "File fit time: 7.53 seconds\n",
      "Dumped pickle to map_results\\obj_DRT-3-TpDDT_uniform_0.25.pkl\n",
      "1.0 0.22304046487665727\n",
      "0.8023925697414866\n",
      "-------------------------------\n",
      "../data/simulated\\Z_DRT-4-TpDDT_uniform_0.25.csv\n",
      "-------------------------------\n",
      "File fit time: 5.25 seconds\n",
      "Dumped pickle to map_results\\obj_DRT-4-TpDDT_uniform_0.25.pkl\n",
      "1.0 0.18768424388506202\n",
      "0.7431062970991372\n",
      "================================\n",
      "Total fit time: 0.31 minutes\n"
     ]
    }
   ],
   "source": [
    "\"MAP fits\"\n",
    "\n",
    "# tau for plotting\n",
    "tau_plot = np.logspace(-7,2,200)\n",
    "start = time.time()\n",
    "\n",
    "# set best basis freq for MAP\n",
    "s2p_dr.basis_freq = np.logspace(6,-2.4,85)\n",
    "\n",
    "for files,dr in zip([sp_files],[sp_dr]):\n",
    "    for file in files:\n",
    "        print('-------------------------------')\n",
    "        print(file)\n",
    "        print('-------------------------------')\n",
    "        suffix = file[file.find('_'):]\n",
    "        Zoutfile = os.path.join('map_results',f'Zout{suffix}')\n",
    "        Goutfile = os.path.join('map_results',f'Gout{suffix}')\n",
    "        pkl = os.path.join('map_results','obj{}.pkl'.format(suffix[:-4]))\n",
    "        if file.split('_')[2]=='noiseless.csv':\n",
    "            sigma_min=0.005\n",
    "        else:\n",
    "            sigma_min=0.002\n",
    "#         if os.path.exists(Zoutfile) and os.path.exists(Goutfile):\n",
    "#             print('Already ran')\n",
    "#         else:\n",
    "        df = pd.read_csv(file)\n",
    "        Z = df['Zreal'].values + 1j*df['Zimag'].values\n",
    "        # fit\n",
    "        file_start = time.time()\n",
    "        dr.map_fit(df['Freq'].values,Z,init_from_ridge=False,sigma_min=sigma_min,nonneg_drt=True,max_iter=1e5)\n",
    "        print('File fit time: {:.2f} seconds'.format(time.time()-file_start))\n",
    "\n",
    "        # save results\n",
    "        Z_pred = dr.predict_Z(df['Freq'].values)\n",
    "        Z_res = pd.DataFrame(np.array([df['Freq'],Z_pred.real,Z_pred.imag]).T,columns=['freq','Zreal','Zimag'])\n",
    "        sigma_re,sigma_im = dr.predict_sigma(df['Freq'].values)\n",
    "        Z_res['sigma_re'] = sigma_re\n",
    "        Z_res['sigma_im'] = sigma_im\n",
    "\n",
    "        g_pred = dr.predict_distribution('DRT',eval_tau=tau_plot)\n",
    "        ftp = dr.predict_distribution('TP-DDT',eval_tau=tau_plot)\n",
    "        if suffix.find('BpDDT') > 0:\n",
    "            fbp = dr.predict_distribution('BP-DDT',eval_tau=tau_plot)\n",
    "            g_res = pd.DataFrame(np.array([tau_plot,g_pred,ftp,fbp]).T,\n",
    "                                 columns=['tau','gamma','ftp','fbp'])\n",
    "        else:    \n",
    "            g_res = pd.DataFrame(np.array([tau_plot,g_pred,ftp]).T,\n",
    "                                 columns=['tau','gamma','ftp'])\n",
    "\n",
    "        Z_res.to_csv(Zoutfile,index=False)\n",
    "        g_res.to_csv(Goutfile,index=False)\n",
    "\n",
    "        # pickle the drt object for access to all other attributes\n",
    "        save_pickle(dr,pkl)\n",
    "        \n",
    "        Z = df['Zreal'].values + 1j*df['Zimag'].values\n",
    "        Zmod  = np.sqrt(Z*Z.conjugate()).real\n",
    "        Z_scale = np.std(Zmod)\n",
    "        Z_star = Z/Z_scale\n",
    "\n",
    "        Zsmod  = np.sqrt(Z_star*Z_star.conjugate()).real\n",
    "        Y_star = 1/Z_star\n",
    "        Ysmod = np.sqrt(Y_star*Y_star.conjugate()).real\n",
    "        print(np.std(Zsmod), np.std(Ysmod))\n",
    "        print(dr._Z_scale)\n",
    "#         print('xs:',np.max(dr._opt_result['xs']))\n",
    "#         print('xp1_raw:',np.max(dr._opt_result['xp1_raw']))\n",
    "#         print('xp2_raw:',np.max(dr._opt_result['xp2_raw']))\n",
    "\n",
    "print('================================')        \n",
    "print('Total fit time: {:.2f} minutes'.format((time.time()-start)/60))"
   ]
  },
  {
   "cell_type": "code",
   "execution_count": 272,
   "metadata": {},
   "outputs": [
    {
     "name": "stdout",
     "output_type": "stream",
     "text": [
      "-------------------------------\n",
      "../data/simulated\\Z_DRT-TpDDT-BpDDT_uniform_0.25.csv\n",
      "-------------------------------\n"
     ]
    },
    {
     "name": "stderr",
     "output_type": "stream",
     "text": [
      "../bayes-drt\\drt.py:2062: RuntimeWarning: overflow encountered in tanh\n",
      "  # then choose whether to integrate Z_D or Y_D\n",
      "WARNING:pystan:Maximum (flat) parameter count (1000) exceeded: skipping diagnostic tests for n_eff and Rhat.\n",
      "To run all diagnostics call pystan.check_hmc_diagnostics(fit)\n",
      "WARNING:pystan:2 of 400 iterations ended with a divergence (0.5 %).\n",
      "WARNING:pystan:Try running with adapt_delta larger than 0.9 to remove the divergences.\n",
      "WARNING:pystan:9 of 400 iterations saturated the maximum tree depth of 10 (2.25 %)\n",
      "WARNING:pystan:Run again with max_treedepth larger than 10 to avoid saturation\n"
     ]
    },
    {
     "name": "stdout",
     "output_type": "stream",
     "text": [
      "File fit time: 266.32 seconds\n"
     ]
    },
    {
     "name": "stderr",
     "output_type": "stream",
     "text": [
      "../bayes-drt\\stan_models.py:7: UserWarning: Pickling fit objects is an experimental feature!\n",
      "The relevant StanModel instance must be pickled along with this fit object.\n",
      "When unpickling the StanModel must be unpickled first.\n",
      "  pickle.dump(obj, f, pickle.HIGHEST_PROTOCOL)\n"
     ]
    },
    {
     "name": "stdout",
     "output_type": "stream",
     "text": [
      "Dumped pickle to bayes_results\\obj_DRT-TpDDT-BpDDT_uniform_0.25.pkl\n",
      "Total fit time: 4.46 minutes\n"
     ]
    }
   ],
   "source": [
    "\"MCMC sampling\"\n",
    "# tau for plotting\n",
    "tau_plot = np.logspace(-7,2,200)\n",
    "start = time.time()\n",
    "\n",
    "# set best basis freq for MCMC\n",
    "s2p_dr.basis_freq = np.logspace(6,-2,81)\n",
    "\n",
    "for files,dr in zip([s2p_files],[s2p_dr]):\n",
    "    for file in files:\n",
    "        print('-------------------------------')\n",
    "        print(file)\n",
    "        print('-------------------------------')\n",
    "        suffix = file[file.find('_'):]\n",
    "        Zoutfile = os.path.join('bayes_results',f'Zout{suffix}')\n",
    "        Goutfile = os.path.join('bayes_results',f'Gout{suffix}')\n",
    "        pkl = os.path.join('bayes_results','obj{}.pkl'.format(suffix[:-4]))\n",
    "        if file.split('_')[2]=='noiseless.csv':\n",
    "            sigma_min=0.005\n",
    "        else:\n",
    "            sigma_min=0.002\n",
    "\n",
    "#         if os.path.exists(Zoutfile) and os.path.exists(Goutfile):\n",
    "#             print('Already ran')\n",
    "#         else:\n",
    "        df = pd.read_csv(file)\n",
    "        Z = df['Zreal'].values + 1j*df['Zimag'].values\n",
    "\n",
    "        # fit\n",
    "        file_start = time.time()\n",
    "        dr.bayes_fit(df['Freq'].values,Z,init_from_ridge=False,sigma_min=sigma_min,nonneg_drt=True)\n",
    "        print('File fit time: {:.2f} seconds'.format(time.time()-file_start))\n",
    "\n",
    "        Z_pred = dr.predict_Z(df['Freq'].values)\n",
    "        Z_res = pd.DataFrame(np.array([df['Freq'],Z_pred.real,Z_pred.imag]).T,\n",
    "                             columns=['freq','Zreal','Zimag'])\n",
    "        sigma_re,sigma_im = dr.predict_sigma(df['Freq'].values)\n",
    "        Z_res['sigma_re'] = sigma_re\n",
    "        Z_res['sigma_im'] = sigma_im\n",
    "\n",
    "        g_pred = dr.predict_distribution('DRT',eval_tau=tau_plot)\n",
    "        g_lo = dr.predict_distribution('DRT',eval_tau=tau_plot,percentile=2.5)\n",
    "        g_hi = dr.predict_distribution('DRT',eval_tau=tau_plot,percentile=97.5)\n",
    "\n",
    "        ftp = dr.predict_distribution('TP-DDT',eval_tau=tau_plot)\n",
    "        ftp_lo = dr.predict_distribution('TP-DDT',eval_tau=tau_plot,percentile=2.5)\n",
    "        ftp_hi = dr.predict_distribution('TP-DDT',eval_tau=tau_plot,percentile=97.5)\n",
    "        if suffix.find('BpDDT') > 0:\n",
    "            fbp = dr.predict_distribution('BP-DDT',eval_tau=tau_plot)\n",
    "            fbp_lo = dr.predict_distribution('BP-DDT',eval_tau=tau_plot,percentile=2.5)\n",
    "            fbp_hi = dr.predict_distribution('BP-DDT',eval_tau=tau_plot,percentile=97.5)\n",
    "            g_res = pd.DataFrame(np.array([tau_plot,g_pred,g_lo,g_hi,\n",
    "                                           ftp,ftp_lo,ftp_hi,\n",
    "                                           fbp,fbp_lo,fbp_hi]).T,\n",
    "                                 columns=['tau','gamma','gamma_lo','gamma_hi',\n",
    "                                          'ftp','ftp_lo','ftp_hi',\n",
    "                                          'fbp','fbp_lo','fbp_hi'])\n",
    "        else:    \n",
    "            g_res = pd.DataFrame(np.array([tau_plot,g_pred,g_lo,g_hi,\n",
    "                                           ftp,ftp_lo,ftp_hi]).T,\n",
    "                                 columns=['tau','gamma','gamma_lo','gamma_hi',\n",
    "                                          'ftp','ftp_lo','ftp_hi'])\n",
    "\n",
    "        Z_res.to_csv(Zoutfile,index=False)\n",
    "        g_res.to_csv(Goutfile,index=False)\n",
    "\n",
    "        # pickle the drt object for access to all other attributes\n",
    "        save_pickle(dr,pkl)\n",
    "\n",
    "print('Total fit time: {:.2f} minutes'.format((time.time()-start)/60))"
   ]
  },
  {
   "cell_type": "markdown",
   "metadata": {},
   "source": [
    "# Experimental data\n",
    "## LIB data from DRTtools"
   ]
  },
  {
   "cell_type": "code",
   "execution_count": 233,
   "metadata": {},
   "outputs": [],
   "source": [
    "lib_files = ['../data/experimental/DRTtools_LIB_data.txt',\n",
    "             '../data/experimental/DRTtools_LIB_data_qtr.csv'\n",
    "            ]\n",
    "\n",
    "lib_basis_freq = np.logspace(4,-5,91)\n",
    "lib_tau = 1/(2*np.pi*lib_basis_freq)\n",
    "\n",
    "dr_lib = drt.DRT(basis_freq=lib_basis_freq)\n",
    "\n",
    "# # run ridge_fit to generate A matrices\n",
    "# lib_df = pd.read_csv(lib_files[0],sep='\\t',header=None)\n",
    "# lib_df = pd.DataFrame(lib_df.values,columns=['Freq','Zreal','Zimag'])\n",
    "# Z_lib = lib_df['Zreal'] + 1j*lib_df['Zimag']\n",
    "# f = lib_df['Freq'].values\n",
    "# Z_lib = Z_lib\n",
    "# dr_lib.ridge_fit(f,Z_lib.values)\n",
    "\n"
   ]
  },
  {
   "cell_type": "code",
   "execution_count": 197,
   "metadata": {},
   "outputs": [
    {
     "name": "stdout",
     "output_type": "stream",
     "text": [
      "-------------------------------\n",
      "DRTtools_LIB_data.txt: 2 distribution(s)\n",
      "-------------------------------\n",
      "File fit time: 7.20 seconds\n",
      "Dumped pickle to map_results\\obj_LIB_data_DRT-TpDDT.pkl\n",
      "Total fit time: 0.13 minutes\n"
     ]
    }
   ],
   "source": [
    "\"MAP fits\"\n",
    "start = time.time()\n",
    "\n",
    "# finer tau for plotting\n",
    "tau_plot = np.logspace(np.log10(np.min(lib_tau)),np.log10(np.max(lib_tau)),200)\n",
    "dr = dr_lib\n",
    "for file in lib_files:\n",
    "    print('-------------------------------')\n",
    "    print('{}: {} distribution(s)'.format(os.path.split(file)[1],len(dr.distributions)))\n",
    "    print('-------------------------------')\n",
    "    suffix = file[file.find('_'):-4]\n",
    "\n",
    "    Zoutfile = os.path.join('map_results',f'Zout{suffix}.csv')\n",
    "    Goutfile = os.path.join('map_results',f'Gout{suffix}.csv')\n",
    "    pkl = os.path.join('map_results','obj{}.pkl'.format(suffix))\n",
    "#     if os.path.exists(Zoutfile) and os.path.exists(Goutfile):\n",
    "#         print('Already ran')\n",
    "#     else:\n",
    "    if file[-3:]=='txt':\n",
    "        df = pd.read_csv(file,sep='\\t',header=None)\n",
    "        df = pd.DataFrame(df.values,columns=['Freq','Zreal','Zimag'])\n",
    "    else:\n",
    "        df = pd.read_csv(file)\n",
    "\n",
    "    Z = df['Zreal'].values + 1j*df['Zimag'].values\n",
    "    # fit\n",
    "    file_start = time.time()\n",
    "    # initializing from the ridge solution may be helpful for faster convergence for more complex spectra\n",
    "    dr.map_fit(df['Freq'].values,Z,init_from_ridge=False,max_iter=1e5,nonneg_drt=False)\n",
    "    print('File fit time: {:.2f} seconds'.format(time.time()-file_start))\n",
    "\n",
    "    # save results\n",
    "    Z_pred = dr.predict_Z(df['Freq'].values)\n",
    "    Z_res = pd.DataFrame(np.array([df['Freq'],Z_pred.real,Z_pred.imag]).T,columns=['freq','Zreal','Zimag'])\n",
    "    sigma_re,sigma_im = dr.predict_sigma(df['Freq'].values)\n",
    "    Z_res['sigma_re'] = sigma_re\n",
    "    Z_res['sigma_im'] = sigma_im\n",
    "\n",
    "    g_pred = dr.predict_distribution('DRT',eval_tau=tau_plot)\n",
    "    g_res = pd.DataFrame(np.array([tau_plot,g_pred]).T,\n",
    "                         columns=['tau','gamma'])\n",
    "\n",
    "    Z_res.to_csv(Zoutfile,index=False)\n",
    "    g_res.to_csv(Goutfile,index=False)\n",
    "\n",
    "    # pickle the drt object for access to all other attributes\n",
    "    save_pickle(dr,pkl)\n",
    "\n",
    "print('Total fit time: {:.2f} minutes'.format((time.time()-start)/60))"
   ]
  },
  {
   "cell_type": "code",
   "execution_count": 234,
   "metadata": {},
   "outputs": [
    {
     "name": "stdout",
     "output_type": "stream",
     "text": [
      "-------------------------------\n",
      "../data/experimental/DRTtools_LIB_data.txt\n",
      "-------------------------------\n"
     ]
    },
    {
     "name": "stderr",
     "output_type": "stream",
     "text": [
      "WARNING:pystan:Maximum (flat) parameter count (1000) exceeded: skipping diagnostic tests for n_eff and Rhat.\n",
      "To run all diagnostics call pystan.check_hmc_diagnostics(fit)\n",
      "WARNING:pystan:400 of 400 iterations saturated the maximum tree depth of 10 (100 %)\n",
      "WARNING:pystan:Run again with max_treedepth larger than 10 to avoid saturation\n"
     ]
    },
    {
     "name": "stdout",
     "output_type": "stream",
     "text": [
      "File fit time: 198.61 seconds\n",
      "Dumped pickle to bayes_results\\obj_LIB_data.pkl\n",
      "--------------------------------------------------------\n",
      "Total fit time: 3.32 minutes\n"
     ]
    },
    {
     "name": "stderr",
     "output_type": "stream",
     "text": [
      "../bayes-drt\\stan_models.py:7: UserWarning: Pickling fit objects is an experimental feature!\n",
      "The relevant StanModel instance must be pickled along with this fit object.\n",
      "When unpickling the StanModel must be unpickled first.\n",
      "  pickle.dump(obj, f, pickle.HIGHEST_PROTOCOL)\n"
     ]
    }
   ],
   "source": [
    "\"MCMC sampling\"\n",
    "# finer tau for plotting\n",
    "tau_plot = np.logspace(np.log10(np.min(lib_tau)),np.log10(np.max(lib_tau)),200)\n",
    "\n",
    "start = time.time()\n",
    "\n",
    "for file in lib_files[0:1]:\n",
    "    print('-------------------------------')\n",
    "    print(file)\n",
    "    print('-------------------------------')\n",
    "    suffix = file[file.find('_'):]\n",
    "    # strip file extension\n",
    "    suffix = suffix[:suffix.find('.')]\n",
    "    Zoutfile = os.path.join('bayes_results',f'Zout{suffix}.csv')\n",
    "    Goutfile = os.path.join('bayes_results',f'Gout{suffix}.csv')\n",
    "    pkl = os.path.join('bayes_results','obj{}.pkl'.format(suffix))\n",
    "#     if os.path.exists(Zoutfile) and os.path.exists(Goutfile):\n",
    "#         print('Already ran')\n",
    "#     else:\n",
    "    if file[-3:]=='txt':\n",
    "        df = pd.read_csv(file,sep='\\t',header=None)\n",
    "        df = pd.DataFrame(df.values,columns=['Freq','Zreal','Zimag'])\n",
    "    else:\n",
    "        df = pd.read_csv(file)\n",
    "    Z = df['Zreal'].values + 1j*df['Zimag'].values\n",
    "\n",
    "    # fit\n",
    "    file_start = time.time()\n",
    "    # initializing from the ridge solution may be helpful for sampling for more complex spectra\n",
    "    dr_lib.bayes_fit(df['Freq'].values,Z,init_from_ridge=False)\n",
    "    print('File fit time: {:.2f} seconds'.format(time.time()-file_start))\n",
    "\n",
    "    Z_pred = dr_lib.predict_Z(df['Freq'].values)\n",
    "    Z_res = pd.DataFrame(np.array([df['Freq'],Z_pred.real,Z_pred.imag]).T,\n",
    "                         columns=['freq','Zreal','Zimag'])\n",
    "    sigma_re,sigma_im = dr_lib.predict_sigma(df['Freq'].values)\n",
    "    Z_res['sigma_re'] = sigma_re\n",
    "    Z_res['sigma_im'] = sigma_im\n",
    "\n",
    "    g_pred = dr_lib.predict_distribution('DRT',eval_tau=tau_plot)\n",
    "    # drt crediibility interval\n",
    "    g_lo = dr_lib.predict_distribution('DRT',eval_tau=tau_plot,percentile=2.5)\n",
    "    g_hi = dr_lib.predict_distribution('DRT',eval_tau=tau_plot,percentile=97.5)\n",
    "    g_res = pd.DataFrame(np.array([tau_plot,g_pred,g_lo,g_hi]).T,\n",
    "                         columns=['tau','gamma','gamma_lo','gamma_hi'])\n",
    "\n",
    "    Z_res.to_csv(Zoutfile,index=False)\n",
    "    g_res.to_csv(Goutfile,index=False)\n",
    "\n",
    "    # pickle the drt object for access to all other attributes\n",
    "    save_pickle(dr_lib,pkl)\n",
    "        \n",
    "print('--------------------------------------------------------')        \n",
    "print('Total fit time: {:.2f} minutes'.format((time.time()-start)/60))"
   ]
  },
  {
   "cell_type": "markdown",
   "metadata": {},
   "source": [
    "## Protonic ceramic microelectrode"
   ]
  },
  {
   "cell_type": "code",
   "execution_count": 2,
   "metadata": {},
   "outputs": [],
   "source": [
    "tco_file = '../data/experimental/PDAC_COM3_02109_Contact10_2065C_500C.txt'\n",
    "tco_df = gt.read_eis_zdata(tco_file)\n",
    "\n",
    "dr_tco = drt.DRT(basis_freq=np.logspace(7,-3,101))\n",
    "\n",
    "dr_tco_sp = drt.DRT(distributions={'DRT':{'kernel':'DRT'},\n",
    "                                  'TP-DDT':{'kernel':'DDT','symmetry':'planar','bc':'transmissive',\n",
    "                                            'x_scale':2}},\n",
    "                    basis_freq=np.logspace(7,-3,101))\n",
    "\n",
    "\n",
    "# finer tau for plotting\n",
    "tau_plot_tco = np.logspace(-7,4,300)"
   ]
  },
  {
   "cell_type": "code",
   "execution_count": 115,
   "metadata": {},
   "outputs": [
    {
     "name": "stdout",
     "output_type": "stream",
     "text": [
      "-------------------------------\n",
      "Outliers=True\n",
      "-------------------------------\n",
      "2 distribution(s)\n",
      "-------------------------------\n"
     ]
    },
    {
     "name": "stderr",
     "output_type": "stream",
     "text": [
      "../bayes-drt\\drt.py:2076: RuntimeWarning: overflow encountered in tanh\n",
      "  return np.tanh(x)/x\n"
     ]
    },
    {
     "name": "stdout",
     "output_type": "stream",
     "text": [
      "File fit time: 13.18 seconds\n",
      "Dumped pickle to map_results\\obj_PDAC_DRT-TpDDT_outliers.pkl\n",
      "Total fit time: 0.22 minutes\n"
     ]
    }
   ],
   "source": [
    "\"MAP fits\"\n",
    "start = time.time()\n",
    "file = tco_file\n",
    "\n",
    "dr_tco_sp = drt.DRT(distributions={'DRT':{'kernel':'DRT'},#,'basis_freq':np.logspace(7,1,61)},\n",
    "                                  'TP-DDT':{'kernel':'DDT','symmetry':'planar','bc':'transmissive',\n",
    "                                          'x_scale':3}},\n",
    "                    basis_freq=np.logspace(7,-3,101))\n",
    "\n",
    "dr_tco_sp.distributions['TP-DDT']['x_scale'] = 3\n",
    "# dr_tco_sp._recalc_mat=True\n",
    "\n",
    "for outliers in [True]:#,False]:\n",
    "    print('-------------------------------')\n",
    "    print(f'Outliers={outliers}')\n",
    "    print('-------------------------------')\n",
    "    for dr in [dr_tco_sp]:\n",
    "        num_dist = len(dr.distributions)\n",
    "        print(f'{num_dist} distribution(s)')\n",
    "        print('-------------------------------')\n",
    "        suffix = '_PDAC'\n",
    "        \n",
    "        if num_dist==2:\n",
    "            suffix += '_DRT-TpDDT'\n",
    "        \n",
    "        if outliers:\n",
    "            suffix += '_outliers'\n",
    "        \n",
    "        Zoutfile = os.path.join('map_results',f'Zout{suffix}.csv')\n",
    "        Goutfile = os.path.join('map_results',f'Gout{suffix}.csv')\n",
    "        pkl = os.path.join('map_results','obj{}.pkl'.format(suffix))\n",
    "    #     if os.path.exists(Zoutfile) and os.path.exists(Goutfile):\n",
    "    #         print('Already ran')\n",
    "    #     else:\n",
    "        df = gt.read_eis_zdata(file)\n",
    "        \n",
    "        \n",
    "        \n",
    "        Z = df['Zreal'].values + 1j*df['Zimag'].values\n",
    "        # fit\n",
    "        file_start = time.time()\n",
    "\n",
    "        if num_dist==2:\n",
    "            nonneg=True\n",
    "        else:\n",
    "            nonneg=False\n",
    "            \n",
    "        dr.map_fit(df['Freq'].values,Z,max_iter=1e5,outliers=outliers,nonneg_drt=nonneg)\n",
    "        print('File fit time: {:.2f} seconds'.format(time.time()-file_start))\n",
    "        # save results\n",
    "        Z_pred = dr.predict_Z(df['Freq'].values)\n",
    "        Z_res = pd.DataFrame(np.array([df['Freq'],Z_pred.real,Z_pred.imag]).T,columns=['freq','Zreal','Zimag'])\n",
    "        sigma_re,sigma_im = dr.predict_sigma(df['Freq'].values)\n",
    "        Z_res['sigma_re'] = sigma_re\n",
    "        Z_res['sigma_im'] = sigma_im\n",
    "\n",
    "        g_pred = dr.predict_distribution('DRT',eval_tau=tau_plot_tco)\n",
    "        g_res = pd.DataFrame(np.array([tau_plot_tco,g_pred]).T,\n",
    "                             columns=['tau','gamma'])\n",
    "        if num_dist==2:\n",
    "            ftp = dr.predict_distribution('TP-DDT',eval_tau=tau_plot_tco)\n",
    "            g_res['ftp'] = ftp\n",
    "            \n",
    "        Z_res.to_csv(Zoutfile,index=False)\n",
    "        g_res.to_csv(Goutfile,index=False)\n",
    "\n",
    "#         pickle the drt object for access to all other attributes\n",
    "        save_pickle(dr,pkl)\n",
    "\n",
    "    print('Total fit time: {:.2f} minutes'.format((time.time()-start)/60))"
   ]
  },
  {
   "cell_type": "code",
   "execution_count": 116,
   "metadata": {},
   "outputs": [
    {
     "name": "stdout",
     "output_type": "stream",
     "text": [
      "===============================\n",
      "Outliers=True\n",
      "===============================\n",
      "-------------------------------\n",
      "2 distribution(s)\n",
      "-------------------------------\n"
     ]
    },
    {
     "name": "stderr",
     "output_type": "stream",
     "text": [
      "WARNING:pystan:Maximum (flat) parameter count (1000) exceeded: skipping diagnostic tests for n_eff and Rhat.\n",
      "To run all diagnostics call pystan.check_hmc_diagnostics(fit)\n",
      "WARNING:pystan:9 of 400 iterations ended with a divergence (2.25 %).\n",
      "WARNING:pystan:Try running with adapt_delta larger than 0.9 to remove the divergences.\n",
      "WARNING:pystan:166 of 400 iterations saturated the maximum tree depth of 10 (41.5 %)\n",
      "WARNING:pystan:Run again with max_treedepth larger than 10 to avoid saturation\n"
     ]
    },
    {
     "name": "stdout",
     "output_type": "stream",
     "text": [
      "File fit time: 362.25 seconds\n",
      "Dumped pickle to bayes_results\\obj_PDAC_DRT-TpDDT_outliers.pkl\n",
      "Total fit time: 6.05 minutes\n"
     ]
    },
    {
     "name": "stderr",
     "output_type": "stream",
     "text": [
      "../bayes-drt\\stan_models.py:7: UserWarning: Pickling fit objects is an experimental feature!\n",
      "The relevant StanModel instance must be pickled along with this fit object.\n",
      "When unpickling the StanModel must be unpickled first.\n",
      "  pickle.dump(obj, f, pickle.HIGHEST_PROTOCOL)\n"
     ]
    }
   ],
   "source": [
    "\"MCMC sampling\"\n",
    "# tau for plotting\n",
    "start = time.time()\n",
    "\n",
    "dr_tco_sp.distributions['TP-DDT']['x_scale'] = 2\n",
    "\n",
    "file = tco_file\n",
    "for outliers in [True]:#,False]:\n",
    "    print('===============================')\n",
    "    print(f'Outliers={outliers}')\n",
    "    print('===============================')\n",
    "    for dr in [dr_tco_sp]:\n",
    "        num_dist = len(dr.distributions)\n",
    "        print('-------------------------------')\n",
    "        print(f'{num_dist} distribution(s)')\n",
    "        print('-------------------------------')\n",
    "        suffix = '_PDAC'\n",
    "        \n",
    "        if num_dist==2:\n",
    "            suffix += '_DRT-TpDDT'\n",
    "        \n",
    "        if outliers:\n",
    "            suffix += '_outliers'\n",
    "        \n",
    "        Zoutfile = os.path.join('bayes_results',f'Zout{suffix}.csv')\n",
    "        Goutfile = os.path.join('bayes_results',f'Gout{suffix}.csv')\n",
    "        pkl = os.path.join('bayes_results','obj{}.pkl'.format(suffix))\n",
    "\n",
    "#         if os.path.exists(Zoutfile) and os.path.exists(Goutfile):\n",
    "#             print('Already ran')\n",
    "#         else:\n",
    "        df = gt.read_eis_zdata(file)\n",
    "        Z = df['Zreal'].values + 1j*df['Zimag'].values\n",
    "\n",
    "        if num_dist==2:\n",
    "            nonneg=True\n",
    "        else:\n",
    "            nonneg=False\n",
    "\n",
    "        # fit\n",
    "        file_start = time.time()\n",
    "        # initializing from the ridge solution may be helpful for sampling for more complex spectra\n",
    "        dr.bayes_fit(df['Freq'].values,Z,init_from_ridge=False,outliers=outliers,nonneg_drt=nonneg)\n",
    "        print('File fit time: {:.2f} seconds'.format(time.time()-file_start))\n",
    "\n",
    "        Z_pred = dr.predict_Z(df['Freq'].values)\n",
    "        Z_res = pd.DataFrame(np.array([df['Freq'],Z_pred.real,Z_pred.imag]).T,\n",
    "                             columns=['freq','Zreal','Zimag'])\n",
    "        sigma_re,sigma_im = dr.predict_sigma(df['Freq'].values)\n",
    "        Z_res['sigma_re'] = sigma_re\n",
    "        Z_res['sigma_im'] = sigma_im\n",
    "\n",
    "        g_pred = dr.predict_distribution('DRT',eval_tau=tau_plot_tco)\n",
    "        # drt crediibility interval\n",
    "        g_lo = dr.predict_distribution('DRT',eval_tau=tau_plot_tco,percentile=2.5)\n",
    "        g_hi = dr.predict_distribution('DRT',eval_tau=tau_plot_tco,percentile=97.5)\n",
    "        g_res = pd.DataFrame(np.array([tau_plot_tco,g_pred,g_lo,g_hi]).T,\n",
    "                             columns=['tau','gamma','gamma_lo','gamma_hi'])\n",
    "        # TP-DDT\n",
    "        if num_dist==2:\n",
    "            ftp = dr.predict_distribution('TP-DDT',eval_tau=tau_plot_tco)\n",
    "            ftp_lo = dr.predict_distribution('TP-DDT',eval_tau=tau_plot_tco,percentile=2.5)\n",
    "            ftp_hi = dr.predict_distribution('TP-DDT',eval_tau=tau_plot_tco,percentile=97.5)\n",
    "            g_res['ftp'] = ftp\n",
    "            g_res['ftp_lo'] = ftp_lo\n",
    "            g_res['ftp_hi'] = ftp_hi\n",
    "\n",
    "        Z_res.to_csv(Zoutfile,index=False)\n",
    "        g_res.to_csv(Goutfile,index=False)\n",
    "\n",
    "        # pickle the drt object for access to all other attributes\n",
    "        save_pickle(dr,pkl)\n",
    "\n",
    "print('Total fit time: {:.2f} minutes'.format((time.time()-start)/60))"
   ]
  }
 ],
 "metadata": {
  "kernelspec": {
   "display_name": "Python 3",
   "language": "python",
   "name": "python3"
  },
  "language_info": {
   "codemirror_mode": {
    "name": "ipython",
    "version": 3
   },
   "file_extension": ".py",
   "mimetype": "text/x-python",
   "name": "python",
   "nbconvert_exporter": "python",
   "pygments_lexer": "ipython3",
   "version": "3.7.6"
  }
 },
 "nbformat": 4,
 "nbformat_minor": 4
}
